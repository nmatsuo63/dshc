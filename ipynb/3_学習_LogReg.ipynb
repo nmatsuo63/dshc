{
 "cells": [
  {
   "cell_type": "code",
   "execution_count": 52,
   "id": "fbd7e528-f935-460b-a48e-bc6197319d99",
   "metadata": {},
   "outputs": [],
   "source": [
    "import numpy as np\n",
    "import pandas as pd\n",
    "# from sklearn.model_selection import train_test_split\n",
    "# from sklearn.metrics import accuracy_score\n",
    "\n",
    "# from sklearn.model_selection import KFold # 交差検証法に関する関数\n",
    "\n",
    "import warnings\n",
    "warnings.simplefilter('ignore')\n"
   ]
  },
  {
   "cell_type": "markdown",
   "id": "97816d17-5cd6-434e-a8e5-077d17c50389",
   "metadata": {},
   "source": [
    "## データの読み込み"
   ]
  },
  {
   "cell_type": "code",
   "execution_count": 83,
   "id": "4b225571-59eb-4ea2-8b8c-fb8add3b8067",
   "metadata": {},
   "outputs": [],
   "source": [
    "# データの読み込み\n",
    "# df_org = pd.read_csv('./data/input_01.csv')\n",
    "# df_org = pd.read_csv('./data/input_02.csv')\n",
    "df_org = pd.read_csv('./data/input_03.csv')\n"
   ]
  },
  {
   "cell_type": "code",
   "execution_count": 98,
   "id": "4ba32bb7-4a9e-48b2-ad57-3a23a95978ad",
   "metadata": {},
   "outputs": [],
   "source": [
    "# データ量が多いのでコーディング中はサンプリング\n",
    "# df = df_org.sample(10000, replace=True)\n",
    "df = df_org"
   ]
  },
  {
   "cell_type": "markdown",
   "id": "639cf987-40b7-45cd-b962-34efbddae136",
   "metadata": {},
   "source": [
    "## データの準備"
   ]
  },
  {
   "cell_type": "code",
   "execution_count": 99,
   "id": "2ef3f15d-e7d7-4c6c-b064-160dfd64360e",
   "metadata": {},
   "outputs": [],
   "source": [
    "# 数値エンコーディング（GBDT以外の場合は必須）\n",
    "from sklearn.preprocessing import LabelEncoder\n",
    "encoder = LabelEncoder()\n",
    "df = df.apply(encoder.fit_transform)"
   ]
  },
  {
   "cell_type": "code",
   "execution_count": 100,
   "id": "1d89b82c-ff6f-4b03-95d2-2199d068dfe1",
   "metadata": {},
   "outputs": [],
   "source": [
    "y = df[['state']]\n",
    "# x_cols = ['category', 'main_category', 'currency', 'country', 'period', 'n_words', 'log_goal']\n",
    "# x_cols = ['class', 'currency', 'country', 'period', 'n_words', 'log_goal']\n",
    "x_cols = ['class', 'main_category', 'currency', 'country', 'period', 'n_words', 'log_goal']\n",
    "x = df[x_cols]"
   ]
  },
  {
   "cell_type": "code",
   "execution_count": 101,
   "id": "1880dd7c-7ff1-47b8-bd1f-829133200a10",
   "metadata": {},
   "outputs": [],
   "source": [
    "# y.shape"
   ]
  },
  {
   "cell_type": "code",
   "execution_count": 102,
   "id": "a4e50284-4487-47fc-9fde-1e985c77f9f7",
   "metadata": {},
   "outputs": [],
   "source": [
    "# x.head()"
   ]
  },
  {
   "cell_type": "markdown",
   "id": "bbab655e-4f45-40f5-aaf1-9670b2e072e9",
   "metadata": {},
   "source": [
    "## モデル学習（単体）"
   ]
  },
  {
   "cell_type": "code",
   "execution_count": 103,
   "id": "18fac59a-720d-424f-9418-8add489de48e",
   "metadata": {},
   "outputs": [],
   "source": [
    "from sklearn.model_selection import train_test_split\n",
    "from sklearn.linear_model import SGDClassifier\n",
    "from sklearn.metrics import log_loss, roc_auc_score, accuracy_score\n",
    "\n",
    "# 訓練データとテストデータを8:2に分割\n",
    "# ※評価を揃えるため df 以外の引数は変更しないこと\n",
    "x_train, x_test, y_train, y_test = train_test_split(x,y,test_size=0.2, random_state=1234)\n",
    "\n",
    "# パラメータ\n",
    "RANDOM_STATE = 10\n",
    "num_round = 1000\n",
    "TEST_SIZE = 0.2\n",
    "\n",
    "# 学習データと評価データを作成\n",
    "x_train, x_valid, y_train, y_valid = train_test_split(x_train,y_train,test_size=TEST_SIZE,random_state=RANDOM_STATE)\n",
    "\n",
    "# lgb_train = lgb.Dataset(x_train, y_train)\n",
    "# lgb_eval = lgb.Dataset(x_valid, y_valid, reference=lgb_train)"
   ]
  },
  {
   "cell_type": "code",
   "execution_count": 104,
   "id": "105b0c9d-c823-4a8c-b8cf-3aec0b351e5f",
   "metadata": {},
   "outputs": [
    {
     "name": "stdout",
     "output_type": "stream",
     "text": [
      "訓練データの正答率: 61.443 %\n"
     ]
    }
   ],
   "source": [
    "# 訓練データに対する予測、正答率\n",
    "# 学習の実行\n",
    "clf = SGDClassifier(loss='log', max_iter=1000, tol=1e-3, random_state=seed)\n",
    "clf.fit(x_train, y_train)\n",
    "\n",
    "# 推論\n",
    "y_pred = clf.predict(x_train)\n",
    "# print(y_train)\n",
    "acc_train = accuracy_score(y_true=y_train, y_pred=y_pred)\n",
    "# print(f\"{itr:02}train_訓練データの正答率: {100 * acc_train:.2f} %\")\n",
    "print(f\"訓練データの正答率: {100 * acc_train:.3f} %\")"
   ]
  },
  {
   "cell_type": "markdown",
   "id": "5a623341-d3ab-4148-a894-121b765cfd51",
   "metadata": {},
   "source": [
    "## モデル学習（交差検証）"
   ]
  },
  {
   "cell_type": "code",
   "execution_count": 105,
   "id": "4b3734a6-7019-41e8-a8ae-5b2533ea5651",
   "metadata": {},
   "outputs": [],
   "source": [
    "from sklearn.model_selection import KFold\n",
    "n_split = 5 # グループ数を設定（今回は5分割）\n",
    "seed = 1234\n",
    "# cross_valid_mae = 0\n",
    "split_num = 1\n",
    "kf = KFold(n_splits=n_split, shuffle=True, random_state=seed)"
   ]
  },
  {
   "cell_type": "code",
   "execution_count": 106,
   "id": "8f41b00f-f53a-46ae-85e2-de739dd9b6d2",
   "metadata": {},
   "outputs": [
    {
     "name": "stdout",
     "output_type": "stream",
     "text": [
      "01valid_検証データの正答率: 61.56 %\n",
      "02valid_検証データの正答率: 62.06 %\n",
      "03valid_検証データの正答率: 60.49 %\n",
      "04valid_検証データの正答率: 61.62 %\n",
      "05valid_検証データの正答率: 61.73 %\n"
     ]
    }
   ],
   "source": [
    "from sklearn.metrics import accuracy_score #, precision_score, recall_score, f1_score\n",
    "from sklearn.linear_model import SGDClassifier\n",
    "\n",
    "scores_train = []\n",
    "scores_valid = []\n",
    "models = []\n",
    "itr = 1\n",
    "\n",
    "for train_idx, valid_idx in kf.split(x, y):\n",
    "    x_train, y_train = x.iloc[train_idx], y.iloc[train_idx]\n",
    "    x_valid, y_valid = x.iloc[valid_idx], y.iloc[valid_idx]\n",
    "    \n",
    "    # 学習の実行\n",
    "    clf = SGDClassifier(loss='log', max_iter=1000, tol=1e-3, random_state=seed)\n",
    "    clf.fit(x_train, y_train)\n",
    "    \n",
    "    # # 訓練データに対する予測、正答率\n",
    "    # y_pred = clf.predict(x_train)\n",
    "    # acc_train = accuracy_score(y_true=y_train, y_pred=y_pred)\n",
    "    # print(f\"{itr:02}train_訓練データの正答率: {100 * acc_train:.2f} %\")\n",
    "    # scores_train.append(acc_train)  \n",
    "    \n",
    "    # 検証データに対する予測\n",
    "    y_pred = clf.predict(x_valid)\n",
    "    acc_valid = accuracy_score(y_true=y_valid, y_pred=y_pred)\n",
    "    print(f\"{itr:02}valid_検証データの正答率: {100 * acc_valid:.2f} %\")    \n",
    "    \n",
    "\n",
    "    scores_valid.append(acc_valid)\n",
    "    models.append(clf)\n",
    "\n",
    "    itr += 1"
   ]
  },
  {
   "cell_type": "code",
   "execution_count": 107,
   "id": "600ff365-9fc0-496a-9ea6-38fe48de6441",
   "metadata": {},
   "outputs": [
    {
     "name": "stdout",
     "output_type": "stream",
     "text": [
      "nan\n",
      "0.6149212331348458\n"
     ]
    }
   ],
   "source": [
    "# 各foldのスコアの平均\n",
    "print(np.mean(scores_train))\n",
    "print(np.mean(scores_valid))"
   ]
  },
  {
   "cell_type": "markdown",
   "id": "83865497-f693-4071-bfa1-203ab4b75d90",
   "metadata": {},
   "source": [
    "## 推論"
   ]
  },
  {
   "cell_type": "code",
   "execution_count": 108,
   "id": "378427e5-0a79-4a23-947f-a26eeee14364",
   "metadata": {},
   "outputs": [
    {
     "name": "stdout",
     "output_type": "stream",
     "text": [
      "test_accuracy_score: 0.6212 %\n"
     ]
    }
   ],
   "source": [
    "y_preds = np.zeros(len(x_test))\n",
    "\n",
    "for model in models:\n",
    "    y_pred = model.predict(x_test)\n",
    "    y_pred = y_pred.round(0)\n",
    "    y_preds += y_pred / len(models)\n",
    "    \n",
    "y_preds = y_preds.round(0)\n",
    "score_test = accuracy_score(y_test, y_preds)\n",
    "print(f\"test_accuracy_score: {score_test:.4f} %\")    "
   ]
  },
  {
   "cell_type": "code",
   "execution_count": null,
   "id": "39b48f47-ab0d-4fec-9f79-c9551a1770a1",
   "metadata": {},
   "outputs": [],
   "source": []
  },
  {
   "cell_type": "markdown",
   "id": "881c6611-3681-4ae4-90a5-cf0a66ca5479",
   "metadata": {},
   "source": [
    "### input_01.csv\n",
    "- 訓練データの正答率（fold平均）：0.621925\n",
    "- 検証データの正答率（fold平均）：0.6247"
   ]
  },
  {
   "cell_type": "markdown",
   "id": "fa874947-f63d-439e-9193-8090574fef49",
   "metadata": {},
   "source": [
    "### input_02.csv（class, main_category）\n",
    "- 訓練データの正答率（fold平均）：0.553375\n",
    "- 検証データの正答率（fold平均）：0.55099"
   ]
  },
  {
   "cell_type": "markdown",
   "id": "29ab4653-9ecd-490c-8f42-8e09f48cdc4f",
   "metadata": {},
   "source": [
    "### input_02.csv（class）\n",
    "- 訓練データの正答率（fold平均）：0.572375\n",
    "- 検証データの正答率（fold平均）：0.57800"
   ]
  },
  {
   "cell_type": "markdown",
   "id": "9add59be-65dc-43e5-9989-98483245efbe",
   "metadata": {},
   "source": [
    "## テストデータに対する予測\n",
    "本来はte"
   ]
  }
 ],
 "metadata": {
  "kernelspec": {
   "display_name": "Python 3 (ipykernel)",
   "language": "python",
   "name": "python3"
  },
  "language_info": {
   "codemirror_mode": {
    "name": "ipython",
    "version": 3
   },
   "file_extension": ".py",
   "mimetype": "text/x-python",
   "name": "python",
   "nbconvert_exporter": "python",
   "pygments_lexer": "ipython3",
   "version": "3.10.5"
  }
 },
 "nbformat": 4,
 "nbformat_minor": 5
}
