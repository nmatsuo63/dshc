{
 "cells": [
  {
   "cell_type": "code",
   "execution_count": 28,
   "id": "083a5a00-c817-4ecc-9144-f3fc7655f4a8",
   "metadata": {},
   "outputs": [],
   "source": [
    "import numpy as np\n",
    "import pandas as pd\n",
    "from sklearn.model_selection import train_test_split\n",
    "from sklearn.metrics import accuracy_score\n",
    "\n",
    "import warnings\n",
    "warnings.simplefilter('ignore')\n"
   ]
  },
  {
   "cell_type": "code",
   "execution_count": null,
   "id": "5d19e248-c2cf-48b7-93fb-bcece7cff9a9",
   "metadata": {},
   "outputs": [],
   "source": []
  },
  {
   "cell_type": "code",
   "execution_count": 30,
   "id": "d5d6f106-a4fe-41cc-bb7a-021d234f42d9",
   "metadata": {},
   "outputs": [],
   "source": [
    "# データの読み込み\n",
    "df_train_org = pd.read_csv('./data/train.csv')\n",
    "df_test_org = pd.read_csv('./data/test.csv')\n",
    "# df = pd.read_csv('../data/sig740/train.csv')\n"
   ]
  },
  {
   "cell_type": "code",
   "execution_count": 56,
   "id": "26ece8e6-eaa7-4846-b9d2-b77ff0cfef2d",
   "metadata": {},
   "outputs": [],
   "source": [
    "# # 成功（successful）と失敗（failed）以外のデータを除外する\n",
    "# df = df_org[(df_org['state'] == 'successful') | (df_org['state'] == 'failed')]"
   ]
  },
  {
   "cell_type": "code",
   "execution_count": 24,
   "id": "1da278b1-5192-44ce-b67f-40312a099f56",
   "metadata": {
    "tags": []
   },
   "outputs": [],
   "source": [
    "df_train = df_train_org\n",
    "df_test = df_test_org"
   ]
  },
  {
   "cell_type": "code",
   "execution_count": 5,
   "id": "e0a3e9c7-f64a-4192-be69-ca870ec37ad2",
   "metadata": {},
   "outputs": [
    {
     "data": {
      "text/html": [
       "<div>\n",
       "<style scoped>\n",
       "    .dataframe tbody tr th:only-of-type {\n",
       "        vertical-align: middle;\n",
       "    }\n",
       "\n",
       "    .dataframe tbody tr th {\n",
       "        vertical-align: top;\n",
       "    }\n",
       "\n",
       "    .dataframe thead th {\n",
       "        text-align: right;\n",
       "    }\n",
       "</style>\n",
       "<table border=\"1\" class=\"dataframe\">\n",
       "  <thead>\n",
       "    <tr style=\"text-align: right;\">\n",
       "      <th></th>\n",
       "      <th>id</th>\n",
       "      <th>Age</th>\n",
       "      <th>BusinessTravel</th>\n",
       "      <th>DailyRate</th>\n",
       "      <th>Department</th>\n",
       "      <th>DistanceFromHome</th>\n",
       "      <th>Education</th>\n",
       "      <th>EducationField</th>\n",
       "      <th>EmployeeNumber</th>\n",
       "      <th>EnvironmentSatisfaction</th>\n",
       "      <th>...</th>\n",
       "      <th>StandardHours</th>\n",
       "      <th>StockOptionLevel</th>\n",
       "      <th>TotalWorkingYears</th>\n",
       "      <th>TrainingTimesLastYear</th>\n",
       "      <th>WorkLifeBalance</th>\n",
       "      <th>YearsAtCompany</th>\n",
       "      <th>YearsInCurrentRole</th>\n",
       "      <th>YearsSinceLastPromotion</th>\n",
       "      <th>YearsWithCurrManager</th>\n",
       "      <th>Attrition</th>\n",
       "    </tr>\n",
       "  </thead>\n",
       "  <tbody>\n",
       "    <tr>\n",
       "      <th>0</th>\n",
       "      <td>0</td>\n",
       "      <td>26</td>\n",
       "      <td>Travel_Rarely</td>\n",
       "      <td>450.941476</td>\n",
       "      <td>Research &amp; Development</td>\n",
       "      <td>7.601074</td>\n",
       "      <td>3</td>\n",
       "      <td>Medical</td>\n",
       "      <td>1291</td>\n",
       "      <td>4</td>\n",
       "      <td>...</td>\n",
       "      <td>80</td>\n",
       "      <td>0</td>\n",
       "      <td>1</td>\n",
       "      <td>3</td>\n",
       "      <td>2</td>\n",
       "      <td>11</td>\n",
       "      <td>8</td>\n",
       "      <td>7</td>\n",
       "      <td>0</td>\n",
       "      <td>0</td>\n",
       "    </tr>\n",
       "    <tr>\n",
       "      <th>1</th>\n",
       "      <td>3</td>\n",
       "      <td>47</td>\n",
       "      <td>Travel_Rarely</td>\n",
       "      <td>730.235896</td>\n",
       "      <td>Research &amp; Development</td>\n",
       "      <td>26.739489</td>\n",
       "      <td>3</td>\n",
       "      <td>Technical Degree</td>\n",
       "      <td>1587</td>\n",
       "      <td>2</td>\n",
       "      <td>...</td>\n",
       "      <td>80</td>\n",
       "      <td>1</td>\n",
       "      <td>20</td>\n",
       "      <td>1</td>\n",
       "      <td>1</td>\n",
       "      <td>5</td>\n",
       "      <td>9</td>\n",
       "      <td>4</td>\n",
       "      <td>4</td>\n",
       "      <td>0</td>\n",
       "    </tr>\n",
       "    <tr>\n",
       "      <th>2</th>\n",
       "      <td>7</td>\n",
       "      <td>26</td>\n",
       "      <td>Travel_Rarely</td>\n",
       "      <td>1082.560066</td>\n",
       "      <td>Human Resources</td>\n",
       "      <td>7.374739</td>\n",
       "      <td>3</td>\n",
       "      <td>Life Sciences</td>\n",
       "      <td>1591</td>\n",
       "      <td>2</td>\n",
       "      <td>...</td>\n",
       "      <td>80</td>\n",
       "      <td>1</td>\n",
       "      <td>4</td>\n",
       "      <td>3</td>\n",
       "      <td>3</td>\n",
       "      <td>3</td>\n",
       "      <td>2</td>\n",
       "      <td>0</td>\n",
       "      <td>2</td>\n",
       "      <td>0</td>\n",
       "    </tr>\n",
       "    <tr>\n",
       "      <th>3</th>\n",
       "      <td>10</td>\n",
       "      <td>46</td>\n",
       "      <td>Travel_Rarely</td>\n",
       "      <td>706.247579</td>\n",
       "      <td>Research &amp; Development</td>\n",
       "      <td>14.791373</td>\n",
       "      <td>1</td>\n",
       "      <td>Medical</td>\n",
       "      <td>1572</td>\n",
       "      <td>1</td>\n",
       "      <td>...</td>\n",
       "      <td>80</td>\n",
       "      <td>1</td>\n",
       "      <td>6</td>\n",
       "      <td>0</td>\n",
       "      <td>1</td>\n",
       "      <td>5</td>\n",
       "      <td>4</td>\n",
       "      <td>7</td>\n",
       "      <td>7</td>\n",
       "      <td>1</td>\n",
       "    </tr>\n",
       "    <tr>\n",
       "      <th>4</th>\n",
       "      <td>11</td>\n",
       "      <td>25</td>\n",
       "      <td>Travel_Rarely</td>\n",
       "      <td>500.610860</td>\n",
       "      <td>Research &amp; Development</td>\n",
       "      <td>2.146966</td>\n",
       "      <td>4</td>\n",
       "      <td>Medical</td>\n",
       "      <td>981</td>\n",
       "      <td>2</td>\n",
       "      <td>...</td>\n",
       "      <td>80</td>\n",
       "      <td>1</td>\n",
       "      <td>8</td>\n",
       "      <td>3</td>\n",
       "      <td>3</td>\n",
       "      <td>1</td>\n",
       "      <td>0</td>\n",
       "      <td>0</td>\n",
       "      <td>0</td>\n",
       "      <td>0</td>\n",
       "    </tr>\n",
       "  </tbody>\n",
       "</table>\n",
       "<p>5 rows × 34 columns</p>\n",
       "</div>"
      ],
      "text/plain": [
       "   id  Age BusinessTravel    DailyRate              Department  \\\n",
       "0   0   26  Travel_Rarely   450.941476  Research & Development   \n",
       "1   3   47  Travel_Rarely   730.235896  Research & Development   \n",
       "2   7   26  Travel_Rarely  1082.560066         Human Resources   \n",
       "3  10   46  Travel_Rarely   706.247579  Research & Development   \n",
       "4  11   25  Travel_Rarely   500.610860  Research & Development   \n",
       "\n",
       "   DistanceFromHome  Education    EducationField  EmployeeNumber  \\\n",
       "0          7.601074          3           Medical            1291   \n",
       "1         26.739489          3  Technical Degree            1587   \n",
       "2          7.374739          3     Life Sciences            1591   \n",
       "3         14.791373          1           Medical            1572   \n",
       "4          2.146966          4           Medical             981   \n",
       "\n",
       "   EnvironmentSatisfaction  ... StandardHours  StockOptionLevel  \\\n",
       "0                        4  ...            80                 0   \n",
       "1                        2  ...            80                 1   \n",
       "2                        2  ...            80                 1   \n",
       "3                        1  ...            80                 1   \n",
       "4                        2  ...            80                 1   \n",
       "\n",
       "   TotalWorkingYears  TrainingTimesLastYear WorkLifeBalance  YearsAtCompany  \\\n",
       "0                  1                      3               2              11   \n",
       "1                 20                      1               1               5   \n",
       "2                  4                      3               3               3   \n",
       "3                  6                      0               1               5   \n",
       "4                  8                      3               3               1   \n",
       "\n",
       "  YearsInCurrentRole  YearsSinceLastPromotion  YearsWithCurrManager Attrition  \n",
       "0                  8                        7                     0         0  \n",
       "1                  9                        4                     4         0  \n",
       "2                  2                        0                     2         0  \n",
       "3                  4                        7                     7         1  \n",
       "4                  0                        0                     0         0  \n",
       "\n",
       "[5 rows x 34 columns]"
      ]
     },
     "execution_count": 5,
     "metadata": {},
     "output_type": "execute_result"
    }
   ],
   "source": [
    "df_train.head()"
   ]
  },
  {
   "cell_type": "code",
   "execution_count": 7,
   "id": "42a47d22-ae6a-4613-8eda-6e3468617a23",
   "metadata": {},
   "outputs": [
    {
     "data": {
      "text/plain": [
       "Index(['id', 'Age', 'BusinessTravel', 'DailyRate', 'Department',\n",
       "       'DistanceFromHome', 'Education', 'EducationField', 'EmployeeNumber',\n",
       "       'EnvironmentSatisfaction', 'Gender', 'HourlyRate', 'JobInvolvement',\n",
       "       'JobLevel', 'JobRole', 'JobSatisfaction', 'MaritalStatus',\n",
       "       'MonthlyIncome', 'NumCompaniesWorked', 'Over18', 'OverTime',\n",
       "       'PercentSalaryHike', 'PerformanceRating', 'RelationshipSatisfaction',\n",
       "       'StandardHours', 'StockOptionLevel', 'TotalWorkingYears',\n",
       "       'TrainingTimesLastYear', 'WorkLifeBalance', 'YearsAtCompany',\n",
       "       'YearsInCurrentRole', 'YearsSinceLastPromotion', 'YearsWithCurrManager',\n",
       "       'Attrition'],\n",
       "      dtype='object')"
      ]
     },
     "execution_count": 7,
     "metadata": {},
     "output_type": "execute_result"
    }
   ],
   "source": [
    "df_train.columns"
   ]
  },
  {
   "cell_type": "code",
   "execution_count": 8,
   "id": "47de661c-df39-45aa-a77e-e685420cc40e",
   "metadata": {},
   "outputs": [
    {
     "name": "stdout",
     "output_type": "stream",
     "text": [
      "<class 'pandas.core.frame.DataFrame'>\n",
      "RangeIndex: 1200 entries, 0 to 1199\n",
      "Data columns (total 34 columns):\n",
      " #   Column                    Non-Null Count  Dtype  \n",
      "---  ------                    --------------  -----  \n",
      " 0   id                        1200 non-null   int64  \n",
      " 1   Age                       1200 non-null   int64  \n",
      " 2   BusinessTravel            1200 non-null   object \n",
      " 3   DailyRate                 1200 non-null   float64\n",
      " 4   Department                1200 non-null   object \n",
      " 5   DistanceFromHome          1200 non-null   float64\n",
      " 6   Education                 1200 non-null   int64  \n",
      " 7   EducationField            1200 non-null   object \n",
      " 8   EmployeeNumber            1200 non-null   int64  \n",
      " 9   EnvironmentSatisfaction   1200 non-null   int64  \n",
      " 10  Gender                    1200 non-null   object \n",
      " 11  HourlyRate                1200 non-null   int64  \n",
      " 12  JobInvolvement            1200 non-null   int64  \n",
      " 13  JobLevel                  1200 non-null   int64  \n",
      " 14  JobRole                   1200 non-null   object \n",
      " 15  JobSatisfaction           1200 non-null   int64  \n",
      " 16  MaritalStatus             1200 non-null   object \n",
      " 17  MonthlyIncome             1200 non-null   int64  \n",
      " 18  NumCompaniesWorked        1200 non-null   int64  \n",
      " 19  Over18                    1200 non-null   object \n",
      " 20  OverTime                  1200 non-null   object \n",
      " 21  PercentSalaryHike         1200 non-null   int64  \n",
      " 22  PerformanceRating         1200 non-null   int64  \n",
      " 23  RelationshipSatisfaction  1200 non-null   int64  \n",
      " 24  StandardHours             1200 non-null   int64  \n",
      " 25  StockOptionLevel          1200 non-null   int64  \n",
      " 26  TotalWorkingYears         1200 non-null   int64  \n",
      " 27  TrainingTimesLastYear     1200 non-null   int64  \n",
      " 28  WorkLifeBalance           1200 non-null   int64  \n",
      " 29  YearsAtCompany            1200 non-null   int64  \n",
      " 30  YearsInCurrentRole        1200 non-null   int64  \n",
      " 31  YearsSinceLastPromotion   1200 non-null   int64  \n",
      " 32  YearsWithCurrManager      1200 non-null   int64  \n",
      " 33  Attrition                 1200 non-null   int64  \n",
      "dtypes: float64(2), int64(24), object(8)\n",
      "memory usage: 318.9+ KB\n"
     ]
    }
   ],
   "source": [
    "df_train.info()"
   ]
  },
  {
   "cell_type": "code",
   "execution_count": null,
   "id": "7ad14d7b-c33a-48a7-99e5-2afd039f911a",
   "metadata": {},
   "outputs": [],
   "source": []
  },
  {
   "cell_type": "code",
   "execution_count": null,
   "id": "6362bb14-3f50-4142-8c06-7a6fee52f6bb",
   "metadata": {},
   "outputs": [],
   "source": []
  },
  {
   "cell_type": "markdown",
   "id": "aad8096f-2e11-4d4f-99ba-989e12ca97f7",
   "metadata": {},
   "source": [
    "## プロジェクトの状態（state）"
   ]
  },
  {
   "cell_type": "code",
   "execution_count": 9,
   "id": "380eb088-fc69-4743-ba9b-a6015a32f088",
   "metadata": {},
   "outputs": [],
   "source": [
    "# state_mapping = { 'successful':1, 'failed':0}\n",
    "# df['state'] = df['state'].map(state_mapping)"
   ]
  },
  {
   "cell_type": "code",
   "execution_count": null,
   "id": "a264fe50-9082-4c1a-9850-88574fa6b569",
   "metadata": {},
   "outputs": [],
   "source": []
  },
  {
   "cell_type": "code",
   "execution_count": null,
   "id": "971ee74f-19ea-4bcc-a19f-f52cc1c4caac",
   "metadata": {},
   "outputs": [],
   "source": []
  },
  {
   "cell_type": "markdown",
   "id": "7d0763e8-ef4a-4197-93e6-fba72e9c2b7f",
   "metadata": {},
   "source": [
    "## 日時"
   ]
  },
  {
   "cell_type": "markdown",
   "id": "d4fdea0c-358d-4fde-9a5b-5b3b5aabc989",
   "metadata": {},
   "source": [
    "### 期間を新しく作成する\n",
    "deadline - launched"
   ]
  },
  {
   "cell_type": "code",
   "execution_count": 10,
   "id": "33ee7308-f9dd-4c7f-867c-076e575d5fff",
   "metadata": {},
   "outputs": [],
   "source": [
    "# # 日時に関する列を string から TimeStamp に変換\n",
    "# df['deadline'] = pd.to_datetime(df['deadline'])\n",
    "# df['launched'] = pd.to_datetime(df['launched'])\n",
    "\n",
    "# # 期間の列を作成\n",
    "# df['period'] = (df['deadline'] - df['launched']).dt.days # 差分を日数として表示"
   ]
  },
  {
   "cell_type": "code",
   "execution_count": null,
   "id": "ddbe99c3-456b-4907-91ab-17426cef99cc",
   "metadata": {},
   "outputs": [],
   "source": []
  },
  {
   "cell_type": "markdown",
   "id": "9ba9add1-390f-43a4-b53c-375e53086706",
   "metadata": {},
   "source": [
    "### launched\n",
    "周期性を考慮してクォーターで分ける\n",
    "米国の会計年度は10月から9月。"
   ]
  },
  {
   "cell_type": "code",
   "execution_count": 11,
   "id": "e8ff698b-0ad1-4ebe-9d09-1dc34a6100c7",
   "metadata": {},
   "outputs": [],
   "source": [
    "# df['launched_year'] = df['launched'].dt.year\n",
    "# df['launched_month'] = df['launched'].dt.month\n",
    "# df['launched_day'] = df['launched'].dt.day"
   ]
  },
  {
   "cell_type": "markdown",
   "id": "b2344cb4-9188-4998-a739-106c6dbb7d3d",
   "metadata": {},
   "source": [
    "### 不要な列を削除する"
   ]
  },
  {
   "cell_type": "code",
   "execution_count": 12,
   "id": "d5bd3651-3b3b-4204-953d-0a0867b2aabd",
   "metadata": {},
   "outputs": [],
   "source": [
    "# # launched と deadline を削除\n",
    "# df = df.drop(columns=['deadline', 'launched'])"
   ]
  },
  {
   "cell_type": "markdown",
   "id": "08abeb27-75c0-4794-bee2-b133894f8072",
   "metadata": {},
   "source": [
    "## カテゴリ"
   ]
  },
  {
   "cell_type": "code",
   "execution_count": 13,
   "id": "58db9fd6-235d-403a-af47-f051c156479e",
   "metadata": {},
   "outputs": [],
   "source": [
    "# # main_categoryとcategoryを結合する（class）\n",
    "# df['class'] = df['main_category'].str.cat(df['category'], sep='**')\n",
    "# df.head()"
   ]
  },
  {
   "cell_type": "code",
   "execution_count": 14,
   "id": "4f8a1837-543c-4380-ad4f-81ecaba01506",
   "metadata": {},
   "outputs": [],
   "source": [
    "# # 各classの個数をカウントし、dataframeに変換する\n",
    "# # https://www.web-dev-qa-db-ja.com/ja/python/python-pandas%EF%BC%9A-valuecounts%E5%87%BA%E5%8A%9B%E3%82%92%E3%83%87%E3%83%BC%E3%82%BF%E3%83%95%E3%83%AC%E3%83%BC%E3%83%A0%E3%81%AB%E5%A4%89%E6%8F%9B%E3%81%97%E3%81%BE%E3%81%99/835447736/\n",
    "# df_counts = df['class'].value_counts().rename_axis('class').reset_index(name='counts')\n",
    "# # トップ40位を抜き出す\n",
    "# df_largest = df_counts.nlargest(120, columns='counts')\n",
    "# # トップ40位の要素を削除したdataframeを作成する\n",
    "# df_others = df_counts.drop(df_largest.index)\n",
    "# # df_othersのclass列の項目をリスト化する\n",
    "# others_list = df_others['class'].to_list()\n",
    "# # others_list内の文字列に一致するclassをOthersに変更する\n",
    "# df = df.replace(others_list, 'Others')"
   ]
  },
  {
   "cell_type": "code",
   "execution_count": 16,
   "id": "f90e75b4-7613-4541-b03e-c38139765c71",
   "metadata": {},
   "outputs": [],
   "source": [
    "# df.head()"
   ]
  },
  {
   "cell_type": "markdown",
   "id": "7c622759-7c43-4cda-9f63-2e57cdde56f9",
   "metadata": {},
   "source": [
    "## プロジェクト名\n",
    "nameをどうにかする"
   ]
  },
  {
   "cell_type": "markdown",
   "id": "6c1a169f-e29e-4c48-90fc-fe261e1488c7",
   "metadata": {},
   "source": [
    "### 単語数を抽出"
   ]
  },
  {
   "cell_type": "code",
   "execution_count": 17,
   "id": "7ee76da9-a53a-4227-9da4-784683890018",
   "metadata": {},
   "outputs": [],
   "source": [
    "# # 単語数をカウントする関数\n",
    "# def count_words(sentence):\n",
    "#     words_list = str(sentence).split(' ') \n",
    "#     return len(words_list)\n",
    "# # 単語数をカウントする関数を name の各データに適用\n",
    "# df['n_words'] = df['name'].apply(count_words) \n",
    "# # name を削除\n",
    "# df = df.drop(columns=['name'])"
   ]
  },
  {
   "cell_type": "code",
   "execution_count": null,
   "id": "9f2d4d67-6ce7-45a7-8db8-0f3d92755e42",
   "metadata": {},
   "outputs": [],
   "source": []
  },
  {
   "cell_type": "markdown",
   "id": "33da3121-1c8b-4149-80f7-a60d4c698b49",
   "metadata": {},
   "source": [
    "## 目標金額\n",
    "usd_goal_realを対数変換する"
   ]
  },
  {
   "cell_type": "code",
   "execution_count": 18,
   "id": "28f3d73d-b886-478c-9dcf-9d0ce3574940",
   "metadata": {},
   "outputs": [],
   "source": [
    "# df['usd_goal_real'].head()"
   ]
  },
  {
   "cell_type": "code",
   "execution_count": 19,
   "id": "6e92c53f-4ba6-4ac2-93a4-57c323854d7a",
   "metadata": {},
   "outputs": [],
   "source": [
    "# df['usd_goal_real'].plot(bins=20, kind='hist')"
   ]
  },
  {
   "cell_type": "code",
   "execution_count": 20,
   "id": "2f471ee8-b7f8-46b2-92e5-c00c5709333e",
   "metadata": {},
   "outputs": [],
   "source": [
    "# # usd_goal_realを対数変換する\n",
    "# df['log_goal'] = np.log(df['usd_goal_real'])\n",
    "# df = df.drop(columns='usd_goal_real')"
   ]
  },
  {
   "cell_type": "code",
   "execution_count": null,
   "id": "e83887b2-275b-4793-8484-cd041a47ed08",
   "metadata": {},
   "outputs": [],
   "source": []
  },
  {
   "cell_type": "markdown",
   "id": "51976c5e-4c51-41ce-938b-15b6b4cad4d2",
   "metadata": {},
   "source": [
    "# 加工データの保存"
   ]
  },
  {
   "cell_type": "code",
   "execution_count": 27,
   "id": "7e4b31a1-55a3-4fcb-ae89-d3d377c5d46c",
   "metadata": {},
   "outputs": [],
   "source": [
    "# df.to_csv('./data/input_01.csv')\n",
    "# df.to_csv('./data/input_02.csv')\n",
    "# profile.to_file(\"./data/sig740/KS_ProfileReport.html\")\n",
    "df_train.to_csv('../data/sig740/preprocessed_train.csv')\n",
    "df_test.to_csv('../data/sig740/preprocessed_test.csv')"
   ]
  },
  {
   "cell_type": "markdown",
   "id": "786bf110-b457-4960-957a-5e4554f00ce5",
   "metadata": {},
   "source": [
    "### input_01.csv\n",
    "- 初期\n",
    "\n",
    "### input_02.csv\n",
    "- input_01\n",
    "- main_category x category -> class\n",
    "\n",
    "### input_03.csv\n",
    "- input_01\n",
    "- main_category x category -> class\n",
    "- launched -> year/month/day\n",
    "\n",
    "### input_04.csv・・・未作成（name除去だけなら3_学習でやればよい）\n",
    "- input_03\n",
    "- nameを除去"
   ]
  },
  {
   "cell_type": "code",
   "execution_count": null,
   "id": "4e486624-13f0-497f-a83b-5cb602114d5c",
   "metadata": {},
   "outputs": [],
   "source": []
  },
  {
   "cell_type": "code",
   "execution_count": null,
   "id": "67a8292b-185d-41db-a445-9a2f0371d2bb",
   "metadata": {},
   "outputs": [],
   "source": []
  },
  {
   "cell_type": "code",
   "execution_count": null,
   "id": "2b3b073e-55dc-48fe-8481-4a26cd40bfae",
   "metadata": {},
   "outputs": [],
   "source": []
  }
 ],
 "metadata": {
  "kernelspec": {
   "display_name": "Python 3 (ipykernel)",
   "language": "python",
   "name": "python3"
  },
  "language_info": {
   "codemirror_mode": {
    "name": "ipython",
    "version": 3
   },
   "file_extension": ".py",
   "mimetype": "text/x-python",
   "name": "python",
   "nbconvert_exporter": "python",
   "pygments_lexer": "ipython3",
   "version": "3.10.5"
  }
 },
 "nbformat": 4,
 "nbformat_minor": 5
}
