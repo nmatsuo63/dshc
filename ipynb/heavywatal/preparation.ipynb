{
 "cells": [
  {
   "cell_type": "markdown",
   "id": "f9488a42",
   "metadata": {},
   "source": [
    "# 環境構築 for 統計モデリング概論 DSHC 2022\n",
    "\n",
    "岩嵜 航 (Watal M. Iwasaki, PhD)<br>\n",
    "東北大学 生命科学研究科 進化ゲノミクス分野 特任助教\n",
    "\n",
    "2022-08-17 東京海上 Data Science Hill Climb<br>\n",
    "\n",
    "## 方針\n",
    "ほかの講義で使っている環境をなるべくそのまま使う。\n",
    "\n",
    "### Google Colab (Python 3.7.13) を使っている場合\n",
    "各ipynbファイルの頭に `%pip install` コマンドを置いておくので、事前準備は不要。\n",
    "念のため、このファイルが最後まで問題なく動くことを確認する。\n",
    "\n",
    "### ローカルのPython 3.7.7を使っている場合\n",
    "以下の手順でパッケージをいくつか追加する。\n",
    "\n",
    "ほかの講義で入れたいくつかのパッケージのバージョンを上げてしまうので、\n",
    "本講義が終わったら、ほかの講義に参加する前に再び\n",
    "`pip3 install -r requirements.txt` を実行して指定バージョンに戻してください。"
   ]
  },
  {
   "cell_type": "code",
   "execution_count": 2,
   "id": "2670b9a2",
   "metadata": {},
   "outputs": [
    {
     "name": "stdout",
     "output_type": "stream",
     "text": [
      "3.10.5 | packaged by conda-forge | (main, Jun 14 2022, 07:04:59) [GCC 10.3.0]\n"
     ]
    }
   ],
   "source": [
    "import sys\n",
    "print(sys.version)"
   ]
  },
  {
   "cell_type": "markdown",
   "id": "3171222e",
   "metadata": {
    "lines_to_next_cell": 0
   },
   "source": [
    "## パッケージのインストールと動作確認\n",
    "\n",
    "ほかの講義でインストール済みだが古すぎるものを更新:"
   ]
  },
  {
   "cell_type": "code",
   "execution_count": 3,
   "id": "e29712c9",
   "metadata": {},
   "outputs": [
    {
     "name": "stdout",
     "output_type": "stream",
     "text": [
      "Requirement already satisfied: seaborn>=0.11 in /opt/conda/lib/python3.10/site-packages (0.11.2)\n",
      "Requirement already satisfied: numpy>=1.15 in /opt/conda/lib/python3.10/site-packages (from seaborn>=0.11) (1.22.4)\n",
      "Requirement already satisfied: matplotlib>=2.2 in /opt/conda/lib/python3.10/site-packages (from seaborn>=0.11) (3.5.2)\n",
      "Requirement already satisfied: scipy>=1.0 in /opt/conda/lib/python3.10/site-packages (from seaborn>=0.11) (1.8.1)\n",
      "Requirement already satisfied: pandas>=0.23 in /opt/conda/lib/python3.10/site-packages (from seaborn>=0.11) (1.4.3)\n",
      "Requirement already satisfied: pillow>=6.2.0 in /opt/conda/lib/python3.10/site-packages (from matplotlib>=2.2->seaborn>=0.11) (9.2.0)\n",
      "Requirement already satisfied: cycler>=0.10 in /opt/conda/lib/python3.10/site-packages (from matplotlib>=2.2->seaborn>=0.11) (0.11.0)\n",
      "Requirement already satisfied: fonttools>=4.22.0 in /opt/conda/lib/python3.10/site-packages (from matplotlib>=2.2->seaborn>=0.11) (4.34.4)\n",
      "Requirement already satisfied: python-dateutil>=2.7 in /opt/conda/lib/python3.10/site-packages (from matplotlib>=2.2->seaborn>=0.11) (2.8.2)\n",
      "Requirement already satisfied: pyparsing>=2.2.1 in /opt/conda/lib/python3.10/site-packages (from matplotlib>=2.2->seaborn>=0.11) (3.0.9)\n",
      "Requirement already satisfied: kiwisolver>=1.0.1 in /opt/conda/lib/python3.10/site-packages (from matplotlib>=2.2->seaborn>=0.11) (1.4.4)\n",
      "Requirement already satisfied: packaging>=20.0 in /opt/conda/lib/python3.10/site-packages (from matplotlib>=2.2->seaborn>=0.11) (21.3)\n",
      "Requirement already satisfied: pytz>=2020.1 in /opt/conda/lib/python3.10/site-packages (from pandas>=0.23->seaborn>=0.11) (2022.1)\n",
      "Requirement already satisfied: six>=1.5 in /opt/conda/lib/python3.10/site-packages (from python-dateutil>=2.7->matplotlib>=2.2->seaborn>=0.11) (1.16.0)\n",
      "Note: you may need to restart the kernel to use updated packages.\n",
      "Requirement already satisfied: matplotlib>=3.1 in /opt/conda/lib/python3.10/site-packages (3.5.2)\n",
      "Collecting matplotlib>=3.1\n",
      "  Downloading matplotlib-3.5.3-cp310-cp310-manylinux_2_17_x86_64.manylinux2014_x86_64.whl (11.9 MB)\n",
      "\u001b[2K     \u001b[90m━━━━━━━━━━━━━━━━━━━━━━━━━━━━━━━━━━━━━━━\u001b[0m \u001b[32m11.9/11.9 MB\u001b[0m \u001b[31m498.2 kB/s\u001b[0m eta \u001b[36m0:00:00\u001b[0m00:01\u001b[0m00:01\u001b[0m\n",
      "\u001b[?25hRequirement already satisfied: pillow>=6.2.0 in /opt/conda/lib/python3.10/site-packages (from matplotlib>=3.1) (9.2.0)\n",
      "Requirement already satisfied: packaging>=20.0 in /opt/conda/lib/python3.10/site-packages (from matplotlib>=3.1) (21.3)\n",
      "Requirement already satisfied: cycler>=0.10 in /opt/conda/lib/python3.10/site-packages (from matplotlib>=3.1) (0.11.0)\n",
      "Requirement already satisfied: numpy>=1.17 in /opt/conda/lib/python3.10/site-packages (from matplotlib>=3.1) (1.22.4)\n",
      "Requirement already satisfied: pyparsing>=2.2.1 in /opt/conda/lib/python3.10/site-packages (from matplotlib>=3.1) (3.0.9)\n",
      "Requirement already satisfied: kiwisolver>=1.0.1 in /opt/conda/lib/python3.10/site-packages (from matplotlib>=3.1) (1.4.4)\n",
      "Requirement already satisfied: fonttools>=4.22.0 in /opt/conda/lib/python3.10/site-packages (from matplotlib>=3.1) (4.34.4)\n",
      "Requirement already satisfied: python-dateutil>=2.7 in /opt/conda/lib/python3.10/site-packages (from matplotlib>=3.1) (2.8.2)\n",
      "Requirement already satisfied: six>=1.5 in /opt/conda/lib/python3.10/site-packages (from python-dateutil>=2.7->matplotlib>=3.1) (1.16.0)\n",
      "Installing collected packages: matplotlib\n",
      "  Attempting uninstall: matplotlib\n",
      "    Found existing installation: matplotlib 3.5.2\n",
      "    Uninstalling matplotlib-3.5.2:\n",
      "      Successfully uninstalled matplotlib-3.5.2\n",
      "Successfully installed matplotlib-3.5.3\n",
      "Note: you may need to restart the kernel to use updated packages.\n"
     ]
    }
   ],
   "source": [
    "%pip install -U 'seaborn>=0.11'\n",
    "%pip install -U 'matplotlib>=3.1'"
   ]
  },
  {
   "cell_type": "markdown",
   "id": "2106be92",
   "metadata": {},
   "source": [
    "### [statsmodels](https://www.statsmodels.org)"
   ]
  },
  {
   "cell_type": "code",
   "execution_count": 4,
   "id": "ce7b5209",
   "metadata": {},
   "outputs": [
    {
     "name": "stdout",
     "output_type": "stream",
     "text": [
      "Requirement already satisfied: statsmodels>=0.13.2 in /opt/conda/lib/python3.10/site-packages (0.13.2)\n",
      "Requirement already satisfied: pandas>=0.25 in /opt/conda/lib/python3.10/site-packages (from statsmodels>=0.13.2) (1.4.3)\n",
      "Requirement already satisfied: numpy>=1.17 in /opt/conda/lib/python3.10/site-packages (from statsmodels>=0.13.2) (1.22.4)\n",
      "Requirement already satisfied: scipy>=1.3 in /opt/conda/lib/python3.10/site-packages (from statsmodels>=0.13.2) (1.8.1)\n",
      "Requirement already satisfied: packaging>=21.3 in /opt/conda/lib/python3.10/site-packages (from statsmodels>=0.13.2) (21.3)\n",
      "Requirement already satisfied: patsy>=0.5.2 in /opt/conda/lib/python3.10/site-packages (from statsmodels>=0.13.2) (0.5.2)\n",
      "Requirement already satisfied: pyparsing!=3.0.5,>=2.0.2 in /opt/conda/lib/python3.10/site-packages (from packaging>=21.3->statsmodels>=0.13.2) (3.0.9)\n",
      "Requirement already satisfied: python-dateutil>=2.8.1 in /opt/conda/lib/python3.10/site-packages (from pandas>=0.25->statsmodels>=0.13.2) (2.8.2)\n",
      "Requirement already satisfied: pytz>=2020.1 in /opt/conda/lib/python3.10/site-packages (from pandas>=0.25->statsmodels>=0.13.2) (2022.1)\n",
      "Requirement already satisfied: six in /opt/conda/lib/python3.10/site-packages (from patsy>=0.5.2->statsmodels>=0.13.2) (1.16.0)\n",
      "Note: you may need to restart the kernel to use updated packages.\n",
      "\n",
      "INSTALLED VERSIONS\n",
      "------------------\n",
      "Python: 3.10.5.final.0\n",
      "OS: Linux 5.10.104-linuxkit #1 SMP PREEMPT Thu Mar 17 17:05:54 UTC 2022 x86_64\n",
      "byteorder: little\n",
      "LC_ALL: en_US.UTF-8\n",
      "LANG: en_US.UTF-8\n",
      "\n",
      "statsmodels\n",
      "===========\n",
      "\n",
      "Installed: 0.13.2 (/opt/conda/lib/python3.10/site-packages/statsmodels)\n",
      "\n",
      "Required Dependencies\n",
      "=====================\n",
      "\n",
      "cython: 0.29.30 (/opt/conda/lib/python3.10/site-packages/Cython)\n",
      "numpy: 1.22.4 (/opt/conda/lib/python3.10/site-packages/numpy)\n",
      "scipy: 1.8.1 (/opt/conda/lib/python3.10/site-packages/scipy)\n",
      "pandas: 1.4.3 (/opt/conda/lib/python3.10/site-packages/pandas)\n",
      "    dateutil: 2.8.2 (/opt/conda/lib/python3.10/site-packages/dateutil)\n",
      "patsy: 0.5.2 (/opt/conda/lib/python3.10/site-packages/patsy)\n",
      "\n",
      "Optional Dependencies\n",
      "=====================\n",
      "\n",
      "matplotlib: 3.5.3 (/opt/conda/lib/python3.10/site-packages/matplotlib)\n",
      "    backend: module://matplotlib_inline.backend_inline \n",
      "cvxopt: Not installed\n",
      "joblib: 1.1.0 (/opt/conda/lib/python3.10/site-packages/joblib)\n",
      "\n",
      "Developer Tools\n",
      "================\n",
      "\n",
      "IPython: 8.4.0 (/opt/conda/lib/python3.10/site-packages/IPython)\n",
      "    jinja2: 3.1.2 (/opt/conda/lib/python3.10/site-packages/jinja2)\n",
      "sphinx: Not installed\n",
      "    pygments: 2.12.0 (/opt/conda/lib/python3.10/site-packages/pygments)\n",
      "pytest: Not installed\n",
      "virtualenv: Not installed\n",
      "\n",
      "\n"
     ]
    }
   ],
   "source": [
    "%pip install 'statsmodels>=0.13.2'\n",
    "import statsmodels.api as sm  # noqa: E402\n",
    "sm.show_versions()"
   ]
  },
  {
   "cell_type": "markdown",
   "id": "d5117cfc",
   "metadata": {},
   "source": [
    "### [CmdStanPy](https://cmdstanpy.readthedocs.io)"
   ]
  },
  {
   "cell_type": "code",
   "execution_count": 5,
   "id": "9ebd31c8",
   "metadata": {},
   "outputs": [
    {
     "name": "stdout",
     "output_type": "stream",
     "text": [
      "Collecting cmdstanpy>=1.0.4\n",
      "  Downloading cmdstanpy-1.0.4-py3-none-any.whl (73 kB)\n",
      "\u001b[2K     \u001b[90m━━━━━━━━━━━━━━━━━━━━━━━━━━━━━━━━━━━━━━━━\u001b[0m \u001b[32m73.9/73.9 kB\u001b[0m \u001b[31m7.5 MB/s\u001b[0m eta \u001b[36m0:00:00\u001b[0m\n",
      "\u001b[?25hRequirement already satisfied: tqdm in /opt/conda/lib/python3.10/site-packages (from cmdstanpy>=1.0.4) (4.64.0)\n",
      "Requirement already satisfied: numpy>=1.21 in /opt/conda/lib/python3.10/site-packages (from cmdstanpy>=1.0.4) (1.22.4)\n",
      "Collecting ujson\n",
      "  Downloading ujson-5.4.0-cp310-cp310-manylinux_2_17_x86_64.manylinux2014_x86_64.whl (45 kB)\n",
      "\u001b[2K     \u001b[90m━━━━━━━━━━━━━━━━━━━━━━━━━━━━━━━━━━━━━━━━\u001b[0m \u001b[32m45.4/45.4 kB\u001b[0m \u001b[31m4.1 MB/s\u001b[0m eta \u001b[36m0:00:00\u001b[0m\n",
      "\u001b[?25hRequirement already satisfied: pandas in /opt/conda/lib/python3.10/site-packages (from cmdstanpy>=1.0.4) (1.4.3)\n",
      "Requirement already satisfied: python-dateutil>=2.8.1 in /opt/conda/lib/python3.10/site-packages (from pandas->cmdstanpy>=1.0.4) (2.8.2)\n",
      "Requirement already satisfied: pytz>=2020.1 in /opt/conda/lib/python3.10/site-packages (from pandas->cmdstanpy>=1.0.4) (2022.1)\n",
      "Requirement already satisfied: six>=1.5 in /opt/conda/lib/python3.10/site-packages (from python-dateutil>=2.8.1->pandas->cmdstanpy>=1.0.4) (1.16.0)\n",
      "Installing collected packages: ujson, cmdstanpy\n",
      "Successfully installed cmdstanpy-1.0.4 ujson-5.4.0\n",
      "Note: you may need to restart the kernel to use updated packages.\n",
      "1.0.4\n"
     ]
    }
   ],
   "source": [
    "%pip install 'cmdstanpy>=1.0.4'\n",
    "import cmdstanpy\n",
    "print(cmdstanpy.__version__)"
   ]
  },
  {
   "cell_type": "markdown",
   "id": "6ce17923",
   "metadata": {},
   "source": [
    "`fbprophet 0.7.1 requires cmdstanpy==0.9.5` だから conflict してるよ、\n",
    "というERRORが出るかもしれないけど今回は `fbprophet` を使わないので無視。\n",
    "\n",
    "[CmdStan](https://mc-stan.org/users/interfaces/cmdstan) 本体をインストール(数分かかるかも):"
   ]
  },
  {
   "cell_type": "code",
   "execution_count": 7,
   "id": "78d4e658",
   "metadata": {},
   "outputs": [
    {
     "name": "stdout",
     "output_type": "stream",
     "text": [
      "Installing CmdStan version: 2.30.1\n",
      "Install directory: /home/jovyan/.cmdstan\n",
      "CmdStan version 2.30.1 already installed\n"
     ]
    },
    {
     "data": {
      "text/plain": [
       "True"
      ]
     },
     "execution_count": 7,
     "metadata": {},
     "output_type": "execute_result"
    }
   ],
   "source": [
    "cmdstanpy.install_cmdstan()"
   ]
  },
  {
   "cell_type": "markdown",
   "id": "4b926ca8",
   "metadata": {},
   "source": [
    "バージョン 1.0.2, 1.0.3 では正常にインストールされていても\n",
    "`ValueError: CmdStan installataion missing binaries.`\n",
    "というエラーが出る。その上のほうに\n",
    "`CmdStan version 2.**.* already installed` と表示されていればOK。\n",
    "バージョン 1.0.4 で修正済み。\n",
    "\n",
    "[公式example](https://github.com/stan-dev/cmdstanpy#example) が走ることを確認:"
   ]
  },
  {
   "cell_type": "code",
   "execution_count": 8,
   "id": "43b03f53",
   "metadata": {
    "lines_to_next_cell": 2
   },
   "outputs": [
    {
     "name": "stderr",
     "output_type": "stream",
     "text": [
      "14:11:02 - cmdstanpy - INFO - CmdStan start processing\n"
     ]
    },
    {
     "data": {
      "application/vnd.jupyter.widget-view+json": {
       "model_id": "29a1946e962545ac9aaf2706cb87e7ab",
       "version_major": 2,
       "version_minor": 0
      },
      "text/plain": [
       "chain 1 |          | 00:00 Status"
      ]
     },
     "metadata": {},
     "output_type": "display_data"
    },
    {
     "data": {
      "application/vnd.jupyter.widget-view+json": {
       "model_id": "ba58b06faef14edcabdd82fcc882b541",
       "version_major": 2,
       "version_minor": 0
      },
      "text/plain": [
       "chain 2 |          | 00:00 Status"
      ]
     },
     "metadata": {},
     "output_type": "display_data"
    },
    {
     "data": {
      "application/vnd.jupyter.widget-view+json": {
       "model_id": "3676328e27024dd8a842ec1e5cc34395",
       "version_major": 2,
       "version_minor": 0
      },
      "text/plain": [
       "chain 3 |          | 00:00 Status"
      ]
     },
     "metadata": {},
     "output_type": "display_data"
    },
    {
     "data": {
      "application/vnd.jupyter.widget-view+json": {
       "model_id": "ccaf7ad3f5924004b0fe8b13a1d4bd34",
       "version_major": 2,
       "version_minor": 0
      },
      "text/plain": [
       "chain 4 |          | 00:00 Status"
      ]
     },
     "metadata": {},
     "output_type": "display_data"
    },
    {
     "name": "stdout",
     "output_type": "stream",
     "text": [
      "                                                                                                                                                                                                                                                                                                                                "
     ]
    },
    {
     "name": "stderr",
     "output_type": "stream",
     "text": [
      "14:11:03 - cmdstanpy - INFO - CmdStan done processing.\n"
     ]
    },
    {
     "name": "stdout",
     "output_type": "stream",
     "text": [
      "\n"
     ]
    },
    {
     "data": {
      "text/html": [
       "<div>\n",
       "<style scoped>\n",
       "    .dataframe tbody tr th:only-of-type {\n",
       "        vertical-align: middle;\n",
       "    }\n",
       "\n",
       "    .dataframe tbody tr th {\n",
       "        vertical-align: top;\n",
       "    }\n",
       "\n",
       "    .dataframe thead th {\n",
       "        text-align: right;\n",
       "    }\n",
       "</style>\n",
       "<table border=\"1\" class=\"dataframe\">\n",
       "  <thead>\n",
       "    <tr style=\"text-align: right;\">\n",
       "      <th></th>\n",
       "      <th>Mean</th>\n",
       "      <th>MCSE</th>\n",
       "      <th>StdDev</th>\n",
       "      <th>5%</th>\n",
       "      <th>50%</th>\n",
       "      <th>95%</th>\n",
       "      <th>N_Eff</th>\n",
       "      <th>N_Eff/s</th>\n",
       "      <th>R_hat</th>\n",
       "    </tr>\n",
       "    <tr>\n",
       "      <th>name</th>\n",
       "      <th></th>\n",
       "      <th></th>\n",
       "      <th></th>\n",
       "      <th></th>\n",
       "      <th></th>\n",
       "      <th></th>\n",
       "      <th></th>\n",
       "      <th></th>\n",
       "      <th></th>\n",
       "    </tr>\n",
       "  </thead>\n",
       "  <tbody>\n",
       "    <tr>\n",
       "      <th>lp__</th>\n",
       "      <td>-7.274370</td>\n",
       "      <td>0.01812</td>\n",
       "      <td>0.731273</td>\n",
       "      <td>-8.782090</td>\n",
       "      <td>-6.991790</td>\n",
       "      <td>-6.750420</td>\n",
       "      <td>1628.75</td>\n",
       "      <td>3841.40</td>\n",
       "      <td>1.001980</td>\n",
       "    </tr>\n",
       "    <tr>\n",
       "      <th>theta</th>\n",
       "      <td>0.249957</td>\n",
       "      <td>0.00296</td>\n",
       "      <td>0.120006</td>\n",
       "      <td>0.080227</td>\n",
       "      <td>0.232886</td>\n",
       "      <td>0.472531</td>\n",
       "      <td>1643.21</td>\n",
       "      <td>3875.49</td>\n",
       "      <td>0.999451</td>\n",
       "    </tr>\n",
       "  </tbody>\n",
       "</table>\n",
       "</div>"
      ],
      "text/plain": [
       "           Mean     MCSE    StdDev        5%       50%       95%    N_Eff  \\\n",
       "name                                                                        \n",
       "lp__  -7.274370  0.01812  0.731273 -8.782090 -6.991790 -6.750420  1628.75   \n",
       "theta  0.249957  0.00296  0.120006  0.080227  0.232886  0.472531  1643.21   \n",
       "\n",
       "       N_Eff/s     R_hat  \n",
       "name                      \n",
       "lp__   3841.40  1.001980  \n",
       "theta  3875.49  0.999451  "
      ]
     },
     "execution_count": 8,
     "metadata": {},
     "output_type": "execute_result"
    }
   ],
   "source": [
    "import os\n",
    "from cmdstanpy import cmdstan_path, CmdStanModel\n",
    "\n",
    "# specify locations of Stan program file and data\n",
    "stan_file = os.path.join(cmdstan_path(), 'examples', 'bernoulli', 'bernoulli.stan')\n",
    "data_file = os.path.join(cmdstan_path(), 'examples', 'bernoulli', 'bernoulli.data.json')\n",
    "\n",
    "# instantiate a model; compiles the Stan program by default\n",
    "model = CmdStanModel(stan_file=stan_file)\n",
    "\n",
    "# obtain a posterior sample from the model conditioned on the data\n",
    "fit = model.sample(chains=4, data=data_file)\n",
    "\n",
    "# summarize the results (wraps CmdStan `bin/stansummary`):\n",
    "fit.summary()"
   ]
  },
  {
   "cell_type": "markdown",
   "id": "fc50ae8d",
   "metadata": {},
   "source": [
    "### [ArviZ](https://python.arviz.org/)"
   ]
  },
  {
   "cell_type": "code",
   "execution_count": 9,
   "id": "9cb6a423",
   "metadata": {},
   "outputs": [
    {
     "name": "stdout",
     "output_type": "stream",
     "text": [
      "Collecting arviz>=0.12.1\n",
      "  Downloading arviz-0.12.1-py3-none-any.whl (1.6 MB)\n",
      "\u001b[2K     \u001b[90m━━━━━━━━━━━━━━━━━━━━━━━━━━━━━━━━━━━━━━━━\u001b[0m \u001b[32m1.6/1.6 MB\u001b[0m \u001b[31m3.7 MB/s\u001b[0m eta \u001b[36m0:00:00\u001b[0m00:01\u001b[0m00:01\u001b[0m\n",
      "\u001b[?25hRequirement already satisfied: numpy>=1.12 in /opt/conda/lib/python3.10/site-packages (from arviz>=0.12.1) (1.22.4)\n",
      "Requirement already satisfied: pandas>=0.23 in /opt/conda/lib/python3.10/site-packages (from arviz>=0.12.1) (1.4.3)\n",
      "Requirement already satisfied: packaging in /opt/conda/lib/python3.10/site-packages (from arviz>=0.12.1) (21.3)\n",
      "Requirement already satisfied: typing-extensions>=3.7.4.3 in /opt/conda/lib/python3.10/site-packages (from arviz>=0.12.1) (4.3.0)\n",
      "Collecting xarray>=0.16.1\n",
      "  Downloading xarray-2022.6.0-py3-none-any.whl (927 kB)\n",
      "\u001b[2K     \u001b[90m━━━━━━━━━━━━━━━━━━━━━━━━━━━━━━━━━━━━━━━\u001b[0m \u001b[32m927.2/927.2 kB\u001b[0m \u001b[31m4.4 MB/s\u001b[0m eta \u001b[36m0:00:00\u001b[0m00:01\u001b[0m00:01\u001b[0m\n",
      "\u001b[?25hCollecting netcdf4\n",
      "  Downloading netCDF4-1.6.0-cp310-cp310-manylinux_2_17_x86_64.manylinux2014_x86_64.whl (5.1 MB)\n",
      "\u001b[2K     \u001b[90m━━━━━━━━━━━━━━━━━━━━━━━━━━━━━━━━━━━━━━━━\u001b[0m \u001b[32m5.1/5.1 MB\u001b[0m \u001b[31m5.0 MB/s\u001b[0m eta \u001b[36m0:00:00\u001b[0m00:01\u001b[0m00:01\u001b[0mm\n",
      "\u001b[?25hCollecting xarray-einstats>=0.2\n",
      "  Downloading xarray_einstats-0.3.0-py3-none-any.whl (34 kB)\n",
      "Requirement already satisfied: matplotlib>=3.0 in /opt/conda/lib/python3.10/site-packages (from arviz>=0.12.1) (3.5.3)\n",
      "Requirement already satisfied: setuptools>=38.4 in /opt/conda/lib/python3.10/site-packages (from arviz>=0.12.1) (63.2.0)\n",
      "Requirement already satisfied: scipy>=0.19 in /opt/conda/lib/python3.10/site-packages (from arviz>=0.12.1) (1.8.1)\n",
      "Requirement already satisfied: fonttools>=4.22.0 in /opt/conda/lib/python3.10/site-packages (from matplotlib>=3.0->arviz>=0.12.1) (4.34.4)\n",
      "Requirement already satisfied: cycler>=0.10 in /opt/conda/lib/python3.10/site-packages (from matplotlib>=3.0->arviz>=0.12.1) (0.11.0)\n",
      "Requirement already satisfied: pyparsing>=2.2.1 in /opt/conda/lib/python3.10/site-packages (from matplotlib>=3.0->arviz>=0.12.1) (3.0.9)\n",
      "Requirement already satisfied: python-dateutil>=2.7 in /opt/conda/lib/python3.10/site-packages (from matplotlib>=3.0->arviz>=0.12.1) (2.8.2)\n",
      "Requirement already satisfied: kiwisolver>=1.0.1 in /opt/conda/lib/python3.10/site-packages (from matplotlib>=3.0->arviz>=0.12.1) (1.4.4)\n",
      "Requirement already satisfied: pillow>=6.2.0 in /opt/conda/lib/python3.10/site-packages (from matplotlib>=3.0->arviz>=0.12.1) (9.2.0)\n",
      "Requirement already satisfied: pytz>=2020.1 in /opt/conda/lib/python3.10/site-packages (from pandas>=0.23->arviz>=0.12.1) (2022.1)\n",
      "Collecting cftime\n",
      "  Downloading cftime-1.6.1-cp310-cp310-manylinux_2_17_x86_64.manylinux2014_x86_64.whl (230 kB)\n",
      "\u001b[2K     \u001b[90m━━━━━━━━━━━━━━━━━━━━━━━━━━━━━━━━━━━━━━\u001b[0m \u001b[32m230.8/230.8 kB\u001b[0m \u001b[31m10.0 MB/s\u001b[0m eta \u001b[36m0:00:00\u001b[0m\n",
      "\u001b[?25hRequirement already satisfied: six>=1.5 in /opt/conda/lib/python3.10/site-packages (from python-dateutil>=2.7->matplotlib>=3.0->arviz>=0.12.1) (1.16.0)\n",
      "Installing collected packages: cftime, netcdf4, xarray, xarray-einstats, arviz\n",
      "Successfully installed arviz-0.12.1 cftime-1.6.1 netcdf4-1.6.0 xarray-2022.6.0 xarray-einstats-0.3.0\n",
      "Note: you may need to restart the kernel to use updated packages.\n",
      "0.12.1\n"
     ]
    }
   ],
   "source": [
    "%pip install 'arviz>=0.12.1'\n",
    "import arviz as az  # noqa: E402\n",
    "print(az.__version__)"
   ]
  },
  {
   "cell_type": "markdown",
   "id": "241f8fb6",
   "metadata": {},
   "source": [
    "上記exampleの可視化:"
   ]
  },
  {
   "cell_type": "code",
   "execution_count": 10,
   "id": "758181f7",
   "metadata": {},
   "outputs": [
    {
     "data": {
      "text/plain": [
       "array([[<AxesSubplot:title={'center':'theta'}>,\n",
       "        <AxesSubplot:title={'center':'theta'}>]], dtype=object)"
      ]
     },
     "execution_count": 10,
     "metadata": {},
     "output_type": "execute_result"
    },
    {
     "data": {
      "image/png": "[encoded data removed]",
      "text/plain": [
       "<Figure size 864x144 with 2 Axes>"
      ]
     },
     "metadata": {
      "needs_background": "light"
     },
     "output_type": "display_data"
    }
   ],
   "source": [
    "cmdstanpy_data = az.from_cmdstanpy(fit)\n",
    "az.plot_trace(cmdstanpy_data)"
   ]
  },
  {
   "cell_type": "code",
   "execution_count": 11,
   "id": "72086383",
   "metadata": {},
   "outputs": [],
   "source": [
    "# pyright: reportMissingTypeStubs=false\n",
    "# pyright: reportPrivateImportUsage=false\n",
    "# pyright: reportUnknownArgumentType=false\n",
    "# pyright: reportUnknownMemberType=false\n",
    "# pyright: reportUnknownVariableType=false"
   ]
  },
  {
   "cell_type": "code",
   "execution_count": null,
   "id": "731260b3-dfc8-4fcd-bab5-6d8cab43bad3",
   "metadata": {},
   "outputs": [],
   "source": []
  }
 ],
 "metadata": {
  "jupytext": {
   "cell_metadata_filter": "name,-all",
   "main_language": "python",
   "notebook_metadata_filter": "-all"
  },
  "kernelspec": {
   "display_name": "Python 3 (ipykernel)",
   "language": "python",
   "name": "python3"
  },
  "language_info": {
   "codemirror_mode": {
    "name": "ipython",
    "version": 3
   },
   "file_extension": ".py",
   "mimetype": "text/x-python",
   "name": "python",
   "nbconvert_exporter": "python",
   "pygments_lexer": "ipython3",
   "version": "3.10.5"
  }
 },
 "nbformat": 4,
 "nbformat_minor": 5
}
