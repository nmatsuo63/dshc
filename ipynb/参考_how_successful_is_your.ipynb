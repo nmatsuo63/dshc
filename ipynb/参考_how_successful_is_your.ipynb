{
 "cells": [
  {
   "cell_type": "code",
   "execution_count": 1,
   "id": "083a5a00-c817-4ecc-9144-f3fc7655f4a8",
   "metadata": {},
   "outputs": [],
   "source": [
    "import numpy as np\n",
    "import pandas as pd\n",
    "# from sklearn.model_selection import train_test_split\n",
    "# from sklearn.metrics import accuracy_score\n",
    "\n",
    "import warnings\n",
    "warnings.simplefilter('ignore')\n"
   ]
  },
  {
   "cell_type": "markdown",
   "id": "73c62113-dab2-4f68-978b-cc9135aecb41",
   "metadata": {},
   "source": [
    "## 参考ノート\n",
    "https://www.kaggle.com/code/dronqo/how-successful-is-your-kickstarter-project/notebook"
   ]
  },
  {
   "cell_type": "code",
   "execution_count": 2,
   "id": "d5d6f106-a4fe-41cc-bb7a-021d234f42d9",
   "metadata": {},
   "outputs": [],
   "source": [
    "# データの読み込み\n",
    "df_org = pd.read_csv('./data/ks-projects-201801.csv')\n"
   ]
  },
  {
   "cell_type": "code",
   "execution_count": 3,
   "id": "26ece8e6-eaa7-4846-b9d2-b77ff0cfef2d",
   "metadata": {},
   "outputs": [],
   "source": [
    "# # 成功（successful）と失敗（failed）以外のデータを除外する\n",
    "# df = df_org[(df_org['state'] == 'successful') | (df_org['state'] == 'failed')]"
   ]
  },
  {
   "cell_type": "code",
   "execution_count": 4,
   "id": "2b3b073e-55dc-48fe-8481-4a26cd40bfae",
   "metadata": {},
   "outputs": [],
   "source": [
    "df = df_org"
   ]
  },
  {
   "cell_type": "code",
   "execution_count": 5,
   "id": "2aa4e589-0e8a-4387-b7fa-5be57c09d72f",
   "metadata": {},
   "outputs": [
    {
     "name": "stdout",
     "output_type": "stream",
     "text": [
      "Dimension of the dataset: (378661, 15)\n"
     ]
    }
   ],
   "source": [
    "print('Dimension of the dataset:', df.shape)"
   ]
  },
  {
   "cell_type": "code",
   "execution_count": 6,
   "id": "8ed8d8b6-408a-4cff-a126-a15201cfd4af",
   "metadata": {},
   "outputs": [
    {
     "data": {
      "text/plain": [
       "Index(['ID', 'name', 'category', 'main_category', 'currency', 'deadline',\n",
       "       'goal', 'launched', 'pledged', 'state', 'backers', 'country',\n",
       "       'usd pledged', 'usd_pledged_real', 'usd_goal_real'],\n",
       "      dtype='object')"
      ]
     },
     "execution_count": 6,
     "metadata": {},
     "output_type": "execute_result"
    }
   ],
   "source": [
    "# name of the columns\n",
    "df.columns"
   ]
  },
  {
   "cell_type": "code",
   "execution_count": 7,
   "id": "883dda5e-e463-424e-8df1-77718ec81a6d",
   "metadata": {},
   "outputs": [
    {
     "data": {
      "text/plain": [
       "object     8\n",
       "float64    5\n",
       "int64      2\n",
       "dtype: int64"
      ]
     },
     "execution_count": 7,
     "metadata": {},
     "output_type": "execute_result"
    }
   ],
   "source": [
    "# data type of each column\n",
    "df.dtypes.value_counts()"
   ]
  },
  {
   "cell_type": "code",
   "execution_count": 8,
   "id": "78447dd0-1168-494b-83e4-7f0fd5d13920",
   "metadata": {},
   "outputs": [
    {
     "data": {
      "text/plain": [
       "usd pledged         3797\n",
       "name                   4\n",
       "ID                     0\n",
       "category               0\n",
       "main_category          0\n",
       "currency               0\n",
       "deadline               0\n",
       "goal                   0\n",
       "launched               0\n",
       "pledged                0\n",
       "state                  0\n",
       "backers                0\n",
       "country                0\n",
       "usd_pledged_real       0\n",
       "usd_goal_real          0\n",
       "dtype: int64"
      ]
     },
     "execution_count": 8,
     "metadata": {},
     "output_type": "execute_result"
    }
   ],
   "source": [
    "# number of missing values per column\n",
    "df.isnull().sum().sort_values(ascending = False)"
   ]
  },
  {
   "cell_type": "code",
   "execution_count": 9,
   "id": "a54958a8-ed6a-4aa2-863f-ed7bdd32d5d2",
   "metadata": {},
   "outputs": [],
   "source": [
    "# remove rows with missing values\n",
    "df.dropna(inplace=True)\n"
   ]
  },
  {
   "cell_type": "code",
   "execution_count": 10,
   "id": "69a79a35-bf46-4f5c-a7c4-881fd61dc558",
   "metadata": {},
   "outputs": [
    {
     "data": {
      "text/plain": [
       "ID                  374860\n",
       "launched            374298\n",
       "name                372068\n",
       "usd_pledged_real    105383\n",
       "usd pledged          95454\n",
       "pledged              61936\n",
       "usd_goal_real        50032\n",
       "goal                  8312\n",
       "backers               3963\n",
       "deadline              3164\n",
       "category               159\n",
       "country                 22\n",
       "main_category           15\n",
       "currency                14\n",
       "state                    5\n",
       "dtype: int64"
      ]
     },
     "execution_count": 10,
     "metadata": {},
     "output_type": "execute_result"
    }
   ],
   "source": [
    "# number of unique values per column, sorted by descending order\n",
    "df.T.apply(lambda x: x.nunique(), axis=1).sort_values(ascending=False)"
   ]
  },
  {
   "cell_type": "code",
   "execution_count": 11,
   "id": "a1f5c13a-4b70-451a-a61b-ee41c7175335",
   "metadata": {},
   "outputs": [],
   "source": [
    "def categorical_with_per_count(kick, feature):\n",
    "    '''\n",
    "    Calculate frequency of the categorical feature with % and count base.\n",
    "    Sorted on the descending order.\n",
    "    '''\n",
    "    \n",
    "    # calculate frequency on % and value\n",
    "    freq_merged = pd.concat([kick[feature].value_counts(normalize=True) * 100,\n",
    "                             kick[feature].value_counts(normalize=False)], axis=1)\n",
    "    # rename columns\n",
    "    freq_merged.columns = [feature + '_%', feature + '_count']\n",
    "    return freq_merged"
   ]
  },
  {
   "cell_type": "code",
   "execution_count": 12,
   "id": "f84f155e-de34-43eb-81c2-23db1ab0e38a",
   "metadata": {},
   "outputs": [
    {
     "data": {
      "text/html": [
       "<div>\n",
       "<style scoped>\n",
       "    .dataframe tbody tr th:only-of-type {\n",
       "        vertical-align: middle;\n",
       "    }\n",
       "\n",
       "    .dataframe tbody tr th {\n",
       "        vertical-align: top;\n",
       "    }\n",
       "\n",
       "    .dataframe thead th {\n",
       "        text-align: right;\n",
       "    }\n",
       "</style>\n",
       "<table border=\"1\" class=\"dataframe\">\n",
       "  <thead>\n",
       "    <tr style=\"text-align: right;\">\n",
       "      <th></th>\n",
       "      <th>state_%</th>\n",
       "      <th>state_count</th>\n",
       "    </tr>\n",
       "  </thead>\n",
       "  <tbody>\n",
       "    <tr>\n",
       "      <th>failed</th>\n",
       "      <td>52.715947</td>\n",
       "      <td>197611</td>\n",
       "    </tr>\n",
       "    <tr>\n",
       "      <th>successful</th>\n",
       "      <td>35.706931</td>\n",
       "      <td>133851</td>\n",
       "    </tr>\n",
       "    <tr>\n",
       "      <th>canceled</th>\n",
       "      <td>10.339060</td>\n",
       "      <td>38757</td>\n",
       "    </tr>\n",
       "    <tr>\n",
       "      <th>live</th>\n",
       "      <td>0.746412</td>\n",
       "      <td>2798</td>\n",
       "    </tr>\n",
       "    <tr>\n",
       "      <th>suspended</th>\n",
       "      <td>0.491650</td>\n",
       "      <td>1843</td>\n",
       "    </tr>\n",
       "  </tbody>\n",
       "</table>\n",
       "</div>"
      ],
      "text/plain": [
       "              state_%  state_count\n",
       "failed      52.715947       197611\n",
       "successful  35.706931       133851\n",
       "canceled    10.339060        38757\n",
       "live         0.746412         2798\n",
       "suspended    0.491650         1843"
      ]
     },
     "execution_count": 12,
     "metadata": {},
     "output_type": "execute_result"
    }
   ],
   "source": [
    "# stateの水準\n",
    "categorical_with_per_count(df, 'state')"
   ]
  },
  {
   "cell_type": "code",
   "execution_count": 13,
   "id": "e5f05d64-40ef-466b-a22e-b4b29a13718b",
   "metadata": {},
   "outputs": [],
   "source": [
    "# keep `failed` and `successful` states\n",
    "df.query(\"state in ['failed', 'successful']\", inplace=True)"
   ]
  },
  {
   "cell_type": "code",
   "execution_count": 14,
   "id": "ee1290a3-ca98-4379-823a-9758b5cc7f35",
   "metadata": {},
   "outputs": [
    {
     "data": {
      "text/html": [
       "<div>\n",
       "<style scoped>\n",
       "    .dataframe tbody tr th:only-of-type {\n",
       "        vertical-align: middle;\n",
       "    }\n",
       "\n",
       "    .dataframe tbody tr th {\n",
       "        vertical-align: top;\n",
       "    }\n",
       "\n",
       "    .dataframe thead th {\n",
       "        text-align: right;\n",
       "    }\n",
       "</style>\n",
       "<table border=\"1\" class=\"dataframe\">\n",
       "  <thead>\n",
       "    <tr style=\"text-align: right;\">\n",
       "      <th></th>\n",
       "      <th>state_%</th>\n",
       "      <th>state_count</th>\n",
       "    </tr>\n",
       "  </thead>\n",
       "  <tbody>\n",
       "    <tr>\n",
       "      <th>failed</th>\n",
       "      <td>59.617995</td>\n",
       "      <td>197611</td>\n",
       "    </tr>\n",
       "    <tr>\n",
       "      <th>successful</th>\n",
       "      <td>40.382005</td>\n",
       "      <td>133851</td>\n",
       "    </tr>\n",
       "  </tbody>\n",
       "</table>\n",
       "</div>"
      ],
      "text/plain": [
       "              state_%  state_count\n",
       "failed      59.617995       197611\n",
       "successful  40.382005       133851"
      ]
     },
     "execution_count": 14,
     "metadata": {},
     "output_type": "execute_result"
    }
   ],
   "source": [
    "# class balance of the dataframe\n",
    "categorical_with_per_count(df, 'state')"
   ]
  },
  {
   "cell_type": "code",
   "execution_count": 15,
   "id": "455879ea-ebea-48cc-a306-b7ea4b46b427",
   "metadata": {},
   "outputs": [],
   "source": [
    "# select features for further analysis\n",
    "df = df.loc[:, ['name', 'category', 'main_category', 'deadline',\n",
    "                    'usd_goal_real', 'launched', 'state', 'country']]\n",
    "# currency can be explained by country i.e. Euro is used by European countries, \n",
    "# Pounds for Great Britain, Dollar in USA, etc."
   ]
  },
  {
   "cell_type": "code",
   "execution_count": 16,
   "id": "8685910e-91ae-490c-96e9-4d32e910aecb",
   "metadata": {},
   "outputs": [],
   "source": [
    "# rename `usd_goal_real` to `goal`\n",
    "df.rename(columns={'usd_goal_real':'goal'}, inplace=True)"
   ]
  },
  {
   "cell_type": "markdown",
   "id": "21539a0a-10d5-4c15-bdf1-2ea8c2532721",
   "metadata": {},
   "source": [
    "## １変量解析（Univariate feature analysis）"
   ]
  },
  {
   "cell_type": "markdown",
   "id": "6c6a0c51-6332-414b-9a11-9fd817088971",
   "metadata": {},
   "source": [
    "### main category\n",
    "下記の分析の通り、すべての水準にデータが分布している。そのため、特にグルーピング等は実施しない。"
   ]
  },
  {
   "cell_type": "code",
   "execution_count": 17,
   "id": "c8ae8e57-88df-4c36-aa00-ed7264edc8b1",
   "metadata": {},
   "outputs": [
    {
     "data": {
      "text/html": [
       "<div>\n",
       "<style scoped>\n",
       "    .dataframe tbody tr th:only-of-type {\n",
       "        vertical-align: middle;\n",
       "    }\n",
       "\n",
       "    .dataframe tbody tr th {\n",
       "        vertical-align: top;\n",
       "    }\n",
       "\n",
       "    .dataframe thead th {\n",
       "        text-align: right;\n",
       "    }\n",
       "</style>\n",
       "<table border=\"1\" class=\"dataframe\">\n",
       "  <thead>\n",
       "    <tr style=\"text-align: right;\">\n",
       "      <th></th>\n",
       "      <th>main_category_%</th>\n",
       "      <th>main_category_count</th>\n",
       "    </tr>\n",
       "  </thead>\n",
       "  <tbody>\n",
       "    <tr>\n",
       "      <th>Film &amp; Video</th>\n",
       "      <td>17.046600</td>\n",
       "      <td>56503</td>\n",
       "    </tr>\n",
       "    <tr>\n",
       "      <th>Music</th>\n",
       "      <td>13.817874</td>\n",
       "      <td>45801</td>\n",
       "    </tr>\n",
       "    <tr>\n",
       "      <th>Publishing</th>\n",
       "      <td>10.683879</td>\n",
       "      <td>35413</td>\n",
       "    </tr>\n",
       "    <tr>\n",
       "      <th>Games</th>\n",
       "      <td>8.604305</td>\n",
       "      <td>28520</td>\n",
       "    </tr>\n",
       "    <tr>\n",
       "      <th>Technology</th>\n",
       "      <td>8.159608</td>\n",
       "      <td>27046</td>\n",
       "    </tr>\n",
       "    <tr>\n",
       "      <th>Art</th>\n",
       "      <td>7.735427</td>\n",
       "      <td>25640</td>\n",
       "    </tr>\n",
       "    <tr>\n",
       "      <th>Design</th>\n",
       "      <td>7.651858</td>\n",
       "      <td>25363</td>\n",
       "    </tr>\n",
       "    <tr>\n",
       "      <th>Food</th>\n",
       "      <td>6.653553</td>\n",
       "      <td>22054</td>\n",
       "    </tr>\n",
       "    <tr>\n",
       "      <th>Fashion</th>\n",
       "      <td>5.965691</td>\n",
       "      <td>19774</td>\n",
       "    </tr>\n",
       "    <tr>\n",
       "      <th>Theater</th>\n",
       "      <td>3.089947</td>\n",
       "      <td>10242</td>\n",
       "    </tr>\n",
       "    <tr>\n",
       "      <th>Comics</th>\n",
       "      <td>2.980130</td>\n",
       "      <td>9878</td>\n",
       "    </tr>\n",
       "    <tr>\n",
       "      <th>Photography</th>\n",
       "      <td>2.923110</td>\n",
       "      <td>9689</td>\n",
       "    </tr>\n",
       "    <tr>\n",
       "      <th>Crafts</th>\n",
       "      <td>2.358641</td>\n",
       "      <td>7818</td>\n",
       "    </tr>\n",
       "    <tr>\n",
       "      <th>Journalism</th>\n",
       "      <td>1.251426</td>\n",
       "      <td>4148</td>\n",
       "    </tr>\n",
       "    <tr>\n",
       "      <th>Dance</th>\n",
       "      <td>1.077952</td>\n",
       "      <td>3573</td>\n",
       "    </tr>\n",
       "  </tbody>\n",
       "</table>\n",
       "</div>"
      ],
      "text/plain": [
       "              main_category_%  main_category_count\n",
       "Film & Video        17.046600                56503\n",
       "Music               13.817874                45801\n",
       "Publishing          10.683879                35413\n",
       "Games                8.604305                28520\n",
       "Technology           8.159608                27046\n",
       "Art                  7.735427                25640\n",
       "Design               7.651858                25363\n",
       "Food                 6.653553                22054\n",
       "Fashion              5.965691                19774\n",
       "Theater              3.089947                10242\n",
       "Comics               2.980130                 9878\n",
       "Photography          2.923110                 9689\n",
       "Crafts               2.358641                 7818\n",
       "Journalism           1.251426                 4148\n",
       "Dance                1.077952                 3573"
      ]
     },
     "execution_count": 17,
     "metadata": {},
     "output_type": "execute_result"
    }
   ],
   "source": [
    "# frequency of the main category\n",
    "categorical_with_per_count(df, 'main_category')"
   ]
  },
  {
   "cell_type": "code",
   "execution_count": 18,
   "id": "a49b3bd5-8f2b-496e-b228-f7913fe02db8",
   "metadata": {},
   "outputs": [],
   "source": [
    "%matplotlib inline\n",
    "import matplotlib.pyplot as plt\n",
    "import seaborn as sns\n"
   ]
  },
  {
   "cell_type": "code",
   "execution_count": 19,
   "id": "016a6a4e-aa56-4aa0-8dd9-abed75b6b861",
   "metadata": {},
   "outputs": [
    {
     "data": {
      "text/plain": [
       "<AxesSubplot:xlabel='count', ylabel='main_category'>"
      ]
     },
     "execution_count": 19,
     "metadata": {},
     "output_type": "execute_result"
    },
    {
     "data": {
      "image/png": "[encoded data removed]",
      "text/plain": [
       "<Figure size 720x576 with 1 Axes>"
      ]
     },
     "metadata": {
      "needs_background": "light"
     },
     "output_type": "display_data"
    }
   ],
   "source": [
    "# change dimension of the plot\n",
    "dims = (10, 8)\n",
    "fig, ax = plt.subplots(figsize = dims)\n",
    "\n",
    "# barplot of the main categories by descending order\n",
    "sns.countplot(\n",
    "    y=df.main_category,\n",
    "    order = df['main_category'].value_counts().index\n",
    ")"
   ]
  },
  {
   "cell_type": "markdown",
   "id": "58d74eb0-a157-471b-b7d1-66d9bc556f7b",
   "metadata": {},
   "source": [
    "### country\n",
    "下記の通り、78.8%がUSである。そのためUSAとOthersに分類する。"
   ]
  },
  {
   "cell_type": "code",
   "execution_count": 20,
   "id": "3bfc4559-b31e-4a96-8e2d-442b6aacf539",
   "metadata": {},
   "outputs": [
    {
     "data": {
      "text/html": [
       "<div>\n",
       "<style scoped>\n",
       "    .dataframe tbody tr th:only-of-type {\n",
       "        vertical-align: middle;\n",
       "    }\n",
       "\n",
       "    .dataframe tbody tr th {\n",
       "        vertical-align: top;\n",
       "    }\n",
       "\n",
       "    .dataframe thead th {\n",
       "        text-align: right;\n",
       "    }\n",
       "</style>\n",
       "<table border=\"1\" class=\"dataframe\">\n",
       "  <thead>\n",
       "    <tr style=\"text-align: right;\">\n",
       "      <th></th>\n",
       "      <th>country_%</th>\n",
       "      <th>country_count</th>\n",
       "    </tr>\n",
       "  </thead>\n",
       "  <tbody>\n",
       "    <tr>\n",
       "      <th>US</th>\n",
       "      <td>78.850064</td>\n",
       "      <td>261358</td>\n",
       "    </tr>\n",
       "    <tr>\n",
       "      <th>GB</th>\n",
       "      <td>8.885785</td>\n",
       "      <td>29453</td>\n",
       "    </tr>\n",
       "    <tr>\n",
       "      <th>CA</th>\n",
       "      <td>3.731951</td>\n",
       "      <td>12370</td>\n",
       "    </tr>\n",
       "    <tr>\n",
       "      <th>AU</th>\n",
       "      <td>1.996006</td>\n",
       "      <td>6616</td>\n",
       "    </tr>\n",
       "    <tr>\n",
       "      <th>DE</th>\n",
       "      <td>1.036620</td>\n",
       "      <td>3436</td>\n",
       "    </tr>\n",
       "    <tr>\n",
       "      <th>FR</th>\n",
       "      <td>0.760268</td>\n",
       "      <td>2520</td>\n",
       "    </tr>\n",
       "    <tr>\n",
       "      <th>NL</th>\n",
       "      <td>0.727384</td>\n",
       "      <td>2411</td>\n",
       "    </tr>\n",
       "    <tr>\n",
       "      <th>IT</th>\n",
       "      <td>0.714712</td>\n",
       "      <td>2369</td>\n",
       "    </tr>\n",
       "    <tr>\n",
       "      <th>ES</th>\n",
       "      <td>0.565072</td>\n",
       "      <td>1873</td>\n",
       "    </tr>\n",
       "    <tr>\n",
       "      <th>SE</th>\n",
       "      <td>0.455256</td>\n",
       "      <td>1509</td>\n",
       "    </tr>\n",
       "  </tbody>\n",
       "</table>\n",
       "</div>"
      ],
      "text/plain": [
       "    country_%  country_count\n",
       "US  78.850064         261358\n",
       "GB   8.885785          29453\n",
       "CA   3.731951          12370\n",
       "AU   1.996006           6616\n",
       "DE   1.036620           3436\n",
       "FR   0.760268           2520\n",
       "NL   0.727384           2411\n",
       "IT   0.714712           2369\n",
       "ES   0.565072           1873\n",
       "SE   0.455256           1509"
      ]
     },
     "execution_count": 20,
     "metadata": {},
     "output_type": "execute_result"
    }
   ],
   "source": [
    "# top 10 the most frequent country\n",
    "categorical_with_per_count(df, 'country').head(n=10)"
   ]
  },
  {
   "cell_type": "markdown",
   "id": "7493d69a-7bf9-4342-82f2-3ccfdbefd358",
   "metadata": {},
   "source": [
    "### Goal（目標金額）\n",
    "- 下記のように75%とmaxの間が大きいため、小さい額に偏っている。\n",
    "- 分割数を10とした度数分布を見ると、プロジェクトで最も人気のある金額は5Kまたは10Kであることがわかる。\n",
    "- それ以外の場合、プロジェクトは1000、500で割り切れる。\n",
    "- 対数変換する"
   ]
  },
  {
   "cell_type": "code",
   "execution_count": 21,
   "id": "43812ad4-90fe-4c29-bc64-3b03d12220fd",
   "metadata": {},
   "outputs": [
    {
     "data": {
      "text/plain": [
       "count    3.314620e+05\n",
       "mean     4.152286e+04\n",
       "std      1.109279e+06\n",
       "min      1.000000e-02\n",
       "25%      2.000000e+03\n",
       "50%      5.000000e+03\n",
       "75%      1.500000e+04\n",
       "max      1.663614e+08\n",
       "Name: goal, dtype: float64"
      ]
     },
     "execution_count": 21,
     "metadata": {},
     "output_type": "execute_result"
    }
   ],
   "source": [
    "df.goal.describe()\n"
   ]
  },
  {
   "cell_type": "code",
   "execution_count": 22,
   "id": "76757846-7275-4431-a742-ddb50f9dda71",
   "metadata": {},
   "outputs": [
    {
     "data": {
      "text/html": [
       "<div>\n",
       "<style scoped>\n",
       "    .dataframe tbody tr th:only-of-type {\n",
       "        vertical-align: middle;\n",
       "    }\n",
       "\n",
       "    .dataframe tbody tr th {\n",
       "        vertical-align: top;\n",
       "    }\n",
       "\n",
       "    .dataframe thead th {\n",
       "        text-align: right;\n",
       "    }\n",
       "</style>\n",
       "<table border=\"1\" class=\"dataframe\">\n",
       "  <thead>\n",
       "    <tr style=\"text-align: right;\">\n",
       "      <th></th>\n",
       "      <th>goal_%</th>\n",
       "      <th>goal_count</th>\n",
       "    </tr>\n",
       "  </thead>\n",
       "  <tbody>\n",
       "    <tr>\n",
       "      <th>5000.0</th>\n",
       "      <td>6.464693</td>\n",
       "      <td>21428</td>\n",
       "    </tr>\n",
       "    <tr>\n",
       "      <th>10000.0</th>\n",
       "      <td>5.536381</td>\n",
       "      <td>18351</td>\n",
       "    </tr>\n",
       "    <tr>\n",
       "      <th>1000.0</th>\n",
       "      <td>3.592569</td>\n",
       "      <td>11908</td>\n",
       "    </tr>\n",
       "    <tr>\n",
       "      <th>3000.0</th>\n",
       "      <td>3.458315</td>\n",
       "      <td>11463</td>\n",
       "    </tr>\n",
       "    <tr>\n",
       "      <th>2000.0</th>\n",
       "      <td>3.258292</td>\n",
       "      <td>10800</td>\n",
       "    </tr>\n",
       "    <tr>\n",
       "      <th>15000.0</th>\n",
       "      <td>3.025385</td>\n",
       "      <td>10028</td>\n",
       "    </tr>\n",
       "    <tr>\n",
       "      <th>2500.0</th>\n",
       "      <td>2.685376</td>\n",
       "      <td>8901</td>\n",
       "    </tr>\n",
       "    <tr>\n",
       "      <th>20000.0</th>\n",
       "      <td>2.655810</td>\n",
       "      <td>8803</td>\n",
       "    </tr>\n",
       "    <tr>\n",
       "      <th>500.0</th>\n",
       "      <td>2.393940</td>\n",
       "      <td>7935</td>\n",
       "    </tr>\n",
       "    <tr>\n",
       "      <th>1500.0</th>\n",
       "      <td>2.233439</td>\n",
       "      <td>7403</td>\n",
       "    </tr>\n",
       "  </tbody>\n",
       "</table>\n",
       "</div>"
      ],
      "text/plain": [
       "           goal_%  goal_count\n",
       "5000.0   6.464693       21428\n",
       "10000.0  5.536381       18351\n",
       "1000.0   3.592569       11908\n",
       "3000.0   3.458315       11463\n",
       "2000.0   3.258292       10800\n",
       "15000.0  3.025385       10028\n",
       "2500.0   2.685376        8901\n",
       "20000.0  2.655810        8803\n",
       "500.0    2.393940        7935\n",
       "1500.0   2.233439        7403"
      ]
     },
     "execution_count": 22,
     "metadata": {},
     "output_type": "execute_result"
    }
   ],
   "source": [
    "# calculate frequency of the goal: the most popular goal\n",
    "categorical_with_per_count(df, 'goal').head(n=10)\n"
   ]
  },
  {
   "cell_type": "code",
   "execution_count": 23,
   "id": "8b7ca9b9-6854-405d-9774-067bc24b8915",
   "metadata": {},
   "outputs": [
    {
     "data": {
      "text/plain": [
       "<AxesSubplot:xlabel='goal', ylabel='Density'>"
      ]
     },
     "execution_count": 23,
     "metadata": {},
     "output_type": "execute_result"
    },
    {
     "data": {
      "image/png": "[encoded data removed]",
      "text/plain": [
       "<Figure size 1008x432 with 2 Axes>"
      ]
     },
     "metadata": {
      "needs_background": "light"
     },
     "output_type": "display_data"
    }
   ],
   "source": [
    "# combine different plots into one: goal and log(goal)\n",
    "dims = (14, 6)\n",
    "fig, (ax1, ax2) = plt.subplots(ncols=2, sharey=False, figsize=dims)\n",
    "sns.distplot(df.goal, ax=ax1)\n",
    "sns.distplot(np.log1p(df.goal), ax=ax2)"
   ]
  },
  {
   "cell_type": "markdown",
   "id": "4cd15aa1-c278-49ac-857f-6712e98e2701",
   "metadata": {},
   "source": [
    "### Launched and deadline"
   ]
  },
  {
   "cell_type": "code",
   "execution_count": 24,
   "id": "dfb17a0e-fe2b-4fb9-9d3e-6afaaab16437",
   "metadata": {},
   "outputs": [],
   "source": [
    "# convert strings to `datetime`\n",
    "df['launched'] = pd.to_datetime(df.launched)\n",
    "df['deadline'] = pd.to_datetime(df.deadline)\n",
    "df = df.sort_values('launched')"
   ]
  },
  {
   "cell_type": "markdown",
   "id": "418d2c6e-d99c-45b4-9520-6ad8afe8888f",
   "metadata": {},
   "source": [
    "### WordCloud\n",
    "省略"
   ]
  },
  {
   "cell_type": "markdown",
   "id": "53a52ee9-f74f-40a2-8235-75191b2d81e5",
   "metadata": {},
   "source": [
    "## 特徴量生成"
   ]
  },
  {
   "cell_type": "markdown",
   "id": "05d0552b-8435-4041-ae62-34ac797048a8",
   "metadata": {},
   "source": [
    "### プロジェクト名"
   ]
  },
  {
   "cell_type": "code",
   "execution_count": 25,
   "id": "85c79b69-9935-42e9-85a1-08d3d7d9182b",
   "metadata": {},
   "outputs": [],
   "source": [
    "# initialize new data frame\n",
    "kk = pd.DataFrame()"
   ]
  },
  {
   "cell_type": "code",
   "execution_count": 26,
   "id": "8b6fd792-096f-49f2-869e-6bec95e1d827",
   "metadata": {},
   "outputs": [],
   "source": [
    "# length of the name\n",
    "kk['name_len'] = df.name.str.len()"
   ]
  },
  {
   "cell_type": "code",
   "execution_count": 27,
   "id": "15817595-fee9-4c74-9f2f-5032f667a610",
   "metadata": {},
   "outputs": [],
   "source": [
    "# if name contains a question mark\n",
    "kk['name_is_question'] = (df.name.str[-1] == '?').astype(int)\n"
   ]
  },
  {
   "cell_type": "code",
   "execution_count": 28,
   "id": "cd3cfa1e-4201-4bab-9c7f-cb9f1f6f073f",
   "metadata": {},
   "outputs": [],
   "source": [
    "# if name contains an exclamation mark\n",
    "kk['name_is_exclamation'] = (df.name.str[-1] == '!').astype(int)\n"
   ]
  },
  {
   "cell_type": "code",
   "execution_count": 29,
   "id": "0432289b-ce76-4103-95fc-d07fc4a91cd8",
   "metadata": {},
   "outputs": [],
   "source": [
    "# if name is uppercase\n",
    "kk['name_is_upper'] = df.name.str.isupper().astype(float)\n"
   ]
  },
  {
   "cell_type": "code",
   "execution_count": 30,
   "id": "a248d575-ae19-48a1-a2fa-c64de93f3e7f",
   "metadata": {},
   "outputs": [],
   "source": [
    "def count_non_character(row):\n",
    "    '''Number of non character in the sentence'''\n",
    "    return sum((0 if c.isalpha() else 1 for c in str(row)))\n"
   ]
  },
  {
   "cell_type": "code",
   "execution_count": 31,
   "id": "b8b85c8f-531a-4460-bf46-3b2d865df9fe",
   "metadata": {},
   "outputs": [],
   "source": [
    "# number of non character in the name\n",
    "kk['name_non_character'] = df.name.apply(count_non_character)\n"
   ]
  },
  {
   "cell_type": "code",
   "execution_count": 32,
   "id": "c76ca316-9f45-45f3-9b52-5890bfd3c3d5",
   "metadata": {},
   "outputs": [],
   "source": [
    "# number of words in the name\n",
    "kk['name_number_of_word'] = df.name.apply(lambda x: len(str(x).split(' ')))\n"
   ]
  },
  {
   "cell_type": "code",
   "execution_count": 33,
   "id": "65e67ad2-d5f8-4a55-8a21-c4abd796b60d",
   "metadata": {},
   "outputs": [],
   "source": [
    "# We generate new feature based on ratio between vowels and other alpha characters\n",
    "def countVowelstoLettersRatio(s):\n",
    "    '''Count ratio between vowels and letters'''\n",
    "    s = str(s)\n",
    "    count = 1  \n",
    "    vowels = 0\n",
    "    for i in s:\n",
    "        if i.isalpha():\n",
    "            count = count + 1\n",
    "            if i in 'aeiou':\n",
    "                vowels = vowels + 1\n",
    "    return ((vowels * 1.0) / count)"
   ]
  },
  {
   "cell_type": "code",
   "execution_count": 34,
   "id": "b7e6ef13-5b70-4ed6-bab8-906d77c46e0f",
   "metadata": {},
   "outputs": [],
   "source": [
    "# for each name calculate vowels ratio\n",
    "kk['name_vowel_ratio'] = df.name.apply(countVowelstoLettersRatio)\n"
   ]
  },
  {
   "cell_type": "markdown",
   "id": "ab67afae-76e9-44c4-b9be-3329da6c8eac",
   "metadata": {},
   "source": [
    "### country\n"
   ]
  },
  {
   "cell_type": "code",
   "execution_count": 35,
   "id": "4720f594-166e-4f36-8e01-6b4910816f06",
   "metadata": {},
   "outputs": [],
   "source": [
    "# create indicator variable for `country` variable\n",
    "kk['country_is_us'] = (df.country == 'US').astype(int)\n"
   ]
  },
  {
   "cell_type": "markdown",
   "id": "b3ac0219-aca8-43c8-b640-94d20db028e1",
   "metadata": {},
   "source": [
    "### Goal\n"
   ]
  },
  {
   "cell_type": "code",
   "execution_count": 36,
   "id": "b827d585-67df-4feb-8939-fd2efd483ce2",
   "metadata": {},
   "outputs": [],
   "source": [
    "kk['Goal_1000'] = df.goal.apply(lambda x: x // 1000)\n",
    "kk['Goal_500'] = df.goal.apply(lambda x: x // 500)\n",
    "kk['Goal_10'] = df.goal.apply(lambda x: x // 10)\n"
   ]
  },
  {
   "cell_type": "code",
   "execution_count": 37,
   "id": "78dcdff9-bddd-4af5-9cd6-b8c82c5808ba",
   "metadata": {},
   "outputs": [],
   "source": [
    "# log transformation of `goal` to reduce skewness \n",
    "# df['goal'] = np.log1p(df.goal)\n",
    "kk['goal'] = np.log1p(df.goal)\n"
   ]
  },
  {
   "cell_type": "markdown",
   "id": "c558c943-b41b-4272-b563-b0282592e66d",
   "metadata": {},
   "source": [
    "### 過去のプロジェクト数\n"
   ]
  },
  {
   "cell_type": "code",
   "execution_count": 38,
   "id": "390878b1-0ead-4f5a-95c2-2aea5d097210",
   "metadata": {},
   "outputs": [],
   "source": [
    "from datetime import datetime\n",
    "import time\n",
    "\n",
    "def get_timestamp(dt):\n",
    "    '''Add timestamp as a value'''\n",
    "    return time.mktime(dt.timetuple())\n"
   ]
  },
  {
   "cell_type": "code",
   "execution_count": 40,
   "id": "41221d79-778e-4af7-838d-3befd9620020",
   "metadata": {},
   "outputs": [],
   "source": [
    "df['timestamp'] = df['launched'].apply(get_timestamp)    \n"
   ]
  },
  {
   "cell_type": "code",
   "execution_count": 41,
   "id": "b51a8f45-36d1-4513-ab36-d5a8e0ffaed4",
   "metadata": {},
   "outputs": [],
   "source": [
    "# We will create data frames containing only single main category\n",
    "categories = set(df.main_category)\n",
    "frames = {}\n",
    "for ct in categories:\n",
    "    frames[ct] = df[df['main_category'] == ct]\n"
   ]
  },
  {
   "cell_type": "code",
   "execution_count": 42,
   "id": "4a40e091-6c76-4ee9-97ee-1c4d071021f3",
   "metadata": {},
   "outputs": [],
   "source": [
    "# !pip install pyprind"
   ]
  },
  {
   "cell_type": "code",
   "execution_count": 43,
   "id": "8917ffe1-9fd6-4d06-9b7f-91dc66a94253",
   "metadata": {},
   "outputs": [],
   "source": [
    "# We will use Progressbar to track progress as it istime consuming operation\n",
    "import pyprind\n",
    "\n",
    "def getElementsInRange(cat,end,week):\n",
    "    '''Get number of launched projects in given range from (end - week) to end'''\n",
    "    global pbar\n",
    "    pob = frames[cat]\n",
    "    start = end - pd.DateOffset(weeks = week)\n",
    "    # as we sorted our projects by launch date earlier geting number of projects in given date range is easy\n",
    "    # value = pob['launched'].searchsorted(end)[0] - pob['launched'].searchsorted(start)[0]\n",
    "    value = pob['launched'].searchsorted(end) - pob['launched'].searchsorted(start)\n",
    "    pbar.update()\n",
    "    return value"
   ]
  },
  {
   "cell_type": "code",
   "execution_count": 44,
   "id": "8f0399d7-5a24-4ff3-84c8-d2ace54e1669",
   "metadata": {},
   "outputs": [
    {
     "name": "stdout",
     "output_type": "stream",
     "text": [
      "Warning: No valid output stream.\n"
     ]
    }
   ],
   "source": [
    "pbar = pyprind.ProgBar(331675)\n",
    "# Number of projects in same category for last week    \n",
    "kk['Last_Week'] = df.apply(lambda x: getElementsInRange(x['main_category'],x['launched'],1),axis = 1) "
   ]
  },
  {
   "cell_type": "code",
   "execution_count": 45,
   "id": "8db5711f-615f-40b9-a842-cfd7ad3e286e",
   "metadata": {},
   "outputs": [
    {
     "name": "stdout",
     "output_type": "stream",
     "text": [
      "Warning: No valid output stream.\n"
     ]
    }
   ],
   "source": [
    "pbar = pyprind.ProgBar(331675)\n",
    "# Number of projects in same category for last month    \n",
    "kk['Last_Month'] = df.apply(lambda x: getElementsInRange(x['main_category'],x['launched'],4),axis = 1) \n"
   ]
  },
  {
   "cell_type": "code",
   "execution_count": 46,
   "id": "d0622727-9100-47dd-8efe-8d11d298fd37",
   "metadata": {},
   "outputs": [
    {
     "data": {
      "text/plain": [
       "169268    0\n",
       "322000    0\n",
       "138572    0\n",
       "325391    0\n",
       "122662    1\n",
       "         ..\n",
       "329616    1\n",
       "43850     2\n",
       "80946     0\n",
       "111813    3\n",
       "339929    0\n",
       "Name: Last_Week, Length: 331462, dtype: int64"
      ]
     },
     "execution_count": 46,
     "metadata": {},
     "output_type": "execute_result"
    }
   ],
   "source": [
    "kk['Last_Week']"
   ]
  },
  {
   "cell_type": "code",
   "execution_count": null,
   "id": "db415ee4-c90f-41b6-8744-71d0cb9562dc",
   "metadata": {},
   "outputs": [],
   "source": []
  },
  {
   "cell_type": "code",
   "execution_count": 48,
   "id": "84f88d3e-e8d0-4fda-8799-9eb1a06ddd81",
   "metadata": {},
   "outputs": [
    {
     "name": "stdout",
     "output_type": "stream",
     "text": [
      "Warning: No valid output stream.\n"
     ]
    }
   ],
   "source": [
    "pbar = pyprind.ProgBar(331675)\n",
    "# Number of projects in same category for last 6 months  \n",
    "kk['Last_6_Month'] = df.apply(lambda x: getElementsInRange(x['main_category'],x['launched'],26),axis = 1)\n"
   ]
  },
  {
   "cell_type": "code",
   "execution_count": 50,
   "id": "e30cbfcf-6c37-4f92-8829-bd6b2ad42220",
   "metadata": {},
   "outputs": [
    {
     "name": "stdout",
     "output_type": "stream",
     "text": [
      "Warning: No valid output stream.\n"
     ]
    }
   ],
   "source": [
    "pbar = pyprind.ProgBar(331675)\n",
    "# Number of projects in same category for last 3 months  \n",
    "kk['Last_3_Month'] = df.apply(lambda x: getElementsInRange(x['main_category'],x['launched'],13),axis = 1)\n"
   ]
  },
  {
   "cell_type": "code",
   "execution_count": 51,
   "id": "fec44192-36cd-4571-87b6-ca2a3c4b553b",
   "metadata": {},
   "outputs": [
    {
     "name": "stdout",
     "output_type": "stream",
     "text": [
      "Warning: No valid output stream.\n"
     ]
    }
   ],
   "source": [
    "pbar = pyprind.ProgBar(331675)\n",
    "# Number of projects in same category for last year    \n",
    "kk['Last_Year'] = df.apply(lambda x: getElementsInRange(x['main_category'],x['launched'],52),axis = 1) \n"
   ]
  },
  {
   "cell_type": "code",
   "execution_count": 52,
   "id": "b7c2319b-7a95-4494-b64e-d2bda7d69ce6",
   "metadata": {},
   "outputs": [
    {
     "data": {
      "text/html": [
       "<div>\n",
       "<style scoped>\n",
       "    .dataframe tbody tr th:only-of-type {\n",
       "        vertical-align: middle;\n",
       "    }\n",
       "\n",
       "    .dataframe tbody tr th {\n",
       "        vertical-align: top;\n",
       "    }\n",
       "\n",
       "    .dataframe thead th {\n",
       "        text-align: right;\n",
       "    }\n",
       "</style>\n",
       "<table border=\"1\" class=\"dataframe\">\n",
       "  <thead>\n",
       "    <tr style=\"text-align: right;\">\n",
       "      <th></th>\n",
       "      <th>name_len</th>\n",
       "      <th>name_is_question</th>\n",
       "      <th>name_is_exclamation</th>\n",
       "      <th>name_is_upper</th>\n",
       "      <th>name_non_character</th>\n",
       "      <th>name_number_of_word</th>\n",
       "      <th>name_vowel_ratio</th>\n",
       "      <th>country_is_us</th>\n",
       "      <th>Goal_1000</th>\n",
       "      <th>Goal_500</th>\n",
       "      <th>Goal_10</th>\n",
       "      <th>goal</th>\n",
       "      <th>Last_Week</th>\n",
       "      <th>Last_Month</th>\n",
       "      <th>Last_6_Month</th>\n",
       "      <th>Last_3_Month</th>\n",
       "      <th>Last_Year</th>\n",
       "    </tr>\n",
       "  </thead>\n",
       "  <tbody>\n",
       "    <tr>\n",
       "      <th>169268</th>\n",
       "      <td>59</td>\n",
       "      <td>0</td>\n",
       "      <td>0</td>\n",
       "      <td>0.0</td>\n",
       "      <td>16</td>\n",
       "      <td>11</td>\n",
       "      <td>0.363636</td>\n",
       "      <td>1</td>\n",
       "      <td>1.0</td>\n",
       "      <td>2.0</td>\n",
       "      <td>100.0</td>\n",
       "      <td>6.908755</td>\n",
       "      <td>0</td>\n",
       "      <td>0</td>\n",
       "      <td>0</td>\n",
       "      <td>0</td>\n",
       "      <td>0</td>\n",
       "    </tr>\n",
       "    <tr>\n",
       "      <th>322000</th>\n",
       "      <td>30</td>\n",
       "      <td>0</td>\n",
       "      <td>0</td>\n",
       "      <td>1.0</td>\n",
       "      <td>3</td>\n",
       "      <td>4</td>\n",
       "      <td>0.000000</td>\n",
       "      <td>1</td>\n",
       "      <td>80.0</td>\n",
       "      <td>160.0</td>\n",
       "      <td>8000.0</td>\n",
       "      <td>11.289794</td>\n",
       "      <td>0</td>\n",
       "      <td>0</td>\n",
       "      <td>0</td>\n",
       "      <td>0</td>\n",
       "      <td>0</td>\n",
       "    </tr>\n",
       "    <tr>\n",
       "      <th>138572</th>\n",
       "      <td>19</td>\n",
       "      <td>0</td>\n",
       "      <td>0</td>\n",
       "      <td>0.0</td>\n",
       "      <td>2</td>\n",
       "      <td>3</td>\n",
       "      <td>0.277778</td>\n",
       "      <td>1</td>\n",
       "      <td>0.0</td>\n",
       "      <td>0.0</td>\n",
       "      <td>2.0</td>\n",
       "      <td>3.044522</td>\n",
       "      <td>0</td>\n",
       "      <td>0</td>\n",
       "      <td>0</td>\n",
       "      <td>0</td>\n",
       "      <td>0</td>\n",
       "    </tr>\n",
       "    <tr>\n",
       "      <th>325391</th>\n",
       "      <td>28</td>\n",
       "      <td>0</td>\n",
       "      <td>0</td>\n",
       "      <td>0.0</td>\n",
       "      <td>3</td>\n",
       "      <td>4</td>\n",
       "      <td>0.423077</td>\n",
       "      <td>1</td>\n",
       "      <td>0.0</td>\n",
       "      <td>0.0</td>\n",
       "      <td>9.0</td>\n",
       "      <td>4.605170</td>\n",
       "      <td>0</td>\n",
       "      <td>0</td>\n",
       "      <td>0</td>\n",
       "      <td>0</td>\n",
       "      <td>0</td>\n",
       "    </tr>\n",
       "    <tr>\n",
       "      <th>122662</th>\n",
       "      <td>10</td>\n",
       "      <td>0</td>\n",
       "      <td>0</td>\n",
       "      <td>0.0</td>\n",
       "      <td>0</td>\n",
       "      <td>1</td>\n",
       "      <td>0.181818</td>\n",
       "      <td>1</td>\n",
       "      <td>1.0</td>\n",
       "      <td>3.0</td>\n",
       "      <td>190.0</td>\n",
       "      <td>7.550135</td>\n",
       "      <td>1</td>\n",
       "      <td>1</td>\n",
       "      <td>1</td>\n",
       "      <td>1</td>\n",
       "      <td>1</td>\n",
       "    </tr>\n",
       "  </tbody>\n",
       "</table>\n",
       "</div>"
      ],
      "text/plain": [
       "        name_len  name_is_question  name_is_exclamation  name_is_upper  \\\n",
       "169268        59                 0                    0            0.0   \n",
       "322000        30                 0                    0            1.0   \n",
       "138572        19                 0                    0            0.0   \n",
       "325391        28                 0                    0            0.0   \n",
       "122662        10                 0                    0            0.0   \n",
       "\n",
       "        name_non_character  name_number_of_word  name_vowel_ratio  \\\n",
       "169268                  16                   11          0.363636   \n",
       "322000                   3                    4          0.000000   \n",
       "138572                   2                    3          0.277778   \n",
       "325391                   3                    4          0.423077   \n",
       "122662                   0                    1          0.181818   \n",
       "\n",
       "        country_is_us  Goal_1000  Goal_500  Goal_10       goal  Last_Week  \\\n",
       "169268              1        1.0       2.0    100.0   6.908755          0   \n",
       "322000              1       80.0     160.0   8000.0  11.289794          0   \n",
       "138572              1        0.0       0.0      2.0   3.044522          0   \n",
       "325391              1        0.0       0.0      9.0   4.605170          0   \n",
       "122662              1        1.0       3.0    190.0   7.550135          1   \n",
       "\n",
       "        Last_Month  Last_6_Month  Last_3_Month  Last_Year  \n",
       "169268           0             0             0          0  \n",
       "322000           0             0             0          0  \n",
       "138572           0             0             0          0  \n",
       "325391           0             0             0          0  \n",
       "122662           1             1             1          1  "
      ]
     },
     "execution_count": 52,
     "metadata": {},
     "output_type": "execute_result"
    }
   ],
   "source": [
    "kk.head()"
   ]
  },
  {
   "cell_type": "code",
   "execution_count": 53,
   "id": "d34baa96-ffbc-4458-ac5f-6c38aa63208f",
   "metadata": {},
   "outputs": [],
   "source": [
    "def getDelta(a,b):\n",
    "    '''Get diffence in days between launch and deadline'''\n",
    "    return (a - b).days\n"
   ]
  },
  {
   "cell_type": "code",
   "execution_count": 54,
   "id": "c1422feb-5669-443a-8031-b52047a37b97",
   "metadata": {},
   "outputs": [],
   "source": [
    "# Duration of the project   \n",
    "kk['Duration'] = df.apply(lambda x: getDelta(x['deadline'],x['launched']),axis = 1)\n"
   ]
  },
  {
   "cell_type": "code",
   "execution_count": 55,
   "id": "36fcefed-afaa-4236-b86e-82bec051c3ee",
   "metadata": {},
   "outputs": [],
   "source": [
    "## Month of launch\n",
    "kk['Month'] = df['launched'].apply(lambda x : x.month)\n"
   ]
  },
  {
   "cell_type": "code",
   "execution_count": 56,
   "id": "cd9baa1c-0fc4-428c-ada6-6aa6da4cd1fd",
   "metadata": {},
   "outputs": [],
   "source": [
    "## Month of deadline\n",
    "kk['deadline_month'] = df['deadline'].apply(lambda x : x.month)\n"
   ]
  },
  {
   "cell_type": "code",
   "execution_count": 57,
   "id": "f708fe6b-927c-4dbb-a4a0-2c557470e8de",
   "metadata": {},
   "outputs": [],
   "source": [
    "# indicator feature for weekend（launched dayが平日か否か）\n",
    "kk['isLaunchWeekend'] = df['launched'].apply(lambda x : int(x.weekday() > 5))\n"
   ]
  },
  {
   "cell_type": "code",
   "execution_count": 58,
   "id": "6e91f48b-7b76-40fb-a6b8-78838a175d04",
   "metadata": {},
   "outputs": [],
   "source": [
    "kk['Category'] = df['category']\n",
    "kk['main_category'] = df['main_category']\n"
   ]
  },
  {
   "cell_type": "markdown",
   "id": "ce02268e-958a-44b0-995f-4b9e6f5d7eef",
   "metadata": {},
   "source": [
    "### Mean and median values of goals in date ranges"
   ]
  },
  {
   "cell_type": "code",
   "execution_count": 63,
   "id": "73ab0c2e-80ce-4afb-b7a2-d0fc33333bf6",
   "metadata": {},
   "outputs": [],
   "source": [
    "def getRangeMean(cat,end,week):\n",
    "    global pbar\n",
    "    pob = frames[cat]\n",
    "    start = end - pd.DateOffset(weeks = week)\n",
    "    # value = pob.iloc[pob['launced'].searchsorted(start)[0]:pob['launced'].searchsorted(end)[0]]['goal'].mean()\n",
    "    value = pob.iloc[pob['launched'].searchsorted(start):pob['launched'].searchsorted(end)]['goal'].mean()\n",
    "    pbar.update()\n",
    "    return value\n"
   ]
  },
  {
   "cell_type": "code",
   "execution_count": 64,
   "id": "ac2c79e9-a8bb-466c-a064-ba77d940dfe4",
   "metadata": {},
   "outputs": [
    {
     "name": "stdout",
     "output_type": "stream",
     "text": [
      "Warning: No valid output stream.\n"
     ]
    }
   ],
   "source": [
    "pbar = pyprind.ProgBar(331675)\n",
    "# Mean goal for category last month\n",
    "kk['mean_goal_in_category_last_month'] = df.apply(lambda x: getRangeMean(x['main_category'],x['launched'],4),axis = 1) "
   ]
  },
  {
   "cell_type": "code",
   "execution_count": 65,
   "id": "40f34136-095f-4197-b7c7-ed3d53e019d9",
   "metadata": {},
   "outputs": [],
   "source": [
    "def getRangeMedian(cat,end,week):\n",
    "    global pbar\n",
    "    pob = frames[cat]\n",
    "    start = end - pd.DateOffset(weeks = week)\n",
    "    # value = pob.iloc[pob['launced'].searchsorted(start)[0]:pob['launced'].searchsorted(end)[0]]['goal'].median()\n",
    "    value = pob.iloc[pob['launched'].searchsorted(start):pob['launched'].searchsorted(end)]['goal'].median()\n",
    "    pbar.update()\n",
    "    return value\n"
   ]
  },
  {
   "cell_type": "code",
   "execution_count": 66,
   "id": "e8d1d309-16c2-4d69-9878-7016264a6df2",
   "metadata": {},
   "outputs": [
    {
     "name": "stdout",
     "output_type": "stream",
     "text": [
      "Warning: No valid output stream.\n"
     ]
    }
   ],
   "source": [
    "pbar = pyprind.ProgBar(331675)\n",
    "# Median goal for category last month\n",
    "kk['median_goal_in_category_last_month'] = df.apply(lambda x: getRangeMedian(x['main_category'],x['launched'],4),axis = 1) \n"
   ]
  },
  {
   "cell_type": "code",
   "execution_count": 67,
   "id": "bd7edb93-31e0-4e68-99c7-c430c1cdad05",
   "metadata": {},
   "outputs": [
    {
     "name": "stdout",
     "output_type": "stream",
     "text": [
      "Warning: No valid output stream.\n"
     ]
    }
   ],
   "source": [
    "pbar = pyprind.ProgBar(331675)\n",
    "# Mean goal for category last month\n",
    "kk['mean_goal_in_category_last_year'] = df.apply(lambda x: getRangeMean(x['main_category'],x['launched'],52),axis = 1) \n"
   ]
  },
  {
   "cell_type": "code",
   "execution_count": 68,
   "id": "a16652c8-0350-4903-bae3-9e3187f1559b",
   "metadata": {},
   "outputs": [],
   "source": [
    "kk['median_goal_Last_6_Month'] = df.apply(lambda x: getRangeMedian(x['main_category'],x['launched'],26),axis = 1)"
   ]
  },
  {
   "cell_type": "code",
   "execution_count": 69,
   "id": "718c84dc-5094-4d22-8eaa-6ad79bd81308",
   "metadata": {},
   "outputs": [],
   "source": [
    "kk['mean_goal_Last_6_Month'] = df.apply(lambda x: getRangeMean(x['main_category'],x['launched'],26),axis = 1)\n"
   ]
  },
  {
   "cell_type": "code",
   "execution_count": null,
   "id": "537e6e11-679a-44c1-a340-041493277d63",
   "metadata": {},
   "outputs": [],
   "source": [
    "kk['mean_goal_Last_Week'] = df.apply(lambda x: getRangeMean(x['main_category'],x['launched'],1),axis = 1)\n"
   ]
  },
  {
   "cell_type": "code",
   "execution_count": null,
   "id": "fafb9d9c-4006-465d-a412-927bc34f1821",
   "metadata": {},
   "outputs": [],
   "source": [
    "kk['median_goal_Last_Week'] = df.apply(lambda x: getRangeMedian(x['main_category'],x['launched'],1),axis = 1)\n"
   ]
  },
  {
   "cell_type": "code",
   "execution_count": null,
   "id": "6b60f196-6d63-4f5c-b6df-e043ab1c6e81",
   "metadata": {},
   "outputs": [],
   "source": [
    "kk = kk.fillna(0)   # fill created NAs with 0s"
   ]
  },
  {
   "cell_type": "code",
   "execution_count": null,
   "id": "56a752ba-130f-46bb-9663-733ba8a829b5",
   "metadata": {},
   "outputs": [],
   "source": [
    "# include state of project\n",
    "kk['state'] = df.state\n"
   ]
  },
  {
   "cell_type": "markdown",
   "id": "2f89c7ff-990c-420e-86e1-b4c4e9c2685f",
   "metadata": {},
   "source": [
    "## Visualization\n",
    "略\n",
    "- Durationが長いほどfailed率が高くなる\n",
    "- カテゴリ”Chiptune”は80%以上の成功率を誇る\n",
    "- Apps/Web/Mobile Gamesは成功率が最も低い\n",
    "- name_vowel_ratio（プロジェクト名に占める母音率）が大きいほどfailedが多くなる"
   ]
  },
  {
   "cell_type": "code",
   "execution_count": null,
   "id": "ea6ee135-f0e1-4b9d-9bc9-fed7e279d83c",
   "metadata": {},
   "outputs": [],
   "source": []
  },
  {
   "cell_type": "markdown",
   "id": "f75fd7d8-2d4d-4b19-a252-9e62492766c0",
   "metadata": {},
   "source": [
    "## Partition dataset into train / test sets"
   ]
  },
  {
   "cell_type": "code",
   "execution_count": null,
   "id": "87f414bb-29c4-405c-90ee-af81dc71cdf8",
   "metadata": {},
   "outputs": [],
   "source": [
    "# seperate dependent and independent part into seperate variables\n",
    "y = (kk.state == 'successful').astype(int)\n",
    "x = kk.drop(['state'], axis = 1)"
   ]
  },
  {
   "cell_type": "code",
   "execution_count": null,
   "id": "951890ca-1d12-4b05-8e70-705ca14ab1ee",
   "metadata": {},
   "outputs": [],
   "source": [
    "# y.head()"
   ]
  },
  {
   "cell_type": "code",
   "execution_count": null,
   "id": "9befb1d0-942d-482c-916d-822897dccb09",
   "metadata": {},
   "outputs": [],
   "source": [
    "from sklearn.preprocessing import LabelEncoder\n",
    "# transform target variable into categorical value\n",
    "class_le = LabelEncoder()\n",
    "y = class_le.fit_transform(y.values)"
   ]
  },
  {
   "cell_type": "code",
   "execution_count": null,
   "id": "407a70cc-9adb-4267-b467-935157b66f20",
   "metadata": {},
   "outputs": [],
   "source": [
    "y"
   ]
  },
  {
   "cell_type": "markdown",
   "id": "51f0e01e-9aec-4b46-b581-458c623b83a8",
   "metadata": {},
   "source": [
    "### Principal Component Analysis - PCA\n",
    "- main category（１５種）とcategory（１５９種）をOne-Hotエンコーディングすると174個の変数ができてしまう\n",
    "- PCAを行い、ディメンションを下げる"
   ]
  },
  {
   "cell_type": "code",
   "execution_count": null,
   "id": "6d2a9f3b-6a03-4434-85f2-9ed216ed9cf2",
   "metadata": {},
   "outputs": [],
   "source": [
    "# create dummy variable for main category and category variables\n",
    "x_pca = pd.get_dummies(x, columns = ['Category','main_category'], drop_first=True)\n"
   ]
  },
  {
   "cell_type": "code",
   "execution_count": null,
   "id": "72f91654-f3e4-4ecb-bc92-f30604a0aad9",
   "metadata": {},
   "outputs": [],
   "source": [
    "# x_pca.isnull().sum().to_list()"
   ]
  },
  {
   "cell_type": "code",
   "execution_count": null,
   "id": "02831330-c65f-4f66-97bf-38b935ecc4d3",
   "metadata": {},
   "outputs": [],
   "source": [
    "x_pca.info()"
   ]
  },
  {
   "cell_type": "code",
   "execution_count": null,
   "id": "b754776b-7833-41b8-aec9-43c1e266865f",
   "metadata": {},
   "outputs": [],
   "source": [
    "from sklearn.decomposition import PCA\n",
    "# explained variance ratio with cumulative sum\n",
    "pca = PCA(n_components=10, random_state=1)\n",
    "X_pca = pca.fit_transform(x_pca.values)"
   ]
  },
  {
   "cell_type": "code",
   "execution_count": null,
   "id": "e6586201-d099-46ae-9e99-88dcdade3ac4",
   "metadata": {},
   "outputs": [],
   "source": [
    "# plot cumulative variance\n",
    "plt.figure(figsize=(10, 6))\n",
    "plt.bar(range(1, 11), pca.explained_variance_ratio_, alpha=0.5, align='center')\n",
    "plt.title('Explained variance ratio by Principal components-PCA', fontsize=16)\n",
    "plt.step(range(1, 11), np.cumsum(pca.explained_variance_ratio_), where='mid')\n",
    "plt.ylabel('Explained variance ratio')\n",
    "plt.xlabel('Principal components')\n",
    "\n",
    "plt.axvline(2, linestyle=':', label='n_components chosen', c='red')\n",
    "plt.legend(prop=dict(size=12))\n",
    "\n",
    "plt.show()\n"
   ]
  },
  {
   "cell_type": "markdown",
   "id": "b474dd6e-46de-4ff8-8d5d-5371dc8df26c",
   "metadata": {},
   "source": [
    "上記のグラフの説明は下記の通り。\n",
    "- ヒストグラム：各コンポーネントの分散説明率\n",
    "- 青線：分散説明率の蓄積\n",
    "- 赤線：コンポーネントの最適な数\n",
    "\n",
    "グラフの結果は、４個の主成分でデータが説明できるということを示している。\n",
    "\n",
    "※分散説明率：主に単回帰分析／重回帰分析といった線形回帰（Linear Regression）*1における回帰式のモデルなどが、「観測データ（正解データ、従属変数、目的変数）*2の分散（＝データの広がり具合）のうちどれくらいを説明するか」という割合（通常は0～1.0＝100％、マイナスになることもある）\n",
    "https://atmarkit.itmedia.co.jp/ait/articles/2110/21/news019.html"
   ]
  },
  {
   "cell_type": "markdown",
   "id": "b9ec811d-89a1-431f-b0fe-90af745f2f6c",
   "metadata": {},
   "source": [
    "## クラスの変動性の可視化\n",
    "最初の２個のコンポーネントによるプロジェクトの成功・失敗を示す。\n",
    "X軸は第一成分、Y軸は第二成分。\n",
    "それぞれのクラスに大きな分散があることがわかる。"
   ]
  },
  {
   "cell_type": "code",
   "execution_count": null,
   "id": "a90fc39a-002e-41de-8549-ad06273940b7",
   "metadata": {},
   "outputs": [],
   "source": [
    "plt.figure(figsize=(10, 6))\n",
    "plt.scatter(X_pca[y == 0, 0], X_pca[y == 0, 1], label='0 - successful')\n",
    "plt.scatter(X_pca[y == 1, 0], X_pca[y == 1, 1], label='1 - failed')\n",
    "\n",
    "plt.title('Variation of the classes based on first two components', fontsize=16)\n",
    "plt.xlabel('PCA Component 1')\n",
    "plt.ylabel('PCA Component 2')\n",
    "plt.legend(loc='best', prop=dict(size=12))\n",
    "\n",
    "plt.show()\n"
   ]
  },
  {
   "cell_type": "markdown",
   "id": "d4fc6824-063c-4904-9a58-29aa14846388",
   "metadata": {},
   "source": [
    "## モデリングとハイパーパラメータ最適化"
   ]
  },
  {
   "cell_type": "code",
   "execution_count": null,
   "id": "f0b8f78c-a531-41c6-9598-fd092f12e418",
   "metadata": {},
   "outputs": [],
   "source": [
    "# perform One-hot-encoding\n",
    "x = pd.get_dummies(x, columns = ['main_category','Category'], drop_first=True)\n"
   ]
  },
  {
   "cell_type": "code",
   "execution_count": null,
   "id": "b1c39ae4-99d7-4eff-ad54-f377ddcc0cde",
   "metadata": {},
   "outputs": [],
   "source": [
    "from sklearn.model_selection import StratifiedShuffleSplit\n",
    "# initialize balanced class indeces\n",
    "sss = StratifiedShuffleSplit(n_splits=1, test_size=0.2, random_state=1)\n",
    "\n",
    "# initialize values into different variables\n",
    "for train_index, test_index in sss.split(x, y):\n",
    "    X_train, X_test = x.iloc[train_index, :].reset_index(drop=True), x.iloc[test_index, :].reset_index(drop=True)\n",
    "    y_train, y_test = y[train_index], y[test_index]\n"
   ]
  },
  {
   "cell_type": "code",
   "execution_count": null,
   "id": "4b747470-b403-4e2e-abf4-42cb4983ce41",
   "metadata": {},
   "outputs": [],
   "source": [
    "print('Train dataset class distribution:')\n",
    "print(np.bincount(y_train))\n",
    "\n",
    "print('\\nTest dataset class distribution:')\n",
    "print(np.bincount(y_test))\n"
   ]
  },
  {
   "cell_type": "markdown",
   "id": "e1733ae4-1d90-4d9f-9f6a-99a4feb8937b",
   "metadata": {},
   "source": [
    "### KNNの場合の最適化"
   ]
  },
  {
   "cell_type": "code",
   "execution_count": null,
   "id": "bfa8e864-184a-47bc-897f-7e84fba0220b",
   "metadata": {},
   "outputs": [],
   "source": [
    "from sklearn.pipeline import Pipeline\n",
    "from sklearn.preprocessing import StandardScaler\n",
    "from sklearn.neighbors import KNeighborsClassifier\n",
    "pipe_knn = Pipeline(steps=[\n",
    "    ('scl', StandardScaler()), # scale the matrix\n",
    "    ('pca', PCA(n_components=2, random_state=1)), # reduce the dimensionality\n",
    "    ('knn', KNeighborsClassifier(n_neighbors=4, p=2, metric='minkowski', n_jobs=-1)) # perform KNN\n",
    "])\n"
   ]
  },
  {
   "cell_type": "code",
   "execution_count": null,
   "id": "36ea211b-a338-4b46-8a45-831ec340d502",
   "metadata": {},
   "outputs": [],
   "source": [
    "param_grid = [\n",
    "    {\n",
    "        'pca__n_components': [3, 5, 7],\n",
    "        'knn__n_neighbors': [3, 4, 5]\n",
    "    }\n",
    "]\n"
   ]
  },
  {
   "cell_type": "code",
   "execution_count": null,
   "id": "af4796c5-fe4c-4e5b-87b0-d160f2ce69c9",
   "metadata": {},
   "outputs": [],
   "source": [
    "from sklearn.model_selection import GridSearchCV\n",
    "estimator = GridSearchCV(\n",
    "        pipe_knn,\n",
    "        cv=StratifiedShuffleSplit(n_splits=3, test_size=0.3, random_state=1), # preserve class balance\n",
    "        param_grid=param_grid,\n",
    "        scoring='roc_auc',\n",
    "        n_jobs=-1\n",
    "    )\n"
   ]
  },
  {
   "cell_type": "markdown",
   "id": "511cbfe6-33e8-47cc-911b-e19bf4f73152",
   "metadata": {},
   "source": [
    "### Random Forest"
   ]
  },
  {
   "cell_type": "code",
   "execution_count": null,
   "id": "33120d9a-afdb-4a6f-8be2-7f40217acbdc",
   "metadata": {},
   "outputs": [],
   "source": [
    "from sklearn.ensemble import RandomForestClassifier\n",
    "# initialize list of the transformations\n",
    "pipe_rf = Pipeline(steps=[\n",
    "    ('std', StandardScaler()),\n",
    "    ('rf', RandomForestClassifier(n_estimators=100, max_depth=4, min_samples_leaf=3))\n",
    "])\n",
    "\n",
    "# list of the parameters to test\n",
    "param_grid = [\n",
    "    {\n",
    "        'rf__max_depth': [3, 4, 5],\n",
    "        'rf__min_samples_leaf': [4, 5]\n",
    "    }\n",
    "]\n",
    "\n",
    "# initialize grid search\n",
    "estimator = GridSearchCV(\n",
    "    pipe_rf,\n",
    "    cv=StratifiedShuffleSplit(n_splits=3, test_size=0.3, random_state=1), # preserve class balance\n",
    "    param_grid=param_grid,\n",
    "    scoring='roc_auc'\n",
    ")\n",
    "\n",
    "# fit train data\n",
    "estimator.fit(X_train, y_train)\n"
   ]
  },
  {
   "cell_type": "code",
   "execution_count": null,
   "id": "2263794d-a0f2-41f4-aba3-09129d9d9425",
   "metadata": {},
   "outputs": [],
   "source": [
    "print('Best Grid Search result :', estimator.best_score_)\n",
    "print('Best parameter :', estimator.best_params_)"
   ]
  },
  {
   "cell_type": "code",
   "execution_count": null,
   "id": "0d215c1b-7bfc-4cad-ac5c-fcb957bfcb45",
   "metadata": {},
   "outputs": [],
   "source": [
    "# get best classifier\n",
    "clf_rf = estimator.best_estimator_\n",
    "\n",
    "# predict test data set\n",
    "y_pred_rf = estimator.predict(X_test)"
   ]
  },
  {
   "cell_type": "code",
   "execution_count": null,
   "id": "456a2c16-f39a-40d5-a1a3-6c5cdfa5f8f0",
   "metadata": {},
   "outputs": [],
   "source": [
    "from sklearn.metrics import roc_auc_score\n",
    "from sklearn.metrics import confusion_matrix\n",
    "from sklearn.metrics import classification_report\n",
    "# test data set auc error\n",
    "print('Train data ROC/AUC :', )\n",
    "print('Test data ROC/AUC :', roc_auc_score(y_true=y_test, y_score=y_pred_rf))\n",
    "\n",
    "# confusion matrix\n",
    "print('\\nConfusion matrix')\n",
    "print(confusion_matrix(y_true=y_test, y_pred=y_pred_rf))\n",
    "\n",
    "# classification matrix\n",
    "print('\\nClassification matrix')\n",
    "print(classification_report(y_true=y_test, y_pred=y_pred_rf))\n"
   ]
  },
  {
   "cell_type": "markdown",
   "id": "51f476e5-66d5-4aaf-9021-cb38da970c3d",
   "metadata": {},
   "source": [
    "### ロジスティック回帰"
   ]
  },
  {
   "cell_type": "code",
   "execution_count": null,
   "id": "5d714b98-2464-4a21-ab6b-b42d34ebdfba",
   "metadata": {},
   "outputs": [],
   "source": [
    "from sklearn.linear_model import LogisticRegression\n",
    "# initialize list of the transformations\n",
    "pipe_lr = Pipeline(steps=[\n",
    "    ('std', StandardScaler()),\n",
    "    ('lr', LogisticRegression(penalty='l1', C=0.001, random_state=0))\n",
    "])\n",
    "\n",
    "param_grid = [\n",
    "    {\n",
    "        'lr__C': [0.001, 0.01, 0.1, 1],\n",
    "        'lr__penalty': ['l1', 'l2']  # regularizatian parameter\n",
    "    }\n",
    "]\n",
    "\n",
    "estimator = GridSearchCV(\n",
    "    pipe_lr,\n",
    "    cv=StratifiedShuffleSplit(n_splits=3, test_size=0.3, random_state=1), # preserve class balance\n",
    "    param_grid=param_grid,\n",
    "    scoring='roc_auc',\n",
    ")\n",
    "\n",
    "# fit training data\n",
    "estimator.fit(X_train, y_train)"
   ]
  },
  {
   "cell_type": "code",
   "execution_count": null,
   "id": "c73d1a9b-92d9-428b-a044-ac8f986c0e15",
   "metadata": {},
   "outputs": [],
   "source": [
    "print('Best Grid Search result :', estimator.best_score_)\n",
    "print('Best parameter :', estimator.best_params_)\n"
   ]
  },
  {
   "cell_type": "code",
   "execution_count": null,
   "id": "ffe505bc-5b5a-447e-adb7-0e06ad8b20bc",
   "metadata": {},
   "outputs": [],
   "source": [
    "# get best estimator\n",
    "clf_lr = estimator.best_estimator_\n",
    "\n",
    "# predict test data set\n",
    "y_pred_lr = estimator.predict(X_test)\n"
   ]
  },
  {
   "cell_type": "code",
   "execution_count": null,
   "id": "f1be0ae1-142e-4c70-9144-ba7435714564",
   "metadata": {},
   "outputs": [],
   "source": [
    "# test data set auc error\n",
    "print('Train data ROC/AUC :', )\n",
    "print('Test data ROC/AUC :', roc_auc_score(y_true=y_test, y_score=y_pred_lr))\n",
    "\n",
    "# confusion matrix\n",
    "print('\\nConfusion matrix')\n",
    "print(confusion_matrix(y_true=y_test, y_pred=y_pred_lr))\n",
    "\n",
    "# classification matrix\n",
    "print('\\nClassification matrix')\n",
    "print(classification_report(y_true=y_test, y_pred=y_pred_lr))\n"
   ]
  },
  {
   "cell_type": "markdown",
   "id": "f7a36de9-e0f2-4f6a-b63a-d326729046de",
   "metadata": {},
   "source": [
    "### Light GBM"
   ]
  },
  {
   "cell_type": "code",
   "execution_count": null,
   "id": "afa01fa0-302f-4f42-a946-fc9ce0b2870c",
   "metadata": {},
   "outputs": [],
   "source": [
    "import lightgbm as lgb\n",
    "# initialize list of the transformations\n",
    "\n",
    "# We will use parameters that were found based on experiments made on local machine\n",
    "\n",
    "clf_gbm = lgb.LGBMClassifier(\n",
    "        n_estimators=1000,\n",
    "        num_leaves=25,\n",
    "        colsample_bytree=.8,\n",
    "        subsample=.9,\n",
    "        max_depth=9,\n",
    "        reg_alpha=.1,\n",
    "        reg_lambda=.1,\n",
    "        min_split_gain=.01\n",
    ")\n",
    "\n",
    "\n",
    "# fit training data\n",
    "clf_gbm.fit(X_train,\n",
    "              y_train,\n",
    "              eval_metric='auc', \n",
    "              verbose=0)\n"
   ]
  },
  {
   "cell_type": "code",
   "execution_count": null,
   "id": "505b4e1f-c647-4f92-a814-6ac401c4bff4",
   "metadata": {},
   "outputs": [],
   "source": [
    "# predict test data set\n",
    "y_pred_gbm = clf_gbm.predict(X_test)\n"
   ]
  },
  {
   "cell_type": "code",
   "execution_count": null,
   "id": "5959afb7-fd35-4f9e-b04a-61bc31b50bb5",
   "metadata": {},
   "outputs": [],
   "source": [
    "# test data set auc error\n",
    "print('Test data ROC/AUC :', roc_auc_score(y_true=y_test, y_score=y_pred_gbm))\n",
    "\n",
    "# confusion matrix\n",
    "print('\\nConfusion matrix')\n",
    "print(confusion_matrix(y_true=y_test, y_pred=y_pred_gbm))\n",
    "\n",
    "# classification matrix\n",
    "print('\\nClassification matrix')\n",
    "print(classification_report(y_true=y_test, y_pred=y_pred_gbm))\n"
   ]
  },
  {
   "cell_type": "code",
   "execution_count": null,
   "id": "5d991d10-c205-4759-ae56-8700c002e0bb",
   "metadata": {},
   "outputs": [],
   "source": [
    "# feature importance for Light GBM\n",
    "predictor_columns = X_train.columns\n",
    "feat_import = list(zip(predictor_columns, list(clf_gbm.feature_importances_)))\n",
    "ns_df = pd.DataFrame(data = feat_import, columns=['Feat_names', 'Importance'])\n",
    "ns_df_sorted = ns_df.sort_values(['Importance', 'Feat_names'], ascending = [False, True])\n",
    "\n",
    "ns_df_sorted\n"
   ]
  },
  {
   "cell_type": "code",
   "execution_count": null,
   "id": "d32817d2-909d-46be-bbf5-29269b7d7850",
   "metadata": {},
   "outputs": [],
   "source": []
  },
  {
   "cell_type": "code",
   "execution_count": null,
   "id": "d0c83ac6-8240-47bf-81ec-a921208302a0",
   "metadata": {},
   "outputs": [],
   "source": []
  },
  {
   "cell_type": "code",
   "execution_count": null,
   "id": "28ac5cd6-7f5f-488e-a051-b714a512aef4",
   "metadata": {},
   "outputs": [],
   "source": [
    "%matplotlib inline\n",
    "\n",
    "import numpy as np\n",
    "import pandas as pd\n",
    "import matplotlib.pyplot as plt\n",
    "import seaborn as sns\n",
    "import lightgbm as lgb\n",
    "\n",
    "from collections import Counter\n",
    "from wordcloud import WordCloud\n",
    "\n",
    "\n",
    "from sklearn.preprocessing import LabelEncoder\n",
    "from sklearn.model_selection import StratifiedShuffleSplit\n",
    "from sklearn.decomposition import PCA\n",
    "from sklearn.pipeline import Pipeline\n",
    "from sklearn.preprocessing import StandardScaler\n",
    "from sklearn.ensemble import RandomForestClassifier\n",
    "from sklearn.linear_model import LogisticRegression\n",
    "from sklearn.metrics import roc_auc_score\n",
    "from sklearn.metrics import confusion_matrix\n",
    "from sklearn.metrics import classification_report\n",
    "from sklearn.model_selection import GridSearchCV\n"
   ]
  },
  {
   "cell_type": "code",
   "execution_count": null,
   "id": "e29619e5-2855-4294-a354-55dc23f61c4a",
   "metadata": {},
   "outputs": [],
   "source": []
  },
  {
   "cell_type": "code",
   "execution_count": null,
   "id": "e37b2232-6ad9-4cf4-bcd8-baf95b132ae0",
   "metadata": {},
   "outputs": [],
   "source": []
  }
 ],
 "metadata": {
  "kernelspec": {
   "display_name": "Python 3 (ipykernel)",
   "language": "python",
   "name": "python3"
  },
  "language_info": {
   "codemirror_mode": {
    "name": "ipython",
    "version": 3
   },
   "file_extension": ".py",
   "mimetype": "text/x-python",
   "name": "python",
   "nbconvert_exporter": "python",
   "pygments_lexer": "ipython3",
   "version": "3.10.5"
  }
 },
 "nbformat": 4,
 "nbformat_minor": 5
}
