{
 "cells": [
  {
   "cell_type": "code",
   "execution_count": 12,
   "id": "083a5a00-c817-4ecc-9144-f3fc7655f4a8",
   "metadata": {},
   "outputs": [],
   "source": [
    "import numpy as np\n",
    "import pandas as pd\n",
    "import matplotlib.pyplot as plt\n",
    "# from sklearn.model_selection import train_test_split\n",
    "# from sklearn.metrics import accuracy_score\n",
    "\n",
    "import warnings\n",
    "warnings.simplefilter('ignore')\n"
   ]
  },
  {
   "cell_type": "code",
   "execution_count": null,
   "id": "5d19e248-c2cf-48b7-93fb-bcece7cff9a9",
   "metadata": {},
   "outputs": [],
   "source": []
  },
  {
   "cell_type": "code",
   "execution_count": 2,
   "id": "d5d6f106-a4fe-41cc-bb7a-021d234f42d9",
   "metadata": {},
   "outputs": [],
   "source": [
    "# データの読み込み\n",
    "df_org = pd.read_csv('./data/ks-projects-201801.csv')\n"
   ]
  },
  {
   "cell_type": "code",
   "execution_count": 3,
   "id": "26ece8e6-eaa7-4846-b9d2-b77ff0cfef2d",
   "metadata": {},
   "outputs": [],
   "source": [
    "# 成功（successful）と失敗（failed）以外のデータを除外する\n",
    "df = df_org[(df_org['state'] == 'successful') | (df_org['state'] == 'failed')]"
   ]
  },
  {
   "cell_type": "code",
   "execution_count": null,
   "id": "1da278b1-5192-44ce-b67f-40312a099f56",
   "metadata": {},
   "outputs": [],
   "source": []
  },
  {
   "cell_type": "markdown",
   "id": "aad8096f-2e11-4d4f-99ba-989e12ca97f7",
   "metadata": {},
   "source": [
    "## プロジェクトの状態（state）"
   ]
  },
  {
   "cell_type": "code",
   "execution_count": 4,
   "id": "380eb088-fc69-4743-ba9b-a6015a32f088",
   "metadata": {},
   "outputs": [],
   "source": [
    "state_mapping = { 'successful':1, 'failed':0}\n",
    "df['state'] = df['state'].map(state_mapping)"
   ]
  },
  {
   "cell_type": "code",
   "execution_count": null,
   "id": "a264fe50-9082-4c1a-9850-88574fa6b569",
   "metadata": {},
   "outputs": [],
   "source": []
  },
  {
   "cell_type": "code",
   "execution_count": null,
   "id": "971ee74f-19ea-4bcc-a19f-f52cc1c4caac",
   "metadata": {},
   "outputs": [],
   "source": []
  },
  {
   "cell_type": "markdown",
   "id": "7d0763e8-ef4a-4197-93e6-fba72e9c2b7f",
   "metadata": {},
   "source": [
    "## 日時"
   ]
  },
  {
   "cell_type": "markdown",
   "id": "d4fdea0c-358d-4fde-9a5b-5b3b5aabc989",
   "metadata": {},
   "source": [
    "### 期間を新しく作成する\n",
    "deadline - launched"
   ]
  },
  {
   "cell_type": "code",
   "execution_count": 5,
   "id": "33ee7308-f9dd-4c7f-867c-076e575d5fff",
   "metadata": {},
   "outputs": [],
   "source": [
    "# 日時に関する列を string から TimeStamp に変換\n",
    "df['deadline'] = pd.to_datetime(df['deadline'])\n",
    "df['launched'] = pd.to_datetime(df['launched'])\n",
    "\n",
    "# 期間の列を作成\n",
    "df['period'] = (df['deadline'] - df['launched']).dt.days # 差分を日数として表示"
   ]
  },
  {
   "cell_type": "code",
   "execution_count": null,
   "id": "ddbe99c3-456b-4907-91ab-17426cef99cc",
   "metadata": {},
   "outputs": [],
   "source": []
  },
  {
   "cell_type": "markdown",
   "id": "9ba9add1-390f-43a4-b53c-375e53086706",
   "metadata": {},
   "source": [
    "### launched\n",
    "周期性を考慮してクォーターで分ける"
   ]
  },
  {
   "cell_type": "code",
   "execution_count": null,
   "id": "e8ff698b-0ad1-4ebe-9d09-1dc34a6100c7",
   "metadata": {},
   "outputs": [],
   "source": []
  },
  {
   "cell_type": "markdown",
   "id": "b2344cb4-9188-4998-a739-106c6dbb7d3d",
   "metadata": {},
   "source": [
    "### 不要な列を削除する"
   ]
  },
  {
   "cell_type": "code",
   "execution_count": 6,
   "id": "d5bd3651-3b3b-4204-953d-0a0867b2aabd",
   "metadata": {},
   "outputs": [],
   "source": [
    "# launched と deadline を削除\n",
    "df = df.drop(columns=['deadline', 'launched'])"
   ]
  },
  {
   "cell_type": "code",
   "execution_count": null,
   "id": "bd8b5f06-fe4f-4883-84b6-845d050235bb",
   "metadata": {},
   "outputs": [],
   "source": []
  },
  {
   "cell_type": "code",
   "execution_count": null,
   "id": "58db9fd6-235d-403a-af47-f051c156479e",
   "metadata": {},
   "outputs": [],
   "source": []
  },
  {
   "cell_type": "markdown",
   "id": "7c622759-7c43-4cda-9f63-2e57cdde56f9",
   "metadata": {},
   "source": [
    "## プロジェクト名\n",
    "nameをどうにかする"
   ]
  },
  {
   "cell_type": "markdown",
   "id": "6c1a169f-e29e-4c48-90fc-fe261e1488c7",
   "metadata": {},
   "source": [
    "### 単語数を抽出"
   ]
  },
  {
   "cell_type": "code",
   "execution_count": 7,
   "id": "7ee76da9-a53a-4227-9da4-784683890018",
   "metadata": {},
   "outputs": [],
   "source": [
    "# 単語数をカウントする関数\n",
    "def count_words(sentence):\n",
    "    words_list = str(sentence).split(' ') \n",
    "    return len(words_list)\n",
    "# 単語数をカウントする関数を name の各データに適用\n",
    "df['n_words'] = df['name'].apply(count_words) \n",
    "# name を削除\n",
    "df = df.drop(columns=['name'])"
   ]
  },
  {
   "cell_type": "code",
   "execution_count": null,
   "id": "9f2d4d67-6ce7-45a7-8db8-0f3d92755e42",
   "metadata": {},
   "outputs": [],
   "source": []
  },
  {
   "cell_type": "markdown",
   "id": "33da3121-1c8b-4149-80f7-a60d4c698b49",
   "metadata": {},
   "source": [
    "## 目標金額\n",
    "usd_goal_realを対数変換する"
   ]
  },
  {
   "cell_type": "code",
   "execution_count": 8,
   "id": "28f3d73d-b886-478c-9dcf-9d0ce3574940",
   "metadata": {},
   "outputs": [
    {
     "data": {
      "text/plain": [
       "0     1533.95\n",
       "1    30000.00\n",
       "2    45000.00\n",
       "3     5000.00\n",
       "5    50000.00\n",
       "Name: usd_goal_real, dtype: float64"
      ]
     },
     "execution_count": 8,
     "metadata": {},
     "output_type": "execute_result"
    }
   ],
   "source": [
    "df['usd_goal_real'].head()"
   ]
  },
  {
   "cell_type": "code",
   "execution_count": 9,
   "id": "6e92c53f-4ba6-4ac2-93a4-57c323854d7a",
   "metadata": {},
   "outputs": [],
   "source": [
    "# df['usd_goal_real'].plot(bins=20, kind='hist')"
   ]
  },
  {
   "cell_type": "code",
   "execution_count": 10,
   "id": "2f471ee8-b7f8-46b2-92e5-c00c5709333e",
   "metadata": {},
   "outputs": [],
   "source": [
    "# usd_goal_realを対数変換する\n",
    "df['log_goal'] = np.log(df['usd_goal_real'])\n",
    "df = df.drop(columns='usd_goal_real')"
   ]
  },
  {
   "cell_type": "code",
   "execution_count": 13,
   "id": "8f583476-8cf2-42f1-9bb0-62d1f1c5e02f",
   "metadata": {},
   "outputs": [
    {
     "data": {
      "text/plain": [
       "Text(0.5, 1.0, 'histgram of period')"
      ]
     },
     "execution_count": 13,
     "metadata": {},
     "output_type": "execute_result"
    },
    {
     "data": {
      "image/png": "[encoded data removed]",
      "text/plain": [
       "<Figure size 432x288 with 1 Axes>"
      ]
     },
     "metadata": {
      "needs_background": "light"
     },
     "output_type": "display_data"
    }
   ],
   "source": [
    "plt.hist(df.log_goal, bins=20,color=\"red\")\n",
    "plt.xlabel(\"log_goal\")\n",
    "plt.ylabel(\"counts\")\n",
    "plt.title(\"histgram of period\")"
   ]
  },
  {
   "cell_type": "code",
   "execution_count": 15,
   "id": "e83887b2-275b-4793-8484-cd041a47ed08",
   "metadata": {},
   "outputs": [
    {
     "data": {
      "text/plain": [
       "(7.5, 10.0]     194877\n",
       "(5.0, 7.5]       70948\n",
       "(10.0, 20.0]     59732\n",
       "(0.0, 5.0]        5806\n",
       "(-5.0, 0.0]        312\n",
       "Name: log_goal, dtype: int64"
      ]
     },
     "execution_count": 15,
     "metadata": {},
     "output_type": "execute_result"
    }
   ],
   "source": [
    "# binning\n",
    "pd.cut(df.log_goal, [-5, 0, 5, 7.5, 10, 20]).value_counts()\n"
   ]
  },
  {
   "cell_type": "markdown",
   "id": "51976c5e-4c51-41ce-938b-15b6b4cad4d2",
   "metadata": {},
   "source": [
    "# 加工データの保存"
   ]
  },
  {
   "cell_type": "code",
   "execution_count": 54,
   "id": "7e4b31a1-55a3-4fcb-ae89-d3d377c5d46c",
   "metadata": {},
   "outputs": [],
   "source": [
    "df.to_csv('./data/input_01.csv')"
   ]
  },
  {
   "cell_type": "code",
   "execution_count": null,
   "id": "0fdd2c50-3ad0-4e24-89e5-f2c252df3713",
   "metadata": {},
   "outputs": [],
   "source": []
  },
  {
   "cell_type": "code",
   "execution_count": null,
   "id": "4e486624-13f0-497f-a83b-5cb602114d5c",
   "metadata": {},
   "outputs": [],
   "source": []
  }
 ],
 "metadata": {
  "kernelspec": {
   "display_name": "Python 3 (ipykernel)",
   "language": "python",
   "name": "python3"
  },
  "language_info": {
   "codemirror_mode": {
    "name": "ipython",
    "version": 3
   },
   "file_extension": ".py",
   "mimetype": "text/x-python",
   "name": "python",
   "nbconvert_exporter": "python",
   "pygments_lexer": "ipython3",
   "version": "3.10.5"
  }
 },
 "nbformat": 4,
 "nbformat_minor": 5
}
