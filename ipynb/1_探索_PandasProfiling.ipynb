{
 "cells": [
  {
   "cell_type": "code",
   "execution_count": 1,
   "id": "a4869881-ab61-4217-b471-8ecc31d6a812",
   "metadata": {},
   "outputs": [],
   "source": [
    "import numpy as np\n",
    "import pandas as pd"
   ]
  },
  {
   "cell_type": "code",
   "execution_count": 2,
   "id": "48c235ec-99e1-42f7-8636-a67c4072163a",
   "metadata": {},
   "outputs": [],
   "source": [
    "# データの読み込み\n",
    "df = pd.read_csv('./data/ks-projects-201801.csv')\n",
    "\n",
    "# 成功（successful）と失敗（failed）以外のデータを除外する\n",
    "df = df[(df['state'] == 'successful') | (df['state'] == 'failed')]"
   ]
  },
  {
   "cell_type": "code",
   "execution_count": 3,
   "id": "18a6404d-06e2-4bf2-bd2b-c42de502a3eb",
   "metadata": {},
   "outputs": [
    {
     "name": "stdout",
     "output_type": "stream",
     "text": [
      "Collecting git+https://github.com/pandas-profiling/pandas-profiling.git\n",
      "  Cloning https://github.com/pandas-profiling/pandas-profiling.git to /tmp/pip-req-build-ndk591fu\n",
      "  Running command git clone --filter=blob:none --quiet https://github.com/pandas-profiling/pandas-profiling.git /tmp/pip-req-build-ndk591fu\n",
      "  Resolved https://github.com/pandas-profiling/pandas-profiling.git to commit c4e1794fed21b85eb4d8ee0b84ac1d1d524fa785\n",
      "  Preparing metadata (setup.py) ... \u001b[?25ldone\n",
      "\u001b[?25hRequirement already satisfied: joblib~=1.1.0 in /opt/conda/lib/python3.10/site-packages (from pandas-profiling==3.2.0) (1.1.0)\n",
      "Requirement already satisfied: scipy>=1.4.1 in /opt/conda/lib/python3.10/site-packages (from pandas-profiling==3.2.0) (1.8.1)\n",
      "Requirement already satisfied: pandas!=1.0.0,!=1.0.1,!=1.0.2,!=1.1.0,>=0.25.3 in /opt/conda/lib/python3.10/site-packages (from pandas-profiling==3.2.0) (1.4.3)\n",
      "Requirement already satisfied: matplotlib>=3.2.0 in /opt/conda/lib/python3.10/site-packages (from pandas-profiling==3.2.0) (3.5.2)\n",
      "Requirement already satisfied: pydantic>=1.8.1 in /opt/conda/lib/python3.10/site-packages (from pandas-profiling==3.2.0) (1.9.1)\n",
      "Requirement already satisfied: PyYAML>=5.0.0 in /opt/conda/lib/python3.10/site-packages (from pandas-profiling==3.2.0) (6.0)\n",
      "Requirement already satisfied: jinja2>=2.11.1 in /opt/conda/lib/python3.10/site-packages (from pandas-profiling==3.2.0) (3.1.2)\n",
      "Requirement already satisfied: visions[type_image_path]==0.7.5 in /opt/conda/lib/python3.10/site-packages (from pandas-profiling==3.2.0) (0.7.5)\n",
      "Requirement already satisfied: numpy>=1.16.0 in /opt/conda/lib/python3.10/site-packages (from pandas-profiling==3.2.0) (1.22.4)\n",
      "Requirement already satisfied: htmlmin>=0.1.12 in /opt/conda/lib/python3.10/site-packages (from pandas-profiling==3.2.0) (0.1.12)\n",
      "Requirement already satisfied: missingno>=0.4.2 in /opt/conda/lib/python3.10/site-packages (from pandas-profiling==3.2.0) (0.5.1)\n",
      "Requirement already satisfied: phik>=0.11.1 in /opt/conda/lib/python3.10/site-packages (from pandas-profiling==3.2.0) (0.12.2)\n",
      "Requirement already satisfied: tangled-up-in-unicode==0.2.0 in /opt/conda/lib/python3.10/site-packages (from pandas-profiling==3.2.0) (0.2.0)\n",
      "Requirement already satisfied: requests>=2.24.0 in /opt/conda/lib/python3.10/site-packages (from pandas-profiling==3.2.0) (2.28.1)\n",
      "Requirement already satisfied: tqdm>=4.48.2 in /opt/conda/lib/python3.10/site-packages (from pandas-profiling==3.2.0) (4.64.0)\n",
      "Requirement already satisfied: seaborn>=0.10.1 in /opt/conda/lib/python3.10/site-packages (from pandas-profiling==3.2.0) (0.11.2)\n",
      "Requirement already satisfied: multimethod>=1.4 in /opt/conda/lib/python3.10/site-packages (from pandas-profiling==3.2.0) (1.8)\n",
      "Requirement already satisfied: attrs>=19.3.0 in /opt/conda/lib/python3.10/site-packages (from visions[type_image_path]==0.7.5->pandas-profiling==3.2.0) (21.4.0)\n",
      "Requirement already satisfied: networkx>=2.4 in /opt/conda/lib/python3.10/site-packages (from visions[type_image_path]==0.7.5->pandas-profiling==3.2.0) (2.8.4)\n",
      "Requirement already satisfied: Pillow in /opt/conda/lib/python3.10/site-packages (from visions[type_image_path]==0.7.5->pandas-profiling==3.2.0) (9.2.0)\n",
      "Requirement already satisfied: imagehash in /opt/conda/lib/python3.10/site-packages (from visions[type_image_path]==0.7.5->pandas-profiling==3.2.0) (4.2.1)\n",
      "Requirement already satisfied: MarkupSafe>=2.0 in /opt/conda/lib/python3.10/site-packages (from jinja2>=2.11.1->pandas-profiling==3.2.0) (2.1.1)\n",
      "Requirement already satisfied: python-dateutil>=2.7 in /opt/conda/lib/python3.10/site-packages (from matplotlib>=3.2.0->pandas-profiling==3.2.0) (2.8.2)\n",
      "Requirement already satisfied: pyparsing>=2.2.1 in /opt/conda/lib/python3.10/site-packages (from matplotlib>=3.2.0->pandas-profiling==3.2.0) (3.0.9)\n",
      "Requirement already satisfied: kiwisolver>=1.0.1 in /opt/conda/lib/python3.10/site-packages (from matplotlib>=3.2.0->pandas-profiling==3.2.0) (1.4.4)\n",
      "Requirement already satisfied: packaging>=20.0 in /opt/conda/lib/python3.10/site-packages (from matplotlib>=3.2.0->pandas-profiling==3.2.0) (21.3)\n",
      "Requirement already satisfied: fonttools>=4.22.0 in /opt/conda/lib/python3.10/site-packages (from matplotlib>=3.2.0->pandas-profiling==3.2.0) (4.34.4)\n",
      "Requirement already satisfied: cycler>=0.10 in /opt/conda/lib/python3.10/site-packages (from matplotlib>=3.2.0->pandas-profiling==3.2.0) (0.11.0)\n",
      "Requirement already satisfied: pytz>=2020.1 in /opt/conda/lib/python3.10/site-packages (from pandas!=1.0.0,!=1.0.1,!=1.0.2,!=1.1.0,>=0.25.3->pandas-profiling==3.2.0) (2022.1)\n",
      "Requirement already satisfied: typing-extensions>=3.7.4.3 in /opt/conda/lib/python3.10/site-packages (from pydantic>=1.8.1->pandas-profiling==3.2.0) (4.3.0)\n",
      "Requirement already satisfied: certifi>=2017.4.17 in /opt/conda/lib/python3.10/site-packages (from requests>=2.24.0->pandas-profiling==3.2.0) (2022.6.15)\n",
      "Requirement already satisfied: urllib3<1.27,>=1.21.1 in /opt/conda/lib/python3.10/site-packages (from requests>=2.24.0->pandas-profiling==3.2.0) (1.26.10)\n",
      "Requirement already satisfied: idna<4,>=2.5 in /opt/conda/lib/python3.10/site-packages (from requests>=2.24.0->pandas-profiling==3.2.0) (3.3)\n",
      "Requirement already satisfied: charset-normalizer<3,>=2 in /opt/conda/lib/python3.10/site-packages (from requests>=2.24.0->pandas-profiling==3.2.0) (2.1.0)\n",
      "Requirement already satisfied: six>=1.5 in /opt/conda/lib/python3.10/site-packages (from python-dateutil>=2.7->matplotlib>=3.2.0->pandas-profiling==3.2.0) (1.16.0)\n",
      "Requirement already satisfied: PyWavelets in /opt/conda/lib/python3.10/site-packages (from imagehash->visions[type_image_path]==0.7.5->pandas-profiling==3.2.0) (1.3.0)\n"
     ]
    }
   ],
   "source": [
    "!pip install git+https://github.com/pandas-profiling/pandas-profiling.git"
   ]
  },
  {
   "cell_type": "code",
   "execution_count": 2,
   "id": "b2157a83-152f-42b1-a3d6-6c10d0756de7",
   "metadata": {},
   "outputs": [
    {
     "name": "stdout",
     "output_type": "stream",
     "text": [
      "Name: pandas-profiling\n",
      "Version: 3.2.0\n",
      "Summary: Generate profile report for pandas DataFrame\n",
      "Home-page: https://github.com/pandas-profiling/pandas-profiling\n",
      "Author: Simon Brugman\n",
      "Author-email: pandasprofiling@gmail.com\n",
      "License: MIT\n",
      "Location: /opt/conda/lib/python3.10/site-packages\n",
      "Requires: htmlmin, jinja2, joblib, markupsafe, matplotlib, missingno, multimethod, numpy, pandas, phik, pydantic, PyYAML, requests, scipy, seaborn, tangled-up-in-unicode, tqdm, visions\n",
      "Required-by: \n"
     ]
    }
   ],
   "source": [
    "!pip show pandas-profiling"
   ]
  },
  {
   "cell_type": "code",
   "execution_count": 4,
   "id": "350ed329-5bf7-4d6c-a197-8f3de59120f9",
   "metadata": {},
   "outputs": [],
   "source": [
    "import pandas as pd\n",
    "import pandas_profiling as pdp\n"
   ]
  },
  {
   "cell_type": "code",
   "execution_count": null,
   "id": "11499304-bed6-4af1-89a7-d2405fcdbfd1",
   "metadata": {},
   "outputs": [
    {
     "data": {
      "application/vnd.jupyter.widget-view+json": {
       "model_id": "504a5f04a5b047c2900e592899ca81a5",
       "version_major": 2,
       "version_minor": 0
      },
      "text/plain": [
       "Summarize dataset:   0%|          | 0/5 [00:00<?, ?it/s]"
      ]
     },
     "metadata": {},
     "output_type": "display_data"
    }
   ],
   "source": [
    "pdp.ProfileReport(df)"
   ]
  },
  {
   "cell_type": "code",
   "execution_count": null,
   "id": "bee5bdb0-6430-483c-b8fa-f33d4cc020fc",
   "metadata": {},
   "outputs": [],
   "source": []
  },
  {
   "cell_type": "code",
   "execution_count": null,
   "id": "237394e8-8861-475f-a31b-bcba1fc2244a",
   "metadata": {},
   "outputs": [],
   "source": []
  },
  {
   "cell_type": "code",
   "execution_count": null,
   "id": "d963f480-50dd-43d4-a401-e062bc387f26",
   "metadata": {},
   "outputs": [],
   "source": []
  }
 ],
 "metadata": {
  "kernelspec": {
   "display_name": "Python 3 (ipykernel)",
   "language": "python",
   "name": "python3"
  },
  "language_info": {
   "codemirror_mode": {
    "name": "ipython",
    "version": 3
   },
   "file_extension": ".py",
   "mimetype": "text/x-python",
   "name": "python",
   "nbconvert_exporter": "python",
   "pygments_lexer": "ipython3",
   "version": "3.10.5"
  }
 },
 "nbformat": 4,
 "nbformat_minor": 5
}
