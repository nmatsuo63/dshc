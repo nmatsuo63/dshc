{
 "cells": [
  {
   "cell_type": "code",
   "execution_count": 1,
   "id": "083a5a00-c817-4ecc-9144-f3fc7655f4a8",
   "metadata": {},
   "outputs": [],
   "source": [
    "import numpy as np\n",
    "import pandas as pd\n",
    "from sklearn.model_selection import train_test_split\n",
    "from sklearn.metrics import accuracy_score\n",
    "\n",
    "import warnings\n",
    "warnings.simplefilter('ignore')\n"
   ]
  },
  {
   "cell_type": "code",
   "execution_count": null,
   "id": "5d19e248-c2cf-48b7-93fb-bcece7cff9a9",
   "metadata": {},
   "outputs": [],
   "source": []
  },
  {
   "cell_type": "code",
   "execution_count": 16,
   "id": "d5d6f106-a4fe-41cc-bb7a-021d234f42d9",
   "metadata": {},
   "outputs": [],
   "source": [
    "# データの読み込み\n",
    "df_org = pd.read_csv('./data/ks-projects-201801.csv')\n"
   ]
  },
  {
   "cell_type": "code",
   "execution_count": 17,
   "id": "26ece8e6-eaa7-4846-b9d2-b77ff0cfef2d",
   "metadata": {},
   "outputs": [],
   "source": [
    "# 成功（successful）と失敗（failed）以外のデータを除外する\n",
    "df = df_org[(df_org['state'] == 'successful') | (df_org['state'] == 'failed')]"
   ]
  },
  {
   "cell_type": "code",
   "execution_count": null,
   "id": "1da278b1-5192-44ce-b67f-40312a099f56",
   "metadata": {},
   "outputs": [],
   "source": []
  },
  {
   "cell_type": "markdown",
   "id": "aad8096f-2e11-4d4f-99ba-989e12ca97f7",
   "metadata": {},
   "source": [
    "## プロジェクトの状態（state）"
   ]
  },
  {
   "cell_type": "code",
   "execution_count": 18,
   "id": "380eb088-fc69-4743-ba9b-a6015a32f088",
   "metadata": {},
   "outputs": [],
   "source": [
    "state_mapping = { 'successful':1, 'failed':0}\n",
    "df['state'] = df['state'].map(state_mapping)"
   ]
  },
  {
   "cell_type": "code",
   "execution_count": null,
   "id": "a264fe50-9082-4c1a-9850-88574fa6b569",
   "metadata": {},
   "outputs": [],
   "source": []
  },
  {
   "cell_type": "code",
   "execution_count": null,
   "id": "971ee74f-19ea-4bcc-a19f-f52cc1c4caac",
   "metadata": {},
   "outputs": [],
   "source": []
  },
  {
   "cell_type": "markdown",
   "id": "7d0763e8-ef4a-4197-93e6-fba72e9c2b7f",
   "metadata": {},
   "source": [
    "## 日時"
   ]
  },
  {
   "cell_type": "markdown",
   "id": "d4fdea0c-358d-4fde-9a5b-5b3b5aabc989",
   "metadata": {},
   "source": [
    "### 期間を新しく作成する\n",
    "deadline - launched"
   ]
  },
  {
   "cell_type": "code",
   "execution_count": 19,
   "id": "33ee7308-f9dd-4c7f-867c-076e575d5fff",
   "metadata": {},
   "outputs": [],
   "source": [
    "# 日時に関する列を string から TimeStamp に変換\n",
    "df['deadline'] = pd.to_datetime(df['deadline'])\n",
    "df['launched'] = pd.to_datetime(df['launched'])\n",
    "\n",
    "# 期間の列を作成\n",
    "df['period'] = (df['deadline'] - df['launched']).dt.days # 差分を日数として表示"
   ]
  },
  {
   "cell_type": "code",
   "execution_count": null,
   "id": "ddbe99c3-456b-4907-91ab-17426cef99cc",
   "metadata": {},
   "outputs": [],
   "source": []
  },
  {
   "cell_type": "markdown",
   "id": "9ba9add1-390f-43a4-b53c-375e53086706",
   "metadata": {},
   "source": [
    "### launched\n",
    "周期性を考慮してクォーターで分ける\n",
    "米国の会計年度は10月から9月。"
   ]
  },
  {
   "cell_type": "code",
   "execution_count": 20,
   "id": "e8ff698b-0ad1-4ebe-9d09-1dc34a6100c7",
   "metadata": {},
   "outputs": [],
   "source": [
    "df['launched_year'] = df['launched'].dt.year\n",
    "df['launched_month'] = df['launched'].dt.month\n",
    "df['launched_day'] = df['launched'].dt.day"
   ]
  },
  {
   "cell_type": "markdown",
   "id": "b2344cb4-9188-4998-a739-106c6dbb7d3d",
   "metadata": {},
   "source": [
    "### 不要な列を削除する"
   ]
  },
  {
   "cell_type": "code",
   "execution_count": 21,
   "id": "d5bd3651-3b3b-4204-953d-0a0867b2aabd",
   "metadata": {},
   "outputs": [],
   "source": [
    "# launched と deadline を削除\n",
    "df = df.drop(columns=['deadline', 'launched'])"
   ]
  },
  {
   "cell_type": "markdown",
   "id": "08abeb27-75c0-4794-bee2-b133894f8072",
   "metadata": {},
   "source": [
    "## カテゴリ"
   ]
  },
  {
   "cell_type": "code",
   "execution_count": 22,
   "id": "58db9fd6-235d-403a-af47-f051c156479e",
   "metadata": {},
   "outputs": [
    {
     "data": {
      "text/html": [
       "<div>\n",
       "<style scoped>\n",
       "    .dataframe tbody tr th:only-of-type {\n",
       "        vertical-align: middle;\n",
       "    }\n",
       "\n",
       "    .dataframe tbody tr th {\n",
       "        vertical-align: top;\n",
       "    }\n",
       "\n",
       "    .dataframe thead th {\n",
       "        text-align: right;\n",
       "    }\n",
       "</style>\n",
       "<table border=\"1\" class=\"dataframe\">\n",
       "  <thead>\n",
       "    <tr style=\"text-align: right;\">\n",
       "      <th></th>\n",
       "      <th>ID</th>\n",
       "      <th>name</th>\n",
       "      <th>category</th>\n",
       "      <th>main_category</th>\n",
       "      <th>currency</th>\n",
       "      <th>goal</th>\n",
       "      <th>pledged</th>\n",
       "      <th>state</th>\n",
       "      <th>backers</th>\n",
       "      <th>country</th>\n",
       "      <th>usd pledged</th>\n",
       "      <th>usd_pledged_real</th>\n",
       "      <th>usd_goal_real</th>\n",
       "      <th>period</th>\n",
       "      <th>launched_year</th>\n",
       "      <th>launched_month</th>\n",
       "      <th>launched_day</th>\n",
       "      <th>class</th>\n",
       "    </tr>\n",
       "  </thead>\n",
       "  <tbody>\n",
       "    <tr>\n",
       "      <th>0</th>\n",
       "      <td>1000002330</td>\n",
       "      <td>The Songs of Adelaide &amp; Abullah</td>\n",
       "      <td>Poetry</td>\n",
       "      <td>Publishing</td>\n",
       "      <td>GBP</td>\n",
       "      <td>1000.0</td>\n",
       "      <td>0.0</td>\n",
       "      <td>0</td>\n",
       "      <td>0</td>\n",
       "      <td>GB</td>\n",
       "      <td>0.0</td>\n",
       "      <td>0.0</td>\n",
       "      <td>1533.95</td>\n",
       "      <td>58</td>\n",
       "      <td>2015</td>\n",
       "      <td>8</td>\n",
       "      <td>11</td>\n",
       "      <td>Publishing**Poetry</td>\n",
       "    </tr>\n",
       "    <tr>\n",
       "      <th>1</th>\n",
       "      <td>1000003930</td>\n",
       "      <td>Greeting From Earth: ZGAC Arts Capsule For ET</td>\n",
       "      <td>Narrative Film</td>\n",
       "      <td>Film &amp; Video</td>\n",
       "      <td>USD</td>\n",
       "      <td>30000.0</td>\n",
       "      <td>2421.0</td>\n",
       "      <td>0</td>\n",
       "      <td>15</td>\n",
       "      <td>US</td>\n",
       "      <td>100.0</td>\n",
       "      <td>2421.0</td>\n",
       "      <td>30000.00</td>\n",
       "      <td>59</td>\n",
       "      <td>2017</td>\n",
       "      <td>9</td>\n",
       "      <td>2</td>\n",
       "      <td>Film &amp; Video**Narrative Film</td>\n",
       "    </tr>\n",
       "    <tr>\n",
       "      <th>2</th>\n",
       "      <td>1000004038</td>\n",
       "      <td>Where is Hank?</td>\n",
       "      <td>Narrative Film</td>\n",
       "      <td>Film &amp; Video</td>\n",
       "      <td>USD</td>\n",
       "      <td>45000.0</td>\n",
       "      <td>220.0</td>\n",
       "      <td>0</td>\n",
       "      <td>3</td>\n",
       "      <td>US</td>\n",
       "      <td>220.0</td>\n",
       "      <td>220.0</td>\n",
       "      <td>45000.00</td>\n",
       "      <td>44</td>\n",
       "      <td>2013</td>\n",
       "      <td>1</td>\n",
       "      <td>12</td>\n",
       "      <td>Film &amp; Video**Narrative Film</td>\n",
       "    </tr>\n",
       "    <tr>\n",
       "      <th>3</th>\n",
       "      <td>1000007540</td>\n",
       "      <td>ToshiCapital Rekordz Needs Help to Complete Album</td>\n",
       "      <td>Music</td>\n",
       "      <td>Music</td>\n",
       "      <td>USD</td>\n",
       "      <td>5000.0</td>\n",
       "      <td>1.0</td>\n",
       "      <td>0</td>\n",
       "      <td>1</td>\n",
       "      <td>US</td>\n",
       "      <td>1.0</td>\n",
       "      <td>1.0</td>\n",
       "      <td>5000.00</td>\n",
       "      <td>29</td>\n",
       "      <td>2012</td>\n",
       "      <td>3</td>\n",
       "      <td>17</td>\n",
       "      <td>Music**Music</td>\n",
       "    </tr>\n",
       "    <tr>\n",
       "      <th>5</th>\n",
       "      <td>1000014025</td>\n",
       "      <td>Monarch Espresso Bar</td>\n",
       "      <td>Restaurants</td>\n",
       "      <td>Food</td>\n",
       "      <td>USD</td>\n",
       "      <td>50000.0</td>\n",
       "      <td>52375.0</td>\n",
       "      <td>1</td>\n",
       "      <td>224</td>\n",
       "      <td>US</td>\n",
       "      <td>52375.0</td>\n",
       "      <td>52375.0</td>\n",
       "      <td>50000.00</td>\n",
       "      <td>34</td>\n",
       "      <td>2016</td>\n",
       "      <td>2</td>\n",
       "      <td>26</td>\n",
       "      <td>Food**Restaurants</td>\n",
       "    </tr>\n",
       "  </tbody>\n",
       "</table>\n",
       "</div>"
      ],
      "text/plain": [
       "           ID                                               name  \\\n",
       "0  1000002330                    The Songs of Adelaide & Abullah   \n",
       "1  1000003930      Greeting From Earth: ZGAC Arts Capsule For ET   \n",
       "2  1000004038                                     Where is Hank?   \n",
       "3  1000007540  ToshiCapital Rekordz Needs Help to Complete Album   \n",
       "5  1000014025                               Monarch Espresso Bar   \n",
       "\n",
       "         category main_category currency     goal  pledged  state  backers  \\\n",
       "0          Poetry    Publishing      GBP   1000.0      0.0      0        0   \n",
       "1  Narrative Film  Film & Video      USD  30000.0   2421.0      0       15   \n",
       "2  Narrative Film  Film & Video      USD  45000.0    220.0      0        3   \n",
       "3           Music         Music      USD   5000.0      1.0      0        1   \n",
       "5     Restaurants          Food      USD  50000.0  52375.0      1      224   \n",
       "\n",
       "  country  usd pledged  usd_pledged_real  usd_goal_real  period  \\\n",
       "0      GB          0.0               0.0        1533.95      58   \n",
       "1      US        100.0            2421.0       30000.00      59   \n",
       "2      US        220.0             220.0       45000.00      44   \n",
       "3      US          1.0               1.0        5000.00      29   \n",
       "5      US      52375.0           52375.0       50000.00      34   \n",
       "\n",
       "   launched_year  launched_month  launched_day                         class  \n",
       "0           2015               8            11            Publishing**Poetry  \n",
       "1           2017               9             2  Film & Video**Narrative Film  \n",
       "2           2013               1            12  Film & Video**Narrative Film  \n",
       "3           2012               3            17                  Music**Music  \n",
       "5           2016               2            26             Food**Restaurants  "
      ]
     },
     "execution_count": 22,
     "metadata": {},
     "output_type": "execute_result"
    }
   ],
   "source": [
    "# main_categoryとcategoryを結合する（class）\n",
    "df['class'] = df['main_category'].str.cat(df['category'], sep='**')\n",
    "df.head()"
   ]
  },
  {
   "cell_type": "code",
   "execution_count": 23,
   "id": "4f8a1837-543c-4380-ad4f-81ecaba01506",
   "metadata": {},
   "outputs": [],
   "source": [
    "# 各classの個数をカウントし、dataframeに変換する\n",
    "# https://www.web-dev-qa-db-ja.com/ja/python/python-pandas%EF%BC%9A-valuecounts%E5%87%BA%E5%8A%9B%E3%82%92%E3%83%87%E3%83%BC%E3%82%BF%E3%83%95%E3%83%AC%E3%83%BC%E3%83%A0%E3%81%AB%E5%A4%89%E6%8F%9B%E3%81%97%E3%81%BE%E3%81%99/835447736/\n",
    "df_counts = df['class'].value_counts().rename_axis('class').reset_index(name='counts')\n",
    "# トップ40位を抜き出す\n",
    "df_largest = df_counts.nlargest(120, columns='counts')\n",
    "# トップ40位の要素を削除したdataframeを作成する\n",
    "df_others = df_counts.drop(df_largest.index)\n",
    "# df_othersのclass列の項目をリスト化する\n",
    "others_list = df_others['class'].to_list()\n",
    "# others_list内の文字列に一致するclassをOthersに変更する\n",
    "df = df.replace(others_list, 'Others')"
   ]
  },
  {
   "cell_type": "code",
   "execution_count": 10,
   "id": "f90e75b4-7613-4541-b03e-c38139765c71",
   "metadata": {},
   "outputs": [
    {
     "data": {
      "text/html": [
       "<div>\n",
       "<style scoped>\n",
       "    .dataframe tbody tr th:only-of-type {\n",
       "        vertical-align: middle;\n",
       "    }\n",
       "\n",
       "    .dataframe tbody tr th {\n",
       "        vertical-align: top;\n",
       "    }\n",
       "\n",
       "    .dataframe thead th {\n",
       "        text-align: right;\n",
       "    }\n",
       "</style>\n",
       "<table border=\"1\" class=\"dataframe\">\n",
       "  <thead>\n",
       "    <tr style=\"text-align: right;\">\n",
       "      <th></th>\n",
       "      <th>ID</th>\n",
       "      <th>name</th>\n",
       "      <th>category</th>\n",
       "      <th>main_category</th>\n",
       "      <th>currency</th>\n",
       "      <th>goal</th>\n",
       "      <th>pledged</th>\n",
       "      <th>state</th>\n",
       "      <th>backers</th>\n",
       "      <th>country</th>\n",
       "      <th>usd pledged</th>\n",
       "      <th>usd_pledged_real</th>\n",
       "      <th>usd_goal_real</th>\n",
       "      <th>period</th>\n",
       "      <th>launched_year</th>\n",
       "      <th>launched_month</th>\n",
       "      <th>launched_day</th>\n",
       "      <th>class</th>\n",
       "    </tr>\n",
       "  </thead>\n",
       "  <tbody>\n",
       "    <tr>\n",
       "      <th>0</th>\n",
       "      <td>1000002330</td>\n",
       "      <td>The Songs of Adelaide &amp; Abullah</td>\n",
       "      <td>Poetry</td>\n",
       "      <td>Publishing</td>\n",
       "      <td>GBP</td>\n",
       "      <td>1000.0</td>\n",
       "      <td>0.0</td>\n",
       "      <td>0</td>\n",
       "      <td>0</td>\n",
       "      <td>GB</td>\n",
       "      <td>0.0</td>\n",
       "      <td>0.0</td>\n",
       "      <td>1533.95</td>\n",
       "      <td>58</td>\n",
       "      <td>2015</td>\n",
       "      <td>8</td>\n",
       "      <td>11</td>\n",
       "      <td>Publishing**Poetry</td>\n",
       "    </tr>\n",
       "    <tr>\n",
       "      <th>1</th>\n",
       "      <td>1000003930</td>\n",
       "      <td>Greeting From Earth: ZGAC Arts Capsule For ET</td>\n",
       "      <td>Narrative Film</td>\n",
       "      <td>Film &amp; Video</td>\n",
       "      <td>USD</td>\n",
       "      <td>30000.0</td>\n",
       "      <td>2421.0</td>\n",
       "      <td>0</td>\n",
       "      <td>15</td>\n",
       "      <td>US</td>\n",
       "      <td>100.0</td>\n",
       "      <td>2421.0</td>\n",
       "      <td>30000.00</td>\n",
       "      <td>59</td>\n",
       "      <td>2017</td>\n",
       "      <td>9</td>\n",
       "      <td>2</td>\n",
       "      <td>Film &amp; Video**Narrative Film</td>\n",
       "    </tr>\n",
       "    <tr>\n",
       "      <th>2</th>\n",
       "      <td>1000004038</td>\n",
       "      <td>Where is Hank?</td>\n",
       "      <td>Narrative Film</td>\n",
       "      <td>Film &amp; Video</td>\n",
       "      <td>USD</td>\n",
       "      <td>45000.0</td>\n",
       "      <td>220.0</td>\n",
       "      <td>0</td>\n",
       "      <td>3</td>\n",
       "      <td>US</td>\n",
       "      <td>220.0</td>\n",
       "      <td>220.0</td>\n",
       "      <td>45000.00</td>\n",
       "      <td>44</td>\n",
       "      <td>2013</td>\n",
       "      <td>1</td>\n",
       "      <td>12</td>\n",
       "      <td>Film &amp; Video**Narrative Film</td>\n",
       "    </tr>\n",
       "    <tr>\n",
       "      <th>3</th>\n",
       "      <td>1000007540</td>\n",
       "      <td>ToshiCapital Rekordz Needs Help to Complete Album</td>\n",
       "      <td>Music</td>\n",
       "      <td>Music</td>\n",
       "      <td>USD</td>\n",
       "      <td>5000.0</td>\n",
       "      <td>1.0</td>\n",
       "      <td>0</td>\n",
       "      <td>1</td>\n",
       "      <td>US</td>\n",
       "      <td>1.0</td>\n",
       "      <td>1.0</td>\n",
       "      <td>5000.00</td>\n",
       "      <td>29</td>\n",
       "      <td>2012</td>\n",
       "      <td>3</td>\n",
       "      <td>17</td>\n",
       "      <td>Music**Music</td>\n",
       "    </tr>\n",
       "    <tr>\n",
       "      <th>5</th>\n",
       "      <td>1000014025</td>\n",
       "      <td>Monarch Espresso Bar</td>\n",
       "      <td>Restaurants</td>\n",
       "      <td>Food</td>\n",
       "      <td>USD</td>\n",
       "      <td>50000.0</td>\n",
       "      <td>52375.0</td>\n",
       "      <td>1</td>\n",
       "      <td>224</td>\n",
       "      <td>US</td>\n",
       "      <td>52375.0</td>\n",
       "      <td>52375.0</td>\n",
       "      <td>50000.00</td>\n",
       "      <td>34</td>\n",
       "      <td>2016</td>\n",
       "      <td>2</td>\n",
       "      <td>26</td>\n",
       "      <td>Food**Restaurants</td>\n",
       "    </tr>\n",
       "  </tbody>\n",
       "</table>\n",
       "</div>"
      ],
      "text/plain": [
       "           ID                                               name  \\\n",
       "0  1000002330                    The Songs of Adelaide & Abullah   \n",
       "1  1000003930      Greeting From Earth: ZGAC Arts Capsule For ET   \n",
       "2  1000004038                                     Where is Hank?   \n",
       "3  1000007540  ToshiCapital Rekordz Needs Help to Complete Album   \n",
       "5  1000014025                               Monarch Espresso Bar   \n",
       "\n",
       "         category main_category currency     goal  pledged  state  backers  \\\n",
       "0          Poetry    Publishing      GBP   1000.0      0.0      0        0   \n",
       "1  Narrative Film  Film & Video      USD  30000.0   2421.0      0       15   \n",
       "2  Narrative Film  Film & Video      USD  45000.0    220.0      0        3   \n",
       "3           Music         Music      USD   5000.0      1.0      0        1   \n",
       "5     Restaurants          Food      USD  50000.0  52375.0      1      224   \n",
       "\n",
       "  country  usd pledged  usd_pledged_real  usd_goal_real  period  \\\n",
       "0      GB          0.0               0.0        1533.95      58   \n",
       "1      US        100.0            2421.0       30000.00      59   \n",
       "2      US        220.0             220.0       45000.00      44   \n",
       "3      US          1.0               1.0        5000.00      29   \n",
       "5      US      52375.0           52375.0       50000.00      34   \n",
       "\n",
       "   launched_year  launched_month  launched_day                         class  \n",
       "0           2015               8            11            Publishing**Poetry  \n",
       "1           2017               9             2  Film & Video**Narrative Film  \n",
       "2           2013               1            12  Film & Video**Narrative Film  \n",
       "3           2012               3            17                  Music**Music  \n",
       "5           2016               2            26             Food**Restaurants  "
      ]
     },
     "execution_count": 10,
     "metadata": {},
     "output_type": "execute_result"
    }
   ],
   "source": [
    "df.head()"
   ]
  },
  {
   "cell_type": "markdown",
   "id": "7c622759-7c43-4cda-9f63-2e57cdde56f9",
   "metadata": {},
   "source": [
    "## プロジェクト名\n",
    "nameをどうにかする"
   ]
  },
  {
   "cell_type": "markdown",
   "id": "6c1a169f-e29e-4c48-90fc-fe261e1488c7",
   "metadata": {},
   "source": [
    "### 単語数を抽出"
   ]
  },
  {
   "cell_type": "code",
   "execution_count": 29,
   "id": "42036b80-ef04-4cb6-8178-4fdd9af0b141",
   "metadata": {},
   "outputs": [
    {
     "data": {
      "text/plain": [
       "0                      The Songs of Adelaide & Abullah\n",
       "1        Greeting From Earth: ZGAC Arts Capsule For ET\n",
       "2                                       Where is Hank?\n",
       "3    ToshiCapital Rekordz Needs Help to Complete Album\n",
       "5                                 Monarch Espresso Bar\n",
       "Name: name, dtype: object"
      ]
     },
     "execution_count": 29,
     "metadata": {},
     "output_type": "execute_result"
    }
   ],
   "source": [
    "df['name'].head()"
   ]
  },
  {
   "cell_type": "code",
   "execution_count": 34,
   "id": "363cf89d-bd56-4073-9998-1a4b911103f5",
   "metadata": {},
   "outputs": [],
   "source": [
    "from sklearn.feature_extraction.text import TfidfVectorizer\n",
    "from IPython.display import display"
   ]
  },
  {
   "cell_type": "code",
   "execution_count": null,
   "id": "1586e4d0-9183-4c6f-b59e-0278c18ae4ed",
   "metadata": {},
   "outputs": [],
   "source": []
  },
  {
   "cell_type": "code",
   "execution_count": 48,
   "id": "40b96edd-e797-4fb3-a13e-e09877d0d21b",
   "metadata": {},
   "outputs": [],
   "source": [
    "sentences = df['name'][0:10].to_list()"
   ]
  },
  {
   "cell_type": "code",
   "execution_count": 49,
   "id": "6c45ecd8-10d2-4163-a6c6-68a19744501a",
   "metadata": {},
   "outputs": [],
   "source": [
    "tfidf_vectorizer = TfidfVectorizer(analyzer='word')"
   ]
  },
  {
   "cell_type": "code",
   "execution_count": 50,
   "id": "a5e9c45f-3387-49f4-9c72-79d7843b9ffe",
   "metadata": {},
   "outputs": [
    {
     "data": {
      "text/html": [
       "<style>#sk-container-id-3 {color: black;background-color: white;}#sk-container-id-3 pre{padding: 0;}#sk-container-id-3 div.sk-toggleable {background-color: white;}#sk-container-id-3 label.sk-toggleable__label {cursor: pointer;display: block;width: 100%;margin-bottom: 0;padding: 0.3em;box-sizing: border-box;text-align: center;}#sk-container-id-3 label.sk-toggleable__label-arrow:before {content: \"▸\";float: left;margin-right: 0.25em;color: #696969;}#sk-container-id-3 label.sk-toggleable__label-arrow:hover:before {color: black;}#sk-container-id-3 div.sk-estimator:hover label.sk-toggleable__label-arrow:before {color: black;}#sk-container-id-3 div.sk-toggleable__content {max-height: 0;max-width: 0;overflow: hidden;text-align: left;background-color: #f0f8ff;}#sk-container-id-3 div.sk-toggleable__content pre {margin: 0.2em;color: black;border-radius: 0.25em;background-color: #f0f8ff;}#sk-container-id-3 input.sk-toggleable__control:checked~div.sk-toggleable__content {max-height: 200px;max-width: 100%;overflow: auto;}#sk-container-id-3 input.sk-toggleable__control:checked~label.sk-toggleable__label-arrow:before {content: \"▾\";}#sk-container-id-3 div.sk-estimator input.sk-toggleable__control:checked~label.sk-toggleable__label {background-color: #d4ebff;}#sk-container-id-3 div.sk-label input.sk-toggleable__control:checked~label.sk-toggleable__label {background-color: #d4ebff;}#sk-container-id-3 input.sk-hidden--visually {border: 0;clip: rect(1px 1px 1px 1px);clip: rect(1px, 1px, 1px, 1px);height: 1px;margin: -1px;overflow: hidden;padding: 0;position: absolute;width: 1px;}#sk-container-id-3 div.sk-estimator {font-family: monospace;background-color: #f0f8ff;border: 1px dotted black;border-radius: 0.25em;box-sizing: border-box;margin-bottom: 0.5em;}#sk-container-id-3 div.sk-estimator:hover {background-color: #d4ebff;}#sk-container-id-3 div.sk-parallel-item::after {content: \"\";width: 100%;border-bottom: 1px solid gray;flex-grow: 1;}#sk-container-id-3 div.sk-label:hover label.sk-toggleable__label {background-color: #d4ebff;}#sk-container-id-3 div.sk-serial::before {content: \"\";position: absolute;border-left: 1px solid gray;box-sizing: border-box;top: 0;bottom: 0;left: 50%;z-index: 0;}#sk-container-id-3 div.sk-serial {display: flex;flex-direction: column;align-items: center;background-color: white;padding-right: 0.2em;padding-left: 0.2em;position: relative;}#sk-container-id-3 div.sk-item {position: relative;z-index: 1;}#sk-container-id-3 div.sk-parallel {display: flex;align-items: stretch;justify-content: center;background-color: white;position: relative;}#sk-container-id-3 div.sk-item::before, #sk-container-id-3 div.sk-parallel-item::before {content: \"\";position: absolute;border-left: 1px solid gray;box-sizing: border-box;top: 0;bottom: 0;left: 50%;z-index: -1;}#sk-container-id-3 div.sk-parallel-item {display: flex;flex-direction: column;z-index: 1;position: relative;background-color: white;}#sk-container-id-3 div.sk-parallel-item:first-child::after {align-self: flex-end;width: 50%;}#sk-container-id-3 div.sk-parallel-item:last-child::after {align-self: flex-start;width: 50%;}#sk-container-id-3 div.sk-parallel-item:only-child::after {width: 0;}#sk-container-id-3 div.sk-dashed-wrapped {border: 1px dashed gray;margin: 0 0.4em 0.5em 0.4em;box-sizing: border-box;padding-bottom: 0.4em;background-color: white;}#sk-container-id-3 div.sk-label label {font-family: monospace;font-weight: bold;display: inline-block;line-height: 1.2em;}#sk-container-id-3 div.sk-label-container {text-align: center;}#sk-container-id-3 div.sk-container {/* jupyter's `normalize.less` sets `[hidden] { display: none; }` but bootstrap.min.css set `[hidden] { display: none !important; }` so we also need the `!important` here to be able to override the default hidden behavior on the sphinx rendered scikit-learn.org. See: https://github.com/scikit-learn/scikit-learn/issues/21755 */display: inline-block !important;position: relative;}#sk-container-id-3 div.sk-text-repr-fallback {display: none;}</style><div id=\"sk-container-id-3\" class=\"sk-top-container\"><div class=\"sk-text-repr-fallback\"><pre>TfidfVectorizer()</pre><b>In a Jupyter environment, please rerun this cell to show the HTML representation or trust the notebook. <br />On GitHub, the HTML representation is unable to render, please try loading this page with nbviewer.org.</b></div><div class=\"sk-container\" hidden><div class=\"sk-item\"><div class=\"sk-estimator sk-toggleable\"><input class=\"sk-toggleable__control sk-hidden--visually\" id=\"sk-estimator-id-3\" type=\"checkbox\" checked><label for=\"sk-estimator-id-3\" class=\"sk-toggleable__label sk-toggleable__label-arrow\">TfidfVectorizer</label><div class=\"sk-toggleable__content\"><pre>TfidfVectorizer()</pre></div></div></div></div></div>"
      ],
      "text/plain": [
       "TfidfVectorizer()"
      ]
     },
     "execution_count": 50,
     "metadata": {},
     "output_type": "execute_result"
    }
   ],
   "source": [
    "tfidf_vectorizer.fit(sentences)"
   ]
  },
  {
   "cell_type": "code",
   "execution_count": 51,
   "id": "ebd63a89-a597-4299-bbd2-7b7f08cb8385",
   "metadata": {},
   "outputs": [
    {
     "name": "stdout",
     "output_type": "stream",
     "text": [
      "['abullah', 'adelaide', 'album', 'and', 'arts', 'bar', 'capsule', 'cd', 'chaser', 'co', 'coffee', 'complete', 'cottage', 'earth', 'energy', 'espresso', 'et', 'for', 'from', 'green', 'greeting', 'hank', 'help', 'is', 'jesus', 'lim', 'lisa', 'madmen', 'make', 'market', 'monarch', 'needs', 'new', 'of', 'our', 'rekordz', 'roasted', 'shots', 'solar', 'solarcoffee', 'songs', 'strips', 'support', 'tch', 'the', 'their', 'to', 'toshicapital', 'where', 'zgac']\n"
     ]
    }
   ],
   "source": [
    "registered_token = tfidf_vectorizer.get_feature_names()\n",
    "print(registered_token)"
   ]
  },
  {
   "cell_type": "code",
   "execution_count": null,
   "id": "f4518fae-93da-457c-b671-7bac982bd838",
   "metadata": {},
   "outputs": [],
   "source": []
  },
  {
   "cell_type": "code",
   "execution_count": null,
   "id": "3630b69f-9ac0-4c3a-be56-6368c58b4df6",
   "metadata": {},
   "outputs": [],
   "source": []
  },
  {
   "cell_type": "code",
   "execution_count": null,
   "id": "f9c5bc94-0ee8-4494-bb3d-487dd926b289",
   "metadata": {},
   "outputs": [],
   "source": []
  },
  {
   "cell_type": "code",
   "execution_count": null,
   "id": "c9370ca4-6fca-4259-bff1-0afa852df2e6",
   "metadata": {},
   "outputs": [],
   "source": []
  },
  {
   "cell_type": "code",
   "execution_count": null,
   "id": "ad66e5ee-51a3-4c10-8da9-ef34104cb389",
   "metadata": {},
   "outputs": [],
   "source": []
  },
  {
   "cell_type": "code",
   "execution_count": 42,
   "id": "7ee76da9-a53a-4227-9da4-784683890018",
   "metadata": {},
   "outputs": [],
   "source": [
    "# 単語数をカウントする関数\n",
    "def count_words(sentence):\n",
    "    words_list = str(sentence).split(' ') \n",
    "    # print(words_list)\n",
    "    return len(words_list)\n",
    "# 単語数をカウントする関数を name の各データに適用\n",
    "df['n_words'] = df['name'].apply(count_words) \n",
    "# name を削除\n",
    "# df = df.drop(columns=['name'])"
   ]
  },
  {
   "cell_type": "code",
   "execution_count": 43,
   "id": "aab071c8-3958-4727-b2d4-cf2beb0bc5d4",
   "metadata": {},
   "outputs": [
    {
     "data": {
      "text/html": [
       "<div>\n",
       "<style scoped>\n",
       "    .dataframe tbody tr th:only-of-type {\n",
       "        vertical-align: middle;\n",
       "    }\n",
       "\n",
       "    .dataframe tbody tr th {\n",
       "        vertical-align: top;\n",
       "    }\n",
       "\n",
       "    .dataframe thead th {\n",
       "        text-align: right;\n",
       "    }\n",
       "</style>\n",
       "<table border=\"1\" class=\"dataframe\">\n",
       "  <thead>\n",
       "    <tr style=\"text-align: right;\">\n",
       "      <th></th>\n",
       "      <th>name</th>\n",
       "      <th>n_words</th>\n",
       "    </tr>\n",
       "  </thead>\n",
       "  <tbody>\n",
       "    <tr>\n",
       "      <th>0</th>\n",
       "      <td>The Songs of Adelaide &amp; Abullah</td>\n",
       "      <td>6</td>\n",
       "    </tr>\n",
       "    <tr>\n",
       "      <th>1</th>\n",
       "      <td>Greeting From Earth: ZGAC Arts Capsule For ET</td>\n",
       "      <td>8</td>\n",
       "    </tr>\n",
       "    <tr>\n",
       "      <th>2</th>\n",
       "      <td>Where is Hank?</td>\n",
       "      <td>3</td>\n",
       "    </tr>\n",
       "    <tr>\n",
       "      <th>3</th>\n",
       "      <td>ToshiCapital Rekordz Needs Help to Complete Album</td>\n",
       "      <td>7</td>\n",
       "    </tr>\n",
       "    <tr>\n",
       "      <th>5</th>\n",
       "      <td>Monarch Espresso Bar</td>\n",
       "      <td>3</td>\n",
       "    </tr>\n",
       "  </tbody>\n",
       "</table>\n",
       "</div>"
      ],
      "text/plain": [
       "                                                name  n_words\n",
       "0                    The Songs of Adelaide & Abullah        6\n",
       "1      Greeting From Earth: ZGAC Arts Capsule For ET        8\n",
       "2                                     Where is Hank?        3\n",
       "3  ToshiCapital Rekordz Needs Help to Complete Album        7\n",
       "5                               Monarch Espresso Bar        3"
      ]
     },
     "execution_count": 43,
     "metadata": {},
     "output_type": "execute_result"
    }
   ],
   "source": [
    "df[['name', 'n_words']].head()"
   ]
  },
  {
   "cell_type": "code",
   "execution_count": null,
   "id": "4efd5c8f-386f-459d-aa68-12230924320f",
   "metadata": {},
   "outputs": [],
   "source": []
  },
  {
   "cell_type": "code",
   "execution_count": null,
   "id": "66fde590-ff54-46bf-8226-e7b505f0138c",
   "metadata": {},
   "outputs": [],
   "source": []
  },
  {
   "cell_type": "code",
   "execution_count": null,
   "id": "c0e6b7fe-c7b3-424b-b4ce-40650e80af08",
   "metadata": {},
   "outputs": [],
   "source": []
  },
  {
   "cell_type": "code",
   "execution_count": null,
   "id": "9f2d4d67-6ce7-45a7-8db8-0f3d92755e42",
   "metadata": {},
   "outputs": [],
   "source": []
  },
  {
   "cell_type": "markdown",
   "id": "33da3121-1c8b-4149-80f7-a60d4c698b49",
   "metadata": {},
   "source": [
    "## 目標金額\n",
    "usd_goal_realを対数変換する"
   ]
  },
  {
   "cell_type": "code",
   "execution_count": 12,
   "id": "28f3d73d-b886-478c-9dcf-9d0ce3574940",
   "metadata": {},
   "outputs": [
    {
     "data": {
      "text/plain": [
       "0     1533.95\n",
       "1    30000.00\n",
       "2    45000.00\n",
       "3     5000.00\n",
       "5    50000.00\n",
       "Name: usd_goal_real, dtype: float64"
      ]
     },
     "execution_count": 12,
     "metadata": {},
     "output_type": "execute_result"
    }
   ],
   "source": [
    "df['usd_goal_real'].head()"
   ]
  },
  {
   "cell_type": "code",
   "execution_count": 13,
   "id": "6e92c53f-4ba6-4ac2-93a4-57c323854d7a",
   "metadata": {},
   "outputs": [],
   "source": [
    "# df['usd_goal_real'].plot(bins=20, kind='hist')"
   ]
  },
  {
   "cell_type": "code",
   "execution_count": 14,
   "id": "2f471ee8-b7f8-46b2-92e5-c00c5709333e",
   "metadata": {},
   "outputs": [],
   "source": [
    "# usd_goal_realを対数変換する\n",
    "df['log_goal'] = np.log(df['usd_goal_real'])\n",
    "df = df.drop(columns='usd_goal_real')"
   ]
  },
  {
   "cell_type": "code",
   "execution_count": null,
   "id": "e83887b2-275b-4793-8484-cd041a47ed08",
   "metadata": {},
   "outputs": [],
   "source": []
  },
  {
   "cell_type": "markdown",
   "id": "51976c5e-4c51-41ce-938b-15b6b4cad4d2",
   "metadata": {},
   "source": [
    "# 加工データの保存"
   ]
  },
  {
   "cell_type": "code",
   "execution_count": 53,
   "id": "7e4b31a1-55a3-4fcb-ae89-d3d377c5d46c",
   "metadata": {},
   "outputs": [],
   "source": [
    "# df.to_csv('./data/input_01.csv')\n",
    "# df.to_csv('./data/input_02.csv')\n",
    "# df.to_csv('./data/input_03.csv')\n",
    "df.to_csv('./data/input_04.csv')"
   ]
  },
  {
   "cell_type": "markdown",
   "id": "786bf110-b457-4960-957a-5e4554f00ce5",
   "metadata": {},
   "source": [
    "### input_01.csv\n",
    "- 初期\n",
    "\n",
    "### input_02.csv\n",
    "- 初期\n",
    "- main_category x category -> class\n",
    "\n",
    "### input_03.csv\n",
    "- 初期\n",
    "- main_category x category -> class\n",
    "- launched -> year/month/day"
   ]
  },
  {
   "cell_type": "code",
   "execution_count": null,
   "id": "4e486624-13f0-497f-a83b-5cb602114d5c",
   "metadata": {},
   "outputs": [],
   "source": []
  },
  {
   "cell_type": "code",
   "execution_count": null,
   "id": "67a8292b-185d-41db-a445-9a2f0371d2bb",
   "metadata": {},
   "outputs": [],
   "source": []
  },
  {
   "cell_type": "code",
   "execution_count": null,
   "id": "2b3b073e-55dc-48fe-8481-4a26cd40bfae",
   "metadata": {},
   "outputs": [],
   "source": []
  }
 ],
 "metadata": {
  "kernelspec": {
   "display_name": "Python 3 (ipykernel)",
   "language": "python",
   "name": "python3"
  },
  "language_info": {
   "codemirror_mode": {
    "name": "ipython",
    "version": 3
   },
   "file_extension": ".py",
   "mimetype": "text/x-python",
   "name": "python",
   "nbconvert_exporter": "python",
   "pygments_lexer": "ipython3",
   "version": "3.10.5"
  }
 },
 "nbformat": 4,
 "nbformat_minor": 5
}
