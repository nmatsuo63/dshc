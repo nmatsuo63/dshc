{
 "cells": [
  {
   "cell_type": "code",
   "execution_count": 20,
   "id": "fbd7e528-f935-460b-a48e-bc6197319d99",
   "metadata": {},
   "outputs": [],
   "source": [
    "import numpy as np\n",
    "import pandas as pd\n",
    "# from sklearn.model_selection import train_test_split\n",
    "# from sklearn.metrics import accuracy_score\n",
    "\n",
    "# from sklearn.model_selection import KFold # 交差検証法に関する関数\n",
    "\n",
    "import warnings\n",
    "warnings.simplefilter('ignore')\n"
   ]
  },
  {
   "cell_type": "markdown",
   "id": "97816d17-5cd6-434e-a8e5-077d17c50389",
   "metadata": {},
   "source": [
    "## データの読み込み"
   ]
  },
  {
   "cell_type": "code",
   "execution_count": 21,
   "id": "4b225571-59eb-4ea2-8b8c-fb8add3b8067",
   "metadata": {},
   "outputs": [],
   "source": [
    "# データの読み込み\n",
    "# df_org = pd.read_csv('./data/input_01.csv')\n",
    "# df_org = pd.read_csv('./data/input_02.csv')\n",
    "df_org = pd.read_csv('./data/input_03.csv')"
   ]
  },
  {
   "cell_type": "code",
   "execution_count": 22,
   "id": "4ba32bb7-4a9e-48b2-ad57-3a23a95978ad",
   "metadata": {},
   "outputs": [],
   "source": [
    "# データ量が多いのでコーディング中はサンプリング\n",
    "# df = df_org.sample(100000, replace=True)\n",
    "df = df_org"
   ]
  },
  {
   "cell_type": "markdown",
   "id": "639cf987-40b7-45cd-b962-34efbddae136",
   "metadata": {},
   "source": [
    "## データの準備"
   ]
  },
  {
   "cell_type": "code",
   "execution_count": 23,
   "id": "2ef3f15d-e7d7-4c6c-b064-160dfd64360e",
   "metadata": {},
   "outputs": [],
   "source": [
    "# 数値エンコーディング（GBDT以外の場合は必須）\n",
    "from sklearn.preprocessing import LabelEncoder\n",
    "encoder = LabelEncoder()\n",
    "df = df.apply(encoder.fit_transform)"
   ]
  },
  {
   "cell_type": "code",
   "execution_count": 24,
   "id": "1d89b82c-ff6f-4b03-95d2-2199d068dfe1",
   "metadata": {},
   "outputs": [],
   "source": [
    "y = df[['state']]\n",
    "# x_cols = ['category', 'main_category', 'currency', 'country', 'period', 'n_words', 'log_goal']\n",
    "# x_cols = ['class', 'currency', 'country', 'period', 'n_words', 'log_goal']\n",
    "# x_cols = ['class', 'main_category', 'currency', 'country', 'period', 'n_words', 'log_goal']\n",
    "x_cols = ['class', 'currency', 'country', 'period', 'n_words', 'log_goal', 'launched_year', 'launched_month', 'launched_day']\n",
    "x = df[x_cols]"
   ]
  },
  {
   "cell_type": "code",
   "execution_count": 30,
   "id": "1880dd7c-7ff1-47b8-bd1f-829133200a10",
   "metadata": {},
   "outputs": [
    {
     "data": {
      "text/html": [
       "<div>\n",
       "<style scoped>\n",
       "    .dataframe tbody tr th:only-of-type {\n",
       "        vertical-align: middle;\n",
       "    }\n",
       "\n",
       "    .dataframe tbody tr th {\n",
       "        vertical-align: top;\n",
       "    }\n",
       "\n",
       "    .dataframe thead th {\n",
       "        text-align: right;\n",
       "    }\n",
       "</style>\n",
       "<table border=\"1\" class=\"dataframe\">\n",
       "  <thead>\n",
       "    <tr style=\"text-align: right;\">\n",
       "      <th></th>\n",
       "      <th>state</th>\n",
       "    </tr>\n",
       "  </thead>\n",
       "  <tbody>\n",
       "    <tr>\n",
       "      <th>0</th>\n",
       "      <td>0</td>\n",
       "    </tr>\n",
       "    <tr>\n",
       "      <th>1</th>\n",
       "      <td>0</td>\n",
       "    </tr>\n",
       "    <tr>\n",
       "      <th>2</th>\n",
       "      <td>0</td>\n",
       "    </tr>\n",
       "    <tr>\n",
       "      <th>3</th>\n",
       "      <td>0</td>\n",
       "    </tr>\n",
       "    <tr>\n",
       "      <th>4</th>\n",
       "      <td>1</td>\n",
       "    </tr>\n",
       "  </tbody>\n",
       "</table>\n",
       "</div>"
      ],
      "text/plain": [
       "   state\n",
       "0      0\n",
       "1      0\n",
       "2      0\n",
       "3      0\n",
       "4      1"
      ]
     },
     "execution_count": 30,
     "metadata": {},
     "output_type": "execute_result"
    }
   ],
   "source": [
    "y.head()"
   ]
  },
  {
   "cell_type": "code",
   "execution_count": 26,
   "id": "a4e50284-4487-47fc-9fde-1e985c77f9f7",
   "metadata": {},
   "outputs": [
    {
     "data": {
      "text/html": [
       "<div>\n",
       "<style scoped>\n",
       "    .dataframe tbody tr th:only-of-type {\n",
       "        vertical-align: middle;\n",
       "    }\n",
       "\n",
       "    .dataframe tbody tr th {\n",
       "        vertical-align: top;\n",
       "    }\n",
       "\n",
       "    .dataframe thead th {\n",
       "        text-align: right;\n",
       "    }\n",
       "</style>\n",
       "<table border=\"1\" class=\"dataframe\">\n",
       "  <thead>\n",
       "    <tr style=\"text-align: right;\">\n",
       "      <th></th>\n",
       "      <th>class</th>\n",
       "      <th>currency</th>\n",
       "      <th>country</th>\n",
       "      <th>period</th>\n",
       "      <th>n_words</th>\n",
       "      <th>log_goal</th>\n",
       "      <th>launched_year</th>\n",
       "      <th>launched_month</th>\n",
       "      <th>launched_day</th>\n",
       "    </tr>\n",
       "  </thead>\n",
       "  <tbody>\n",
       "    <tr>\n",
       "      <th>0</th>\n",
       "      <td>97</td>\n",
       "      <td>5</td>\n",
       "      <td>9</td>\n",
       "      <td>58</td>\n",
       "      <td>5</td>\n",
       "      <td>10270</td>\n",
       "      <td>6</td>\n",
       "      <td>7</td>\n",
       "      <td>10</td>\n",
       "    </tr>\n",
       "    <tr>\n",
       "      <th>1</th>\n",
       "      <td>42</td>\n",
       "      <td>13</td>\n",
       "      <td>22</td>\n",
       "      <td>59</td>\n",
       "      <td>7</td>\n",
       "      <td>35206</td>\n",
       "      <td>8</td>\n",
       "      <td>8</td>\n",
       "      <td>1</td>\n",
       "    </tr>\n",
       "    <tr>\n",
       "      <th>2</th>\n",
       "      <td>42</td>\n",
       "      <td>13</td>\n",
       "      <td>22</td>\n",
       "      <td>44</td>\n",
       "      <td>2</td>\n",
       "      <td>37850</td>\n",
       "      <td>4</td>\n",
       "      <td>0</td>\n",
       "      <td>11</td>\n",
       "    </tr>\n",
       "    <tr>\n",
       "      <th>3</th>\n",
       "      <td>78</td>\n",
       "      <td>13</td>\n",
       "      <td>22</td>\n",
       "      <td>29</td>\n",
       "      <td>6</td>\n",
       "      <td>19451</td>\n",
       "      <td>3</td>\n",
       "      <td>2</td>\n",
       "      <td>16</td>\n",
       "    </tr>\n",
       "    <tr>\n",
       "      <th>4</th>\n",
       "      <td>55</td>\n",
       "      <td>13</td>\n",
       "      <td>22</td>\n",
       "      <td>34</td>\n",
       "      <td>2</td>\n",
       "      <td>38482</td>\n",
       "      <td>7</td>\n",
       "      <td>1</td>\n",
       "      <td>25</td>\n",
       "    </tr>\n",
       "  </tbody>\n",
       "</table>\n",
       "</div>"
      ],
      "text/plain": [
       "   class  currency  country  period  n_words  log_goal  launched_year  \\\n",
       "0     97         5        9      58        5     10270              6   \n",
       "1     42        13       22      59        7     35206              8   \n",
       "2     42        13       22      44        2     37850              4   \n",
       "3     78        13       22      29        6     19451              3   \n",
       "4     55        13       22      34        2     38482              7   \n",
       "\n",
       "   launched_month  launched_day  \n",
       "0               7            10  \n",
       "1               8             1  \n",
       "2               0            11  \n",
       "3               2            16  \n",
       "4               1            25  "
      ]
     },
     "execution_count": 26,
     "metadata": {},
     "output_type": "execute_result"
    }
   ],
   "source": [
    "x.head()"
   ]
  },
  {
   "cell_type": "markdown",
   "id": "da89fd9e-cbae-464f-ab2c-10fea4c7fb72",
   "metadata": {},
   "source": [
    "## モデル学習・推論"
   ]
  },
  {
   "cell_type": "code",
   "execution_count": 27,
   "id": "40af392d-f41a-43e4-8ffa-2047358c5a46",
   "metadata": {},
   "outputs": [],
   "source": [
    "from sklearn.model_selection import train_test_split\n",
    "import lightgbm as lgb\n",
    "from sklearn.metrics import log_loss, roc_auc_score, accuracy_score\n",
    "\n",
    "# 訓練データとテストデータを8:2に分割\n",
    "# ※評価を揃えるため df 以外の引数は変更しないこと\n",
    "x_train, x_test, y_train, y_test = train_test_split(x,y,test_size=0.2, random_state=1234)\n",
    "\n",
    "# パラメータ\n",
    "RANDOM_STATE = 10\n",
    "num_round = 1000\n",
    "TEST_SIZE = 0.2\n",
    "\n",
    "# 学習データと評価データを作成\n",
    "x_train, x_valid, y_train, y_valid = train_test_split(x_train,y_train,test_size=TEST_SIZE,random_state=RANDOM_STATE)\n",
    "\n",
    "lgb_train = lgb.Dataset(x_train, y_train)\n",
    "lgb_eval = lgb.Dataset(x_valid, y_valid, reference=lgb_train)"
   ]
  },
  {
   "cell_type": "code",
   "execution_count": 28,
   "id": "1610685c-b839-4369-9d04-9cc60e02d602",
   "metadata": {},
   "outputs": [],
   "source": [
    "# LightGBMのパラメータ設定\n",
    "params = {\n",
    "    'boosting_type': 'gbdt',\n",
    "    'objective': 'binary',\n",
    "    'metric': 'binary_logloss',\n",
    "    'num_leaves': 50,\n",
    "    'verbose': 0\n",
    "}"
   ]
  },
  {
   "cell_type": "code",
   "execution_count": 32,
   "id": "a3460295-610e-4cd4-a0cf-8baa7d0dec4d",
   "metadata": {},
   "outputs": [
    {
     "name": "stdout",
     "output_type": "stream",
     "text": [
      "[LightGBM] [Warning] Auto-choosing row-wise multi-threading, the overhead of testing was 0.007588 seconds.\n",
      "You can set `force_row_wise=true` to remove the overhead.\n",
      "And if memory is not enough, you can set `force_col_wise=true`.\n",
      "訓練データの正答率: 69.53 %\n"
     ]
    }
   ],
   "source": [
    "# 訓練データに対する予測\n",
    "# LightGBM学習\n",
    "model = lgb.train(params, lgb_train, num_round, \n",
    "                  valid_names=['train', 'valid'], valid_sets=lgb_eval,\n",
    "                  early_stopping_rounds=20, verbose_eval=False)\n",
    "\n",
    "# LightGBM推論\n",
    "y_pred = model.predict(x_valid, num_iteration=model.best_iteration)\n",
    "\n",
    "# 評価\n",
    "y_pred = y_pred.round(0)\n",
    "# acc_train = accuracy_score(y_test, y_pred)\n",
    "acc_train = accuracy_score(y_true=y_valid, y_pred=y_pred)\n",
    "\n",
    "print(f\"訓練データの正答率: {100 * acc_train:.3f} %\")    "
   ]
  },
  {
   "cell_type": "code",
   "execution_count": 34,
   "id": "91e7f593-5fc0-4e82-b06e-1354d6fb3e87",
   "metadata": {},
   "outputs": [
    {
     "name": "stdout",
     "output_type": "stream",
     "text": [
      "テストデータの正答率: 69.619 %\n"
     ]
    }
   ],
   "source": [
    "# テストデータに対する予測\n",
    "# LightGBM推論\n",
    "y_pred = model.predict(x_test, num_iteration=model.best_iteration)\n",
    "\n",
    "# 評価\n",
    "y_pred = y_pred.round(0)\n",
    "acc_train = accuracy_score(y_true=y_test, y_pred=y_pred)\n",
    "print(f\"テストデータの正答率: {100 * acc_train:.3f} %\")    "
   ]
  },
  {
   "cell_type": "markdown",
   "id": "5a623341-d3ab-4148-a894-121b765cfd51",
   "metadata": {
    "jp-MarkdownHeadingCollapsed": true,
    "tags": []
   },
   "source": [
    "## 交差検証"
   ]
  },
  {
   "cell_type": "code",
   "execution_count": 87,
   "id": "555b87a7-3f9e-462c-bde2-b684c33aa862",
   "metadata": {},
   "outputs": [],
   "source": [
    "# !pip install lightgbm"
   ]
  },
  {
   "cell_type": "code",
   "execution_count": 17,
   "id": "4b3734a6-7019-41e8-a8ae-5b2533ea5651",
   "metadata": {},
   "outputs": [],
   "source": [
    "from sklearn.model_selection import KFold\n",
    "n_split = 5 # グループ数を設定（今回は5分割）\n",
    "seed = 1234\n",
    "# cross_valid_mae = 0\n",
    "split_num = 1\n",
    "kf = KFold(n_splits=n_split, shuffle=True, random_state=seed)"
   ]
  },
  {
   "cell_type": "code",
   "execution_count": 18,
   "id": "8f41b00f-f53a-46ae-85e2-de739dd9b6d2",
   "metadata": {},
   "outputs": [
    {
     "name": "stdout",
     "output_type": "stream",
     "text": [
      "[LightGBM] [Warning] Auto-choosing row-wise multi-threading, the overhead of testing was 0.005674 seconds.\n",
      "You can set `force_row_wise=true` to remove the overhead.\n",
      "And if memory is not enough, you can set `force_col_wise=true`.\n",
      "01valid_accuracy_score: 0.6979 %\n",
      "[LightGBM] [Warning] Auto-choosing row-wise multi-threading, the overhead of testing was 0.006307 seconds.\n",
      "You can set `force_row_wise=true` to remove the overhead.\n",
      "And if memory is not enough, you can set `force_col_wise=true`.\n",
      "02valid_accuracy_score: 0.6958 %\n",
      "[LightGBM] [Warning] Auto-choosing row-wise multi-threading, the overhead of testing was 0.004834 seconds.\n",
      "You can set `force_row_wise=true` to remove the overhead.\n",
      "And if memory is not enough, you can set `force_col_wise=true`.\n",
      "03valid_accuracy_score: 0.7014 %\n",
      "[LightGBM] [Warning] Auto-choosing row-wise multi-threading, the overhead of testing was 0.005633 seconds.\n",
      "You can set `force_row_wise=true` to remove the overhead.\n",
      "And if memory is not enough, you can set `force_col_wise=true`.\n",
      "04valid_accuracy_score: 0.6969 %\n",
      "[LightGBM] [Warning] Auto-choosing row-wise multi-threading, the overhead of testing was 0.005650 seconds.\n",
      "You can set `force_row_wise=true` to remove the overhead.\n",
      "And if memory is not enough, you can set `force_col_wise=true`.\n",
      "05valid_accuracy_score: 0.6981 %\n"
     ]
    }
   ],
   "source": [
    "from sklearn.metrics import log_loss, roc_auc_score, accuracy_score\n",
    "import lightgbm as lgb\n",
    "\n",
    "# scores_train = []\n",
    "scores_valid = []\n",
    "itr = 1\n",
    "\n",
    "for train_idx, valid_idx in kf.split(x, y):\n",
    "    x_train, y_train = x.iloc[train_idx], y.iloc[train_idx]\n",
    "    x_valid, y_valid = x.iloc[valid_idx], y.iloc[valid_idx]\n",
    "    \n",
    "    # lightgbmのデータ構造に変換\n",
    "    lgb_train = lgb.Dataset(x_train, y_train)\n",
    "    lgb_valid = lgb.Dataset(x_valid, y_valid)\n",
    "    \n",
    "    # ハイパーパラメータの設定\n",
    "    # metricsはaccuracy_scoreにすべきかも\n",
    "    params = {'num_leaves': 64, 'objective': 'binary', 'seed': seed, \n",
    "              'verbose': 0, 'metrics': 'binary_logloss'}\n",
    "    num_round = 1000\n",
    "\n",
    "    # 学習の実行\n",
    "    # カテゴリ変数を指定した場合の挙動はKaggle本 p240参照\n",
    "    # categorical_features = ['category', 'main_category', 'currency', 'country']\n",
    "    model = lgb.train(params, lgb_train, num_round, \n",
    "                    valid_names=['train', 'valid'], valid_sets=[lgb_train, lgb_valid],\n",
    "                     early_stopping_rounds=20, verbose_eval=False)\n",
    "    \n",
    "    # # 訓練データに対する予測、正答率\n",
    "    # y_pred = clf.predict(x_train)\n",
    "    # acc_train = accuracy_score(y_true=y_train, y_pred=y_pred)\n",
    "    # print(f\"{itr:02}train_訓練データの正答率: {100 * acc_train:.2f} %\")\n",
    "    # scores_train.append(acc_train)  \n",
    "    \n",
    "    # 検証データに対する予測\n",
    "    y_pred = model.predict(x_valid)\n",
    "    # accurasy_scoreするには0で丸め込みが必要（https://shiokoji11235.com/two_interface_of_lightgbm）\n",
    "    y_pred = y_pred.round(0)\n",
    "    # score_valid = log_loss(y_true=y_valid, y_pred=y_pred)\n",
    "    score_valid = accuracy_score(y_valid, y_pred)\n",
    "    # score_valid = roc_auc_score(y_valid, y_pred)\n",
    "    # print(f\"{itr:02}valid_logloss: {score_valid:.4f} %\")    \n",
    "    print(f\"{itr:02}valid_accuracy_score: {score_valid:.4f} %\")    \n",
    "    # print(f\"{itr:02}valid_auc_score: {score_valid:.4f} %\")    \n",
    "    scores_valid.append(score_valid)\n",
    "    \n",
    "    itr += 1"
   ]
  },
  {
   "cell_type": "code",
   "execution_count": 19,
   "id": "600ff365-9fc0-496a-9ea6-38fe48de6441",
   "metadata": {},
   "outputs": [
    {
     "name": "stdout",
     "output_type": "stream",
     "text": [
      "0.6980055777493028\n"
     ]
    }
   ],
   "source": [
    "# 各foldのスコアの平均\n",
    "# print(np.mean(scores_train))\n",
    "print(np.mean(scores_valid))"
   ]
  },
  {
   "cell_type": "markdown",
   "id": "e178a3c0-ddd1-4746-a1b2-58af0b346206",
   "metadata": {
    "tags": []
   },
   "source": [
    "### input_01.csv\n",
    "- 検証データに対する正答率：0.69899\n"
   ]
  },
  {
   "cell_type": "markdown",
   "id": "3806ceae-1f59-45d9-8fc8-0a64406d9006",
   "metadata": {},
   "source": [
    "### input_02.csv（class, main_category）\n",
    "- 検証データに対する正答率：0.70896\n"
   ]
  },
  {
   "cell_type": "markdown",
   "id": "7fa5352a-f978-4ea3-a7c4-426d29898e70",
   "metadata": {},
   "source": [
    "### input_02.csv（class）\n",
    "- 検証データに対する正答率：0.70765\n"
   ]
  },
  {
   "cell_type": "markdown",
   "id": "4b03d317-986e-4e64-9abe-065a7066f055",
   "metadata": {},
   "source": [
    "### input_03.csv（class, yar/month/day）\n",
    "- 検証データに対する正答率：0.7159\n"
   ]
  },
  {
   "cell_type": "code",
   "execution_count": null,
   "id": "4129a490-01a9-4c79-bb8c-25716056f055",
   "metadata": {},
   "outputs": [],
   "source": []
  },
  {
   "cell_type": "code",
   "execution_count": null,
   "id": "e0b44948-fd68-4c58-846b-adf965a28f75",
   "metadata": {},
   "outputs": [],
   "source": []
  },
  {
   "cell_type": "markdown",
   "id": "9add59be-65dc-43e5-9989-98483245efbe",
   "metadata": {},
   "source": [
    "## テストデータに対する予測\n",
    "本来はtrain/validではなくtrain/valid/testに分割し、testに対する予測を見るべき"
   ]
  },
  {
   "cell_type": "code",
   "execution_count": null,
   "id": "e0427309-9a93-4225-9872-01183724f70d",
   "metadata": {},
   "outputs": [],
   "source": []
  }
 ],
 "metadata": {
  "kernelspec": {
   "display_name": "Python 3 (ipykernel)",
   "language": "python",
   "name": "python3"
  },
  "language_info": {
   "codemirror_mode": {
    "name": "ipython",
    "version": 3
   },
   "file_extension": ".py",
   "mimetype": "text/x-python",
   "name": "python",
   "nbconvert_exporter": "python",
   "pygments_lexer": "ipython3",
   "version": "3.10.5"
  }
 },
 "nbformat": 4,
 "nbformat_minor": 5
}
