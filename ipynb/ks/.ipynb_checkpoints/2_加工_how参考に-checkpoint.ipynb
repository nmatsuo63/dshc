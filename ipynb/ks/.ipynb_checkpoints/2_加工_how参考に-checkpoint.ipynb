{
 "cells": [
  {
   "cell_type": "code",
   "execution_count": 1,
   "id": "083a5a00-c817-4ecc-9144-f3fc7655f4a8",
   "metadata": {},
   "outputs": [],
   "source": [
    "import numpy as np\n",
    "import pandas as pd\n",
    "from sklearn.model_selection import train_test_split\n",
    "from sklearn.metrics import accuracy_score\n",
    "\n",
    "import warnings\n",
    "warnings.simplefilter('ignore')\n"
   ]
  },
  {
   "cell_type": "code",
   "execution_count": null,
   "id": "5d19e248-c2cf-48b7-93fb-bcece7cff9a9",
   "metadata": {},
   "outputs": [],
   "source": []
  },
  {
   "cell_type": "code",
   "execution_count": 2,
   "id": "d5d6f106-a4fe-41cc-bb7a-021d234f42d9",
   "metadata": {},
   "outputs": [],
   "source": [
    "# データの読み込み\n",
    "df_org = pd.read_csv('./data/ks-projects-201801.csv')\n"
   ]
  },
  {
   "cell_type": "code",
   "execution_count": 35,
   "id": "26ece8e6-eaa7-4846-b9d2-b77ff0cfef2d",
   "metadata": {},
   "outputs": [],
   "source": [
    "# 成功（successful）と失敗（failed）以外のデータを除外する\n",
    "df = df_org[(df_org['state'] == 'successful') | (df_org['state'] == 'failed')]"
   ]
  },
  {
   "cell_type": "code",
   "execution_count": null,
   "id": "1da278b1-5192-44ce-b67f-40312a099f56",
   "metadata": {},
   "outputs": [],
   "source": []
  },
  {
   "cell_type": "markdown",
   "id": "aad8096f-2e11-4d4f-99ba-989e12ca97f7",
   "metadata": {},
   "source": [
    "## プロジェクトの状態（state）"
   ]
  },
  {
   "cell_type": "code",
   "execution_count": 36,
   "id": "380eb088-fc69-4743-ba9b-a6015a32f088",
   "metadata": {},
   "outputs": [],
   "source": [
    "state_mapping = { 'successful':1, 'failed':0}\n",
    "df['state'] = df['state'].map(state_mapping)"
   ]
  },
  {
   "cell_type": "code",
   "execution_count": null,
   "id": "a264fe50-9082-4c1a-9850-88574fa6b569",
   "metadata": {},
   "outputs": [],
   "source": []
  },
  {
   "cell_type": "code",
   "execution_count": null,
   "id": "971ee74f-19ea-4bcc-a19f-f52cc1c4caac",
   "metadata": {},
   "outputs": [],
   "source": []
  },
  {
   "cell_type": "markdown",
   "id": "7d0763e8-ef4a-4197-93e6-fba72e9c2b7f",
   "metadata": {},
   "source": [
    "## 日時"
   ]
  },
  {
   "cell_type": "markdown",
   "id": "d4fdea0c-358d-4fde-9a5b-5b3b5aabc989",
   "metadata": {},
   "source": [
    "### 期間を新しく作成する\n",
    "deadline - launched"
   ]
  },
  {
   "cell_type": "code",
   "execution_count": 37,
   "id": "33ee7308-f9dd-4c7f-867c-076e575d5fff",
   "metadata": {},
   "outputs": [],
   "source": [
    "# 日時に関する列を string から TimeStamp に変換\n",
    "df['deadline'] = pd.to_datetime(df['deadline'])\n",
    "df['launched'] = pd.to_datetime(df['launched'])\n",
    "\n",
    "# 期間の列を作成\n",
    "df['period'] = (df['deadline'] - df['launched']).dt.days # 差分を日数として表示"
   ]
  },
  {
   "cell_type": "code",
   "execution_count": null,
   "id": "ddbe99c3-456b-4907-91ab-17426cef99cc",
   "metadata": {},
   "outputs": [],
   "source": []
  },
  {
   "cell_type": "markdown",
   "id": "9ba9add1-390f-43a4-b53c-375e53086706",
   "metadata": {},
   "source": [
    "### launched\n",
    "周期性を考慮してクォーターで分ける\n",
    "米国の会計年度は10月から9月。"
   ]
  },
  {
   "cell_type": "code",
   "execution_count": 38,
   "id": "e8ff698b-0ad1-4ebe-9d09-1dc34a6100c7",
   "metadata": {},
   "outputs": [],
   "source": [
    "df['launched_year'] = df['launched'].dt.year\n",
    "df['launched_month'] = df['launched'].dt.month\n",
    "df['launched_day'] = df['launched'].dt.day"
   ]
  },
  {
   "cell_type": "markdown",
   "id": "b2344cb4-9188-4998-a739-106c6dbb7d3d",
   "metadata": {},
   "source": [
    "### 不要な列を削除する"
   ]
  },
  {
   "cell_type": "code",
   "execution_count": 39,
   "id": "d5bd3651-3b3b-4204-953d-0a0867b2aabd",
   "metadata": {},
   "outputs": [],
   "source": [
    "# launched と deadline を削除\n",
    "# df = df.drop(columns=['deadline', 'launched'])"
   ]
  },
  {
   "cell_type": "markdown",
   "id": "08abeb27-75c0-4794-bee2-b133894f8072",
   "metadata": {},
   "source": [
    "## カテゴリ"
   ]
  },
  {
   "cell_type": "code",
   "execution_count": 40,
   "id": "58db9fd6-235d-403a-af47-f051c156479e",
   "metadata": {},
   "outputs": [
    {
     "data": {
      "text/html": [
       "<div>\n",
       "<style scoped>\n",
       "    .dataframe tbody tr th:only-of-type {\n",
       "        vertical-align: middle;\n",
       "    }\n",
       "\n",
       "    .dataframe tbody tr th {\n",
       "        vertical-align: top;\n",
       "    }\n",
       "\n",
       "    .dataframe thead th {\n",
       "        text-align: right;\n",
       "    }\n",
       "</style>\n",
       "<table border=\"1\" class=\"dataframe\">\n",
       "  <thead>\n",
       "    <tr style=\"text-align: right;\">\n",
       "      <th></th>\n",
       "      <th>ID</th>\n",
       "      <th>name</th>\n",
       "      <th>category</th>\n",
       "      <th>main_category</th>\n",
       "      <th>currency</th>\n",
       "      <th>deadline</th>\n",
       "      <th>goal</th>\n",
       "      <th>launched</th>\n",
       "      <th>pledged</th>\n",
       "      <th>state</th>\n",
       "      <th>backers</th>\n",
       "      <th>country</th>\n",
       "      <th>usd pledged</th>\n",
       "      <th>usd_pledged_real</th>\n",
       "      <th>usd_goal_real</th>\n",
       "      <th>period</th>\n",
       "      <th>launched_year</th>\n",
       "      <th>launched_month</th>\n",
       "      <th>launched_day</th>\n",
       "      <th>class</th>\n",
       "    </tr>\n",
       "  </thead>\n",
       "  <tbody>\n",
       "    <tr>\n",
       "      <th>0</th>\n",
       "      <td>1000002330</td>\n",
       "      <td>The Songs of Adelaide &amp; Abullah</td>\n",
       "      <td>Poetry</td>\n",
       "      <td>Publishing</td>\n",
       "      <td>GBP</td>\n",
       "      <td>2015-10-09</td>\n",
       "      <td>1000.0</td>\n",
       "      <td>2015-08-11 12:12:28</td>\n",
       "      <td>0.0</td>\n",
       "      <td>0</td>\n",
       "      <td>0</td>\n",
       "      <td>GB</td>\n",
       "      <td>0.0</td>\n",
       "      <td>0.0</td>\n",
       "      <td>1533.95</td>\n",
       "      <td>58</td>\n",
       "      <td>2015</td>\n",
       "      <td>8</td>\n",
       "      <td>11</td>\n",
       "      <td>Publishing**Poetry</td>\n",
       "    </tr>\n",
       "    <tr>\n",
       "      <th>1</th>\n",
       "      <td>1000003930</td>\n",
       "      <td>Greeting From Earth: ZGAC Arts Capsule For ET</td>\n",
       "      <td>Narrative Film</td>\n",
       "      <td>Film &amp; Video</td>\n",
       "      <td>USD</td>\n",
       "      <td>2017-11-01</td>\n",
       "      <td>30000.0</td>\n",
       "      <td>2017-09-02 04:43:57</td>\n",
       "      <td>2421.0</td>\n",
       "      <td>0</td>\n",
       "      <td>15</td>\n",
       "      <td>US</td>\n",
       "      <td>100.0</td>\n",
       "      <td>2421.0</td>\n",
       "      <td>30000.00</td>\n",
       "      <td>59</td>\n",
       "      <td>2017</td>\n",
       "      <td>9</td>\n",
       "      <td>2</td>\n",
       "      <td>Film &amp; Video**Narrative Film</td>\n",
       "    </tr>\n",
       "    <tr>\n",
       "      <th>2</th>\n",
       "      <td>1000004038</td>\n",
       "      <td>Where is Hank?</td>\n",
       "      <td>Narrative Film</td>\n",
       "      <td>Film &amp; Video</td>\n",
       "      <td>USD</td>\n",
       "      <td>2013-02-26</td>\n",
       "      <td>45000.0</td>\n",
       "      <td>2013-01-12 00:20:50</td>\n",
       "      <td>220.0</td>\n",
       "      <td>0</td>\n",
       "      <td>3</td>\n",
       "      <td>US</td>\n",
       "      <td>220.0</td>\n",
       "      <td>220.0</td>\n",
       "      <td>45000.00</td>\n",
       "      <td>44</td>\n",
       "      <td>2013</td>\n",
       "      <td>1</td>\n",
       "      <td>12</td>\n",
       "      <td>Film &amp; Video**Narrative Film</td>\n",
       "    </tr>\n",
       "    <tr>\n",
       "      <th>3</th>\n",
       "      <td>1000007540</td>\n",
       "      <td>ToshiCapital Rekordz Needs Help to Complete Album</td>\n",
       "      <td>Music</td>\n",
       "      <td>Music</td>\n",
       "      <td>USD</td>\n",
       "      <td>2012-04-16</td>\n",
       "      <td>5000.0</td>\n",
       "      <td>2012-03-17 03:24:11</td>\n",
       "      <td>1.0</td>\n",
       "      <td>0</td>\n",
       "      <td>1</td>\n",
       "      <td>US</td>\n",
       "      <td>1.0</td>\n",
       "      <td>1.0</td>\n",
       "      <td>5000.00</td>\n",
       "      <td>29</td>\n",
       "      <td>2012</td>\n",
       "      <td>3</td>\n",
       "      <td>17</td>\n",
       "      <td>Music**Music</td>\n",
       "    </tr>\n",
       "    <tr>\n",
       "      <th>5</th>\n",
       "      <td>1000014025</td>\n",
       "      <td>Monarch Espresso Bar</td>\n",
       "      <td>Restaurants</td>\n",
       "      <td>Food</td>\n",
       "      <td>USD</td>\n",
       "      <td>2016-04-01</td>\n",
       "      <td>50000.0</td>\n",
       "      <td>2016-02-26 13:38:27</td>\n",
       "      <td>52375.0</td>\n",
       "      <td>1</td>\n",
       "      <td>224</td>\n",
       "      <td>US</td>\n",
       "      <td>52375.0</td>\n",
       "      <td>52375.0</td>\n",
       "      <td>50000.00</td>\n",
       "      <td>34</td>\n",
       "      <td>2016</td>\n",
       "      <td>2</td>\n",
       "      <td>26</td>\n",
       "      <td>Food**Restaurants</td>\n",
       "    </tr>\n",
       "  </tbody>\n",
       "</table>\n",
       "</div>"
      ],
      "text/plain": [
       "           ID                                               name  \\\n",
       "0  1000002330                    The Songs of Adelaide & Abullah   \n",
       "1  1000003930      Greeting From Earth: ZGAC Arts Capsule For ET   \n",
       "2  1000004038                                     Where is Hank?   \n",
       "3  1000007540  ToshiCapital Rekordz Needs Help to Complete Album   \n",
       "5  1000014025                               Monarch Espresso Bar   \n",
       "\n",
       "         category main_category currency   deadline     goal  \\\n",
       "0          Poetry    Publishing      GBP 2015-10-09   1000.0   \n",
       "1  Narrative Film  Film & Video      USD 2017-11-01  30000.0   \n",
       "2  Narrative Film  Film & Video      USD 2013-02-26  45000.0   \n",
       "3           Music         Music      USD 2012-04-16   5000.0   \n",
       "5     Restaurants          Food      USD 2016-04-01  50000.0   \n",
       "\n",
       "             launched  pledged  state  backers country  usd pledged  \\\n",
       "0 2015-08-11 12:12:28      0.0      0        0      GB          0.0   \n",
       "1 2017-09-02 04:43:57   2421.0      0       15      US        100.0   \n",
       "2 2013-01-12 00:20:50    220.0      0        3      US        220.0   \n",
       "3 2012-03-17 03:24:11      1.0      0        1      US          1.0   \n",
       "5 2016-02-26 13:38:27  52375.0      1      224      US      52375.0   \n",
       "\n",
       "   usd_pledged_real  usd_goal_real  period  launched_year  launched_month  \\\n",
       "0               0.0        1533.95      58           2015               8   \n",
       "1            2421.0       30000.00      59           2017               9   \n",
       "2             220.0       45000.00      44           2013               1   \n",
       "3               1.0        5000.00      29           2012               3   \n",
       "5           52375.0       50000.00      34           2016               2   \n",
       "\n",
       "   launched_day                         class  \n",
       "0            11            Publishing**Poetry  \n",
       "1             2  Film & Video**Narrative Film  \n",
       "2            12  Film & Video**Narrative Film  \n",
       "3            17                  Music**Music  \n",
       "5            26             Food**Restaurants  "
      ]
     },
     "execution_count": 40,
     "metadata": {},
     "output_type": "execute_result"
    }
   ],
   "source": [
    "# main_categoryとcategoryを結合する（class）\n",
    "df['class'] = df['main_category'].str.cat(df['category'], sep='**')\n",
    "df.head()"
   ]
  },
  {
   "cell_type": "code",
   "execution_count": 41,
   "id": "4f8a1837-543c-4380-ad4f-81ecaba01506",
   "metadata": {},
   "outputs": [],
   "source": [
    "# 各classの個数をカウントし、dataframeに変換する\n",
    "# https://www.web-dev-qa-db-ja.com/ja/python/python-pandas%EF%BC%9A-valuecounts%E5%87%BA%E5%8A%9B%E3%82%92%E3%83%87%E3%83%BC%E3%82%BF%E3%83%95%E3%83%AC%E3%83%BC%E3%83%A0%E3%81%AB%E5%A4%89%E6%8F%9B%E3%81%97%E3%81%BE%E3%81%99/835447736/\n",
    "df_counts = df['class'].value_counts().rename_axis('class').reset_index(name='counts')\n",
    "# トップ40位を抜き出す\n",
    "df_largest = df_counts.nlargest(120, columns='counts')\n",
    "# トップ40位の要素を削除したdataframeを作成する\n",
    "df_others = df_counts.drop(df_largest.index)\n",
    "# df_othersのclass列の項目をリスト化する\n",
    "others_list = df_others['class'].to_list()\n",
    "# others_list内の文字列に一致するclassをOthersに変更する\n",
    "df = df.replace(others_list, 'Others')"
   ]
  },
  {
   "cell_type": "code",
   "execution_count": 42,
   "id": "f90e75b4-7613-4541-b03e-c38139765c71",
   "metadata": {},
   "outputs": [
    {
     "data": {
      "text/html": [
       "<div>\n",
       "<style scoped>\n",
       "    .dataframe tbody tr th:only-of-type {\n",
       "        vertical-align: middle;\n",
       "    }\n",
       "\n",
       "    .dataframe tbody tr th {\n",
       "        vertical-align: top;\n",
       "    }\n",
       "\n",
       "    .dataframe thead th {\n",
       "        text-align: right;\n",
       "    }\n",
       "</style>\n",
       "<table border=\"1\" class=\"dataframe\">\n",
       "  <thead>\n",
       "    <tr style=\"text-align: right;\">\n",
       "      <th></th>\n",
       "      <th>ID</th>\n",
       "      <th>name</th>\n",
       "      <th>category</th>\n",
       "      <th>main_category</th>\n",
       "      <th>currency</th>\n",
       "      <th>deadline</th>\n",
       "      <th>goal</th>\n",
       "      <th>launched</th>\n",
       "      <th>pledged</th>\n",
       "      <th>state</th>\n",
       "      <th>backers</th>\n",
       "      <th>country</th>\n",
       "      <th>usd pledged</th>\n",
       "      <th>usd_pledged_real</th>\n",
       "      <th>usd_goal_real</th>\n",
       "      <th>period</th>\n",
       "      <th>launched_year</th>\n",
       "      <th>launched_month</th>\n",
       "      <th>launched_day</th>\n",
       "      <th>class</th>\n",
       "    </tr>\n",
       "  </thead>\n",
       "  <tbody>\n",
       "    <tr>\n",
       "      <th>0</th>\n",
       "      <td>1000002330</td>\n",
       "      <td>The Songs of Adelaide &amp; Abullah</td>\n",
       "      <td>Poetry</td>\n",
       "      <td>Publishing</td>\n",
       "      <td>GBP</td>\n",
       "      <td>2015-10-09</td>\n",
       "      <td>1000.0</td>\n",
       "      <td>2015-08-11 12:12:28</td>\n",
       "      <td>0.0</td>\n",
       "      <td>0</td>\n",
       "      <td>0</td>\n",
       "      <td>GB</td>\n",
       "      <td>0.0</td>\n",
       "      <td>0.0</td>\n",
       "      <td>1533.95</td>\n",
       "      <td>58</td>\n",
       "      <td>2015</td>\n",
       "      <td>8</td>\n",
       "      <td>11</td>\n",
       "      <td>Publishing**Poetry</td>\n",
       "    </tr>\n",
       "    <tr>\n",
       "      <th>1</th>\n",
       "      <td>1000003930</td>\n",
       "      <td>Greeting From Earth: ZGAC Arts Capsule For ET</td>\n",
       "      <td>Narrative Film</td>\n",
       "      <td>Film &amp; Video</td>\n",
       "      <td>USD</td>\n",
       "      <td>2017-11-01</td>\n",
       "      <td>30000.0</td>\n",
       "      <td>2017-09-02 04:43:57</td>\n",
       "      <td>2421.0</td>\n",
       "      <td>0</td>\n",
       "      <td>15</td>\n",
       "      <td>US</td>\n",
       "      <td>100.0</td>\n",
       "      <td>2421.0</td>\n",
       "      <td>30000.00</td>\n",
       "      <td>59</td>\n",
       "      <td>2017</td>\n",
       "      <td>9</td>\n",
       "      <td>2</td>\n",
       "      <td>Film &amp; Video**Narrative Film</td>\n",
       "    </tr>\n",
       "    <tr>\n",
       "      <th>2</th>\n",
       "      <td>1000004038</td>\n",
       "      <td>Where is Hank?</td>\n",
       "      <td>Narrative Film</td>\n",
       "      <td>Film &amp; Video</td>\n",
       "      <td>USD</td>\n",
       "      <td>2013-02-26</td>\n",
       "      <td>45000.0</td>\n",
       "      <td>2013-01-12 00:20:50</td>\n",
       "      <td>220.0</td>\n",
       "      <td>0</td>\n",
       "      <td>3</td>\n",
       "      <td>US</td>\n",
       "      <td>220.0</td>\n",
       "      <td>220.0</td>\n",
       "      <td>45000.00</td>\n",
       "      <td>44</td>\n",
       "      <td>2013</td>\n",
       "      <td>1</td>\n",
       "      <td>12</td>\n",
       "      <td>Film &amp; Video**Narrative Film</td>\n",
       "    </tr>\n",
       "    <tr>\n",
       "      <th>3</th>\n",
       "      <td>1000007540</td>\n",
       "      <td>ToshiCapital Rekordz Needs Help to Complete Album</td>\n",
       "      <td>Music</td>\n",
       "      <td>Music</td>\n",
       "      <td>USD</td>\n",
       "      <td>2012-04-16</td>\n",
       "      <td>5000.0</td>\n",
       "      <td>2012-03-17 03:24:11</td>\n",
       "      <td>1.0</td>\n",
       "      <td>0</td>\n",
       "      <td>1</td>\n",
       "      <td>US</td>\n",
       "      <td>1.0</td>\n",
       "      <td>1.0</td>\n",
       "      <td>5000.00</td>\n",
       "      <td>29</td>\n",
       "      <td>2012</td>\n",
       "      <td>3</td>\n",
       "      <td>17</td>\n",
       "      <td>Music**Music</td>\n",
       "    </tr>\n",
       "    <tr>\n",
       "      <th>5</th>\n",
       "      <td>1000014025</td>\n",
       "      <td>Monarch Espresso Bar</td>\n",
       "      <td>Restaurants</td>\n",
       "      <td>Food</td>\n",
       "      <td>USD</td>\n",
       "      <td>2016-04-01</td>\n",
       "      <td>50000.0</td>\n",
       "      <td>2016-02-26 13:38:27</td>\n",
       "      <td>52375.0</td>\n",
       "      <td>1</td>\n",
       "      <td>224</td>\n",
       "      <td>US</td>\n",
       "      <td>52375.0</td>\n",
       "      <td>52375.0</td>\n",
       "      <td>50000.00</td>\n",
       "      <td>34</td>\n",
       "      <td>2016</td>\n",
       "      <td>2</td>\n",
       "      <td>26</td>\n",
       "      <td>Food**Restaurants</td>\n",
       "    </tr>\n",
       "  </tbody>\n",
       "</table>\n",
       "</div>"
      ],
      "text/plain": [
       "           ID                                               name  \\\n",
       "0  1000002330                    The Songs of Adelaide & Abullah   \n",
       "1  1000003930      Greeting From Earth: ZGAC Arts Capsule For ET   \n",
       "2  1000004038                                     Where is Hank?   \n",
       "3  1000007540  ToshiCapital Rekordz Needs Help to Complete Album   \n",
       "5  1000014025                               Monarch Espresso Bar   \n",
       "\n",
       "         category main_category currency   deadline     goal  \\\n",
       "0          Poetry    Publishing      GBP 2015-10-09   1000.0   \n",
       "1  Narrative Film  Film & Video      USD 2017-11-01  30000.0   \n",
       "2  Narrative Film  Film & Video      USD 2013-02-26  45000.0   \n",
       "3           Music         Music      USD 2012-04-16   5000.0   \n",
       "5     Restaurants          Food      USD 2016-04-01  50000.0   \n",
       "\n",
       "             launched  pledged  state  backers country  usd pledged  \\\n",
       "0 2015-08-11 12:12:28      0.0      0        0      GB          0.0   \n",
       "1 2017-09-02 04:43:57   2421.0      0       15      US        100.0   \n",
       "2 2013-01-12 00:20:50    220.0      0        3      US        220.0   \n",
       "3 2012-03-17 03:24:11      1.0      0        1      US          1.0   \n",
       "5 2016-02-26 13:38:27  52375.0      1      224      US      52375.0   \n",
       "\n",
       "   usd_pledged_real  usd_goal_real  period  launched_year  launched_month  \\\n",
       "0               0.0        1533.95      58           2015               8   \n",
       "1            2421.0       30000.00      59           2017               9   \n",
       "2             220.0       45000.00      44           2013               1   \n",
       "3               1.0        5000.00      29           2012               3   \n",
       "5           52375.0       50000.00      34           2016               2   \n",
       "\n",
       "   launched_day                         class  \n",
       "0            11            Publishing**Poetry  \n",
       "1             2  Film & Video**Narrative Film  \n",
       "2            12  Film & Video**Narrative Film  \n",
       "3            17                  Music**Music  \n",
       "5            26             Food**Restaurants  "
      ]
     },
     "execution_count": 42,
     "metadata": {},
     "output_type": "execute_result"
    }
   ],
   "source": [
    "df.head()"
   ]
  },
  {
   "cell_type": "markdown",
   "id": "7c622759-7c43-4cda-9f63-2e57cdde56f9",
   "metadata": {},
   "source": [
    "## プロジェクト名\n",
    "nameをどうにかする"
   ]
  },
  {
   "cell_type": "code",
   "execution_count": 43,
   "id": "f3c36964-b9ab-4658-a4a5-fdb45bd5d24b",
   "metadata": {},
   "outputs": [],
   "source": [
    "# We generate new feature based on ratio between vowels and other alpha characters\n",
    "def countVowelstoLettersRatio(s):\n",
    "    '''Count ratio between vowels and letters'''\n",
    "    s = str(s)\n",
    "    count = 1  \n",
    "    vowels = 0\n",
    "    for i in s:\n",
    "        if i.isalpha():\n",
    "            count = count + 1\n",
    "            if i in 'aeiou':\n",
    "                vowels = vowels + 1\n",
    "    return ((vowels * 1.0) / count)"
   ]
  },
  {
   "cell_type": "code",
   "execution_count": 44,
   "id": "fdb0b06f-b58a-4239-8ca1-b0318e1c4dc4",
   "metadata": {},
   "outputs": [],
   "source": [
    "# for each name calculate vowels ratio\n",
    "df['name_vowel_ratio'] = df.name.apply(countVowelstoLettersRatio)\n"
   ]
  },
  {
   "cell_type": "code",
   "execution_count": 79,
   "id": "d821b337-3c36-4d9f-acda-15a19fbdac6a",
   "metadata": {},
   "outputs": [],
   "source": [
    "# length of the name\n",
    "df['name_len'] = df.name.str.len()"
   ]
  },
  {
   "cell_type": "code",
   "execution_count": null,
   "id": "289b725f-e374-4bcc-bdf1-7babb9982e05",
   "metadata": {},
   "outputs": [],
   "source": []
  },
  {
   "cell_type": "code",
   "execution_count": null,
   "id": "2500c92c-c721-416d-9a42-809cb34e4636",
   "metadata": {},
   "outputs": [],
   "source": []
  },
  {
   "cell_type": "code",
   "execution_count": null,
   "id": "5188beee-e0a6-4d8e-b1d3-dc60048d5eab",
   "metadata": {},
   "outputs": [],
   "source": []
  },
  {
   "cell_type": "markdown",
   "id": "6c1a169f-e29e-4c48-90fc-fe261e1488c7",
   "metadata": {},
   "source": [
    "### 単語数を抽出"
   ]
  },
  {
   "cell_type": "code",
   "execution_count": 45,
   "id": "7ee76da9-a53a-4227-9da4-784683890018",
   "metadata": {},
   "outputs": [],
   "source": [
    "# # 単語数をカウントする関数\n",
    "# def count_words(sentence):\n",
    "#     words_list = str(sentence).split(' ') \n",
    "#     return len(words_list)\n",
    "# # 単語数をカウントする関数を name の各データに適用\n",
    "# df['n_words'] = df['name'].apply(count_words) \n",
    "# # name を削除\n",
    "# # df = df.drop(columns=['name'])"
   ]
  },
  {
   "cell_type": "code",
   "execution_count": 80,
   "id": "9f2d4d67-6ce7-45a7-8db8-0f3d92755e42",
   "metadata": {},
   "outputs": [],
   "source": [
    "# number of words in the name\n",
    "df['name_number_of_word'] = df.name.apply(lambda x: len(str(x).split(' ')))\n"
   ]
  },
  {
   "cell_type": "markdown",
   "id": "33da3121-1c8b-4149-80f7-a60d4c698b49",
   "metadata": {},
   "source": [
    "## 目標金額\n",
    "usd_goal_realを対数変換する"
   ]
  },
  {
   "cell_type": "code",
   "execution_count": 82,
   "id": "28f3d73d-b886-478c-9dcf-9d0ce3574940",
   "metadata": {},
   "outputs": [
    {
     "data": {
      "text/plain": [
       "0     1533.95\n",
       "1    30000.00\n",
       "2    45000.00\n",
       "3     5000.00\n",
       "5    50000.00\n",
       "Name: usd_goal_real, dtype: float64"
      ]
     },
     "execution_count": 82,
     "metadata": {},
     "output_type": "execute_result"
    }
   ],
   "source": [
    "df['usd_goal_real'].head()"
   ]
  },
  {
   "cell_type": "code",
   "execution_count": 47,
   "id": "6e92c53f-4ba6-4ac2-93a4-57c323854d7a",
   "metadata": {},
   "outputs": [],
   "source": [
    "# df['usd_goal_real'].plot(bins=20, kind='hist')"
   ]
  },
  {
   "cell_type": "code",
   "execution_count": 48,
   "id": "2f471ee8-b7f8-46b2-92e5-c00c5709333e",
   "metadata": {},
   "outputs": [],
   "source": [
    "# usd_goal_realを対数変換する\n",
    "df['log_goal'] = np.log(df['usd_goal_real'])\n",
    "# df = df.drop(columns='usd_goal_real')"
   ]
  },
  {
   "cell_type": "code",
   "execution_count": 49,
   "id": "e83887b2-275b-4793-8484-cd041a47ed08",
   "metadata": {},
   "outputs": [],
   "source": [
    "df['Goal_1000'] = df.usd_goal_real.apply(lambda x: x // 1000)\n",
    "df['Goal_500'] = df.usd_goal_real.apply(lambda x: x // 500)\n",
    "df['Goal_10'] = df.usd_goal_real.apply(lambda x: x // 10)\n"
   ]
  },
  {
   "cell_type": "code",
   "execution_count": null,
   "id": "be7aeed5-62fb-4876-8a75-64345b8c46ca",
   "metadata": {},
   "outputs": [],
   "source": []
  },
  {
   "cell_type": "markdown",
   "id": "33ae62ea-2981-4871-8151-4f2cdf24189b",
   "metadata": {},
   "source": [
    "## 過去のプロジェクト数"
   ]
  },
  {
   "cell_type": "code",
   "execution_count": 62,
   "id": "71e053fc-a86d-44d7-8db1-498b76457565",
   "metadata": {},
   "outputs": [],
   "source": [
    "# We will create data frames containing only single main category\n",
    "categories = set(df.main_category)\n",
    "frames = {}\n",
    "for ct in categories:\n",
    "    frames[ct] = df[df['main_category'] == ct]\n"
   ]
  },
  {
   "cell_type": "code",
   "execution_count": 63,
   "id": "7a18abac-3772-4cfc-9667-24cef985070c",
   "metadata": {},
   "outputs": [],
   "source": [
    "# from datetime import datetime\n",
    "# import time\n",
    "\n",
    "# def get_timestamp(dt):\n",
    "#     '''Add timestamp as a value'''\n",
    "#     return time.mktime(dt.timetuple())\n"
   ]
  },
  {
   "cell_type": "code",
   "execution_count": 64,
   "id": "30bbeda4-c555-480d-b511-2a282e65f099",
   "metadata": {},
   "outputs": [],
   "source": [
    "# We will use Progressbar to track progress as it istime consuming operation\n",
    "# import pyprind\n",
    "\n",
    "def getElementsInRange(cat,end,week):\n",
    "    '''Get number of launched projects in given range from (end - week) to end'''\n",
    "    # global pbar\n",
    "    pob = frames[cat]\n",
    "    start = end - pd.DateOffset(weeks = week)\n",
    "    # as we sorted our projects by launch date earlier geting number of projects in given date range is easy\n",
    "    # value = pob['launched'].searchsorted(end)[0] - pob['launched'].searchsorted(start)[0]\n",
    "    value = pob['launched'].searchsorted(end) - pob['launched'].searchsorted(start)\n",
    "    # pbar.update()\n",
    "    return value"
   ]
  },
  {
   "cell_type": "code",
   "execution_count": 66,
   "id": "9a9aa104-cbd5-4259-8f17-247729cdf719",
   "metadata": {},
   "outputs": [],
   "source": [
    "# Number of projects in same category for last week    \n",
    "df['Last_Week'] = df.apply(lambda x: getElementsInRange(x['main_category'],x['launched'],1),axis = 1) "
   ]
  },
  {
   "cell_type": "code",
   "execution_count": 67,
   "id": "9327dcbd-affc-4319-9cf6-9f76eb2ce9c6",
   "metadata": {},
   "outputs": [],
   "source": [
    "# Number of projects in same category for last month    \n",
    "df['Last_Month'] = df.apply(lambda x: getElementsInRange(x['main_category'],x['launched'],4),axis = 1) \n"
   ]
  },
  {
   "cell_type": "code",
   "execution_count": 68,
   "id": "c2a81acd-1b3f-4bcb-a2db-008b4da6df4f",
   "metadata": {},
   "outputs": [],
   "source": [
    "# Number of projects in same category for last 6 months  \n",
    "df['Last_6_Month'] = df.apply(lambda x: getElementsInRange(x['main_category'],x['launched'],26),axis = 1)\n"
   ]
  },
  {
   "cell_type": "code",
   "execution_count": 69,
   "id": "8640fdb7-5019-4ab6-88cb-0a16503a9a2d",
   "metadata": {},
   "outputs": [],
   "source": [
    "# Number of projects in same category for last 3 months  \n",
    "df['Last_3_Month'] = df.apply(lambda x: getElementsInRange(x['main_category'],x['launched'],13),axis = 1)\n"
   ]
  },
  {
   "cell_type": "code",
   "execution_count": 70,
   "id": "e26eb639-563f-49a6-9970-60b573d8cdaf",
   "metadata": {},
   "outputs": [],
   "source": [
    "# Number of projects in same category for last year    \n",
    "df['Last_Year'] = df.apply(lambda x: getElementsInRange(x['main_category'],x['launched'],52),axis = 1) \n"
   ]
  },
  {
   "cell_type": "code",
   "execution_count": null,
   "id": "bf534e24-cc97-42f3-972d-081561a809b4",
   "metadata": {},
   "outputs": [],
   "source": []
  },
  {
   "cell_type": "code",
   "execution_count": null,
   "id": "173cf0ec-9021-47db-8c16-d8bb61a3a1e8",
   "metadata": {},
   "outputs": [],
   "source": []
  },
  {
   "cell_type": "code",
   "execution_count": null,
   "id": "65a24a8c-83c6-4803-aa2d-5c89686c8086",
   "metadata": {},
   "outputs": [],
   "source": []
  },
  {
   "cell_type": "markdown",
   "id": "708e71e3-9fd9-44f8-923a-44eb48add5a6",
   "metadata": {},
   "source": [
    "## ある期間における目標金額"
   ]
  },
  {
   "cell_type": "code",
   "execution_count": 50,
   "id": "9c70b1e8-3f46-4550-8914-f43fc0586ca8",
   "metadata": {},
   "outputs": [],
   "source": []
  },
  {
   "cell_type": "code",
   "execution_count": 57,
   "id": "9c5c17f7-5008-4439-b4a2-8472da2903b9",
   "metadata": {},
   "outputs": [],
   "source": [
    "def getRangeMean(cat,end,week):\n",
    "    # global pbar\n",
    "    pob = frames[cat]\n",
    "    start = end - pd.DateOffset(weeks = week)\n",
    "    # value = pob.iloc[pob['launced'].searchsorted(start)[0]:pob['launced'].searchsorted(end)[0]]['goal'].mean()\n",
    "    value = pob.iloc[pob['launched'].searchsorted(start):pob['launched'].searchsorted(end)]['goal'].mean()\n",
    "    # pbar.update()\n",
    "    return value\n"
   ]
  },
  {
   "cell_type": "code",
   "execution_count": 58,
   "id": "1eb5aadb-2bc4-429b-aa19-be9180060f57",
   "metadata": {},
   "outputs": [],
   "source": [
    "def getRangeMedian(cat,end,week):\n",
    "    # global pbar\n",
    "    pob = frames[cat]\n",
    "    start = end - pd.DateOffset(weeks = week)\n",
    "    # value = pob.iloc[pob['launced'].searchsorted(start)[0]:pob['launced'].searchsorted(end)[0]]['goal'].median()\n",
    "    value = pob.iloc[pob['launched'].searchsorted(start):pob['launched'].searchsorted(end)]['goal'].median()\n",
    "    # pbar.update()\n",
    "    return value\n"
   ]
  },
  {
   "cell_type": "code",
   "execution_count": 71,
   "id": "e0241903-6dd3-4b90-9f67-1f7d7e0a3d87",
   "metadata": {},
   "outputs": [],
   "source": [
    "# Mean goal for category last month\n",
    "df['mean_goal_in_category_last_month'] = df.apply(lambda x: getRangeMean(x['main_category'],x['launched'],4),axis = 1) "
   ]
  },
  {
   "cell_type": "code",
   "execution_count": 72,
   "id": "8c18ca4d-c125-4251-944f-eaaf3270ffe8",
   "metadata": {},
   "outputs": [],
   "source": [
    "# Median goal for category last month\n",
    "df['median_goal_in_category_last_month'] = df.apply(lambda x: getRangeMedian(x['main_category'],x['launched'],4),axis = 1) "
   ]
  },
  {
   "cell_type": "code",
   "execution_count": 73,
   "id": "309f088f-65b7-48e4-8c04-0c639e863e41",
   "metadata": {},
   "outputs": [],
   "source": [
    "# Mean goal for category last month\n",
    "df['mean_goal_in_category_last_year'] = df.apply(lambda x: getRangeMean(x['main_category'],x['launched'],52),axis = 1) \n"
   ]
  },
  {
   "cell_type": "code",
   "execution_count": 74,
   "id": "4c4ffad9-8e77-4d76-b1ee-6f075c4a84b1",
   "metadata": {},
   "outputs": [],
   "source": [
    "df['median_goal_Last_6_Month'] = df.apply(lambda x: getRangeMedian(x['main_category'],x['launched'],26),axis = 1)"
   ]
  },
  {
   "cell_type": "code",
   "execution_count": 75,
   "id": "21aea9b5-cca5-4dc2-a269-5a6505fe836f",
   "metadata": {},
   "outputs": [],
   "source": [
    "df['mean_goal_Last_6_Month'] = df.apply(lambda x: getRangeMean(x['main_category'],x['launched'],26),axis = 1)\n"
   ]
  },
  {
   "cell_type": "code",
   "execution_count": 76,
   "id": "a3906ea2-bc6f-47c9-87c6-264a6f1d6277",
   "metadata": {},
   "outputs": [],
   "source": [
    "df['mean_goal_Last_Week'] = df.apply(lambda x: getRangeMean(x['main_category'],x['launched'],1),axis = 1)\n"
   ]
  },
  {
   "cell_type": "code",
   "execution_count": 77,
   "id": "1afa88d4-e41f-45b4-a2e1-bc5b0ca40650",
   "metadata": {},
   "outputs": [],
   "source": [
    "df['median_goal_Last_Week'] = df.apply(lambda x: getRangeMedian(x['main_category'],x['launched'],1),axis = 1)\n"
   ]
  },
  {
   "cell_type": "code",
   "execution_count": null,
   "id": "23734248-51bd-4c32-87bc-2d5c17c06069",
   "metadata": {},
   "outputs": [],
   "source": []
  },
  {
   "cell_type": "code",
   "execution_count": null,
   "id": "52dec2ea-dd52-4aa7-a3f5-ffb9e94da81a",
   "metadata": {},
   "outputs": [],
   "source": []
  },
  {
   "cell_type": "markdown",
   "id": "51976c5e-4c51-41ce-938b-15b6b4cad4d2",
   "metadata": {},
   "source": [
    "# 加工データの保存"
   ]
  },
  {
   "cell_type": "code",
   "execution_count": 81,
   "id": "7e4b31a1-55a3-4fcb-ae89-d3d377c5d46c",
   "metadata": {},
   "outputs": [],
   "source": [
    "# df.to_csv('./data/input_01.csv')\n",
    "# df.to_csv('./data/input_02.csv')\n",
    "# df.to_csv('./data/input_03.csv')\n",
    "# df.to_csv('./data/input_04.csv')\n",
    "df.to_csv('./data/input_05.csv')"
   ]
  },
  {
   "cell_type": "markdown",
   "id": "786bf110-b457-4960-957a-5e4554f00ce5",
   "metadata": {},
   "source": [
    "### input_01.csv\n",
    "- 初期\n",
    "\n",
    "### input_02.csv\n",
    "- input_01\n",
    "- main_category x category -> class\n",
    "\n",
    "### input_03.csv\n",
    "- input_01\n",
    "- main_category x category -> class\n",
    "- launched -> year/month/day\n",
    "\n",
    "### input_04.csv\n",
    "- input_03\n",
    "- how successful is ...の特徴量を参考に追加\n",
    "\n",
    "### input_05.csv\n",
    "- input_04\n",
    "- how successful is ...の特徴量を参考にさらに追加\n"
   ]
  },
  {
   "cell_type": "code",
   "execution_count": null,
   "id": "4e486624-13f0-497f-a83b-5cb602114d5c",
   "metadata": {},
   "outputs": [],
   "source": []
  },
  {
   "cell_type": "code",
   "execution_count": null,
   "id": "67a8292b-185d-41db-a445-9a2f0371d2bb",
   "metadata": {},
   "outputs": [],
   "source": []
  },
  {
   "cell_type": "code",
   "execution_count": null,
   "id": "2b3b073e-55dc-48fe-8481-4a26cd40bfae",
   "metadata": {},
   "outputs": [],
   "source": []
  }
 ],
 "metadata": {
  "kernelspec": {
   "display_name": "Python 3 (ipykernel)",
   "language": "python",
   "name": "python3"
  },
  "language_info": {
   "codemirror_mode": {
    "name": "ipython",
    "version": 3
   },
   "file_extension": ".py",
   "mimetype": "text/x-python",
   "name": "python",
   "nbconvert_exporter": "python",
   "pygments_lexer": "ipython3",
   "version": "3.10.5"
  }
 },
 "nbformat": 4,
 "nbformat_minor": 5
}
