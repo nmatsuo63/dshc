{
 "cells": [
  {
   "cell_type": "code",
   "execution_count": 1,
   "id": "fbd7e528-f935-460b-a48e-bc6197319d99",
   "metadata": {},
   "outputs": [],
   "source": [
    "import numpy as np\n",
    "import pandas as pd\n",
    "\n",
    "import warnings\n",
    "warnings.simplefilter('ignore')"
   ]
  },
  {
   "cell_type": "markdown",
   "id": "97816d17-5cd6-434e-a8e5-077d17c50389",
   "metadata": {},
   "source": [
    "## データの読み込み"
   ]
  },
  {
   "cell_type": "code",
   "execution_count": 2,
   "id": "4b225571-59eb-4ea2-8b8c-fb8add3b8067",
   "metadata": {},
   "outputs": [],
   "source": [
    "# データの読み込み\n",
    "# df_org = pd.read_csv('./data/input_01.csv')\n",
    "# df_org = pd.read_csv('./data/input_02.csv')\n",
    "# df_org = pd.read_csv('./data/input_03.csv')\n",
    "df_org = pd.read_csv('./data/input_04.csv')"
   ]
  },
  {
   "cell_type": "code",
   "execution_count": 3,
   "id": "4ba32bb7-4a9e-48b2-ad57-3a23a95978ad",
   "metadata": {},
   "outputs": [],
   "source": [
    "# データ量が多いのでコーディング中はサンプリング\n",
    "# df = df_org.sample(100000, replace=True)\n",
    "df = df_org"
   ]
  },
  {
   "cell_type": "code",
   "execution_count": 4,
   "id": "cf03a6c9-3384-4095-9075-706971ca2be2",
   "metadata": {},
   "outputs": [
    {
     "data": {
      "text/html": [
       "<div>\n",
       "<style scoped>\n",
       "    .dataframe tbody tr th:only-of-type {\n",
       "        vertical-align: middle;\n",
       "    }\n",
       "\n",
       "    .dataframe tbody tr th {\n",
       "        vertical-align: top;\n",
       "    }\n",
       "\n",
       "    .dataframe thead th {\n",
       "        text-align: right;\n",
       "    }\n",
       "</style>\n",
       "<table border=\"1\" class=\"dataframe\">\n",
       "  <thead>\n",
       "    <tr style=\"text-align: right;\">\n",
       "      <th></th>\n",
       "      <th>Unnamed: 0</th>\n",
       "      <th>ID</th>\n",
       "      <th>name</th>\n",
       "      <th>category</th>\n",
       "      <th>main_category</th>\n",
       "      <th>currency</th>\n",
       "      <th>deadline</th>\n",
       "      <th>goal</th>\n",
       "      <th>launched</th>\n",
       "      <th>pledged</th>\n",
       "      <th>...</th>\n",
       "      <th>launched_month</th>\n",
       "      <th>launched_day</th>\n",
       "      <th>class</th>\n",
       "      <th>name_vowel_ratio</th>\n",
       "      <th>n_words</th>\n",
       "      <th>log_goal</th>\n",
       "      <th>Goal_1000</th>\n",
       "      <th>Goal_500</th>\n",
       "      <th>Goal_10</th>\n",
       "      <th>median_goal_Last_Week</th>\n",
       "    </tr>\n",
       "  </thead>\n",
       "  <tbody>\n",
       "    <tr>\n",
       "      <th>0</th>\n",
       "      <td>0</td>\n",
       "      <td>1000002330</td>\n",
       "      <td>The Songs of Adelaide &amp; Abullah</td>\n",
       "      <td>Poetry</td>\n",
       "      <td>Publishing</td>\n",
       "      <td>GBP</td>\n",
       "      <td>2015-10-09</td>\n",
       "      <td>1000.0</td>\n",
       "      <td>2015-08-11 12:12:28</td>\n",
       "      <td>0.0</td>\n",
       "      <td>...</td>\n",
       "      <td>8</td>\n",
       "      <td>11</td>\n",
       "      <td>Publishing**Poetry</td>\n",
       "      <td>0.346154</td>\n",
       "      <td>6</td>\n",
       "      <td>7.335601</td>\n",
       "      <td>1.0</td>\n",
       "      <td>3.0</td>\n",
       "      <td>153.0</td>\n",
       "      <td>NaN</td>\n",
       "    </tr>\n",
       "    <tr>\n",
       "      <th>1</th>\n",
       "      <td>1</td>\n",
       "      <td>1000003930</td>\n",
       "      <td>Greeting From Earth: ZGAC Arts Capsule For ET</td>\n",
       "      <td>Narrative Film</td>\n",
       "      <td>Film &amp; Video</td>\n",
       "      <td>USD</td>\n",
       "      <td>2017-11-01</td>\n",
       "      <td>30000.0</td>\n",
       "      <td>2017-09-02 04:43:57</td>\n",
       "      <td>2421.0</td>\n",
       "      <td>...</td>\n",
       "      <td>9</td>\n",
       "      <td>2</td>\n",
       "      <td>Film &amp; Video**Narrative Film</td>\n",
       "      <td>0.236842</td>\n",
       "      <td>8</td>\n",
       "      <td>10.308953</td>\n",
       "      <td>30.0</td>\n",
       "      <td>60.0</td>\n",
       "      <td>3000.0</td>\n",
       "      <td>5850.0</td>\n",
       "    </tr>\n",
       "    <tr>\n",
       "      <th>2</th>\n",
       "      <td>2</td>\n",
       "      <td>1000004038</td>\n",
       "      <td>Where is Hank?</td>\n",
       "      <td>Narrative Film</td>\n",
       "      <td>Film &amp; Video</td>\n",
       "      <td>USD</td>\n",
       "      <td>2013-02-26</td>\n",
       "      <td>45000.0</td>\n",
       "      <td>2013-01-12 00:20:50</td>\n",
       "      <td>220.0</td>\n",
       "      <td>...</td>\n",
       "      <td>1</td>\n",
       "      <td>12</td>\n",
       "      <td>Film &amp; Video**Narrative Film</td>\n",
       "      <td>0.333333</td>\n",
       "      <td>3</td>\n",
       "      <td>10.714418</td>\n",
       "      <td>45.0</td>\n",
       "      <td>90.0</td>\n",
       "      <td>4500.0</td>\n",
       "      <td>NaN</td>\n",
       "    </tr>\n",
       "    <tr>\n",
       "      <th>3</th>\n",
       "      <td>3</td>\n",
       "      <td>1000007540</td>\n",
       "      <td>ToshiCapital Rekordz Needs Help to Complete Album</td>\n",
       "      <td>Music</td>\n",
       "      <td>Music</td>\n",
       "      <td>USD</td>\n",
       "      <td>2012-04-16</td>\n",
       "      <td>5000.0</td>\n",
       "      <td>2012-03-17 03:24:11</td>\n",
       "      <td>1.0</td>\n",
       "      <td>...</td>\n",
       "      <td>3</td>\n",
       "      <td>17</td>\n",
       "      <td>Music**Music</td>\n",
       "      <td>0.340909</td>\n",
       "      <td>7</td>\n",
       "      <td>8.517193</td>\n",
       "      <td>5.0</td>\n",
       "      <td>10.0</td>\n",
       "      <td>500.0</td>\n",
       "      <td>NaN</td>\n",
       "    </tr>\n",
       "    <tr>\n",
       "      <th>4</th>\n",
       "      <td>5</td>\n",
       "      <td>1000014025</td>\n",
       "      <td>Monarch Espresso Bar</td>\n",
       "      <td>Restaurants</td>\n",
       "      <td>Food</td>\n",
       "      <td>USD</td>\n",
       "      <td>2016-04-01</td>\n",
       "      <td>50000.0</td>\n",
       "      <td>2016-02-26 13:38:27</td>\n",
       "      <td>52375.0</td>\n",
       "      <td>...</td>\n",
       "      <td>2</td>\n",
       "      <td>26</td>\n",
       "      <td>Food**Restaurants</td>\n",
       "      <td>0.263158</td>\n",
       "      <td>3</td>\n",
       "      <td>10.819778</td>\n",
       "      <td>50.0</td>\n",
       "      <td>100.0</td>\n",
       "      <td>5000.0</td>\n",
       "      <td>NaN</td>\n",
       "    </tr>\n",
       "  </tbody>\n",
       "</table>\n",
       "<p>5 rows × 28 columns</p>\n",
       "</div>"
      ],
      "text/plain": [
       "   Unnamed: 0          ID                                               name  \\\n",
       "0           0  1000002330                    The Songs of Adelaide & Abullah   \n",
       "1           1  1000003930      Greeting From Earth: ZGAC Arts Capsule For ET   \n",
       "2           2  1000004038                                     Where is Hank?   \n",
       "3           3  1000007540  ToshiCapital Rekordz Needs Help to Complete Album   \n",
       "4           5  1000014025                               Monarch Espresso Bar   \n",
       "\n",
       "         category main_category currency    deadline     goal  \\\n",
       "0          Poetry    Publishing      GBP  2015-10-09   1000.0   \n",
       "1  Narrative Film  Film & Video      USD  2017-11-01  30000.0   \n",
       "2  Narrative Film  Film & Video      USD  2013-02-26  45000.0   \n",
       "3           Music         Music      USD  2012-04-16   5000.0   \n",
       "4     Restaurants          Food      USD  2016-04-01  50000.0   \n",
       "\n",
       "              launched  pledged  ...  launched_month  launched_day  \\\n",
       "0  2015-08-11 12:12:28      0.0  ...               8            11   \n",
       "1  2017-09-02 04:43:57   2421.0  ...               9             2   \n",
       "2  2013-01-12 00:20:50    220.0  ...               1            12   \n",
       "3  2012-03-17 03:24:11      1.0  ...               3            17   \n",
       "4  2016-02-26 13:38:27  52375.0  ...               2            26   \n",
       "\n",
       "                          class  name_vowel_ratio  n_words   log_goal  \\\n",
       "0            Publishing**Poetry          0.346154        6   7.335601   \n",
       "1  Film & Video**Narrative Film          0.236842        8  10.308953   \n",
       "2  Film & Video**Narrative Film          0.333333        3  10.714418   \n",
       "3                  Music**Music          0.340909        7   8.517193   \n",
       "4             Food**Restaurants          0.263158        3  10.819778   \n",
       "\n",
       "   Goal_1000  Goal_500  Goal_10  median_goal_Last_Week  \n",
       "0        1.0       3.0    153.0                    NaN  \n",
       "1       30.0      60.0   3000.0                 5850.0  \n",
       "2       45.0      90.0   4500.0                    NaN  \n",
       "3        5.0      10.0    500.0                    NaN  \n",
       "4       50.0     100.0   5000.0                    NaN  \n",
       "\n",
       "[5 rows x 28 columns]"
      ]
     },
     "execution_count": 4,
     "metadata": {},
     "output_type": "execute_result"
    }
   ],
   "source": [
    "df.head()"
   ]
  },
  {
   "cell_type": "markdown",
   "id": "639cf987-40b7-45cd-b962-34efbddae136",
   "metadata": {},
   "source": [
    "## データの準備"
   ]
  },
  {
   "cell_type": "code",
   "execution_count": 5,
   "id": "2ef3f15d-e7d7-4c6c-b064-160dfd64360e",
   "metadata": {},
   "outputs": [],
   "source": [
    "# 数値エンコーディング（GBDT以外の場合は必須）\n",
    "from sklearn.preprocessing import LabelEncoder\n",
    "encoder = LabelEncoder()\n",
    "df = df.apply(encoder.fit_transform)"
   ]
  },
  {
   "cell_type": "code",
   "execution_count": 6,
   "id": "1d89b82c-ff6f-4b03-95d2-2199d068dfe1",
   "metadata": {
    "tags": []
   },
   "outputs": [],
   "source": [
    "y = df[['state']]\n",
    "x_cols = ['class', 'country', 'period', 'n_words', 'log_goal', 'launched_year', 'launched_month', 'launched_day', \n",
    "         'name_vowel_ratio', 'Goal_1000', 'Goal_500', 'Goal_10', 'median_goal_Last_Week']\n",
    "# x_cols = ['class', 'currency', 'country', 'period', 'n_words', 'log_goal', 'launched_year', 'launched_month', 'launched_day', \n",
    "#          'name_vowel_ratio', 'Goal_1000', 'Goal_500', 'Goal_10', 'median_goal_Last_Week']\n",
    "# x_cols = ['category', 'main_category', 'currency', 'country', 'period', 'n_words', 'log_goal']\n",
    "# x_cols = ['class', 'currency', 'country', 'period', 'n_words', 'log_goal']\n",
    "# x_cols = ['class', 'main_category', 'currency', 'country', 'period', 'n_words', 'log_goal']\n",
    "# x_cols = ['class', 'currency', 'country', 'period', 'n_words', 'log_goal', 'launched_year', 'launched_month', 'launched_day']\n",
    "# x_cols = ['class', 'currency', 'country', 'period', 'log_goal', 'launched_year', 'launched_month', 'launched_day']\n",
    "x = df[x_cols]"
   ]
  },
  {
   "cell_type": "code",
   "execution_count": 7,
   "id": "1880dd7c-7ff1-47b8-bd1f-829133200a10",
   "metadata": {},
   "outputs": [
    {
     "data": {
      "text/html": [
       "<div>\n",
       "<style scoped>\n",
       "    .dataframe tbody tr th:only-of-type {\n",
       "        vertical-align: middle;\n",
       "    }\n",
       "\n",
       "    .dataframe tbody tr th {\n",
       "        vertical-align: top;\n",
       "    }\n",
       "\n",
       "    .dataframe thead th {\n",
       "        text-align: right;\n",
       "    }\n",
       "</style>\n",
       "<table border=\"1\" class=\"dataframe\">\n",
       "  <thead>\n",
       "    <tr style=\"text-align: right;\">\n",
       "      <th></th>\n",
       "      <th>state</th>\n",
       "    </tr>\n",
       "  </thead>\n",
       "  <tbody>\n",
       "    <tr>\n",
       "      <th>0</th>\n",
       "      <td>0</td>\n",
       "    </tr>\n",
       "    <tr>\n",
       "      <th>1</th>\n",
       "      <td>0</td>\n",
       "    </tr>\n",
       "    <tr>\n",
       "      <th>2</th>\n",
       "      <td>0</td>\n",
       "    </tr>\n",
       "    <tr>\n",
       "      <th>3</th>\n",
       "      <td>0</td>\n",
       "    </tr>\n",
       "    <tr>\n",
       "      <th>4</th>\n",
       "      <td>1</td>\n",
       "    </tr>\n",
       "  </tbody>\n",
       "</table>\n",
       "</div>"
      ],
      "text/plain": [
       "   state\n",
       "0      0\n",
       "1      0\n",
       "2      0\n",
       "3      0\n",
       "4      1"
      ]
     },
     "execution_count": 7,
     "metadata": {},
     "output_type": "execute_result"
    }
   ],
   "source": [
    "y.head()"
   ]
  },
  {
   "cell_type": "code",
   "execution_count": 8,
   "id": "a4e50284-4487-47fc-9fde-1e985c77f9f7",
   "metadata": {},
   "outputs": [
    {
     "data": {
      "text/html": [
       "<div>\n",
       "<style scoped>\n",
       "    .dataframe tbody tr th:only-of-type {\n",
       "        vertical-align: middle;\n",
       "    }\n",
       "\n",
       "    .dataframe tbody tr th {\n",
       "        vertical-align: top;\n",
       "    }\n",
       "\n",
       "    .dataframe thead th {\n",
       "        text-align: right;\n",
       "    }\n",
       "</style>\n",
       "<table border=\"1\" class=\"dataframe\">\n",
       "  <thead>\n",
       "    <tr style=\"text-align: right;\">\n",
       "      <th></th>\n",
       "      <th>class</th>\n",
       "      <th>country</th>\n",
       "      <th>period</th>\n",
       "      <th>n_words</th>\n",
       "      <th>log_goal</th>\n",
       "      <th>launched_year</th>\n",
       "      <th>launched_month</th>\n",
       "      <th>launched_day</th>\n",
       "      <th>name_vowel_ratio</th>\n",
       "      <th>Goal_1000</th>\n",
       "      <th>Goal_500</th>\n",
       "      <th>Goal_10</th>\n",
       "      <th>median_goal_Last_Week</th>\n",
       "    </tr>\n",
       "  </thead>\n",
       "  <tbody>\n",
       "    <tr>\n",
       "      <th>0</th>\n",
       "      <td>97</td>\n",
       "      <td>9</td>\n",
       "      <td>58</td>\n",
       "      <td>5</td>\n",
       "      <td>10270</td>\n",
       "      <td>6</td>\n",
       "      <td>7</td>\n",
       "      <td>10</td>\n",
       "      <td>398</td>\n",
       "      <td>1</td>\n",
       "      <td>3</td>\n",
       "      <td>153</td>\n",
       "      <td>80</td>\n",
       "    </tr>\n",
       "    <tr>\n",
       "      <th>1</th>\n",
       "      <td>42</td>\n",
       "      <td>22</td>\n",
       "      <td>59</td>\n",
       "      <td>7</td>\n",
       "      <td>35206</td>\n",
       "      <td>8</td>\n",
       "      <td>8</td>\n",
       "      <td>1</td>\n",
       "      <td>225</td>\n",
       "      <td>30</td>\n",
       "      <td>60</td>\n",
       "      <td>2936</td>\n",
       "      <td>49</td>\n",
       "    </tr>\n",
       "    <tr>\n",
       "      <th>2</th>\n",
       "      <td>42</td>\n",
       "      <td>22</td>\n",
       "      <td>44</td>\n",
       "      <td>2</td>\n",
       "      <td>37850</td>\n",
       "      <td>4</td>\n",
       "      <td>0</td>\n",
       "      <td>11</td>\n",
       "      <td>378</td>\n",
       "      <td>45</td>\n",
       "      <td>90</td>\n",
       "      <td>4146</td>\n",
       "      <td>80</td>\n",
       "    </tr>\n",
       "    <tr>\n",
       "      <th>3</th>\n",
       "      <td>78</td>\n",
       "      <td>22</td>\n",
       "      <td>29</td>\n",
       "      <td>6</td>\n",
       "      <td>19451</td>\n",
       "      <td>3</td>\n",
       "      <td>2</td>\n",
       "      <td>16</td>\n",
       "      <td>388</td>\n",
       "      <td>5</td>\n",
       "      <td>10</td>\n",
       "      <td>500</td>\n",
       "      <td>80</td>\n",
       "    </tr>\n",
       "    <tr>\n",
       "      <th>4</th>\n",
       "      <td>55</td>\n",
       "      <td>22</td>\n",
       "      <td>34</td>\n",
       "      <td>2</td>\n",
       "      <td>38482</td>\n",
       "      <td>7</td>\n",
       "      <td>1</td>\n",
       "      <td>25</td>\n",
       "      <td>261</td>\n",
       "      <td>50</td>\n",
       "      <td>100</td>\n",
       "      <td>4506</td>\n",
       "      <td>80</td>\n",
       "    </tr>\n",
       "  </tbody>\n",
       "</table>\n",
       "</div>"
      ],
      "text/plain": [
       "   class  country  period  n_words  log_goal  launched_year  launched_month  \\\n",
       "0     97        9      58        5     10270              6               7   \n",
       "1     42       22      59        7     35206              8               8   \n",
       "2     42       22      44        2     37850              4               0   \n",
       "3     78       22      29        6     19451              3               2   \n",
       "4     55       22      34        2     38482              7               1   \n",
       "\n",
       "   launched_day  name_vowel_ratio  Goal_1000  Goal_500  Goal_10  \\\n",
       "0            10               398          1         3      153   \n",
       "1             1               225         30        60     2936   \n",
       "2            11               378         45        90     4146   \n",
       "3            16               388          5        10      500   \n",
       "4            25               261         50       100     4506   \n",
       "\n",
       "   median_goal_Last_Week  \n",
       "0                     80  \n",
       "1                     49  \n",
       "2                     80  \n",
       "3                     80  \n",
       "4                     80  "
      ]
     },
     "execution_count": 8,
     "metadata": {},
     "output_type": "execute_result"
    }
   ],
   "source": [
    "x.head()"
   ]
  },
  {
   "cell_type": "markdown",
   "id": "da89fd9e-cbae-464f-ab2c-10fea4c7fb72",
   "metadata": {},
   "source": [
    "## モデル学習（単体）"
   ]
  },
  {
   "cell_type": "code",
   "execution_count": 9,
   "id": "a3d6da78-001c-494a-b90b-e472c296a85d",
   "metadata": {},
   "outputs": [],
   "source": [
    "from sklearn.model_selection import train_test_split\n",
    "\n",
    "# 訓練データとテストデータを8:2に分割\n",
    "# ※評価を揃えるため df 以外の引数は変更しないこと\n",
    "x_train, x_test, y_train, y_test = train_test_split(x,y,test_size=0.2, random_state=1234)"
   ]
  },
  {
   "cell_type": "code",
   "execution_count": 10,
   "id": "40af392d-f41a-43e4-8ffa-2047358c5a46",
   "metadata": {},
   "outputs": [],
   "source": [
    "import lightgbm as lgb\n",
    "from sklearn.metrics import log_loss, roc_auc_score, accuracy_score\n",
    "\n",
    "# パラメータ\n",
    "RANDOM_STATE = 10\n",
    "num_round = 1000\n",
    "TEST_SIZE = 0.2\n",
    "\n",
    "# 学習データと評価データを作成\n",
    "x_train, x_valid, y_train, y_valid = train_test_split(x_train,y_train,test_size=TEST_SIZE,random_state=RANDOM_STATE)\n",
    "\n",
    "lgb_train = lgb.Dataset(x_train, y_train)\n",
    "lgb_eval = lgb.Dataset(x_valid, y_valid, reference=lgb_train)"
   ]
  },
  {
   "cell_type": "code",
   "execution_count": 11,
   "id": "1610685c-b839-4369-9d04-9cc60e02d602",
   "metadata": {},
   "outputs": [],
   "source": [
    "# LightGBMのパラメータ設定\n",
    "params = {\n",
    "    'boosting_type': 'gbdt',\n",
    "    'objective': 'binary',\n",
    "    'metric': 'binary_logloss',\n",
    "    'num_leaves': 50,\n",
    "    'verbose': 0\n",
    "}"
   ]
  },
  {
   "cell_type": "code",
   "execution_count": 12,
   "id": "a3460295-610e-4cd4-a0cf-8baa7d0dec4d",
   "metadata": {},
   "outputs": [
    {
     "name": "stdout",
     "output_type": "stream",
     "text": [
      "[LightGBM] [Warning] Auto-choosing col-wise multi-threading, the overhead of testing was 0.026567 seconds.\n",
      "You can set `force_col_wise=true` to remove the overhead.\n",
      "訓練データの正答率: 69.618 %\n"
     ]
    }
   ],
   "source": [
    "# 訓練データに対する予測\n",
    "# LightGBM学習\n",
    "model = lgb.train(params, lgb_train, num_round, \n",
    "                  valid_names=['train', 'valid'], valid_sets=lgb_eval,\n",
    "                  early_stopping_rounds=20, verbose_eval=False)\n",
    "\n",
    "# LightGBM推論\n",
    "y_pred = model.predict(x_valid, num_iteration=model.best_iteration)\n",
    "\n",
    "# 評価\n",
    "y_pred = y_pred.round(0)\n",
    "# acc_train = accuracy_score(y_test, y_pred)\n",
    "acc_train = accuracy_score(y_true=y_valid, y_pred=y_pred)\n",
    "\n",
    "print(f\"訓練データの正答率: {100 * acc_train:.3f} %\")    "
   ]
  },
  {
   "cell_type": "code",
   "execution_count": 13,
   "id": "91e7f593-5fc0-4e82-b06e-1354d6fb3e87",
   "metadata": {},
   "outputs": [
    {
     "name": "stdout",
     "output_type": "stream",
     "text": [
      "テストデータの正答率: 69.612 %\n",
      "        state\n",
      "166106      0\n",
      "317562      1\n",
      "58733       0\n",
      "121183      0\n",
      "81342       1\n",
      "...       ...\n",
      "172079      0\n",
      "225554      1\n",
      "151801      1\n",
      "10079       0\n",
      "133990      0\n",
      "\n",
      "[66335 rows x 1 columns]\n",
      "[1. 1. 0. ... 1. 0. 0.]\n"
     ]
    }
   ],
   "source": [
    "# テストデータに対する予測\n",
    "# LightGBM推論\n",
    "y_pred = model.predict(x_test, num_iteration=model.best_iteration)\n",
    "y_pred = y_pred.round(0)\n",
    "\n",
    "# 評価\n",
    "acc_train = accuracy_score(y_true=y_test, y_pred=y_pred)\n",
    "print(f\"テストデータの正答率: {100 * acc_train:.3f} %\")  \n",
    "\n",
    "# print(y_test)\n",
    "# print(y_pred)"
   ]
  },
  {
   "cell_type": "markdown",
   "id": "5a623341-d3ab-4148-a894-121b765cfd51",
   "metadata": {
    "tags": []
   },
   "source": [
    "## 交差検証"
   ]
  },
  {
   "cell_type": "code",
   "execution_count": 14,
   "id": "555b87a7-3f9e-462c-bde2-b684c33aa862",
   "metadata": {},
   "outputs": [],
   "source": [
    "# !pip install lightgbm"
   ]
  },
  {
   "cell_type": "code",
   "execution_count": 19,
   "id": "4b3734a6-7019-41e8-a8ae-5b2533ea5651",
   "metadata": {},
   "outputs": [],
   "source": [
    "# from sklearn.model_selection import StratifiedKFold\n",
    "from sklearn.model_selection import KFold\n",
    "n_split = 5 # グループ数を設定（今回は5分割）\n",
    "seed = 1234\n",
    "# cross_valid_mae = 0\n",
    "# split_num = 1\n",
    "# kf = StratifiedKFold(n_splits=n_split, shuffle=True, random_state=seed)\n",
    "kf = KFold(n_splits=n_split, shuffle=True, random_state=seed)"
   ]
  },
  {
   "cell_type": "code",
   "execution_count": 20,
   "id": "8f41b00f-f53a-46ae-85e2-de739dd9b6d2",
   "metadata": {},
   "outputs": [
    {
     "name": "stdout",
     "output_type": "stream",
     "text": [
      "[LightGBM] [Warning] Auto-choosing row-wise multi-threading, the overhead of testing was 0.005727 seconds.\n",
      "You can set `force_row_wise=true` to remove the overhead.\n",
      "And if memory is not enough, you can set `force_col_wise=true`.\n",
      "01valid_accuracy_score: 0.6971 %\n",
      "[LightGBM] [Warning] Auto-choosing row-wise multi-threading, the overhead of testing was 0.005985 seconds.\n",
      "You can set `force_row_wise=true` to remove the overhead.\n",
      "And if memory is not enough, you can set `force_col_wise=true`.\n",
      "02valid_accuracy_score: 0.6953 %\n",
      "[LightGBM] [Warning] Auto-choosing col-wise multi-threading, the overhead of testing was 0.012400 seconds.\n",
      "You can set `force_col_wise=true` to remove the overhead.\n",
      "03valid_accuracy_score: 0.7014 %\n",
      "[LightGBM] [Warning] Auto-choosing row-wise multi-threading, the overhead of testing was 0.005001 seconds.\n",
      "You can set `force_row_wise=true` to remove the overhead.\n",
      "And if memory is not enough, you can set `force_col_wise=true`.\n",
      "04valid_accuracy_score: 0.6987 %\n",
      "[LightGBM] [Warning] Auto-choosing row-wise multi-threading, the overhead of testing was 0.005594 seconds.\n",
      "You can set `force_row_wise=true` to remove the overhead.\n",
      "And if memory is not enough, you can set `force_col_wise=true`.\n",
      "05valid_accuracy_score: 0.7003 %\n"
     ]
    }
   ],
   "source": [
    "from sklearn.metrics import log_loss, roc_auc_score, accuracy_score\n",
    "import lightgbm as lgb\n",
    "\n",
    "# scores_train = []\n",
    "scores_valid = []\n",
    "models = []\n",
    "itr = 1\n",
    "\n",
    "for train_idx, valid_idx in kf.split(x, y):\n",
    "    x_train, y_train = x.iloc[train_idx], y.iloc[train_idx]\n",
    "    x_valid, y_valid = x.iloc[valid_idx], y.iloc[valid_idx]\n",
    "    \n",
    "    # lightgbmのデータ構造に変換\n",
    "    lgb_train = lgb.Dataset(x_train, y_train)\n",
    "    lgb_valid = lgb.Dataset(x_valid, y_valid)\n",
    "    \n",
    "    # ハイパーパラメータの設定\n",
    "    # metricsはaccuracy_scoreにすべきかも\n",
    "    params = {'num_leaves': 64, 'objective': 'binary', 'seed': seed, \n",
    "              'verbose': 0, 'metrics': 'binary_logloss'}\n",
    "    num_round = 1000\n",
    "\n",
    "    # 学習の実行\n",
    "    # カテゴリ変数を指定した場合の挙動はKaggle本 p240参照\n",
    "    # categorical_features = ['category', 'main_category', 'currency', 'country']\n",
    "    model = lgb.train(params, lgb_train, num_round, \n",
    "                    valid_names=['train', 'valid'], valid_sets=[lgb_train, lgb_valid],\n",
    "                     early_stopping_rounds=20, verbose_eval=False)\n",
    "    \n",
    "    # # 訓練データに対する予測、正答率\n",
    "    # y_pred = clf.predict(x_train)\n",
    "    # acc_train = accuracy_score(y_true=y_train, y_pred=y_pred)\n",
    "    # print(f\"{itr:02}train_訓練データの正答率: {100 * acc_train:.2f} %\")\n",
    "    # scores_train.append(acc_train)  \n",
    "    \n",
    "    # 検証データに対する予測\n",
    "    # accurasy_scoreするには0で丸め込みが必要（https://shiokoji11235.com/two_interface_of_lightgbm）\n",
    "    y_pred = model.predict(x_valid)\n",
    "    y_pred = y_pred.round(0)\n",
    "\n",
    "    score_valid = accuracy_score(y_valid, y_pred)\n",
    "    print(f\"{itr:02}valid_accuracy_score: {score_valid:.4f} %\")    \n",
    "\n",
    "    # score_valid = log_loss(y_true=y_valid, y_pred=y_pred)\n",
    "    # print(f\"{itr:02}valid_logloss: {score_valid:.4f} %\")    \n",
    "    # score_valid = roc_auc_score(y_valid, y_pred)\n",
    "    # print(f\"{itr:02}valid_auc_score: {score_valid:.4f} %\")    \n",
    "\n",
    "    scores_valid.append(score_valid)    \n",
    "    models.append(model)\n",
    "    \n",
    "    itr += 1"
   ]
  },
  {
   "cell_type": "code",
   "execution_count": 21,
   "id": "600ff365-9fc0-496a-9ea6-38fe48de6441",
   "metadata": {},
   "outputs": [
    {
     "name": "stdout",
     "output_type": "stream",
     "text": [
      "0.6985603376799578\n"
     ]
    }
   ],
   "source": [
    "# 各foldのスコアの平均\n",
    "# print(np.mean(scores_train))\n",
    "print(np.mean(scores_valid))"
   ]
  },
  {
   "cell_type": "markdown",
   "id": "6c6147b9-d00e-43d3-a6ff-fa404ca03ce2",
   "metadata": {},
   "source": [
    "## 推論"
   ]
  },
  {
   "cell_type": "code",
   "execution_count": 22,
   "id": "579ef1ab-03f5-4972-8eca-144ce272b145",
   "metadata": {},
   "outputs": [
    {
     "name": "stdout",
     "output_type": "stream",
     "text": [
      "test_accuracy_score: 0.7178 %\n"
     ]
    }
   ],
   "source": [
    "y_preds = np.zeros(len(x_test))\n",
    "\n",
    "for model in models:\n",
    "    y_pred = model.predict(x_test)\n",
    "    y_pred = y_pred.round(0)\n",
    "    y_preds += y_pred / len(models)\n",
    "    \n",
    "# print(y_test)\n",
    "# print('***')\n",
    "# print(y_preds)\n",
    "# print('***')\n",
    "# print(y_pred)\n",
    "\n",
    "y_preds = y_preds.round(0)\n",
    "score_test = accuracy_score(y_test, y_preds)\n",
    "print(f\"test_accuracy_score: {score_test:.4f} %\")    "
   ]
  },
  {
   "cell_type": "markdown",
   "id": "e178a3c0-ddd1-4746-a1b2-58af0b346206",
   "metadata": {
    "jp-MarkdownHeadingCollapsed": true,
    "tags": []
   },
   "source": [
    "### input_01.csv\n",
    "- 検証データに対する正答率：0.69899\n"
   ]
  },
  {
   "cell_type": "markdown",
   "id": "3806ceae-1f59-45d9-8fc8-0a64406d9006",
   "metadata": {},
   "source": [
    "### input_02.csv（class, main_category）\n",
    "- 検証データに対する正答率：0.70896\n"
   ]
  },
  {
   "cell_type": "markdown",
   "id": "7fa5352a-f978-4ea3-a7c4-426d29898e70",
   "metadata": {},
   "source": [
    "### input_02.csv（class）\n",
    "- 検証データに対する正答率：0.70765\n"
   ]
  },
  {
   "cell_type": "markdown",
   "id": "4b03d317-986e-4e64-9abe-065a7066f055",
   "metadata": {},
   "source": [
    "### input_03.csv（class, yar/month/day）\n",
    "- 検証データに対する正答率：0.7159\n"
   ]
  },
  {
   "cell_type": "markdown",
   "id": "b5e2155a-eb28-407e-bcb9-1f05bec078e5",
   "metadata": {},
   "source": [
    "### input_04.csv\n",
    "- ：71.78%\n",
    "x_cols = ['class', 'country', 'period', 'n_words', 'log_goal', 'launched_year', 'launched_month', 'launched_day', \n",
    "         'name_vowel_ratio', 'Goal_1000', 'Goal_500', 'Goal_10', 'median_goal_Last_Week']"
   ]
  },
  {
   "cell_type": "code",
   "execution_count": null,
   "id": "e0b44948-fd68-4c58-846b-adf965a28f75",
   "metadata": {},
   "outputs": [],
   "source": []
  },
  {
   "cell_type": "markdown",
   "id": "9add59be-65dc-43e5-9989-98483245efbe",
   "metadata": {},
   "source": [
    "## テストデータに対する予測\n",
    "本来はtrain/validではなくtrain/valid/testに分割し、testに対する予測を見るべき"
   ]
  },
  {
   "cell_type": "code",
   "execution_count": null,
   "id": "e0427309-9a93-4225-9872-01183724f70d",
   "metadata": {},
   "outputs": [],
   "source": []
  }
 ],
 "metadata": {
  "kernelspec": {
   "display_name": "Python 3 (ipykernel)",
   "language": "python",
   "name": "python3"
  },
  "language_info": {
   "codemirror_mode": {
    "name": "ipython",
    "version": 3
   },
   "file_extension": ".py",
   "mimetype": "text/x-python",
   "name": "python",
   "nbconvert_exporter": "python",
   "pygments_lexer": "ipython3",
   "version": "3.10.5"
  }
 },
 "nbformat": 4,
 "nbformat_minor": 5
}
