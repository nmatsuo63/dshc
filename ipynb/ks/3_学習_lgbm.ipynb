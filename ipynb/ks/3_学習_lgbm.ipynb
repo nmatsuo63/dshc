{
 "cells": [
  {
   "cell_type": "code",
   "execution_count": 1,
   "id": "fbd7e528-f935-460b-a48e-bc6197319d99",
   "metadata": {},
   "outputs": [],
   "source": [
    "import numpy as np\n",
    "import pandas as pd\n",
    "\n",
    "import warnings\n",
    "warnings.simplefilter('ignore')"
   ]
  },
  {
   "cell_type": "markdown",
   "id": "97816d17-5cd6-434e-a8e5-077d17c50389",
   "metadata": {},
   "source": [
    "## データの読み込み"
   ]
  },
  {
   "cell_type": "code",
   "execution_count": 2,
   "id": "4b225571-59eb-4ea2-8b8c-fb8add3b8067",
   "metadata": {},
   "outputs": [],
   "source": [
    "# データの読み込み\n",
    "# df_org = pd.read_csv('./data/input_01.csv')\n",
    "# df_org = pd.read_csv('./data/input_02.csv')\n",
    "# df_org = pd.read_csv('./data/input_03.csv')\n",
    "# df_org = pd.read_csv('./data/input_04.csv')\n",
    "df_org = pd.read_csv('./data/input_05.csv')"
   ]
  },
  {
   "cell_type": "code",
   "execution_count": 3,
   "id": "4ba32bb7-4a9e-48b2-ad57-3a23a95978ad",
   "metadata": {},
   "outputs": [],
   "source": [
    "# データ量が多いのでコーディング中はサンプリング\n",
    "# df = df_org.sample(100000, replace=True)\n",
    "df = df_org"
   ]
  },
  {
   "cell_type": "code",
   "execution_count": 4,
   "id": "cf03a6c9-3384-4095-9075-706971ca2be2",
   "metadata": {
    "tags": []
   },
   "outputs": [
    {
     "data": {
      "text/html": [
       "<div>\n",
       "<style scoped>\n",
       "    .dataframe tbody tr th:only-of-type {\n",
       "        vertical-align: middle;\n",
       "    }\n",
       "\n",
       "    .dataframe tbody tr th {\n",
       "        vertical-align: top;\n",
       "    }\n",
       "\n",
       "    .dataframe thead th {\n",
       "        text-align: right;\n",
       "    }\n",
       "</style>\n",
       "<table border=\"1\" class=\"dataframe\">\n",
       "  <thead>\n",
       "    <tr style=\"text-align: right;\">\n",
       "      <th></th>\n",
       "      <th>Unnamed: 0</th>\n",
       "      <th>ID</th>\n",
       "      <th>name</th>\n",
       "      <th>category</th>\n",
       "      <th>main_category</th>\n",
       "      <th>currency</th>\n",
       "      <th>deadline</th>\n",
       "      <th>goal</th>\n",
       "      <th>launched</th>\n",
       "      <th>pledged</th>\n",
       "      <th>...</th>\n",
       "      <th>Last_3_Month</th>\n",
       "      <th>Last_Year</th>\n",
       "      <th>mean_goal_in_category_last_month</th>\n",
       "      <th>median_goal_in_category_last_month</th>\n",
       "      <th>mean_goal_in_category_last_year</th>\n",
       "      <th>median_goal_Last_6_Month</th>\n",
       "      <th>mean_goal_Last_6_Month</th>\n",
       "      <th>mean_goal_Last_Week</th>\n",
       "      <th>name_len</th>\n",
       "      <th>name_number_of_word</th>\n",
       "    </tr>\n",
       "  </thead>\n",
       "  <tbody>\n",
       "    <tr>\n",
       "      <th>0</th>\n",
       "      <td>0</td>\n",
       "      <td>1000002330</td>\n",
       "      <td>The Songs of Adelaide &amp; Abullah</td>\n",
       "      <td>Poetry</td>\n",
       "      <td>Publishing</td>\n",
       "      <td>GBP</td>\n",
       "      <td>2015-10-09</td>\n",
       "      <td>1000.0</td>\n",
       "      <td>2015-08-11 12:12:28</td>\n",
       "      <td>0.0</td>\n",
       "      <td>...</td>\n",
       "      <td>0</td>\n",
       "      <td>192</td>\n",
       "      <td>NaN</td>\n",
       "      <td>NaN</td>\n",
       "      <td>10028.166667</td>\n",
       "      <td>NaN</td>\n",
       "      <td>NaN</td>\n",
       "      <td>NaN</td>\n",
       "      <td>31.0</td>\n",
       "      <td>6</td>\n",
       "    </tr>\n",
       "    <tr>\n",
       "      <th>1</th>\n",
       "      <td>1</td>\n",
       "      <td>1000003930</td>\n",
       "      <td>Greeting From Earth: ZGAC Arts Capsule For ET</td>\n",
       "      <td>Narrative Film</td>\n",
       "      <td>Film &amp; Video</td>\n",
       "      <td>USD</td>\n",
       "      <td>2017-11-01</td>\n",
       "      <td>30000.0</td>\n",
       "      <td>2017-09-02 04:43:57</td>\n",
       "      <td>2421.0</td>\n",
       "      <td>...</td>\n",
       "      <td>6</td>\n",
       "      <td>6</td>\n",
       "      <td>8116.666667</td>\n",
       "      <td>5850.0</td>\n",
       "      <td>8116.666667</td>\n",
       "      <td>5850.0</td>\n",
       "      <td>8116.666667</td>\n",
       "      <td>8116.666667</td>\n",
       "      <td>45.0</td>\n",
       "      <td>8</td>\n",
       "    </tr>\n",
       "    <tr>\n",
       "      <th>2</th>\n",
       "      <td>2</td>\n",
       "      <td>1000004038</td>\n",
       "      <td>Where is Hank?</td>\n",
       "      <td>Narrative Film</td>\n",
       "      <td>Film &amp; Video</td>\n",
       "      <td>USD</td>\n",
       "      <td>2013-02-26</td>\n",
       "      <td>45000.0</td>\n",
       "      <td>2013-01-12 00:20:50</td>\n",
       "      <td>220.0</td>\n",
       "      <td>...</td>\n",
       "      <td>0</td>\n",
       "      <td>5266</td>\n",
       "      <td>NaN</td>\n",
       "      <td>NaN</td>\n",
       "      <td>89715.024206</td>\n",
       "      <td>NaN</td>\n",
       "      <td>NaN</td>\n",
       "      <td>NaN</td>\n",
       "      <td>14.0</td>\n",
       "      <td>3</td>\n",
       "    </tr>\n",
       "    <tr>\n",
       "      <th>3</th>\n",
       "      <td>3</td>\n",
       "      <td>1000007540</td>\n",
       "      <td>ToshiCapital Rekordz Needs Help to Complete Album</td>\n",
       "      <td>Music</td>\n",
       "      <td>Music</td>\n",
       "      <td>USD</td>\n",
       "      <td>2012-04-16</td>\n",
       "      <td>5000.0</td>\n",
       "      <td>2012-03-17 03:24:11</td>\n",
       "      <td>1.0</td>\n",
       "      <td>...</td>\n",
       "      <td>1</td>\n",
       "      <td>1317</td>\n",
       "      <td>NaN</td>\n",
       "      <td>NaN</td>\n",
       "      <td>16377.924184</td>\n",
       "      <td>3000.0</td>\n",
       "      <td>3000.000000</td>\n",
       "      <td>NaN</td>\n",
       "      <td>49.0</td>\n",
       "      <td>7</td>\n",
       "    </tr>\n",
       "    <tr>\n",
       "      <th>4</th>\n",
       "      <td>5</td>\n",
       "      <td>1000014025</td>\n",
       "      <td>Monarch Espresso Bar</td>\n",
       "      <td>Restaurants</td>\n",
       "      <td>Food</td>\n",
       "      <td>USD</td>\n",
       "      <td>2016-04-01</td>\n",
       "      <td>50000.0</td>\n",
       "      <td>2016-02-26 13:38:27</td>\n",
       "      <td>52375.0</td>\n",
       "      <td>...</td>\n",
       "      <td>5</td>\n",
       "      <td>5312</td>\n",
       "      <td>NaN</td>\n",
       "      <td>NaN</td>\n",
       "      <td>54944.234121</td>\n",
       "      <td>10000.0</td>\n",
       "      <td>45621.972175</td>\n",
       "      <td>NaN</td>\n",
       "      <td>20.0</td>\n",
       "      <td>3</td>\n",
       "    </tr>\n",
       "  </tbody>\n",
       "</table>\n",
       "<p>5 rows × 41 columns</p>\n",
       "</div>"
      ],
      "text/plain": [
       "   Unnamed: 0          ID                                               name  \\\n",
       "0           0  1000002330                    The Songs of Adelaide & Abullah   \n",
       "1           1  1000003930      Greeting From Earth: ZGAC Arts Capsule For ET   \n",
       "2           2  1000004038                                     Where is Hank?   \n",
       "3           3  1000007540  ToshiCapital Rekordz Needs Help to Complete Album   \n",
       "4           5  1000014025                               Monarch Espresso Bar   \n",
       "\n",
       "         category main_category currency    deadline     goal  \\\n",
       "0          Poetry    Publishing      GBP  2015-10-09   1000.0   \n",
       "1  Narrative Film  Film & Video      USD  2017-11-01  30000.0   \n",
       "2  Narrative Film  Film & Video      USD  2013-02-26  45000.0   \n",
       "3           Music         Music      USD  2012-04-16   5000.0   \n",
       "4     Restaurants          Food      USD  2016-04-01  50000.0   \n",
       "\n",
       "              launched  pledged  ...  Last_3_Month  Last_Year  \\\n",
       "0  2015-08-11 12:12:28      0.0  ...             0        192   \n",
       "1  2017-09-02 04:43:57   2421.0  ...             6          6   \n",
       "2  2013-01-12 00:20:50    220.0  ...             0       5266   \n",
       "3  2012-03-17 03:24:11      1.0  ...             1       1317   \n",
       "4  2016-02-26 13:38:27  52375.0  ...             5       5312   \n",
       "\n",
       "  mean_goal_in_category_last_month  median_goal_in_category_last_month  \\\n",
       "0                              NaN                                 NaN   \n",
       "1                      8116.666667                              5850.0   \n",
       "2                              NaN                                 NaN   \n",
       "3                              NaN                                 NaN   \n",
       "4                              NaN                                 NaN   \n",
       "\n",
       "   mean_goal_in_category_last_year  median_goal_Last_6_Month  \\\n",
       "0                     10028.166667                       NaN   \n",
       "1                      8116.666667                    5850.0   \n",
       "2                     89715.024206                       NaN   \n",
       "3                     16377.924184                    3000.0   \n",
       "4                     54944.234121                   10000.0   \n",
       "\n",
       "   mean_goal_Last_6_Month  mean_goal_Last_Week  name_len  name_number_of_word  \n",
       "0                     NaN                  NaN      31.0                    6  \n",
       "1             8116.666667          8116.666667      45.0                    8  \n",
       "2                     NaN                  NaN      14.0                    3  \n",
       "3             3000.000000                  NaN      49.0                    7  \n",
       "4            45621.972175                  NaN      20.0                    3  \n",
       "\n",
       "[5 rows x 41 columns]"
      ]
     },
     "execution_count": 4,
     "metadata": {},
     "output_type": "execute_result"
    }
   ],
   "source": [
    "df.head()"
   ]
  },
  {
   "cell_type": "code",
   "execution_count": 5,
   "id": "7947953c-5fd2-44b4-bef3-6ebaf754d1a0",
   "metadata": {},
   "outputs": [
    {
     "data": {
      "text/plain": [
       "Index(['Unnamed: 0', 'ID', 'name', 'category', 'main_category', 'currency',\n",
       "       'deadline', 'goal', 'launched', 'pledged', 'state', 'backers',\n",
       "       'country', 'usd pledged', 'usd_pledged_real', 'usd_goal_real', 'period',\n",
       "       'launched_year', 'launched_month', 'launched_day', 'class',\n",
       "       'name_vowel_ratio', 'n_words', 'log_goal', 'Goal_1000', 'Goal_500',\n",
       "       'Goal_10', 'median_goal_Last_Week', 'Last_Week', 'Last_Month',\n",
       "       'Last_6_Month', 'Last_3_Month', 'Last_Year',\n",
       "       'mean_goal_in_category_last_month',\n",
       "       'median_goal_in_category_last_month', 'mean_goal_in_category_last_year',\n",
       "       'median_goal_Last_6_Month', 'mean_goal_Last_6_Month',\n",
       "       'mean_goal_Last_Week', 'name_len', 'name_number_of_word'],\n",
       "      dtype='object')"
      ]
     },
     "execution_count": 5,
     "metadata": {},
     "output_type": "execute_result"
    }
   ],
   "source": [
    "df.columns"
   ]
  },
  {
   "cell_type": "code",
   "execution_count": 6,
   "id": "b31e63e2-ed24-4480-af50-d1c5db3470c2",
   "metadata": {},
   "outputs": [
    {
     "data": {
      "text/html": [
       "<div>\n",
       "<style scoped>\n",
       "    .dataframe tbody tr th:only-of-type {\n",
       "        vertical-align: middle;\n",
       "    }\n",
       "\n",
       "    .dataframe tbody tr th {\n",
       "        vertical-align: top;\n",
       "    }\n",
       "\n",
       "    .dataframe thead th {\n",
       "        text-align: right;\n",
       "    }\n",
       "</style>\n",
       "<table border=\"1\" class=\"dataframe\">\n",
       "  <thead>\n",
       "    <tr style=\"text-align: right;\">\n",
       "      <th></th>\n",
       "      <th>usd_goal_real</th>\n",
       "      <th>log_goal</th>\n",
       "    </tr>\n",
       "  </thead>\n",
       "  <tbody>\n",
       "    <tr>\n",
       "      <th>0</th>\n",
       "      <td>1533.95</td>\n",
       "      <td>7.335601</td>\n",
       "    </tr>\n",
       "    <tr>\n",
       "      <th>1</th>\n",
       "      <td>30000.00</td>\n",
       "      <td>10.308953</td>\n",
       "    </tr>\n",
       "    <tr>\n",
       "      <th>2</th>\n",
       "      <td>45000.00</td>\n",
       "      <td>10.714418</td>\n",
       "    </tr>\n",
       "    <tr>\n",
       "      <th>3</th>\n",
       "      <td>5000.00</td>\n",
       "      <td>8.517193</td>\n",
       "    </tr>\n",
       "    <tr>\n",
       "      <th>4</th>\n",
       "      <td>50000.00</td>\n",
       "      <td>10.819778</td>\n",
       "    </tr>\n",
       "  </tbody>\n",
       "</table>\n",
       "</div>"
      ],
      "text/plain": [
       "   usd_goal_real   log_goal\n",
       "0        1533.95   7.335601\n",
       "1       30000.00  10.308953\n",
       "2       45000.00  10.714418\n",
       "3        5000.00   8.517193\n",
       "4       50000.00  10.819778"
      ]
     },
     "execution_count": 6,
     "metadata": {},
     "output_type": "execute_result"
    }
   ],
   "source": [
    "df[['usd_goal_real', 'log_goal']].head()"
   ]
  },
  {
   "cell_type": "code",
   "execution_count": 7,
   "id": "73450e1f-6901-4331-a4a0-80cc2c233672",
   "metadata": {},
   "outputs": [
    {
     "data": {
      "text/plain": [
       "<AxesSubplot:>"
      ]
     },
     "execution_count": 7,
     "metadata": {},
     "output_type": "execute_result"
    },
    {
     "data": {
      "image/png": "[encoded data removed]",
      "text/plain": [
       "<Figure size 432x288 with 1 Axes>"
      ]
     },
     "metadata": {
      "needs_background": "light"
     },
     "output_type": "display_data"
    }
   ],
   "source": [
    "# 対数変換してるのに40000はさすがにおかしい\n",
    "df['log_goal'].hist()"
   ]
  },
  {
   "cell_type": "code",
   "execution_count": 8,
   "id": "678a31de-0850-40e2-86c4-046a868af422",
   "metadata": {},
   "outputs": [],
   "source": [
    "# この外れ値除去を行うと、最終的な精度が悪化した\n",
    "med = df['usd_goal_real'].median()\n",
    "MAD = 1.4826 * np.median(abs(df['usd_goal_real']-med))\n",
    "df = df[(med - 3 * MAD < df['usd_goal_real']) & (df['usd_goal_real'] < med + 3 * MAD)]"
   ]
  },
  {
   "cell_type": "code",
   "execution_count": 9,
   "id": "e604713f-dad1-4f66-81b6-3097195d9836",
   "metadata": {},
   "outputs": [],
   "source": [
    "df['log_goal'] = np.log(df['usd_goal_real'])"
   ]
  },
  {
   "cell_type": "code",
   "execution_count": 10,
   "id": "70a407dd-d523-4b58-8215-ac895f2b0d0c",
   "metadata": {},
   "outputs": [
    {
     "data": {
      "text/plain": [
       "<AxesSubplot:>"
      ]
     },
     "execution_count": 10,
     "metadata": {},
     "output_type": "execute_result"
    },
    {
     "data": {
      "image/png": "[encoded data removed]",
      "text/plain": [
       "<Figure size 432x288 with 1 Axes>"
      ]
     },
     "metadata": {
      "needs_background": "light"
     },
     "output_type": "display_data"
    }
   ],
   "source": [
    "df['usd_goal_real'].hist()\n"
   ]
  },
  {
   "cell_type": "code",
   "execution_count": 12,
   "id": "fad720c4-985e-4525-ba24-04791a9ec694",
   "metadata": {},
   "outputs": [
    {
     "data": {
      "text/plain": [
       "<AxesSubplot:>"
      ]
     },
     "execution_count": 12,
     "metadata": {},
     "output_type": "execute_result"
    },
    {
     "data": {
      "image/png": "[encoded data removed]",
      "text/plain": [
       "<Figure size 432x288 with 1 Axes>"
      ]
     },
     "metadata": {
      "needs_background": "light"
     },
     "output_type": "display_data"
    }
   ],
   "source": [
    "df['log_goal'].hist()\n"
   ]
  },
  {
   "cell_type": "code",
   "execution_count": 13,
   "id": "422a12ba-c356-414c-9a9b-cf11830173d9",
   "metadata": {},
   "outputs": [
    {
     "data": {
      "text/plain": [
       "<AxesSubplot:>"
      ]
     },
     "execution_count": 13,
     "metadata": {},
     "output_type": "execute_result"
    },
    {
     "data": {
      "image/png": "[encoded data removed]",
      "text/plain": [
       "<Figure size 432x288 with 1 Axes>"
      ]
     },
     "metadata": {
      "needs_background": "light"
     },
     "output_type": "display_data"
    }
   ],
   "source": [
    "df['period'].hist()"
   ]
  },
  {
   "cell_type": "code",
   "execution_count": 14,
   "id": "31a5d9ac-56ab-4ff2-80da-8b47a98b9df5",
   "metadata": {},
   "outputs": [
    {
     "data": {
      "text/plain": [
       "Unnamed: 0                                 0\n",
       "ID                                         0\n",
       "name                                       1\n",
       "category                                   0\n",
       "main_category                              0\n",
       "currency                                   0\n",
       "deadline                                   0\n",
       "goal                                       0\n",
       "launched                                   0\n",
       "pledged                                    0\n",
       "state                                      0\n",
       "backers                                    0\n",
       "country                                    0\n",
       "usd pledged                              205\n",
       "usd_pledged_real                           0\n",
       "usd_goal_real                              0\n",
       "period                                     0\n",
       "launched_year                              0\n",
       "launched_month                             0\n",
       "launched_day                               0\n",
       "class                                      0\n",
       "name_vowel_ratio                           0\n",
       "n_words                                    0\n",
       "log_goal                                   0\n",
       "Goal_1000                                  0\n",
       "Goal_500                                   0\n",
       "Goal_10                                    0\n",
       "median_goal_Last_Week                 261106\n",
       "Last_Week                                  0\n",
       "Last_Month                                 0\n",
       "Last_6_Month                               0\n",
       "Last_3_Month                               0\n",
       "Last_Year                                  0\n",
       "mean_goal_in_category_last_month      228710\n",
       "median_goal_in_category_last_month    228710\n",
       "mean_goal_in_category_last_year        38441\n",
       "median_goal_Last_6_Month               92545\n",
       "mean_goal_Last_6_Month                 92545\n",
       "mean_goal_Last_Week                   261106\n",
       "name_len                                   1\n",
       "name_number_of_word                        0\n",
       "dtype: int64"
      ]
     },
     "execution_count": 14,
     "metadata": {},
     "output_type": "execute_result"
    }
   ],
   "source": [
    "# ここでNaNが多いものはできれば除きたい\n",
    "df.isnull().sum()"
   ]
  },
  {
   "cell_type": "markdown",
   "id": "639cf987-40b7-45cd-b962-34efbddae136",
   "metadata": {},
   "source": [
    "## データの準備"
   ]
  },
  {
   "cell_type": "code",
   "execution_count": 15,
   "id": "2ef3f15d-e7d7-4c6c-b064-160dfd64360e",
   "metadata": {},
   "outputs": [],
   "source": [
    "# 数値エンコーディング（GBDT以外の場合は必須）\n",
    "from sklearn.preprocessing import LabelEncoder\n",
    "encoder = LabelEncoder()\n",
    "df = df.apply(encoder.fit_transform)"
   ]
  },
  {
   "cell_type": "code",
   "execution_count": 16,
   "id": "34572e65-f135-44a0-8275-d294723f94da",
   "metadata": {},
   "outputs": [
    {
     "data": {
      "text/html": [
       "<div>\n",
       "<style scoped>\n",
       "    .dataframe tbody tr th:only-of-type {\n",
       "        vertical-align: middle;\n",
       "    }\n",
       "\n",
       "    .dataframe tbody tr th {\n",
       "        vertical-align: top;\n",
       "    }\n",
       "\n",
       "    .dataframe thead th {\n",
       "        text-align: right;\n",
       "    }\n",
       "</style>\n",
       "<table border=\"1\" class=\"dataframe\">\n",
       "  <thead>\n",
       "    <tr style=\"text-align: right;\">\n",
       "      <th></th>\n",
       "      <th>Unnamed: 0</th>\n",
       "      <th>ID</th>\n",
       "      <th>name</th>\n",
       "      <th>category</th>\n",
       "      <th>main_category</th>\n",
       "      <th>currency</th>\n",
       "      <th>deadline</th>\n",
       "      <th>goal</th>\n",
       "      <th>launched</th>\n",
       "      <th>pledged</th>\n",
       "      <th>...</th>\n",
       "      <th>Last_3_Month</th>\n",
       "      <th>Last_Year</th>\n",
       "      <th>mean_goal_in_category_last_month</th>\n",
       "      <th>median_goal_in_category_last_month</th>\n",
       "      <th>mean_goal_in_category_last_year</th>\n",
       "      <th>median_goal_Last_6_Month</th>\n",
       "      <th>mean_goal_Last_6_Month</th>\n",
       "      <th>mean_goal_Last_Week</th>\n",
       "      <th>name_len</th>\n",
       "      <th>name_number_of_word</th>\n",
       "    </tr>\n",
       "  </thead>\n",
       "  <tbody>\n",
       "    <tr>\n",
       "      <th>0</th>\n",
       "      <td>0</td>\n",
       "      <td>127038</td>\n",
       "      <td>237239</td>\n",
       "      <td>108</td>\n",
       "      <td>12</td>\n",
       "      <td>5</td>\n",
       "      <td>2282</td>\n",
       "      <td>689</td>\n",
       "      <td>181930</td>\n",
       "      <td>0</td>\n",
       "      <td>...</td>\n",
       "      <td>0</td>\n",
       "      <td>66</td>\n",
       "      <td>239</td>\n",
       "      <td>85</td>\n",
       "      <td>81</td>\n",
       "      <td>94</td>\n",
       "      <td>333</td>\n",
       "      <td>211</td>\n",
       "      <td>30</td>\n",
       "      <td>5</td>\n",
       "    </tr>\n",
       "    <tr>\n",
       "      <th>3</th>\n",
       "      <td>1</td>\n",
       "      <td>127039</td>\n",
       "      <td>245870</td>\n",
       "      <td>90</td>\n",
       "      <td>10</td>\n",
       "      <td>13</td>\n",
       "      <td>1011</td>\n",
       "      <td>2405</td>\n",
       "      <td>39682</td>\n",
       "      <td>1</td>\n",
       "      <td>...</td>\n",
       "      <td>1</td>\n",
       "      <td>136</td>\n",
       "      <td>239</td>\n",
       "      <td>85</td>\n",
       "      <td>164</td>\n",
       "      <td>20</td>\n",
       "      <td>8</td>\n",
       "      <td>211</td>\n",
       "      <td>48</td>\n",
       "      <td>6</td>\n",
       "    </tr>\n",
       "    <tr>\n",
       "      <th>5</th>\n",
       "      <td>2</td>\n",
       "      <td>127040</td>\n",
       "      <td>208791</td>\n",
       "      <td>58</td>\n",
       "      <td>7</td>\n",
       "      <td>13</td>\n",
       "      <td>1990</td>\n",
       "      <td>689</td>\n",
       "      <td>144779</td>\n",
       "      <td>4362</td>\n",
       "      <td>...</td>\n",
       "      <td>0</td>\n",
       "      <td>64</td>\n",
       "      <td>239</td>\n",
       "      <td>85</td>\n",
       "      <td>216</td>\n",
       "      <td>68</td>\n",
       "      <td>198</td>\n",
       "      <td>211</td>\n",
       "      <td>59</td>\n",
       "      <td>8</td>\n",
       "    </tr>\n",
       "    <tr>\n",
       "      <th>7</th>\n",
       "      <td>3</td>\n",
       "      <td>12597</td>\n",
       "      <td>159964</td>\n",
       "      <td>95</td>\n",
       "      <td>12</td>\n",
       "      <td>1</td>\n",
       "      <td>1552</td>\n",
       "      <td>1455</td>\n",
       "      <td>89488</td>\n",
       "      <td>0</td>\n",
       "      <td>...</td>\n",
       "      <td>0</td>\n",
       "      <td>276</td>\n",
       "      <td>239</td>\n",
       "      <td>85</td>\n",
       "      <td>150</td>\n",
       "      <td>48</td>\n",
       "      <td>150</td>\n",
       "      <td>211</td>\n",
       "      <td>18</td>\n",
       "      <td>3</td>\n",
       "    </tr>\n",
       "    <tr>\n",
       "      <th>8</th>\n",
       "      <td>4</td>\n",
       "      <td>12598</td>\n",
       "      <td>133264</td>\n",
       "      <td>72</td>\n",
       "      <td>10</td>\n",
       "      <td>13</td>\n",
       "      <td>1368</td>\n",
       "      <td>4090</td>\n",
       "      <td>71857</td>\n",
       "      <td>27525</td>\n",
       "      <td>...</td>\n",
       "      <td>0</td>\n",
       "      <td>78</td>\n",
       "      <td>239</td>\n",
       "      <td>85</td>\n",
       "      <td>108</td>\n",
       "      <td>37</td>\n",
       "      <td>142</td>\n",
       "      <td>211</td>\n",
       "      <td>15</td>\n",
       "      <td>3</td>\n",
       "    </tr>\n",
       "  </tbody>\n",
       "</table>\n",
       "<p>5 rows × 41 columns</p>\n",
       "</div>"
      ],
      "text/plain": [
       "   Unnamed: 0      ID    name  category  main_category  currency  deadline  \\\n",
       "0           0  127038  237239       108             12         5      2282   \n",
       "3           1  127039  245870        90             10        13      1011   \n",
       "5           2  127040  208791        58              7        13      1990   \n",
       "7           3   12597  159964        95             12         1      1552   \n",
       "8           4   12598  133264        72             10        13      1368   \n",
       "\n",
       "   goal  launched  pledged  ...  Last_3_Month  Last_Year  \\\n",
       "0   689    181930        0  ...             0         66   \n",
       "3  2405     39682        1  ...             1        136   \n",
       "5   689    144779     4362  ...             0         64   \n",
       "7  1455     89488        0  ...             0        276   \n",
       "8  4090     71857    27525  ...             0         78   \n",
       "\n",
       "   mean_goal_in_category_last_month  median_goal_in_category_last_month  \\\n",
       "0                               239                                  85   \n",
       "3                               239                                  85   \n",
       "5                               239                                  85   \n",
       "7                               239                                  85   \n",
       "8                               239                                  85   \n",
       "\n",
       "   mean_goal_in_category_last_year  median_goal_Last_6_Month  \\\n",
       "0                               81                        94   \n",
       "3                              164                        20   \n",
       "5                              216                        68   \n",
       "7                              150                        48   \n",
       "8                              108                        37   \n",
       "\n",
       "   mean_goal_Last_6_Month  mean_goal_Last_Week  name_len  name_number_of_word  \n",
       "0                     333                  211        30                    5  \n",
       "3                       8                  211        48                    6  \n",
       "5                     198                  211        59                    8  \n",
       "7                     150                  211        18                    3  \n",
       "8                     142                  211        15                    3  \n",
       "\n",
       "[5 rows x 41 columns]"
      ]
     },
     "execution_count": 16,
     "metadata": {},
     "output_type": "execute_result"
    }
   ],
   "source": [
    "df.head()"
   ]
  },
  {
   "cell_type": "code",
   "execution_count": 17,
   "id": "1d89b82c-ff6f-4b03-95d2-2199d068dfe1",
   "metadata": {
    "tags": []
   },
   "outputs": [],
   "source": [
    "y = df[['state']]\n",
    "# x_cols = ['class', 'country', 'period', 'log_goal', 'launched_year', 'launched_month', 'launched_day', \n",
    "#          'name_vowel_ratio', 'Goal_1000', 'Goal_10', 'Last_Year', 'name_len', 'name_number_of_word', \n",
    "#           'mean_goal_in_category_last_month', 'mean_goal_in_category_last_year','mean_goal_Last_6_Month']\n",
    "# x_cols = ['class', 'country', 'period', 'n_words', 'log_goal', 'launched_year', 'launched_month', 'launched_day', \n",
    "#          'name_vowel_ratio', 'Goal_1000', 'Goal_500', 'Goal_10', 'median_goal_Last_Week']\n",
    "x_cols = ['class', 'period', 'log_goal', 'name_vowel_ratio', 'name_len', 'country', \n",
    "         'launched_day', 'launched_month', 'launched_year', 'Last_Year', 'Last_Month', 'Last_Week', \n",
    "         'mean_goal_in_category_last_year']\n",
    "x = df[x_cols]"
   ]
  },
  {
   "cell_type": "code",
   "execution_count": 18,
   "id": "1880dd7c-7ff1-47b8-bd1f-829133200a10",
   "metadata": {},
   "outputs": [
    {
     "data": {
      "text/html": [
       "<div>\n",
       "<style scoped>\n",
       "    .dataframe tbody tr th:only-of-type {\n",
       "        vertical-align: middle;\n",
       "    }\n",
       "\n",
       "    .dataframe tbody tr th {\n",
       "        vertical-align: top;\n",
       "    }\n",
       "\n",
       "    .dataframe thead th {\n",
       "        text-align: right;\n",
       "    }\n",
       "</style>\n",
       "<table border=\"1\" class=\"dataframe\">\n",
       "  <thead>\n",
       "    <tr style=\"text-align: right;\">\n",
       "      <th></th>\n",
       "      <th>state</th>\n",
       "    </tr>\n",
       "  </thead>\n",
       "  <tbody>\n",
       "    <tr>\n",
       "      <th>0</th>\n",
       "      <td>0</td>\n",
       "    </tr>\n",
       "    <tr>\n",
       "      <th>3</th>\n",
       "      <td>0</td>\n",
       "    </tr>\n",
       "    <tr>\n",
       "      <th>5</th>\n",
       "      <td>1</td>\n",
       "    </tr>\n",
       "    <tr>\n",
       "      <th>7</th>\n",
       "      <td>0</td>\n",
       "    </tr>\n",
       "    <tr>\n",
       "      <th>8</th>\n",
       "      <td>1</td>\n",
       "    </tr>\n",
       "  </tbody>\n",
       "</table>\n",
       "</div>"
      ],
      "text/plain": [
       "   state\n",
       "0      0\n",
       "3      0\n",
       "5      1\n",
       "7      0\n",
       "8      1"
      ]
     },
     "execution_count": 18,
     "metadata": {},
     "output_type": "execute_result"
    }
   ],
   "source": [
    "y.head()"
   ]
  },
  {
   "cell_type": "code",
   "execution_count": 19,
   "id": "a4e50284-4487-47fc-9fde-1e985c77f9f7",
   "metadata": {},
   "outputs": [
    {
     "data": {
      "text/html": [
       "<div>\n",
       "<style scoped>\n",
       "    .dataframe tbody tr th:only-of-type {\n",
       "        vertical-align: middle;\n",
       "    }\n",
       "\n",
       "    .dataframe tbody tr th {\n",
       "        vertical-align: top;\n",
       "    }\n",
       "\n",
       "    .dataframe thead th {\n",
       "        text-align: right;\n",
       "    }\n",
       "</style>\n",
       "<table border=\"1\" class=\"dataframe\">\n",
       "  <thead>\n",
       "    <tr style=\"text-align: right;\">\n",
       "      <th></th>\n",
       "      <th>class</th>\n",
       "      <th>period</th>\n",
       "      <th>log_goal</th>\n",
       "      <th>name_vowel_ratio</th>\n",
       "      <th>name_len</th>\n",
       "      <th>country</th>\n",
       "      <th>launched_day</th>\n",
       "      <th>launched_month</th>\n",
       "      <th>launched_year</th>\n",
       "      <th>Last_Year</th>\n",
       "      <th>Last_Month</th>\n",
       "      <th>Last_Week</th>\n",
       "      <th>mean_goal_in_category_last_year</th>\n",
       "    </tr>\n",
       "  </thead>\n",
       "  <tbody>\n",
       "    <tr>\n",
       "      <th>0</th>\n",
       "      <td>97</td>\n",
       "      <td>58</td>\n",
       "      <td>10270</td>\n",
       "      <td>392</td>\n",
       "      <td>30</td>\n",
       "      <td>9</td>\n",
       "      <td>10</td>\n",
       "      <td>7</td>\n",
       "      <td>6</td>\n",
       "      <td>66</td>\n",
       "      <td>0</td>\n",
       "      <td>0</td>\n",
       "      <td>81</td>\n",
       "    </tr>\n",
       "    <tr>\n",
       "      <th>3</th>\n",
       "      <td>78</td>\n",
       "      <td>29</td>\n",
       "      <td>19451</td>\n",
       "      <td>382</td>\n",
       "      <td>48</td>\n",
       "      <td>22</td>\n",
       "      <td>16</td>\n",
       "      <td>2</td>\n",
       "      <td>3</td>\n",
       "      <td>136</td>\n",
       "      <td>0</td>\n",
       "      <td>0</td>\n",
       "      <td>164</td>\n",
       "    </tr>\n",
       "    <tr>\n",
       "      <th>5</th>\n",
       "      <td>53</td>\n",
       "      <td>19</td>\n",
       "      <td>7777</td>\n",
       "      <td>449</td>\n",
       "      <td>59</td>\n",
       "      <td>22</td>\n",
       "      <td>0</td>\n",
       "      <td>11</td>\n",
       "      <td>5</td>\n",
       "      <td>64</td>\n",
       "      <td>0</td>\n",
       "      <td>0</td>\n",
       "      <td>216</td>\n",
       "    </tr>\n",
       "    <tr>\n",
       "      <th>7</th>\n",
       "      <td>95</td>\n",
       "      <td>29</td>\n",
       "      <td>13361</td>\n",
       "      <td>307</td>\n",
       "      <td>18</td>\n",
       "      <td>3</td>\n",
       "      <td>8</td>\n",
       "      <td>8</td>\n",
       "      <td>4</td>\n",
       "      <td>276</td>\n",
       "      <td>0</td>\n",
       "      <td>0</td>\n",
       "      <td>150</td>\n",
       "    </tr>\n",
       "    <tr>\n",
       "      <th>8</th>\n",
       "      <td>75</td>\n",
       "      <td>29</td>\n",
       "      <td>28269</td>\n",
       "      <td>328</td>\n",
       "      <td>15</td>\n",
       "      <td>22</td>\n",
       "      <td>8</td>\n",
       "      <td>2</td>\n",
       "      <td>4</td>\n",
       "      <td>78</td>\n",
       "      <td>0</td>\n",
       "      <td>0</td>\n",
       "      <td>108</td>\n",
       "    </tr>\n",
       "  </tbody>\n",
       "</table>\n",
       "</div>"
      ],
      "text/plain": [
       "   class  period  log_goal  name_vowel_ratio  name_len  country  launched_day  \\\n",
       "0     97      58     10270               392        30        9            10   \n",
       "3     78      29     19451               382        48       22            16   \n",
       "5     53      19      7777               449        59       22             0   \n",
       "7     95      29     13361               307        18        3             8   \n",
       "8     75      29     28269               328        15       22             8   \n",
       "\n",
       "   launched_month  launched_year  Last_Year  Last_Month  Last_Week  \\\n",
       "0               7              6         66           0          0   \n",
       "3               2              3        136           0          0   \n",
       "5              11              5         64           0          0   \n",
       "7               8              4        276           0          0   \n",
       "8               2              4         78           0          0   \n",
       "\n",
       "   mean_goal_in_category_last_year  \n",
       "0                               81  \n",
       "3                              164  \n",
       "5                              216  \n",
       "7                              150  \n",
       "8                              108  "
      ]
     },
     "execution_count": 19,
     "metadata": {},
     "output_type": "execute_result"
    }
   ],
   "source": [
    "x.head()"
   ]
  },
  {
   "cell_type": "markdown",
   "id": "da89fd9e-cbae-464f-ab2c-10fea4c7fb72",
   "metadata": {},
   "source": [
    "## モデル学習（単体）"
   ]
  },
  {
   "cell_type": "code",
   "execution_count": 20,
   "id": "a3d6da78-001c-494a-b90b-e472c296a85d",
   "metadata": {},
   "outputs": [],
   "source": [
    "from sklearn.model_selection import train_test_split\n",
    "\n",
    "# 訓練データとテストデータを8:2に分割\n",
    "# ※評価を揃えるため df 以外の引数は変更しないこと\n",
    "x_train, x_test, y_train, y_test = train_test_split(x,y,test_size=0.2, random_state=1234)"
   ]
  },
  {
   "cell_type": "code",
   "execution_count": 21,
   "id": "40af392d-f41a-43e4-8ffa-2047358c5a46",
   "metadata": {},
   "outputs": [],
   "source": [
    "import lightgbm as lgb\n",
    "from sklearn.metrics import log_loss, roc_auc_score, accuracy_score\n",
    "\n",
    "# パラメータ\n",
    "RANDOM_STATE = 10\n",
    "num_round = 1000\n",
    "TEST_SIZE = 0.2\n",
    "\n",
    "# 学習データと評価データを作成\n",
    "x_train, x_valid, y_train, y_valid = train_test_split(x_train,y_train,test_size=TEST_SIZE,random_state=RANDOM_STATE)\n",
    "\n",
    "lgb_train = lgb.Dataset(x_train, y_train)\n",
    "lgb_eval = lgb.Dataset(x_valid, y_valid, reference=lgb_train)"
   ]
  },
  {
   "cell_type": "code",
   "execution_count": 22,
   "id": "1610685c-b839-4369-9d04-9cc60e02d602",
   "metadata": {},
   "outputs": [],
   "source": [
    "# LightGBMのパラメータ設定\n",
    "params = {\n",
    "    'boosting_type': 'gbdt',\n",
    "    'objective': 'binary',\n",
    "    'metric': 'binary_logloss',\n",
    "    'num_leaves': 50,\n",
    "    'verbose': 0\n",
    "}"
   ]
  },
  {
   "cell_type": "code",
   "execution_count": 23,
   "id": "a3460295-610e-4cd4-a0cf-8baa7d0dec4d",
   "metadata": {},
   "outputs": [
    {
     "name": "stdout",
     "output_type": "stream",
     "text": [
      "[LightGBM] [Warning] Auto-choosing row-wise multi-threading, the overhead of testing was 0.005347 seconds.\n",
      "You can set `force_row_wise=true` to remove the overhead.\n",
      "And if memory is not enough, you can set `force_col_wise=true`.\n",
      "訓練データの正答率: 67.399 %\n"
     ]
    }
   ],
   "source": [
    "# 訓練データに対する予測\n",
    "# LightGBM学習\n",
    "model = lgb.train(params, lgb_train, num_round, \n",
    "                  valid_names=['train', 'valid'], valid_sets=lgb_eval,\n",
    "                  early_stopping_rounds=20, verbose_eval=False)\n",
    "\n",
    "# LightGBM推論\n",
    "y_pred = model.predict(x_valid, num_iteration=model.best_iteration)\n",
    "\n",
    "# 評価\n",
    "y_pred = y_pred.round(0)\n",
    "# acc_train = accuracy_score(y_test, y_pred)\n",
    "acc_train = accuracy_score(y_true=y_valid, y_pred=y_pred)\n",
    "\n",
    "print(f\"訓練データの正答率: {100 * acc_train:.3f} %\")    "
   ]
  },
  {
   "cell_type": "code",
   "execution_count": 24,
   "id": "91e7f593-5fc0-4e82-b06e-1354d6fb3e87",
   "metadata": {},
   "outputs": [
    {
     "name": "stdout",
     "output_type": "stream",
     "text": [
      "テストデータの正答率: 67.550 %\n"
     ]
    }
   ],
   "source": [
    "# テストデータに対する予測\n",
    "# LightGBM推論\n",
    "y_pred = model.predict(x_test, num_iteration=model.best_iteration)\n",
    "y_pred = y_pred.round(0)\n",
    "\n",
    "# 評価\n",
    "acc_train = accuracy_score(y_true=y_test, y_pred=y_pred)\n",
    "print(f\"テストデータの正答率: {100 * acc_train:.3f} %\")  \n",
    "\n",
    "# print(y_test)\n",
    "# print(y_pred)"
   ]
  },
  {
   "cell_type": "code",
   "execution_count": 25,
   "id": "3a7548b4-5e3f-421d-9c05-fcc964453055",
   "metadata": {},
   "outputs": [
    {
     "data": {
      "text/html": [
       "<div>\n",
       "<style scoped>\n",
       "    .dataframe tbody tr th:only-of-type {\n",
       "        vertical-align: middle;\n",
       "    }\n",
       "\n",
       "    .dataframe tbody tr th {\n",
       "        vertical-align: top;\n",
       "    }\n",
       "\n",
       "    .dataframe thead th {\n",
       "        text-align: right;\n",
       "    }\n",
       "</style>\n",
       "<table border=\"1\" class=\"dataframe\">\n",
       "  <thead>\n",
       "    <tr style=\"text-align: right;\">\n",
       "      <th></th>\n",
       "      <th>importance</th>\n",
       "    </tr>\n",
       "  </thead>\n",
       "  <tbody>\n",
       "    <tr>\n",
       "      <th>class</th>\n",
       "      <td>2325</td>\n",
       "    </tr>\n",
       "    <tr>\n",
       "      <th>log_goal</th>\n",
       "      <td>1525</td>\n",
       "    </tr>\n",
       "    <tr>\n",
       "      <th>name_vowel_ratio</th>\n",
       "      <td>1302</td>\n",
       "    </tr>\n",
       "    <tr>\n",
       "      <th>name_len</th>\n",
       "      <td>1225</td>\n",
       "    </tr>\n",
       "    <tr>\n",
       "      <th>period</th>\n",
       "      <td>1197</td>\n",
       "    </tr>\n",
       "    <tr>\n",
       "      <th>launched_day</th>\n",
       "      <td>922</td>\n",
       "    </tr>\n",
       "    <tr>\n",
       "      <th>mean_goal_in_category_last_year</th>\n",
       "      <td>777</td>\n",
       "    </tr>\n",
       "    <tr>\n",
       "      <th>Last_Year</th>\n",
       "      <td>689</td>\n",
       "    </tr>\n",
       "    <tr>\n",
       "      <th>launched_year</th>\n",
       "      <td>657</td>\n",
       "    </tr>\n",
       "    <tr>\n",
       "      <th>launched_month</th>\n",
       "      <td>609</td>\n",
       "    </tr>\n",
       "    <tr>\n",
       "      <th>country</th>\n",
       "      <td>437</td>\n",
       "    </tr>\n",
       "    <tr>\n",
       "      <th>Last_Month</th>\n",
       "      <td>243</td>\n",
       "    </tr>\n",
       "    <tr>\n",
       "      <th>Last_Week</th>\n",
       "      <td>97</td>\n",
       "    </tr>\n",
       "  </tbody>\n",
       "</table>\n",
       "</div>"
      ],
      "text/plain": [
       "                                 importance\n",
       "class                                  2325\n",
       "log_goal                               1525\n",
       "name_vowel_ratio                       1302\n",
       "name_len                               1225\n",
       "period                                 1197\n",
       "launched_day                            922\n",
       "mean_goal_in_category_last_year         777\n",
       "Last_Year                               689\n",
       "launched_year                           657\n",
       "launched_month                          609\n",
       "country                                 437\n",
       "Last_Month                              243\n",
       "Last_Week                                97"
      ]
     },
     "metadata": {},
     "output_type": "display_data"
    }
   ],
   "source": [
    "# feature importance for Light GBM\n",
    "predictor_columns = x_train.columns\n",
    "importance = pd.DataFrame(model.feature_importance(), index=predictor_columns, columns=['importance'])\n",
    "# display(importance)\n",
    "display(importance.sort_values('importance', ascending = False))\n",
    "\n",
    "# predictor_columns = x_train.columns\n",
    "# feat_import = list(zip(predictor_columns, list(model.feature_importances())))\n",
    "# ns_df = pd.DataFrame(data = feat_import, columns=['Feat_names', 'Importance'])\n",
    "# ns_df_sorted = ns_df.sort_values(['Importance', 'Feat_names'], ascending = [False, True])\n",
    "\n",
    "# ns_df_sorted"
   ]
  },
  {
   "cell_type": "markdown",
   "id": "5a623341-d3ab-4148-a894-121b765cfd51",
   "metadata": {
    "tags": []
   },
   "source": [
    "## 交差検証"
   ]
  },
  {
   "cell_type": "code",
   "execution_count": 26,
   "id": "555b87a7-3f9e-462c-bde2-b684c33aa862",
   "metadata": {},
   "outputs": [],
   "source": [
    "# !pip install lightgbm"
   ]
  },
  {
   "cell_type": "code",
   "execution_count": 27,
   "id": "4b3734a6-7019-41e8-a8ae-5b2533ea5651",
   "metadata": {},
   "outputs": [],
   "source": [
    "from sklearn.model_selection import KFold\n",
    "n_split = 5 # グループ数を設定（今回は5分割）\n",
    "seed = 1234\n",
    "# cross_valid_mae = 0\n",
    "split_num = 1\n",
    "kf = KFold(n_splits=n_split, shuffle=True, random_state=seed)"
   ]
  },
  {
   "cell_type": "code",
   "execution_count": 28,
   "id": "8f41b00f-f53a-46ae-85e2-de739dd9b6d2",
   "metadata": {},
   "outputs": [
    {
     "name": "stdout",
     "output_type": "stream",
     "text": [
      "[LightGBM] [Warning] Auto-choosing row-wise multi-threading, the overhead of testing was 0.005537 seconds.\n",
      "You can set `force_row_wise=true` to remove the overhead.\n",
      "And if memory is not enough, you can set `force_col_wise=true`.\n",
      "01valid_accuracy_score: 0.6777 %\n",
      "[LightGBM] [Warning] Auto-choosing row-wise multi-threading, the overhead of testing was 0.004705 seconds.\n",
      "You can set `force_row_wise=true` to remove the overhead.\n",
      "And if memory is not enough, you can set `force_col_wise=true`.\n",
      "02valid_accuracy_score: 0.6764 %\n",
      "[LightGBM] [Warning] Auto-choosing row-wise multi-threading, the overhead of testing was 0.005112 seconds.\n",
      "You can set `force_row_wise=true` to remove the overhead.\n",
      "And if memory is not enough, you can set `force_col_wise=true`.\n",
      "03valid_accuracy_score: 0.6745 %\n",
      "[LightGBM] [Warning] Auto-choosing row-wise multi-threading, the overhead of testing was 0.005226 seconds.\n",
      "You can set `force_row_wise=true` to remove the overhead.\n",
      "And if memory is not enough, you can set `force_col_wise=true`.\n",
      "04valid_accuracy_score: 0.6750 %\n",
      "[LightGBM] [Warning] Auto-choosing row-wise multi-threading, the overhead of testing was 0.005495 seconds.\n",
      "You can set `force_row_wise=true` to remove the overhead.\n",
      "And if memory is not enough, you can set `force_col_wise=true`.\n",
      "05valid_accuracy_score: 0.6781 %\n"
     ]
    }
   ],
   "source": [
    "from sklearn.metrics import log_loss, roc_auc_score, accuracy_score\n",
    "import lightgbm as lgb\n",
    "\n",
    "# scores_train = []\n",
    "scores_valid = []\n",
    "models = []\n",
    "itr = 1\n",
    "\n",
    "for train_idx, valid_idx in kf.split(x, y):\n",
    "    x_train, y_train = x.iloc[train_idx], y.iloc[train_idx]\n",
    "    x_valid, y_valid = x.iloc[valid_idx], y.iloc[valid_idx]\n",
    "    \n",
    "    # lightgbmのデータ構造に変換\n",
    "    lgb_train = lgb.Dataset(x_train, y_train)\n",
    "    lgb_valid = lgb.Dataset(x_valid, y_valid)\n",
    "    \n",
    "    # ハイパーパラメータの設定\n",
    "    # metricsはaccuracy_scoreにすべきかも\n",
    "    params = {'num_leaves': 64, 'objective': 'binary', 'seed': seed, \n",
    "              'verbose': 0, 'metrics': 'binary_logloss'}\n",
    "    num_round = 1000\n",
    "\n",
    "    # 学習の実行\n",
    "    # カテゴリ変数を指定した場合の挙動はKaggle本 p240参照\n",
    "    # categorical_features = ['category', 'main_category', 'currency', 'country']\n",
    "    model = lgb.train(params, lgb_train, num_round, \n",
    "                    valid_names=['train', 'valid'], valid_sets=[lgb_train, lgb_valid],\n",
    "                     early_stopping_rounds=20, verbose_eval=False)\n",
    "    \n",
    "    # # 訓練データに対する予測、正答率\n",
    "    # y_pred = clf.predict(x_train)\n",
    "    # acc_train = accuracy_score(y_true=y_train, y_pred=y_pred)\n",
    "    # print(f\"{itr:02}train_訓練データの正答率: {100 * acc_train:.2f} %\")\n",
    "    # scores_train.append(acc_train)  \n",
    "    \n",
    "    # 検証データに対する予測\n",
    "    # accurasy_scoreするには0で丸め込みが必要（https://shiokoji11235.com/two_interface_of_lightgbm）\n",
    "    y_pred = model.predict(x_valid)\n",
    "    y_pred = y_pred.round(0)\n",
    "\n",
    "    score_valid = accuracy_score(y_valid, y_pred)\n",
    "    print(f\"{itr:02}valid_accuracy_score: {score_valid:.4f} %\")    \n",
    "\n",
    "    # score_valid = log_loss(y_true=y_valid, y_pred=y_pred)\n",
    "    # print(f\"{itr:02}valid_logloss: {score_valid:.4f} %\")    \n",
    "    # score_valid = roc_auc_score(y_valid, y_pred)\n",
    "    # print(f\"{itr:02}valid_auc_score: {score_valid:.4f} %\")    \n",
    "\n",
    "    scores_valid.append(score_valid)    \n",
    "    models.append(model)\n",
    "    \n",
    "    itr += 1"
   ]
  },
  {
   "cell_type": "code",
   "execution_count": 29,
   "id": "600ff365-9fc0-496a-9ea6-38fe48de6441",
   "metadata": {},
   "outputs": [
    {
     "name": "stdout",
     "output_type": "stream",
     "text": [
      "0.6763439225997393\n"
     ]
    }
   ],
   "source": [
    "# 各foldのスコアの平均\n",
    "# print(np.mean(scores_train))\n",
    "print(np.mean(scores_valid))"
   ]
  },
  {
   "cell_type": "markdown",
   "id": "6c6147b9-d00e-43d3-a6ff-fa404ca03ce2",
   "metadata": {},
   "source": [
    "## 推論"
   ]
  },
  {
   "cell_type": "code",
   "execution_count": 30,
   "id": "579ef1ab-03f5-4972-8eca-144ce272b145",
   "metadata": {},
   "outputs": [
    {
     "name": "stdout",
     "output_type": "stream",
     "text": [
      "test_accuracy_score: 0.7024 %\n"
     ]
    }
   ],
   "source": [
    "y_preds = np.zeros(len(x_test))\n",
    "\n",
    "for model in models:\n",
    "    y_pred = model.predict(x_test)\n",
    "    y_pred = y_pred.round(0)\n",
    "    y_preds += y_pred / len(models)\n",
    "    \n",
    "# print(y_test)\n",
    "# print('***')\n",
    "# print(y_preds)\n",
    "# print('***')\n",
    "# print(y_pred)\n",
    "\n",
    "y_preds = y_preds.round(0)\n",
    "score_test = accuracy_score(y_test, y_preds)\n",
    "print(f\"test_accuracy_score: {score_test:.4f} %\")    "
   ]
  },
  {
   "cell_type": "markdown",
   "id": "e178a3c0-ddd1-4746-a1b2-58af0b346206",
   "metadata": {
    "jp-MarkdownHeadingCollapsed": true,
    "tags": []
   },
   "source": [
    "### input_01.csv\n",
    "- 検証データに対する正答率：0.69899\n"
   ]
  },
  {
   "cell_type": "markdown",
   "id": "3806ceae-1f59-45d9-8fc8-0a64406d9006",
   "metadata": {},
   "source": [
    "### input_02.csv（class, main_category）\n",
    "- 検証データに対する正答率：0.70896\n"
   ]
  },
  {
   "cell_type": "markdown",
   "id": "7fa5352a-f978-4ea3-a7c4-426d29898e70",
   "metadata": {},
   "source": [
    "### input_02.csv（class）\n",
    "- 検証データに対する正答率：0.70765\n"
   ]
  },
  {
   "cell_type": "markdown",
   "id": "4b03d317-986e-4e64-9abe-065a7066f055",
   "metadata": {},
   "source": [
    "### input_03.csv（class, yar/month/day）\n",
    "- 検証データに対する正答率：0.7159\n"
   ]
  },
  {
   "cell_type": "markdown",
   "id": "b5e2155a-eb28-407e-bcb9-1f05bec078e5",
   "metadata": {},
   "source": [
    "### input_04.csv\n",
    "- ：71.78%\n",
    "x_cols = ['class', 'country', 'period', 'n_words', 'log_goal', 'launched_year', 'launched_month', 'launched_day', \n",
    "         'name_vowel_ratio', 'Goal_1000', 'Goal_500', 'Goal_10', 'median_goal_Last_Week']"
   ]
  },
  {
   "cell_type": "code",
   "execution_count": null,
   "id": "e0b44948-fd68-4c58-846b-adf965a28f75",
   "metadata": {},
   "outputs": [],
   "source": []
  },
  {
   "cell_type": "markdown",
   "id": "9add59be-65dc-43e5-9989-98483245efbe",
   "metadata": {},
   "source": [
    "## テストデータに対する予測\n",
    "本来はtrain/validではなくtrain/valid/testに分割し、testに対する予測を見るべき"
   ]
  },
  {
   "cell_type": "code",
   "execution_count": null,
   "id": "e0427309-9a93-4225-9872-01183724f70d",
   "metadata": {},
   "outputs": [],
   "source": []
  }
 ],
 "metadata": {
  "kernelspec": {
   "display_name": "Python 3 (ipykernel)",
   "language": "python",
   "name": "python3"
  },
  "language_info": {
   "codemirror_mode": {
    "name": "ipython",
    "version": 3
   },
   "file_extension": ".py",
   "mimetype": "text/x-python",
   "name": "python",
   "nbconvert_exporter": "python",
   "pygments_lexer": "ipython3",
   "version": "3.10.5"
  }
 },
 "nbformat": 4,
 "nbformat_minor": 5
}
