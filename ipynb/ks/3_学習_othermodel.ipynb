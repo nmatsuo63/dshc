{
 "cells": [
  {
   "cell_type": "code",
   "execution_count": 1,
   "id": "fbd7e528-f935-460b-a48e-bc6197319d99",
   "metadata": {},
   "outputs": [],
   "source": [
    "import numpy as np\n",
    "import pandas as pd\n",
    "import matplotlib.pyplot as plt\n",
    "\n",
    "import warnings\n",
    "warnings.simplefilter('ignore')"
   ]
  },
  {
   "cell_type": "markdown",
   "id": "97816d17-5cd6-434e-a8e5-077d17c50389",
   "metadata": {},
   "source": [
    "## データの読み込み"
   ]
  },
  {
   "cell_type": "code",
   "execution_count": 3,
   "id": "4b225571-59eb-4ea2-8b8c-fb8add3b8067",
   "metadata": {},
   "outputs": [],
   "source": [
    "# データの読み込み\n",
    "# df_org = pd.read_csv('./data/input_01.csv')\n",
    "# df_org = pd.read_csv('./data/input_02.csv')\n",
    "# df_org = pd.read_csv('./data/input_03.csv')\n",
    "# df_org = pd.read_csv('./data/input_04.csv')\n",
    "# df_org = pd.read_csv('./data/input_05.csv')\n",
    "df_org = pd.read_csv('./data/input_06.csv')"
   ]
  },
  {
   "cell_type": "code",
   "execution_count": 4,
   "id": "4ba32bb7-4a9e-48b2-ad57-3a23a95978ad",
   "metadata": {},
   "outputs": [],
   "source": [
    "# データ量が多いのでコーディング中はサンプリング\n",
    "df = df_org.sample(10000, replace=True)\n",
    "# df = df_org"
   ]
  },
  {
   "cell_type": "code",
   "execution_count": 5,
   "id": "cf03a6c9-3384-4095-9075-706971ca2be2",
   "metadata": {
    "tags": []
   },
   "outputs": [
    {
     "data": {
      "text/html": [
       "<div>\n",
       "<style scoped>\n",
       "    .dataframe tbody tr th:only-of-type {\n",
       "        vertical-align: middle;\n",
       "    }\n",
       "\n",
       "    .dataframe tbody tr th {\n",
       "        vertical-align: top;\n",
       "    }\n",
       "\n",
       "    .dataframe thead th {\n",
       "        text-align: right;\n",
       "    }\n",
       "</style>\n",
       "<table border=\"1\" class=\"dataframe\">\n",
       "  <thead>\n",
       "    <tr style=\"text-align: right;\">\n",
       "      <th></th>\n",
       "      <th>Unnamed: 0</th>\n",
       "      <th>ID</th>\n",
       "      <th>name</th>\n",
       "      <th>category</th>\n",
       "      <th>main_category</th>\n",
       "      <th>currency</th>\n",
       "      <th>goal</th>\n",
       "      <th>pledged</th>\n",
       "      <th>state</th>\n",
       "      <th>backers</th>\n",
       "      <th>...</th>\n",
       "      <th>y_deadline</th>\n",
       "      <th>project_time</th>\n",
       "      <th>goal_per_day</th>\n",
       "      <th>main_category_score</th>\n",
       "      <th>category_score</th>\n",
       "      <th>class</th>\n",
       "      <th>n_words</th>\n",
       "      <th>word_count</th>\n",
       "      <th>name_len</th>\n",
       "      <th>log_goal</th>\n",
       "    </tr>\n",
       "  </thead>\n",
       "  <tbody>\n",
       "    <tr>\n",
       "      <th>111399</th>\n",
       "      <td>127109</td>\n",
       "      <td>1645234063</td>\n",
       "      <td>\"Jay's World\" reality television show concept ...</td>\n",
       "      <td>Documentary</td>\n",
       "      <td>Film &amp; Video</td>\n",
       "      <td>USD</td>\n",
       "      <td>24410.0</td>\n",
       "      <td>0.0</td>\n",
       "      <td>0</td>\n",
       "      <td>0</td>\n",
       "      <td>...</td>\n",
       "      <td>-0.222521</td>\n",
       "      <td>2</td>\n",
       "      <td>12204.389781</td>\n",
       "      <td>high</td>\n",
       "      <td>mid_high</td>\n",
       "      <td>Film &amp; Video**Documentary</td>\n",
       "      <td>7</td>\n",
       "      <td>7</td>\n",
       "      <td>53.0</td>\n",
       "      <td>10.102748</td>\n",
       "    </tr>\n",
       "  </tbody>\n",
       "</table>\n",
       "<p>1 rows × 37 columns</p>\n",
       "</div>"
      ],
      "text/plain": [
       "        Unnamed: 0          ID  \\\n",
       "111399      127109  1645234063   \n",
       "\n",
       "                                                     name     category  \\\n",
       "111399  \"Jay's World\" reality television show concept ...  Documentary   \n",
       "\n",
       "       main_category currency     goal  pledged  state  backers  ...  \\\n",
       "111399  Film & Video      USD  24410.0      0.0      0        0  ...   \n",
       "\n",
       "       y_deadline  project_time  goal_per_day  main_category_score  \\\n",
       "111399  -0.222521             2  12204.389781                 high   \n",
       "\n",
       "        category_score                      class  n_words  word_count  \\\n",
       "111399        mid_high  Film & Video**Documentary        7           7   \n",
       "\n",
       "        name_len   log_goal  \n",
       "111399      53.0  10.102748  \n",
       "\n",
       "[1 rows x 37 columns]"
      ]
     },
     "execution_count": 5,
     "metadata": {},
     "output_type": "execute_result"
    }
   ],
   "source": [
    "df.head(1)"
   ]
  },
  {
   "cell_type": "code",
   "execution_count": 6,
   "id": "7947953c-5fd2-44b4-bef3-6ebaf754d1a0",
   "metadata": {},
   "outputs": [
    {
     "data": {
      "text/plain": [
       "Index(['Unnamed: 0', 'ID', 'name', 'category', 'main_category', 'currency',\n",
       "       'goal', 'pledged', 'state', 'backers', 'country', 'usd pledged',\n",
       "       'usd_pledged_real', 'period', 'launched_year', 'launched_month',\n",
       "       'launched_day', 'launched_hour', 'is_launched_weak_year', 'dayfloat',\n",
       "       'monthfloat', 'x_launched', 'y_launched', 'deadline_hour',\n",
       "       'deadline_year', 'deadline_month', 'x_deadline', 'y_deadline',\n",
       "       'project_time', 'goal_per_day', 'main_category_score', 'category_score',\n",
       "       'class', 'n_words', 'word_count', 'name_len', 'log_goal'],\n",
       "      dtype='object')"
      ]
     },
     "execution_count": 6,
     "metadata": {},
     "output_type": "execute_result"
    }
   ],
   "source": [
    "df.columns"
   ]
  },
  {
   "cell_type": "code",
   "execution_count": 7,
   "id": "73450e1f-6901-4331-a4a0-80cc2c233672",
   "metadata": {},
   "outputs": [],
   "source": [
    "# df[['usd_goal_real', 'log_goal']].head()\n",
    "# # 対数変換してるのに40000はさすがにおかしい\n",
    "# df['log_goal'].hist()\n",
    "\n",
    "# # この外れ値除去を行うと、最終的な精度が悪化した\n",
    "# med = df['usd_goal_real'].median()\n",
    "# MAD = 1.4826 * np.median(abs(df['usd_goal_real']-med))\n",
    "# df = df[(med - 3 * MAD < df['usd_goal_real']) & (df['usd_goal_real'] < med + 3 * MAD)]\n",
    "\n",
    "# df['log_goal'] = np.log(df['usd_goal_real'])\n",
    "\n",
    "# df['usd_goal_real'].hist()\n",
    "\n",
    "# df['log_goal'].hist()\n",
    "\n",
    "# df['period'].hist()"
   ]
  },
  {
   "cell_type": "code",
   "execution_count": 8,
   "id": "31a5d9ac-56ab-4ff2-80da-8b47a98b9df5",
   "metadata": {},
   "outputs": [],
   "source": [
    "# # ここでNaNが多いものはできれば除きたい\n",
    "# df.isnull().sum()"
   ]
  },
  {
   "cell_type": "markdown",
   "id": "639cf987-40b7-45cd-b962-34efbddae136",
   "metadata": {},
   "source": [
    "## データの準備"
   ]
  },
  {
   "cell_type": "code",
   "execution_count": 9,
   "id": "2ef3f15d-e7d7-4c6c-b064-160dfd64360e",
   "metadata": {},
   "outputs": [],
   "source": [
    "# # 数値エンコーディング（GBDT以外の場合は必須）\n",
    "# from sklearn.preprocessing import LabelEncoder\n",
    "# encoder = LabelEncoder()\n",
    "# df = df.apply(encoder.fit_transform)"
   ]
  },
  {
   "cell_type": "code",
   "execution_count": 10,
   "id": "34572e65-f135-44a0-8275-d294723f94da",
   "metadata": {},
   "outputs": [
    {
     "data": {
      "text/html": [
       "<div>\n",
       "<style scoped>\n",
       "    .dataframe tbody tr th:only-of-type {\n",
       "        vertical-align: middle;\n",
       "    }\n",
       "\n",
       "    .dataframe tbody tr th {\n",
       "        vertical-align: top;\n",
       "    }\n",
       "\n",
       "    .dataframe thead th {\n",
       "        text-align: right;\n",
       "    }\n",
       "</style>\n",
       "<table border=\"1\" class=\"dataframe\">\n",
       "  <thead>\n",
       "    <tr style=\"text-align: right;\">\n",
       "      <th></th>\n",
       "      <th>Unnamed: 0</th>\n",
       "      <th>ID</th>\n",
       "      <th>name</th>\n",
       "      <th>category</th>\n",
       "      <th>main_category</th>\n",
       "      <th>currency</th>\n",
       "      <th>goal</th>\n",
       "      <th>pledged</th>\n",
       "      <th>state</th>\n",
       "      <th>backers</th>\n",
       "      <th>...</th>\n",
       "      <th>y_deadline</th>\n",
       "      <th>project_time</th>\n",
       "      <th>goal_per_day</th>\n",
       "      <th>main_category_score</th>\n",
       "      <th>category_score</th>\n",
       "      <th>class</th>\n",
       "      <th>n_words</th>\n",
       "      <th>word_count</th>\n",
       "      <th>name_len</th>\n",
       "      <th>log_goal</th>\n",
       "    </tr>\n",
       "  </thead>\n",
       "  <tbody>\n",
       "    <tr>\n",
       "      <th>111399</th>\n",
       "      <td>127109</td>\n",
       "      <td>1645234063</td>\n",
       "      <td>\"Jay's World\" reality television show concept ...</td>\n",
       "      <td>Documentary</td>\n",
       "      <td>Film &amp; Video</td>\n",
       "      <td>USD</td>\n",
       "      <td>24410.0</td>\n",
       "      <td>0.0</td>\n",
       "      <td>0</td>\n",
       "      <td>0</td>\n",
       "      <td>...</td>\n",
       "      <td>-0.222521</td>\n",
       "      <td>2</td>\n",
       "      <td>12204.389781</td>\n",
       "      <td>high</td>\n",
       "      <td>mid_high</td>\n",
       "      <td>Film &amp; Video**Documentary</td>\n",
       "      <td>7</td>\n",
       "      <td>7</td>\n",
       "      <td>53.0</td>\n",
       "      <td>10.102748</td>\n",
       "    </tr>\n",
       "    <tr>\n",
       "      <th>53336</th>\n",
       "      <td>60737</td>\n",
       "      <td>1308767173</td>\n",
       "      <td>Bull Warriors - Chaos Dwarfs for Fantasy Football</td>\n",
       "      <td>Tabletop Games</td>\n",
       "      <td>Games</td>\n",
       "      <td>EUR</td>\n",
       "      <td>2500.0</td>\n",
       "      <td>25517.0</td>\n",
       "      <td>1</td>\n",
       "      <td>276</td>\n",
       "      <td>...</td>\n",
       "      <td>0.093364</td>\n",
       "      <td>32</td>\n",
       "      <td>78.124756</td>\n",
       "      <td>high</td>\n",
       "      <td>high</td>\n",
       "      <td>Games**Tabletop Games</td>\n",
       "      <td>8</td>\n",
       "      <td>8</td>\n",
       "      <td>49.0</td>\n",
       "      <td>7.990408</td>\n",
       "    </tr>\n",
       "    <tr>\n",
       "      <th>302660</th>\n",
       "      <td>345510</td>\n",
       "      <td>830022904</td>\n",
       "      <td>Almost True</td>\n",
       "      <td>Photobooks</td>\n",
       "      <td>Photography</td>\n",
       "      <td>USD</td>\n",
       "      <td>15000.0</td>\n",
       "      <td>24212.0</td>\n",
       "      <td>1</td>\n",
       "      <td>293</td>\n",
       "      <td>...</td>\n",
       "      <td>0.111964</td>\n",
       "      <td>32</td>\n",
       "      <td>468.748535</td>\n",
       "      <td>mid</td>\n",
       "      <td>mid_high</td>\n",
       "      <td>Photography**Photobooks</td>\n",
       "      <td>2</td>\n",
       "      <td>2</td>\n",
       "      <td>11.0</td>\n",
       "      <td>9.615805</td>\n",
       "    </tr>\n",
       "    <tr>\n",
       "      <th>51229</th>\n",
       "      <td>58364</td>\n",
       "      <td>1296829056</td>\n",
       "      <td>Fitten Mitten</td>\n",
       "      <td>Childrenswear</td>\n",
       "      <td>Fashion</td>\n",
       "      <td>USD</td>\n",
       "      <td>10000.0</td>\n",
       "      <td>204.0</td>\n",
       "      <td>0</td>\n",
       "      <td>10</td>\n",
       "      <td>...</td>\n",
       "      <td>-0.416961</td>\n",
       "      <td>44</td>\n",
       "      <td>227.272211</td>\n",
       "      <td>low</td>\n",
       "      <td>mid_high</td>\n",
       "      <td>Fashion**Childrenswear</td>\n",
       "      <td>2</td>\n",
       "      <td>2</td>\n",
       "      <td>13.0</td>\n",
       "      <td>9.210340</td>\n",
       "    </tr>\n",
       "    <tr>\n",
       "      <th>285659</th>\n",
       "      <td>326120</td>\n",
       "      <td>731015981</td>\n",
       "      <td>ARTificial Coral Reef SKULLpture</td>\n",
       "      <td>Conceptual Art</td>\n",
       "      <td>Art</td>\n",
       "      <td>GBP</td>\n",
       "      <td>1000.0</td>\n",
       "      <td>1010.0</td>\n",
       "      <td>1</td>\n",
       "      <td>30</td>\n",
       "      <td>...</td>\n",
       "      <td>0.532032</td>\n",
       "      <td>29</td>\n",
       "      <td>34.482640</td>\n",
       "      <td>high</td>\n",
       "      <td>mid_high</td>\n",
       "      <td>Art**Conceptual Art</td>\n",
       "      <td>4</td>\n",
       "      <td>4</td>\n",
       "      <td>32.0</td>\n",
       "      <td>7.375062</td>\n",
       "    </tr>\n",
       "  </tbody>\n",
       "</table>\n",
       "<p>5 rows × 37 columns</p>\n",
       "</div>"
      ],
      "text/plain": [
       "        Unnamed: 0          ID  \\\n",
       "111399      127109  1645234063   \n",
       "53336        60737  1308767173   \n",
       "302660      345510   830022904   \n",
       "51229        58364  1296829056   \n",
       "285659      326120   731015981   \n",
       "\n",
       "                                                     name        category  \\\n",
       "111399  \"Jay's World\" reality television show concept ...     Documentary   \n",
       "53336   Bull Warriors - Chaos Dwarfs for Fantasy Football  Tabletop Games   \n",
       "302660                                        Almost True      Photobooks   \n",
       "51229                                       Fitten Mitten   Childrenswear   \n",
       "285659                   ARTificial Coral Reef SKULLpture  Conceptual Art   \n",
       "\n",
       "       main_category currency     goal  pledged  state  backers  ...  \\\n",
       "111399  Film & Video      USD  24410.0      0.0      0        0  ...   \n",
       "53336          Games      EUR   2500.0  25517.0      1      276  ...   \n",
       "302660   Photography      USD  15000.0  24212.0      1      293  ...   \n",
       "51229        Fashion      USD  10000.0    204.0      0       10  ...   \n",
       "285659           Art      GBP   1000.0   1010.0      1       30  ...   \n",
       "\n",
       "       y_deadline  project_time  goal_per_day  main_category_score  \\\n",
       "111399  -0.222521             2  12204.389781                 high   \n",
       "53336    0.093364            32     78.124756                 high   \n",
       "302660   0.111964            32    468.748535                  mid   \n",
       "51229   -0.416961            44    227.272211                  low   \n",
       "285659   0.532032            29     34.482640                 high   \n",
       "\n",
       "        category_score                      class  n_words  word_count  \\\n",
       "111399        mid_high  Film & Video**Documentary        7           7   \n",
       "53336             high      Games**Tabletop Games        8           8   \n",
       "302660        mid_high    Photography**Photobooks        2           2   \n",
       "51229         mid_high     Fashion**Childrenswear        2           2   \n",
       "285659        mid_high        Art**Conceptual Art        4           4   \n",
       "\n",
       "        name_len   log_goal  \n",
       "111399      53.0  10.102748  \n",
       "53336       49.0   7.990408  \n",
       "302660      11.0   9.615805  \n",
       "51229       13.0   9.210340  \n",
       "285659      32.0   7.375062  \n",
       "\n",
       "[5 rows x 37 columns]"
      ]
     },
     "execution_count": 10,
     "metadata": {},
     "output_type": "execute_result"
    }
   ],
   "source": [
    "df.head()"
   ]
  },
  {
   "cell_type": "code",
   "execution_count": 11,
   "id": "1d89b82c-ff6f-4b03-95d2-2199d068dfe1",
   "metadata": {
    "tags": []
   },
   "outputs": [],
   "source": [
    "# y = df[['state']]\n",
    "# # x_cols = ['class', 'country', 'period', 'log_goal', 'launched_year', 'launched_month', 'launched_day', \n",
    "# #          'name_vowel_ratio', 'Goal_1000', 'Goal_10', 'Last_Year', 'name_len', 'name_number_of_word', \n",
    "# #           'mean_goal_in_category_last_month', 'mean_goal_in_category_last_year','mean_goal_Last_6_Month']\n",
    "# # x_cols = ['class', 'country', 'period', 'n_words', 'log_goal', 'launched_year', 'launched_month', 'launched_day', \n",
    "# #          'name_vowel_ratio', 'Goal_1000', 'Goal_500', 'Goal_10', 'median_goal_Last_Week']\n",
    "# x_cols = ['class', 'period', 'log_goal', 'name_vowel_ratio', 'name_len', 'country', \n",
    "#          'launched_day', 'launched_month', 'launched_year', 'Last_Year', 'Last_Month', 'Last_Week', \n",
    "#          'mean_goal_in_category_last_year']\n",
    "# x = df[x_cols]"
   ]
  },
  {
   "cell_type": "markdown",
   "id": "da89fd9e-cbae-464f-ab2c-10fea4c7fb72",
   "metadata": {},
   "source": [
    "## モデル学習（単体）"
   ]
  },
  {
   "cell_type": "code",
   "execution_count": 12,
   "id": "b58fce22-0dea-4f29-8d86-3faf96f8adc2",
   "metadata": {},
   "outputs": [
    {
     "data": {
      "text/plain": [
       "Index(['Unnamed: 0', 'ID', 'name', 'category', 'main_category', 'currency',\n",
       "       'goal', 'pledged', 'state', 'backers', 'country', 'usd pledged',\n",
       "       'usd_pledged_real', 'period', 'launched_year', 'launched_month',\n",
       "       'launched_day', 'launched_hour', 'is_launched_weak_year', 'dayfloat',\n",
       "       'monthfloat', 'x_launched', 'y_launched', 'deadline_hour',\n",
       "       'deadline_year', 'deadline_month', 'x_deadline', 'y_deadline',\n",
       "       'project_time', 'goal_per_day', 'main_category_score', 'category_score',\n",
       "       'class', 'n_words', 'word_count', 'name_len', 'log_goal'],\n",
       "      dtype='object')"
      ]
     },
     "execution_count": 12,
     "metadata": {},
     "output_type": "execute_result"
    }
   ],
   "source": [
    "df.columns"
   ]
  },
  {
   "cell_type": "code",
   "execution_count": 31,
   "id": "6eec2597-a985-4e7c-8894-ed0f5ac181d7",
   "metadata": {},
   "outputs": [],
   "source": [
    "y = df[['state']]\n",
    "x = df.drop('state', axis=1)\n",
    "\n",
    "# select features\n",
    "# prdict_feature = ['goal','name','main_category_score','category_score','project_time','goal_per_day','word_count']\n",
    "prdict_feature = ['class', 'name', 'log_goal', 'n_words', 'name_len', 'country', \n",
    "         'launched_day', 'launched_month', 'launched_year', 'goal_per_day', 'word_count',\n",
    "         'is_launched_weak_year', 'main_category_score','category_score', 'project_time']\n",
    "\n",
    "x = x[prdict_feature]\n",
    "\n"
   ]
  },
  {
   "cell_type": "code",
   "execution_count": 32,
   "id": "caa22ad2-5c5d-4aee-bb37-563ae46ca28b",
   "metadata": {},
   "outputs": [
    {
     "data": {
      "text/html": [
       "<div>\n",
       "<style scoped>\n",
       "    .dataframe tbody tr th:only-of-type {\n",
       "        vertical-align: middle;\n",
       "    }\n",
       "\n",
       "    .dataframe tbody tr th {\n",
       "        vertical-align: top;\n",
       "    }\n",
       "\n",
       "    .dataframe thead th {\n",
       "        text-align: right;\n",
       "    }\n",
       "</style>\n",
       "<table border=\"1\" class=\"dataframe\">\n",
       "  <thead>\n",
       "    <tr style=\"text-align: right;\">\n",
       "      <th></th>\n",
       "      <th>class</th>\n",
       "      <th>name</th>\n",
       "      <th>log_goal</th>\n",
       "      <th>n_words</th>\n",
       "      <th>name_len</th>\n",
       "      <th>country</th>\n",
       "      <th>launched_day</th>\n",
       "      <th>launched_month</th>\n",
       "      <th>launched_year</th>\n",
       "      <th>goal_per_day</th>\n",
       "      <th>word_count</th>\n",
       "      <th>is_launched_weak_year</th>\n",
       "      <th>main_category_score</th>\n",
       "      <th>category_score</th>\n",
       "      <th>project_time</th>\n",
       "    </tr>\n",
       "  </thead>\n",
       "  <tbody>\n",
       "    <tr>\n",
       "      <th>125679</th>\n",
       "      <td>Film &amp; Video**Drama</td>\n",
       "      <td>Limbo Film Project - 213 lives of Julia</td>\n",
       "      <td>6.988044</td>\n",
       "      <td>8</td>\n",
       "      <td>39.0</td>\n",
       "      <td>IT</td>\n",
       "      <td>14</td>\n",
       "      <td>11</td>\n",
       "      <td>2015</td>\n",
       "      <td>34.482640</td>\n",
       "      <td>8</td>\n",
       "      <td>True</td>\n",
       "      <td>high</td>\n",
       "      <td>mid_high</td>\n",
       "      <td>29</td>\n",
       "    </tr>\n",
       "    <tr>\n",
       "      <th>207560</th>\n",
       "      <td>Fashion**Accessories</td>\n",
       "      <td>ABOLI Eco Friendly BlockPrinted Table Linen -U...</td>\n",
       "      <td>6.602995</td>\n",
       "      <td>8</td>\n",
       "      <td>60.0</td>\n",
       "      <td>SG</td>\n",
       "      <td>29</td>\n",
       "      <td>10</td>\n",
       "      <td>2017</td>\n",
       "      <td>62.499609</td>\n",
       "      <td>8</td>\n",
       "      <td>False</td>\n",
       "      <td>low</td>\n",
       "      <td>mid_high</td>\n",
       "      <td>16</td>\n",
       "    </tr>\n",
       "  </tbody>\n",
       "</table>\n",
       "</div>"
      ],
      "text/plain": [
       "                       class  \\\n",
       "125679   Film & Video**Drama   \n",
       "207560  Fashion**Accessories   \n",
       "\n",
       "                                                     name  log_goal  n_words  \\\n",
       "125679            Limbo Film Project - 213 lives of Julia  6.988044        8   \n",
       "207560  ABOLI Eco Friendly BlockPrinted Table Linen -U...  6.602995        8   \n",
       "\n",
       "        name_len country  launched_day  launched_month  launched_year  \\\n",
       "125679      39.0      IT            14              11           2015   \n",
       "207560      60.0      SG            29              10           2017   \n",
       "\n",
       "        goal_per_day  word_count  is_launched_weak_year main_category_score  \\\n",
       "125679     34.482640           8                   True                high   \n",
       "207560     62.499609           8                  False                 low   \n",
       "\n",
       "       category_score  project_time  \n",
       "125679       mid_high            29  \n",
       "207560       mid_high            16  "
      ]
     },
     "execution_count": 32,
     "metadata": {},
     "output_type": "execute_result"
    }
   ],
   "source": [
    "x.head(2)"
   ]
  },
  {
   "cell_type": "code",
   "execution_count": 33,
   "id": "a3d6da78-001c-494a-b90b-e472c296a85d",
   "metadata": {},
   "outputs": [],
   "source": [
    "from sklearn.model_selection import train_test_split\n",
    "\n",
    "# 訓練データとテストデータを8:2に分割\n",
    "# ※評価を揃えるため df 以外の引数は変更しないこと\n",
    "x_train, x_test, y_train, y_test = train_test_split(x,y,test_size=0.2, random_state=1234)"
   ]
  },
  {
   "cell_type": "code",
   "execution_count": 34,
   "id": "57a8954a-0b28-47e0-8056-7cbdcfc6e33b",
   "metadata": {},
   "outputs": [],
   "source": [
    "# https://www.kaggle.com/code/yairhadad1/kickstarter-predict-project-success-roc-0-78/notebook\n",
    "# 上記のノートブックを参考にしてる解法\n",
    "from sklearn.base import BaseEstimator, TransformerMixin\n",
    "class ItemSelector(BaseEstimator, TransformerMixin):\n",
    "    def __init__(self, key):\n",
    "        self.key = key\n",
    "\n",
    "    def fit(self, x, y=None):\n",
    "        return self\n",
    "\n",
    "    def transform(self, data_dict):\n",
    "        return data_dict[self.key]"
   ]
  },
  {
   "cell_type": "code",
   "execution_count": 35,
   "id": "71dd407b-6e0b-4dbc-bd45-2f33ef91b1d0",
   "metadata": {},
   "outputs": [],
   "source": [
    "# https://kakakakakku.hatenablog.com/entry/2021/11/29/084330\n",
    "# Pipelineを使うことで、前処理やML学習などを１つのオブジェクトとして扱え、可読性高く実装できる。\n",
    "from sklearn.pipeline import Pipeline\n",
    "\n",
    "# split\n",
    "x_train, x_valid, y_train, y_valid = train_test_split(x_train, y_train)\n",
    "\n",
    "# name\n",
    "from sklearn.feature_extraction.text import CountVectorizer  \n",
    "name_pipeline = Pipeline([('name_column', ItemSelector(key = 'name')),\n",
    "                          ('vectorizer', CountVectorizer(max_features=100))])\n",
    "\n",
    "# dummeys\n",
    "from sklearn.preprocessing import OneHotEncoder\n",
    "one_hot_pipeline = Pipeline([('hot_columns', ItemSelector(key = ['main_category_score','category_score',\n",
    "                                                                 'country', 'is_launched_weak_year'])),\n",
    "                             ('oneHowEncoder', OneHotEncoder(handle_unknown='ignore',sparse=True))])\n",
    "\n",
    "# min max scaler\n",
    "from sklearn.preprocessing import MinMaxScaler\n",
    "min_max_pipeline = Pipeline([('min_max_columns', ItemSelector(key = ['project_time','word_count',\n",
    "                                                                     'goal_per_day', 'n_words', 'name_len'])),\n",
    "                             ('minMaxScaler', MinMaxScaler())])\n",
    "\n",
    "# Binning（連続的な特徴量を離散化する）\n",
    "from sklearn.preprocessing import KBinsDiscretizer\n",
    "k_bins_pipeline = Pipeline([('goal', ItemSelector(key = ['log_goal', 'launched_day', 'launched_month', \n",
    "                                                         'launched_year'])),\n",
    "                             ('k_bins', KBinsDiscretizer(n_bins = 4,encode = 'onehot',strategy = 'quantile'))])\n",
    "\n",
    "# FeatureUnion\n",
    "from sklearn.pipeline import FeatureUnion\n",
    "feature_pipeline = FeatureUnion([('one_hot',one_hot_pipeline),\n",
    "                                 ('name',name_pipeline),\n",
    "                                 ('min_max',min_max_pipeline),\n",
    "                                 ('k_bins',k_bins_pipeline)])\n",
    "\n",
    "# n_words/name_len/\n",
    "# launched_day/\n",
    "# prdict_feature = ['class', 'name', 'log_goal', 'n_words', 'name_len', 'country', \n",
    "#          'launched_day', 'launched_month', 'launched_year', 'goal_per_day', 'word_count',\n",
    "#          'is_launched_weak_year', 'main_category_score','category_score', 'project_time']\n",
    "\n",
    "feature_pipeline.fit(x_train)\n",
    "\n",
    "x_train = feature_pipeline.transform(x_train)\n",
    "x_valid = feature_pipeline.transform(x_valid)\n"
   ]
  },
  {
   "cell_type": "code",
   "execution_count": 36,
   "id": "0b56fd3a-741f-4799-b277-418db4049765",
   "metadata": {},
   "outputs": [
    {
     "name": "stdout",
     "output_type": "stream",
     "text": [
      "<class 'scipy.sparse._csr.csr_matrix'>\n",
      "[1. 1. 1. ... 1. 1. 1.]\n"
     ]
    }
   ],
   "source": [
    "# https://note.nkmk.me/python-scipy-sparse-matrix-csr-csc-coo-lil/\n",
    "print(type(x_train))\n",
    "print(x_train.data)"
   ]
  },
  {
   "cell_type": "code",
   "execution_count": 44,
   "id": "8e444850-8120-49b2-ada1-cde73a9dc777",
   "metadata": {},
   "outputs": [],
   "source": [
    "from sklearn.metrics import log_loss, roc_auc_score, accuracy_score\n"
   ]
  },
  {
   "cell_type": "code",
   "execution_count": 45,
   "id": "8dd45c38-834c-4600-bc69-eb16b3ff22af",
   "metadata": {},
   "outputs": [
    {
     "data": {
      "image/png": "[encoded data removed]",
      "text/plain": [
       "<Figure size 432x288 with 1 Axes>"
      ]
     },
     "metadata": {
      "needs_background": "light"
     },
     "output_type": "display_data"
    },
    {
     "name": "stdout",
     "output_type": "stream",
     "text": [
      "CPU times: user 10.2 s, sys: 327 ms, total: 10.6 s\n",
      "Wall time: 10.1 s\n"
     ]
    }
   ],
   "source": [
    "%%time\n",
    "scoreTest_DT = []\n",
    "scoreTrain_DT = []\n",
    "from sklearn.tree import DecisionTreeClassifier\n",
    "for number in range(1,30):\n",
    "    # print(number)\n",
    "    clf = DecisionTreeClassifier(max_depth = number, class_weight = \"balanced\")\n",
    "    clf.fit(x_train,y_train)\n",
    "    y_score_train = clf.predict_proba(x_train)[:,1].round(0)\n",
    "    y_score_valid = clf.predict_proba(x_valid)[:,1].round(0)\n",
    "\n",
    "    # scoreTrain_DT.append(round(roc_auc_score(y_train, y_score_train) , 3))\n",
    "    # scoreTest_DT.append(round(roc_auc_score(y_valid, y_score_valid) , 3))\n",
    "    scoreTrain_DT.append(round(accuracy_score(y_train, y_score_train) , 3))\n",
    "    scoreTest_DT.append(round(accuracy_score(y_valid, y_score_valid) , 3))\n",
    "    \n",
    "pd.DataFrame({'test roc score':scoreTest_DT,'train roc score':scoreTrain_DT}).plot(grid = True)\n",
    "plt.xlabel('Max depth')\n",
    "plt.ylabel('Score')\n",
    "plt.title(\"DecisionTreeClassifier\")\n",
    "plt.show()"
   ]
  },
  {
   "cell_type": "code",
   "execution_count": 46,
   "id": "1050bf48-9b9a-4c42-a145-3a5882c59d31",
   "metadata": {},
   "outputs": [
    {
     "data": {
      "text/plain": [
       "1"
      ]
     },
     "execution_count": 46,
     "metadata": {},
     "output_type": "execute_result"
    }
   ],
   "source": [
    "np.array(scoreTest_DT).argmax()"
   ]
  },
  {
   "cell_type": "code",
   "execution_count": 47,
   "id": "e699cb26-31a4-4089-bba5-a3f77bfbb8fd",
   "metadata": {},
   "outputs": [
    {
     "name": "stdout",
     "output_type": "stream",
     "text": [
      "DT roc_train: 0.653\n",
      "DT roc_test: 0.612\n"
     ]
    }
   ],
   "source": [
    "# number=1のときmax_depth=1のはずなので、+1しておく\n",
    "clf_DT = DecisionTreeClassifier(max_depth = np.array(scoreTest_DT).argmax()+1, class_weight = \"balanced\")\n",
    "clf_DT.fit(x_train,y_train)\n",
    "\n",
    "print(\"DT roc_train:\",round(accuracy_score(y_train, clf_DT.predict_proba(x_train)[:,1].round(0)) , 3))\n",
    "print(\"DT roc_test:\",round(accuracy_score(y_valid, clf_DT.predict_proba(x_valid)[:,1].round(0)) , 3))\n",
    "\n",
    "# DT_cross_score = cross_val_score(clf_DT, X_train, y_train, cv=5, scoring='roc_auc').mean()\n",
    "# DT_roc = round(roc_auc_score(y_valid, clf_DT.predict_proba(x_valid)[:,1]) , 3)\n",
    "DT_roc = round(accuracy_score(y_valid, clf_DT.predict_proba(x_valid)[:,1].round(0)) , 3)\n",
    "# acc_train = accuracy_score(y_true=y_test, y_pred=y_pred)"
   ]
  },
  {
   "cell_type": "code",
   "execution_count": 48,
   "id": "fa7057a7-44f1-4b9e-bf32-c1a407e5ae4b",
   "metadata": {},
   "outputs": [
    {
     "data": {
      "image/png": "[encoded data removed]",
      "text/plain": [
       "<Figure size 432x288 with 1 Axes>"
      ]
     },
     "metadata": {
      "needs_background": "light"
     },
     "output_type": "display_data"
    },
    {
     "name": "stdout",
     "output_type": "stream",
     "text": [
      "CPU times: user 4min 12s, sys: 1.29 s, total: 4min 14s\n",
      "Wall time: 4min 26s\n"
     ]
    }
   ],
   "source": [
    "%%time\n",
    "scoreTest_RF = []\n",
    "scoreTrain_RF = []\n",
    "from sklearn.ensemble import RandomForestClassifier\n",
    "for number in range(1,30):\n",
    "    clf = RandomForestClassifier(max_depth = number,n_estimators = 100, class_weight = \"balanced\")\n",
    "    clf.fit(x_train,y_train)\n",
    "    y_score_train = clf.predict_proba(x_train)[:,1]\n",
    "    y_score_valid = clf.predict_proba(x_valid)[:,1]\n",
    "\n",
    "    scoreTrain_RF.append(round(accuracy_score(y_train, y_score_train.round(0)) , 3))\n",
    "    scoreTest_RF.append(round(accuracy_score(y_valid, y_score_valid.round(0)) , 3))\n",
    "    \n",
    "pd.DataFrame({'test roc score':scoreTest_RF,'train roc score':scoreTrain_RF}).plot(grid = True)\n",
    "plt.xlabel('Max depth')\n",
    "plt.ylabel('Score')\n",
    "plt.title(\"RandomForestClassifier\")\n",
    "plt.show()\n",
    "# acc_train = accuracy_score(y_true=y_test, y_pred=y_pred)"
   ]
  },
  {
   "cell_type": "code",
   "execution_count": 49,
   "id": "5217ed8c-d8f1-4370-a730-ef0d6638b39e",
   "metadata": {},
   "outputs": [
    {
     "name": "stdout",
     "output_type": "stream",
     "text": [
      "RF roc_train: 0.787\n",
      "RF roc_test: 0.654\n"
     ]
    }
   ],
   "source": [
    "cls_RF = RandomForestClassifier(max_depth = np.array(scoreTest_RF).argmax(),n_estimators = 100, class_weight = \"balanced\")\n",
    "cls_RF.fit(x_train,y_train)\n",
    "\n",
    "print(\"RF roc_train:\",round(accuracy_score(y_train, cls_RF.predict_proba(x_train)[:,1].round(0)) , 3))\n",
    "print(\"RF roc_test:\",round(accuracy_score(y_valid, cls_RF.predict_proba(x_valid)[:,1].round(0)) , 3))\n",
    "\n",
    "# RF_cross_score = cross_val_score(cls_RF, X_train, y_train, cv=5, scoring='roc_auc').mean()\n",
    "RF_roc = round(accuracy_score(y_valid, cls_RF.predict_proba(x_valid)[:,1].round(0)) , 3)\n"
   ]
  },
  {
   "cell_type": "code",
   "execution_count": 50,
   "id": "3fe14e83-f119-4f24-8b11-253b09fc3ea8",
   "metadata": {},
   "outputs": [
    {
     "data": {
      "image/png": "[encoded data removed]",
      "text/plain": [
       "<Figure size 432x288 with 1 Axes>"
      ]
     },
     "metadata": {
      "needs_background": "light"
     },
     "output_type": "display_data"
    },
    {
     "name": "stdout",
     "output_type": "stream",
     "text": [
      "CPU times: user 39.6 s, sys: 3.88 s, total: 43.4 s\n",
      "Wall time: 45.2 s\n"
     ]
    }
   ],
   "source": [
    "%%time\n",
    "scoreTest = []\n",
    "scoreTrain = []\n",
    "from sklearn.neighbors import KNeighborsClassifier\n",
    "knnRange = [50,100,200,300,350]\n",
    "for number in knnRange:\n",
    "    clf = KNeighborsClassifier(n_neighbors = number)\n",
    "    clf.fit(x_train,y_train)\n",
    "    y_score_train = clf.predict_proba(x_train)[:,1]\n",
    "    y_score_valid = clf.predict_proba(x_valid)[:,1]\n",
    "\n",
    "    scoreTrain.append(round(roc_auc_score(y_train, y_score_train) , 3))\n",
    "    scoreTest.append(round(roc_auc_score(y_valid, y_score_valid) , 3))\n",
    "    \n",
    "pd.DataFrame({'test roc score':scoreTest,'train roc score':scoreTrain}).plot(grid = True)\n",
    "plt.xlabel('Max depth')\n",
    "plt.ylabel('Score')\n",
    "plt.title(\"KNeighborsClassifier\")\n",
    "plt.show()\n"
   ]
  },
  {
   "cell_type": "code",
   "execution_count": 51,
   "id": "5429b39d-2f5d-4569-a852-af81537eacf0",
   "metadata": {},
   "outputs": [],
   "source": [
    "# f1=0.4\n",
    "# f2=0.8\n",
    "\n",
    "# print(round(f1,0))\n",
    "# print(round(f2,0))\n"
   ]
  },
  {
   "cell_type": "code",
   "execution_count": 52,
   "id": "7005a30e-c92f-4682-bf50-1d7a4c81ddcc",
   "metadata": {},
   "outputs": [
    {
     "name": "stdout",
     "output_type": "stream",
     "text": [
      "KNN roc_train: 0.664\n",
      "KNN roc_test: 0.609\n"
     ]
    }
   ],
   "source": [
    "clf_KNN = KNeighborsClassifier(n_neighbors = knnRange[np.array(scoreTest).argmax()])\n",
    "# clf_KNN = KNeighborsClassifier(n_neighbors = 50)\n",
    "clf_KNN.fit(x_train,y_train)\n",
    "\n",
    "print(\"KNN roc_train:\",round(accuracy_score(y_train, clf_KNN.predict_proba(x_train)[:,1].round(0)) , 3))\n",
    "print(\"KNN roc_test:\",round(accuracy_score(y_valid, clf_KNN.predict_proba(x_valid)[:,1].round(0)) , 3))\n",
    "\n",
    "# KNN_cross_score = cross_val_score(clf_KNN, X_train, y_train, cv=5, scoring='roc_auc').mean()\n",
    "KNN_roc = round(accuracy_score(y_valid, clf_KNN.predict_proba(x_valid)[:,1].round(0)) , 3)\n"
   ]
  },
  {
   "cell_type": "code",
   "execution_count": 53,
   "id": "16023975-8dba-4412-9798-1fcb73d63b14",
   "metadata": {},
   "outputs": [
    {
     "name": "stdout",
     "output_type": "stream",
     "text": [
      "NB roc_train: 0.5\n",
      "NB roc_test: 0.511\n",
      "CPU times: user 301 ms, sys: 6.58 ms, total: 308 ms\n",
      "Wall time: 310 ms\n"
     ]
    }
   ],
   "source": [
    "%%time\n",
    "from sklearn.naive_bayes import GaussianNB\n",
    "clf_NB = GaussianNB()\n",
    "clf_NB.fit(x_train.todense(),y_train)\n",
    "y_score_train = clf_NB.predict_proba(x_train.todense())[:,1]\n",
    "y_score_valid = clf_NB.predict_proba(x_valid.todense())[:,1]\n",
    "\n",
    "print(\"NB roc_train:\",round(accuracy_score(y_train, y_score_train.round(0)) , 3))\n",
    "print(\"NB roc_test:\",round(accuracy_score(y_valid, y_score_valid.round(0)) , 3))\n",
    "\n",
    "# NB_cross_score = cross_val_score(clf_NB, X_train.todense(), y_train, cv=5, scoring='roc_auc').mean()\n",
    "NB_roc = round(accuracy_score(y_valid, y_score_valid.round(0)) , 3)"
   ]
  },
  {
   "cell_type": "code",
   "execution_count": 54,
   "id": "af2d90f0-3751-448e-b1c2-cb650411946b",
   "metadata": {},
   "outputs": [
    {
     "data": {
      "image/png": "[encoded data removed]",
      "text/plain": [
       "<Figure size 432x288 with 1 Axes>"
      ]
     },
     "metadata": {
      "needs_background": "light"
     },
     "output_type": "display_data"
    },
    {
     "name": "stdout",
     "output_type": "stream",
     "text": [
      "CPU times: user 8.51 s, sys: 373 ms, total: 8.88 s\n",
      "Wall time: 8.38 s\n"
     ]
    }
   ],
   "source": [
    "%%time\n",
    "from sklearn.linear_model import LogisticRegression\n",
    "scoreTest_LR = []\n",
    "scoreTrain_LR = []\n",
    "C_range = [1,2,3,4,5,6,7,8]\n",
    "for number in C_range:\n",
    "    clf = LogisticRegression(C = number, class_weight = \"balanced\", penalty = 'l2')\n",
    "    clf.fit(x_train,y_train)\n",
    "    y_score_train = clf.predict(x_train)\n",
    "    y_score_valid = clf.predict(x_valid)\n",
    "    scoreTrain_LR.append(round(roc_auc_score(y_train, y_score_train) , 3))\n",
    "    scoreTest_LR.append(round(roc_auc_score(y_valid, y_score_valid) , 3))\n",
    "     \n",
    "pd.DataFrame({'test roc score':scoreTest_LR,'train roc score':scoreTrain_LR}).plot(grid = True)\n",
    "plt.xlabel('C')\n",
    "plt.ylabel('Score')\n",
    "plt.title(\"LogisticRegression\")\n",
    "plt.show()"
   ]
  },
  {
   "cell_type": "code",
   "execution_count": 55,
   "id": "552f3e97-8b9e-4f22-bd7b-f41e17c45e4d",
   "metadata": {},
   "outputs": [
    {
     "name": "stdout",
     "output_type": "stream",
     "text": [
      "LR roc_train: 0.677\n",
      "LR roc_test: 0.652\n"
     ]
    }
   ],
   "source": [
    "print(\"LR roc_train:\",round(accuracy_score(y_train, clf.predict(x_train).round(0)) , 3))\n",
    "print(\"LR roc_test:\",round(accuracy_score(y_valid, clf.predict(x_valid).round(0)) , 3))\n",
    "\n",
    "clf_LR = LogisticRegression(C = C_range[np.array(scoreTest_LR).argmax()], class_weight = \"balanced\")\n",
    "clf_LR.fit(x_train,y_train)\n",
    "\n",
    "# LR_cross_score = cross_val_score(clf_LR, X_train, y_train, cv=5, scoring='roc_auc').mean()\n",
    "LR_roc = round(accuracy_score(y_valid, clf_LR.predict(x_valid).round(0)) , 3)\n"
   ]
  },
  {
   "cell_type": "code",
   "execution_count": 56,
   "id": "1533fa6d-9498-44ea-ae14-9a7b948bf5d1",
   "metadata": {},
   "outputs": [
    {
     "data": {
      "image/png": "[encoded data removed]",
      "text/plain": [
       "<Figure size 432x288 with 1 Axes>"
      ]
     },
     "metadata": {
      "needs_background": "light"
     },
     "output_type": "display_data"
    },
    {
     "name": "stdout",
     "output_type": "stream",
     "text": [
      "CPU times: user 59.5 s, sys: 440 ms, total: 59.9 s\n",
      "Wall time: 15.7 s\n"
     ]
    }
   ],
   "source": [
    "%%time\n",
    "from lightgbm import LGBMClassifier\n",
    "scoreTrain_LGBMC = []\n",
    "scoreTest_LGBMC = []\n",
    "n_estimators = [50, 100,400,800,1000]\n",
    "for number in n_estimators:\n",
    "    clf = LGBMClassifier(\n",
    "        n_estimators= number,\n",
    "        num_leaves=15,\n",
    "        colsample_bytree=.8,\n",
    "        subsample=.8,\n",
    "        max_depth=7,\n",
    "        reg_alpha=.1,\n",
    "        reg_lambda=.1,\n",
    "        min_split_gain=.01\n",
    "    )\n",
    "    clf.fit(x_train,y_train)\n",
    "    # y_score_train = clf.predict_proba(x_train)[:,1]\n",
    "    # y_score_valid = clf.predict_proba(x_valid)[:,1]\n",
    "    y_score_train = clf.predict(x_train)\n",
    "    y_score_valid = clf.predict(x_valid)\n",
    "    scoreTrain_LGBMC.append(round(accuracy_score(y_train, y_score_train) , 3))\n",
    "    scoreTest_LGBMC.append(round(accuracy_score(y_valid, y_score_valid) , 3))\n",
    "     \n",
    "pd.DataFrame({'test roc score':scoreTest_LGBMC,'train roc score':scoreTrain_LGBMC}).plot(grid = True)\n",
    "plt.xlabel('n_estimators')\n",
    "plt.ylabel('Score')\n",
    "plt.title(\"LGBMClassifier\")\n",
    "plt.show()"
   ]
  },
  {
   "cell_type": "code",
   "execution_count": 57,
   "id": "15482dfe-167f-4d7e-89b0-f3d1424b94e5",
   "metadata": {},
   "outputs": [
    {
     "name": "stdout",
     "output_type": "stream",
     "text": [
      "LGBM roc_train: 0.734\n",
      "LGBM roc_test: 0.655\n"
     ]
    }
   ],
   "source": [
    "clf_lgbm = LGBMClassifier(\n",
    "        n_estimators= n_estimators[np.array(scoreTest_LGBMC).argmax()],\n",
    "        num_leaves=15,\n",
    "        colsample_bytree=.8,\n",
    "        subsample=.8,\n",
    "        max_depth=7,\n",
    "        reg_alpha=.1,\n",
    "        reg_lambda=.1,\n",
    "        min_split_gain=.01\n",
    "    )\n",
    "clf_lgbm.fit(x_train, y_train)\n",
    "\n",
    "# print(\"LGBM roc_train:\",round(roc_auc_score(y_train, clf_lgbm.predict_proba(X_train)[:,1]) , 3))\n",
    "# print(\"LGBM roc_test:\",round(roc_auc_score(y_test, clf_lgbm.predict_proba(X_test)[:,1]) , 3))\n",
    "print(\"LGBM roc_train:\",round(accuracy_score(y_train, clf_lgbm.predict(x_train).round(0)) , 3))\n",
    "print(\"LGBM roc_test:\",round(accuracy_score(y_valid, clf_lgbm.predict(x_valid).round(0)) , 3))\n",
    "\n",
    "LGBM_roc = round(roc_auc_score(y_valid, clf_lgbm.predict(x_valid).round(0)) , 3)"
   ]
  },
  {
   "cell_type": "code",
   "execution_count": 58,
   "id": "af11ae41-11c7-49d2-ad75-f86986f752b4",
   "metadata": {},
   "outputs": [
    {
     "name": "stdout",
     "output_type": "stream",
     "text": [
      "MLP roc_train: 0.708\n",
      "MLP roc_test: 0.675\n",
      "CPU times: user 2min 17s, sys: 56.6 s, total: 3min 14s\n",
      "Wall time: 49.6 s\n"
     ]
    }
   ],
   "source": [
    "%%time\n",
    "from sklearn.neural_network import MLPClassifier\n",
    "\n",
    "clf_MLP = MLPClassifier(hidden_layer_sizes=(50,50), max_iter=100,tol=0.0001, alpha=0.0001,\n",
    "                     solver='sgd', verbose= False)\n",
    "clf_MLP.fit(x_train, y_train)\n",
    "\n",
    "print(\"MLP roc_train:\",round(roc_auc_score(y_train, clf_MLP.predict_proba(x_train)[:,1]) , 3))\n",
    "print(\"MLP roc_test:\",round(roc_auc_score(y_valid, clf_MLP.predict_proba(x_valid)[:,1]) , 3))\n",
    "\n",
    "# MLP_cross_score = cross_val_score(clf_MLP, X_train, y_train, cv=5, scoring='roc_auc').mean()\n",
    "MLP_roc = round(roc_auc_score(y_valid, clf_MLP.predict_proba(x_valid)[:,1]) , 3)\n"
   ]
  },
  {
   "cell_type": "code",
   "execution_count": null,
   "id": "9cc8c8ec-905e-4e59-9132-87ee5ba54309",
   "metadata": {},
   "outputs": [],
   "source": []
  },
  {
   "cell_type": "code",
   "execution_count": 59,
   "id": "061eb858-7383-4c71-815c-85635c5bfac5",
   "metadata": {},
   "outputs": [
    {
     "data": {
      "image/png": "[encoded data removed]",
      "text/plain": [
       "<Figure size 720x720 with 1 Axes>"
      ]
     },
     "metadata": {
      "needs_background": "light"
     },
     "output_type": "display_data"
    },
    {
     "data": {
      "text/html": [
       "<div>\n",
       "<style scoped>\n",
       "    .dataframe tbody tr th:only-of-type {\n",
       "        vertical-align: middle;\n",
       "    }\n",
       "\n",
       "    .dataframe tbody tr th {\n",
       "        vertical-align: top;\n",
       "    }\n",
       "\n",
       "    .dataframe thead th {\n",
       "        text-align: right;\n",
       "    }\n",
       "</style>\n",
       "<table border=\"1\" class=\"dataframe\">\n",
       "  <thead>\n",
       "    <tr style=\"text-align: right;\">\n",
       "      <th></th>\n",
       "      <th>Roc</th>\n",
       "    </tr>\n",
       "  </thead>\n",
       "  <tbody>\n",
       "    <tr>\n",
       "      <th>DecisionTreeClassifier</th>\n",
       "      <td>0.612</td>\n",
       "    </tr>\n",
       "    <tr>\n",
       "      <th>RandomForestClassifier</th>\n",
       "      <td>0.654</td>\n",
       "    </tr>\n",
       "    <tr>\n",
       "      <th>KNeighborsClassifier</th>\n",
       "      <td>0.609</td>\n",
       "    </tr>\n",
       "    <tr>\n",
       "      <th>GaussianNB</th>\n",
       "      <td>0.511</td>\n",
       "    </tr>\n",
       "    <tr>\n",
       "      <th>LogisticRegression</th>\n",
       "      <td>0.655</td>\n",
       "    </tr>\n",
       "    <tr>\n",
       "      <th>MLPClassifier</th>\n",
       "      <td>0.675</td>\n",
       "    </tr>\n",
       "    <tr>\n",
       "      <th>LGBMClassifier</th>\n",
       "      <td>0.632</td>\n",
       "    </tr>\n",
       "  </tbody>\n",
       "</table>\n",
       "</div>"
      ],
      "text/plain": [
       "                          Roc\n",
       "DecisionTreeClassifier  0.612\n",
       "RandomForestClassifier  0.654\n",
       "KNeighborsClassifier    0.609\n",
       "GaussianNB              0.511\n",
       "LogisticRegression      0.655\n",
       "MLPClassifier           0.675\n",
       "LGBMClassifier          0.632"
      ]
     },
     "execution_count": 59,
     "metadata": {},
     "output_type": "execute_result"
    }
   ],
   "source": [
    "indexs = [\"DecisionTreeClassifier\",\"RandomForestClassifier\",\n",
    "          \"KNeighborsClassifier\",\"GaussianNB\",\"LogisticRegression\",\n",
    "          # \"VotingClassifier\",\"BaggingClassifierLR\",\n",
    "          \"MLPClassifier\",\"LGBMClassifier\"]\n",
    "models = pd.DataFrame([], index = indexs)\n",
    "models[\"Roc\"] = [DT_roc,RF_roc, KNN_roc,NB_roc,LR_roc,MLP_roc,LGBM_roc]#,VOT_roc,LR_BAG_roc\n",
    "models.plot.barh(figsize=(10,10 ), xlim = (0.6,0.8),colormap='YlOrRd_r')\n",
    "plt.axvline(models[\"Roc\"].max(),color = 'g',linestyle='--')\n",
    "plt.show()\n",
    "\n",
    "models"
   ]
  },
  {
   "cell_type": "code",
   "execution_count": null,
   "id": "501180ea-2f37-495c-8845-e5678308a9bd",
   "metadata": {},
   "outputs": [],
   "source": []
  },
  {
   "cell_type": "code",
   "execution_count": null,
   "id": "97f34659-f681-4bf8-bc71-c0b4ab0bb306",
   "metadata": {},
   "outputs": [],
   "source": []
  },
  {
   "cell_type": "code",
   "execution_count": null,
   "id": "eff14ad9-4fed-40e4-8adc-02eee0f15064",
   "metadata": {},
   "outputs": [],
   "source": []
  },
  {
   "cell_type": "code",
   "execution_count": null,
   "id": "84e7c593-40fe-494c-85f0-8c003722e9e2",
   "metadata": {},
   "outputs": [],
   "source": []
  },
  {
   "cell_type": "code",
   "execution_count": null,
   "id": "450ae795-23d7-4ec5-9501-fcd97d34eb92",
   "metadata": {},
   "outputs": [],
   "source": []
  },
  {
   "cell_type": "code",
   "execution_count": null,
   "id": "38cbf56f-93da-42e4-ad53-68583e32c283",
   "metadata": {},
   "outputs": [],
   "source": []
  },
  {
   "cell_type": "code",
   "execution_count": 40,
   "id": "40af392d-f41a-43e4-8ffa-2047358c5a46",
   "metadata": {},
   "outputs": [],
   "source": [
    "import lightgbm as lgb\n",
    "from sklearn.metrics import log_loss, roc_auc_score, accuracy_score\n",
    "\n",
    "# パラメータ\n",
    "RANDOM_STATE = 10\n",
    "num_round = 1000\n",
    "TEST_SIZE = 0.2\n",
    "\n",
    "# 学習データと評価データを作成\n",
    "x_train, x_valid, y_train, y_valid = train_test_split(x_train,y_train,test_size=TEST_SIZE,random_state=RANDOM_STATE)\n",
    "\n",
    "lgb_train = lgb.Dataset(x_train, y_train)\n",
    "lgb_eval = lgb.Dataset(x_valid, y_valid, reference=lgb_train)"
   ]
  },
  {
   "cell_type": "code",
   "execution_count": 41,
   "id": "1610685c-b839-4369-9d04-9cc60e02d602",
   "metadata": {},
   "outputs": [],
   "source": [
    "# LightGBMのパラメータ設定\n",
    "params = {\n",
    "    'boosting_type': 'gbdt',\n",
    "    'objective': 'binary',\n",
    "    'metric': 'binary_logloss',\n",
    "    'num_leaves': 50,\n",
    "    'verbose': 0\n",
    "}"
   ]
  },
  {
   "cell_type": "code",
   "execution_count": 42,
   "id": "a3460295-610e-4cd4-a0cf-8baa7d0dec4d",
   "metadata": {},
   "outputs": [
    {
     "name": "stdout",
     "output_type": "stream",
     "text": [
      "[LightGBM] [Warning] Auto-choosing row-wise multi-threading, the overhead of testing was 0.015239 seconds.\n",
      "You can set `force_row_wise=true` to remove the overhead.\n",
      "And if memory is not enough, you can set `force_col_wise=true`.\n",
      "訓練データの正答率: 65.167 %\n"
     ]
    }
   ],
   "source": [
    "# 訓練データに対する予測\n",
    "# LightGBM学習\n",
    "model = lgb.train(params, lgb_train, num_round, \n",
    "                  valid_names=['train', 'valid'], valid_sets=lgb_eval,\n",
    "                  early_stopping_rounds=20, verbose_eval=False)\n",
    "\n",
    "# LightGBM推論\n",
    "y_pred = model.predict(x_valid, num_iteration=model.best_iteration)\n",
    "\n",
    "# 評価\n",
    "y_pred = y_pred.round(0)\n",
    "# acc_train = accuracy_score(y_test, y_pred)\n",
    "acc_train = accuracy_score(y_true=y_valid, y_pred=y_pred)\n",
    "\n",
    "print(f\"訓練データの正答率: {100 * acc_train:.3f} %\")    "
   ]
  },
  {
   "cell_type": "code",
   "execution_count": 43,
   "id": "91e7f593-5fc0-4e82-b06e-1354d6fb3e87",
   "metadata": {},
   "outputs": [
    {
     "ename": "ValueError",
     "evalue": "DataFrame.dtypes for data must be int, float or bool.\nDid not expect the data types in the following fields: class, name, country, main_category_score, category_score",
     "output_type": "error",
     "traceback": [
      "\u001b[0;31m---------------------------------------------------------------------------\u001b[0m",
      "\u001b[0;31mValueError\u001b[0m                                Traceback (most recent call last)",
      "Input \u001b[0;32mIn [43]\u001b[0m, in \u001b[0;36m<cell line: 3>\u001b[0;34m()\u001b[0m\n\u001b[1;32m      1\u001b[0m \u001b[38;5;66;03m# テストデータに対する予測\u001b[39;00m\n\u001b[1;32m      2\u001b[0m \u001b[38;5;66;03m# LightGBM推論\u001b[39;00m\n\u001b[0;32m----> 3\u001b[0m y_pred \u001b[38;5;241m=\u001b[39m \u001b[43mmodel\u001b[49m\u001b[38;5;241;43m.\u001b[39;49m\u001b[43mpredict\u001b[49m\u001b[43m(\u001b[49m\u001b[43mx_test\u001b[49m\u001b[43m,\u001b[49m\u001b[43m \u001b[49m\u001b[43mnum_iteration\u001b[49m\u001b[38;5;241;43m=\u001b[39;49m\u001b[43mmodel\u001b[49m\u001b[38;5;241;43m.\u001b[39;49m\u001b[43mbest_iteration\u001b[49m\u001b[43m)\u001b[49m\n\u001b[1;32m      4\u001b[0m y_pred \u001b[38;5;241m=\u001b[39m y_pred\u001b[38;5;241m.\u001b[39mround(\u001b[38;5;241m0\u001b[39m)\n\u001b[1;32m      6\u001b[0m \u001b[38;5;66;03m# 評価\u001b[39;00m\n",
      "File \u001b[0;32m/opt/conda/lib/python3.10/site-packages/lightgbm/basic.py:3538\u001b[0m, in \u001b[0;36mBooster.predict\u001b[0;34m(self, data, start_iteration, num_iteration, raw_score, pred_leaf, pred_contrib, data_has_header, is_reshape, **kwargs)\u001b[0m\n\u001b[1;32m   3536\u001b[0m     \u001b[38;5;28;01melse\u001b[39;00m:\n\u001b[1;32m   3537\u001b[0m         num_iteration \u001b[38;5;241m=\u001b[39m \u001b[38;5;241m-\u001b[39m\u001b[38;5;241m1\u001b[39m\n\u001b[0;32m-> 3538\u001b[0m \u001b[38;5;28;01mreturn\u001b[39;00m \u001b[43mpredictor\u001b[49m\u001b[38;5;241;43m.\u001b[39;49m\u001b[43mpredict\u001b[49m\u001b[43m(\u001b[49m\u001b[43mdata\u001b[49m\u001b[43m,\u001b[49m\u001b[43m \u001b[49m\u001b[43mstart_iteration\u001b[49m\u001b[43m,\u001b[49m\u001b[43m \u001b[49m\u001b[43mnum_iteration\u001b[49m\u001b[43m,\u001b[49m\n\u001b[1;32m   3539\u001b[0m \u001b[43m                         \u001b[49m\u001b[43mraw_score\u001b[49m\u001b[43m,\u001b[49m\u001b[43m \u001b[49m\u001b[43mpred_leaf\u001b[49m\u001b[43m,\u001b[49m\u001b[43m \u001b[49m\u001b[43mpred_contrib\u001b[49m\u001b[43m,\u001b[49m\n\u001b[1;32m   3540\u001b[0m \u001b[43m                         \u001b[49m\u001b[43mdata_has_header\u001b[49m\u001b[43m,\u001b[49m\u001b[43m \u001b[49m\u001b[43mis_reshape\u001b[49m\u001b[43m)\u001b[49m\n",
      "File \u001b[0;32m/opt/conda/lib/python3.10/site-packages/lightgbm/basic.py:820\u001b[0m, in \u001b[0;36m_InnerPredictor.predict\u001b[0;34m(self, data, start_iteration, num_iteration, raw_score, pred_leaf, pred_contrib, data_has_header, is_reshape)\u001b[0m\n\u001b[1;32m    818\u001b[0m \u001b[38;5;28;01mif\u001b[39;00m \u001b[38;5;28misinstance\u001b[39m(data, Dataset):\n\u001b[1;32m    819\u001b[0m     \u001b[38;5;28;01mraise\u001b[39;00m \u001b[38;5;167;01mTypeError\u001b[39;00m(\u001b[38;5;124m\"\u001b[39m\u001b[38;5;124mCannot use Dataset instance for prediction, please use raw data instead\u001b[39m\u001b[38;5;124m\"\u001b[39m)\n\u001b[0;32m--> 820\u001b[0m data \u001b[38;5;241m=\u001b[39m \u001b[43m_data_from_pandas\u001b[49m\u001b[43m(\u001b[49m\u001b[43mdata\u001b[49m\u001b[43m,\u001b[49m\u001b[43m \u001b[49m\u001b[38;5;28;43;01mNone\u001b[39;49;00m\u001b[43m,\u001b[49m\u001b[43m \u001b[49m\u001b[38;5;28;43;01mNone\u001b[39;49;00m\u001b[43m,\u001b[49m\u001b[43m \u001b[49m\u001b[38;5;28;43mself\u001b[39;49m\u001b[38;5;241;43m.\u001b[39;49m\u001b[43mpandas_categorical\u001b[49m\u001b[43m)\u001b[49m[\u001b[38;5;241m0\u001b[39m]\n\u001b[1;32m    821\u001b[0m predict_type \u001b[38;5;241m=\u001b[39m C_API_PREDICT_NORMAL\n\u001b[1;32m    822\u001b[0m \u001b[38;5;28;01mif\u001b[39;00m raw_score:\n",
      "File \u001b[0;32m/opt/conda/lib/python3.10/site-packages/lightgbm/basic.py:594\u001b[0m, in \u001b[0;36m_data_from_pandas\u001b[0;34m(data, feature_name, categorical_feature, pandas_categorical)\u001b[0m\n\u001b[1;32m    592\u001b[0m \u001b[38;5;28;01mif\u001b[39;00m bad_indices:\n\u001b[1;32m    593\u001b[0m     bad_index_cols_str \u001b[38;5;241m=\u001b[39m \u001b[38;5;124m'\u001b[39m\u001b[38;5;124m, \u001b[39m\u001b[38;5;124m'\u001b[39m\u001b[38;5;241m.\u001b[39mjoin(data\u001b[38;5;241m.\u001b[39mcolumns[bad_indices])\n\u001b[0;32m--> 594\u001b[0m     \u001b[38;5;28;01mraise\u001b[39;00m \u001b[38;5;167;01mValueError\u001b[39;00m(\u001b[38;5;124m\"\u001b[39m\u001b[38;5;124mDataFrame.dtypes for data must be int, float or bool.\u001b[39m\u001b[38;5;130;01m\\n\u001b[39;00m\u001b[38;5;124m\"\u001b[39m\n\u001b[1;32m    595\u001b[0m                      \u001b[38;5;124m\"\u001b[39m\u001b[38;5;124mDid not expect the data types in the following fields: \u001b[39m\u001b[38;5;124m\"\u001b[39m\n\u001b[1;32m    596\u001b[0m                      \u001b[38;5;124mf\u001b[39m\u001b[38;5;124m\"\u001b[39m\u001b[38;5;132;01m{\u001b[39;00mbad_index_cols_str\u001b[38;5;132;01m}\u001b[39;00m\u001b[38;5;124m\"\u001b[39m)\n\u001b[1;32m    597\u001b[0m data \u001b[38;5;241m=\u001b[39m data\u001b[38;5;241m.\u001b[39mvalues\n\u001b[1;32m    598\u001b[0m \u001b[38;5;28;01mif\u001b[39;00m data\u001b[38;5;241m.\u001b[39mdtype \u001b[38;5;241m!=\u001b[39m np\u001b[38;5;241m.\u001b[39mfloat32 \u001b[38;5;129;01mand\u001b[39;00m data\u001b[38;5;241m.\u001b[39mdtype \u001b[38;5;241m!=\u001b[39m np\u001b[38;5;241m.\u001b[39mfloat64:\n",
      "\u001b[0;31mValueError\u001b[0m: DataFrame.dtypes for data must be int, float or bool.\nDid not expect the data types in the following fields: class, name, country, main_category_score, category_score"
     ]
    }
   ],
   "source": [
    "# テストデータに対する予測\n",
    "# LightGBM推論\n",
    "y_pred = model.predict(x_test, num_iteration=model.best_iteration)\n",
    "y_pred = y_pred.round(0)\n",
    "\n",
    "# 評価\n",
    "acc_train = accuracy_score(y_true=y_test, y_pred=y_pred)\n",
    "print(f\"テストデータの正答率: {100 * acc_train:.3f} %\")  \n",
    "\n",
    "# print(y_test)\n",
    "# print(y_pred)"
   ]
  },
  {
   "cell_type": "code",
   "execution_count": null,
   "id": "3a7548b4-5e3f-421d-9c05-fcc964453055",
   "metadata": {},
   "outputs": [],
   "source": [
    "# feature importance for Light GBM\n",
    "predictor_columns = x_train.columns\n",
    "importance = pd.DataFrame(model.feature_importance(), index=predictor_columns, columns=['importance'])\n",
    "# display(importance)\n",
    "display(importance.sort_values('importance', ascending = False))\n",
    "\n",
    "# predictor_columns = x_train.columns\n",
    "# feat_import = list(zip(predictor_columns, list(model.feature_importances())))\n",
    "# ns_df = pd.DataFrame(data = feat_import, columns=['Feat_names', 'Importance'])\n",
    "# ns_df_sorted = ns_df.sort_values(['Importance', 'Feat_names'], ascending = [False, True])\n",
    "\n",
    "# ns_df_sorted"
   ]
  },
  {
   "cell_type": "markdown",
   "id": "5a623341-d3ab-4148-a894-121b765cfd51",
   "metadata": {
    "tags": []
   },
   "source": [
    "## 交差検証"
   ]
  },
  {
   "cell_type": "code",
   "execution_count": null,
   "id": "555b87a7-3f9e-462c-bde2-b684c33aa862",
   "metadata": {},
   "outputs": [],
   "source": [
    "# !pip install lightgbm"
   ]
  },
  {
   "cell_type": "code",
   "execution_count": null,
   "id": "4b3734a6-7019-41e8-a8ae-5b2533ea5651",
   "metadata": {},
   "outputs": [],
   "source": [
    "from sklearn.model_selection import StratifiedKFold\n",
    "# from sklearn.model_selection import KFold\n",
    "n_split = 5 # グループ数を設定（今回は5分割）\n",
    "seed = 1234\n",
    "# cross_valid_mae = 0\n",
    "# split_num = 1\n",
    "kf = StratifiedKFold(n_splits=n_split, shuffle=True, random_state=seed)\n",
    "# kf = KFold(n_splits=n_split, shuffle=True, random_state=seed)"
   ]
  },
  {
   "cell_type": "code",
   "execution_count": null,
   "id": "8f41b00f-f53a-46ae-85e2-de739dd9b6d2",
   "metadata": {},
   "outputs": [],
   "source": [
    "from sklearn.metrics import log_loss, roc_auc_score, accuracy_score\n",
    "import lightgbm as lgb\n",
    "\n",
    "# scores_train = []\n",
    "scores_valid = []\n",
    "models = []\n",
    "itr = 1\n",
    "\n",
    "for train_idx, valid_idx in kf.split(x, y):\n",
    "    x_train, y_train = x.iloc[train_idx], y.iloc[train_idx]\n",
    "    x_valid, y_valid = x.iloc[valid_idx], y.iloc[valid_idx]\n",
    "    \n",
    "    # lightgbmのデータ構造に変換\n",
    "    lgb_train = lgb.Dataset(x_train, y_train)\n",
    "    lgb_valid = lgb.Dataset(x_valid, y_valid)\n",
    "    \n",
    "    # ハイパーパラメータの設定\n",
    "    # metricsはaccuracy_scoreにすべきかも\n",
    "    params = {'num_leaves': 64, 'objective': 'binary', 'seed': seed, \n",
    "              'verbose': 0, 'metrics': 'binary_logloss'}\n",
    "    num_round = 1000\n",
    "\n",
    "    # 学習の実行\n",
    "    # カテゴリ変数を指定した場合の挙動はKaggle本 p240参照\n",
    "    # categorical_features = ['category', 'main_category', 'currency', 'country']\n",
    "    model = lgb.train(params, lgb_train, num_round, \n",
    "                    valid_names=['train', 'valid'], valid_sets=[lgb_train, lgb_valid],\n",
    "                     early_stopping_rounds=20, verbose_eval=False)\n",
    "    \n",
    "    # # 訓練データに対する予測、正答率\n",
    "    # y_pred = clf.predict(x_train)\n",
    "    # acc_train = accuracy_score(y_true=y_train, y_pred=y_pred)\n",
    "    # print(f\"{itr:02}train_訓練データの正答率: {100 * acc_train:.2f} %\")\n",
    "    # scores_train.append(acc_train)  \n",
    "    \n",
    "    # 検証データに対する予測\n",
    "    # accurasy_scoreするには0で丸め込みが必要（https://shiokoji11235.com/two_interface_of_lightgbm）\n",
    "    y_pred = model.predict(x_valid)\n",
    "    y_pred = y_pred.round(0)\n",
    "\n",
    "    score_valid = accuracy_score(y_valid, y_pred)\n",
    "    print(f\"{itr:02}valid_accuracy_score: {score_valid:.4f} %\")    \n",
    "\n",
    "    # score_valid = log_loss(y_true=y_valid, y_pred=y_pred)\n",
    "    # print(f\"{itr:02}valid_logloss: {score_valid:.4f} %\")    \n",
    "    # score_valid = roc_auc_score(y_valid, y_pred)\n",
    "    # print(f\"{itr:02}valid_auc_score: {score_valid:.4f} %\")    \n",
    "\n",
    "    scores_valid.append(score_valid)    \n",
    "    models.append(model)\n",
    "    \n",
    "    itr += 1"
   ]
  },
  {
   "cell_type": "code",
   "execution_count": null,
   "id": "600ff365-9fc0-496a-9ea6-38fe48de6441",
   "metadata": {},
   "outputs": [],
   "source": [
    "# 各foldのスコアの平均\n",
    "# print(np.mean(scores_train))\n",
    "print(np.mean(scores_valid))"
   ]
  },
  {
   "cell_type": "markdown",
   "id": "6c6147b9-d00e-43d3-a6ff-fa404ca03ce2",
   "metadata": {},
   "source": [
    "## 推論"
   ]
  },
  {
   "cell_type": "code",
   "execution_count": null,
   "id": "579ef1ab-03f5-4972-8eca-144ce272b145",
   "metadata": {},
   "outputs": [],
   "source": [
    "y_preds = np.zeros(len(x_test))\n",
    "\n",
    "for model in models:\n",
    "    y_pred = model.predict(x_test)\n",
    "    y_pred = y_pred.round(0)\n",
    "    y_preds += y_pred / len(models)\n",
    "    \n",
    "# print(y_test)\n",
    "# print('***')\n",
    "# print(y_preds)\n",
    "# print('***')\n",
    "# print(y_pred)\n",
    "\n",
    "y_preds = y_preds.round(0)\n",
    "score_test = accuracy_score(y_test, y_preds)\n",
    "print(f\"test_accuracy_score: {100 * score_test:.4f} %\")    "
   ]
  },
  {
   "cell_type": "markdown",
   "id": "e178a3c0-ddd1-4746-a1b2-58af0b346206",
   "metadata": {
    "jp-MarkdownHeadingCollapsed": true,
    "tags": []
   },
   "source": [
    "### input_01.csv\n",
    "- 検証データに対する正答率：0.69899\n"
   ]
  },
  {
   "cell_type": "markdown",
   "id": "3806ceae-1f59-45d9-8fc8-0a64406d9006",
   "metadata": {},
   "source": [
    "### input_02.csv（class, main_category）\n",
    "- 検証データに対する正答率：0.70896\n"
   ]
  },
  {
   "cell_type": "markdown",
   "id": "7fa5352a-f978-4ea3-a7c4-426d29898e70",
   "metadata": {},
   "source": [
    "### input_02.csv（class）\n",
    "- 検証データに対する正答率：0.70765\n"
   ]
  },
  {
   "cell_type": "markdown",
   "id": "4b03d317-986e-4e64-9abe-065a7066f055",
   "metadata": {},
   "source": [
    "### input_03.csv（class, yar/month/day）\n",
    "- 検証データに対する正答率：0.7159\n"
   ]
  },
  {
   "cell_type": "markdown",
   "id": "b5e2155a-eb28-407e-bcb9-1f05bec078e5",
   "metadata": {},
   "source": [
    "### input_04.csv\n",
    "- ：71.78%\n",
    "x_cols = ['class', 'country', 'period', 'n_words', 'log_goal', 'launched_year', 'launched_month', 'launched_day', \n",
    "         'name_vowel_ratio', 'Goal_1000', 'Goal_500', 'Goal_10', 'median_goal_Last_Week']"
   ]
  },
  {
   "cell_type": "code",
   "execution_count": null,
   "id": "e0b44948-fd68-4c58-846b-adf965a28f75",
   "metadata": {},
   "outputs": [],
   "source": []
  },
  {
   "cell_type": "markdown",
   "id": "9add59be-65dc-43e5-9989-98483245efbe",
   "metadata": {},
   "source": [
    "## テストデータに対する予測\n",
    "本来はtrain/validではなくtrain/valid/testに分割し、testに対する予測を見るべき"
   ]
  },
  {
   "cell_type": "code",
   "execution_count": null,
   "id": "e0427309-9a93-4225-9872-01183724f70d",
   "metadata": {},
   "outputs": [],
   "source": []
  },
  {
   "cell_type": "code",
   "execution_count": null,
   "id": "68be5f86-fa08-47f2-9a30-ddbfdffaa076",
   "metadata": {},
   "outputs": [],
   "source": []
  }
 ],
 "metadata": {
  "kernelspec": {
   "display_name": "Python 3 (ipykernel)",
   "language": "python",
   "name": "python3"
  },
  "language_info": {
   "codemirror_mode": {
    "name": "ipython",
    "version": 3
   },
   "file_extension": ".py",
   "mimetype": "text/x-python",
   "name": "python",
   "nbconvert_exporter": "python",
   "pygments_lexer": "ipython3",
   "version": "3.10.5"
  }
 },
 "nbformat": 4,
 "nbformat_minor": 5
}
