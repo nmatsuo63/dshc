{
 "cells": [
  {
   "cell_type": "code",
   "execution_count": 54,
   "id": "083a5a00-c817-4ecc-9144-f3fc7655f4a8",
   "metadata": {},
   "outputs": [],
   "source": [
    "import numpy as np\n",
    "import pandas as pd\n",
    "\n",
    "import warnings\n",
    "warnings.simplefilter('ignore')\n"
   ]
  },
  {
   "cell_type": "markdown",
   "id": "5b42c710-94db-4ab4-8e23-46cedca7b233",
   "metadata": {},
   "source": [
    "## 参考ノート\n",
    "xxx"
   ]
  },
  {
   "cell_type": "code",
   "execution_count": 55,
   "id": "d5d6f106-a4fe-41cc-bb7a-021d234f42d9",
   "metadata": {},
   "outputs": [],
   "source": [
    "# データの読み込み\n",
    "df_org = pd.read_csv('./data/ks-projects-201801.csv')\n"
   ]
  },
  {
   "cell_type": "code",
   "execution_count": 56,
   "id": "26ece8e6-eaa7-4846-b9d2-b77ff0cfef2d",
   "metadata": {},
   "outputs": [],
   "source": [
    "# 成功（successful）と失敗（failed）以外のデータを除外する\n",
    "df = df_org[(df_org['state'] == 'successful') | (df_org['state'] == 'failed')]"
   ]
  },
  {
   "cell_type": "code",
   "execution_count": null,
   "id": "1da278b1-5192-44ce-b67f-40312a099f56",
   "metadata": {},
   "outputs": [],
   "source": []
  },
  {
   "cell_type": "code",
   "execution_count": null,
   "id": "2b3b073e-55dc-48fe-8481-4a26cd40bfae",
   "metadata": {},
   "outputs": [],
   "source": []
  },
  {
   "cell_type": "code",
   "execution_count": null,
   "id": "9266dc97-0e9a-45d6-9431-6acaa72ab617",
   "metadata": {},
   "outputs": [],
   "source": []
  },
  {
   "cell_type": "code",
   "execution_count": null,
   "id": "d5889048-2ac7-4330-b88f-89ae3837bf92",
   "metadata": {},
   "outputs": [],
   "source": []
  },
  {
   "cell_type": "code",
   "execution_count": null,
   "id": "cbd2074b-7354-4031-8144-b1d84a666f40",
   "metadata": {},
   "outputs": [],
   "source": []
  },
  {
   "cell_type": "code",
   "execution_count": null,
   "id": "da31c85b-1b81-4311-9426-ba19289b5b53",
   "metadata": {},
   "outputs": [],
   "source": []
  },
  {
   "cell_type": "code",
   "execution_count": null,
   "id": "25d582e3-3bce-4c8d-9a30-bd133a2e643e",
   "metadata": {},
   "outputs": [],
   "source": []
  },
  {
   "cell_type": "code",
   "execution_count": null,
   "id": "dacdb36f-6741-4b76-8014-105ba3e9a3c7",
   "metadata": {},
   "outputs": [],
   "source": []
  },
  {
   "cell_type": "code",
   "execution_count": null,
   "id": "095cb6f3-d89d-4381-8d91-6c11fe21d8f8",
   "metadata": {},
   "outputs": [],
   "source": []
  },
  {
   "cell_type": "code",
   "execution_count": null,
   "id": "51e212e2-d85f-4293-aaf3-3a0bc7af34ec",
   "metadata": {},
   "outputs": [],
   "source": []
  },
  {
   "cell_type": "code",
   "execution_count": null,
   "id": "9ca04d09-d179-4d89-8d38-fd2962e065d5",
   "metadata": {},
   "outputs": [],
   "source": []
  },
  {
   "cell_type": "code",
   "execution_count": null,
   "id": "d620801c-f494-4684-9423-ade7bb92d82f",
   "metadata": {},
   "outputs": [],
   "source": []
  },
  {
   "cell_type": "code",
   "execution_count": null,
   "id": "a27d0e5f-bafb-470d-a241-d9742b90dba7",
   "metadata": {},
   "outputs": [],
   "source": []
  },
  {
   "cell_type": "code",
   "execution_count": null,
   "id": "58455a8a-abb8-4de6-8973-8dec54afa155",
   "metadata": {},
   "outputs": [],
   "source": []
  },
  {
   "cell_type": "code",
   "execution_count": null,
   "id": "90a2e1e2-aaa3-43ff-9624-61fd2f240e6f",
   "metadata": {},
   "outputs": [],
   "source": []
  },
  {
   "cell_type": "code",
   "execution_count": null,
   "id": "5fb595c1-97f6-4ffa-95e2-8b258a67cf8f",
   "metadata": {},
   "outputs": [],
   "source": []
  },
  {
   "cell_type": "code",
   "execution_count": null,
   "id": "cb1620e8-1a2e-443c-9eae-32ef434060dd",
   "metadata": {},
   "outputs": [],
   "source": []
  },
  {
   "cell_type": "code",
   "execution_count": null,
   "id": "e681d06b-4a31-4e9b-8336-57c8029ea9a9",
   "metadata": {},
   "outputs": [],
   "source": []
  }
 ],
 "metadata": {
  "kernelspec": {
   "display_name": "Python 3 (ipykernel)",
   "language": "python",
   "name": "python3"
  },
  "language_info": {
   "codemirror_mode": {
    "name": "ipython",
    "version": 3
   },
   "file_extension": ".py",
   "mimetype": "text/x-python",
   "name": "python",
   "nbconvert_exporter": "python",
   "pygments_lexer": "ipython3",
   "version": "3.10.5"
  }
 },
 "nbformat": 4,
 "nbformat_minor": 5
}
