{
 "cells": [
  {
   "cell_type": "code",
   "execution_count": 199,
   "id": "fbd7e528-f935-460b-a48e-bc6197319d99",
   "metadata": {},
   "outputs": [],
   "source": [
    "import numpy as np\n",
    "import pandas as pd\n",
    "import matplotlib.pyplot as plt\n",
    "\n",
    "import warnings\n",
    "warnings.simplefilter('ignore')"
   ]
  },
  {
   "cell_type": "markdown",
   "id": "97816d17-5cd6-434e-a8e5-077d17c50389",
   "metadata": {},
   "source": [
    "## データの読み込み"
   ]
  },
  {
   "cell_type": "code",
   "execution_count": 164,
   "id": "4b225571-59eb-4ea2-8b8c-fb8add3b8067",
   "metadata": {},
   "outputs": [],
   "source": [
    "# データの読み込み\n",
    "# df_org = pd.read_csv('./data/input_01.csv')\n",
    "# df_org = pd.read_csv('./data/input_02.csv')\n",
    "# df_org = pd.read_csv('./data/input_03.csv')\n",
    "# df_org = pd.read_csv('./data/input_04.csv')\n",
    "# df_org = pd.read_csv('./data/input_05.csv')\n",
    "df_org = pd.read_csv('./data/input_06.csv')"
   ]
  },
  {
   "cell_type": "code",
   "execution_count": 283,
   "id": "4ba32bb7-4a9e-48b2-ad57-3a23a95978ad",
   "metadata": {},
   "outputs": [],
   "source": [
    "# データ量が多いのでコーディング中はサンプリング\n",
    "df = df_org.sample(10000, replace=True)\n",
    "# df = df_org"
   ]
  },
  {
   "cell_type": "code",
   "execution_count": 284,
   "id": "cf03a6c9-3384-4095-9075-706971ca2be2",
   "metadata": {
    "tags": []
   },
   "outputs": [
    {
     "data": {
      "text/html": [
       "<div>\n",
       "<style scoped>\n",
       "    .dataframe tbody tr th:only-of-type {\n",
       "        vertical-align: middle;\n",
       "    }\n",
       "\n",
       "    .dataframe tbody tr th {\n",
       "        vertical-align: top;\n",
       "    }\n",
       "\n",
       "    .dataframe thead th {\n",
       "        text-align: right;\n",
       "    }\n",
       "</style>\n",
       "<table border=\"1\" class=\"dataframe\">\n",
       "  <thead>\n",
       "    <tr style=\"text-align: right;\">\n",
       "      <th></th>\n",
       "      <th>Unnamed: 0</th>\n",
       "      <th>ID</th>\n",
       "      <th>name</th>\n",
       "      <th>category</th>\n",
       "      <th>main_category</th>\n",
       "      <th>currency</th>\n",
       "      <th>goal</th>\n",
       "      <th>pledged</th>\n",
       "      <th>state</th>\n",
       "      <th>backers</th>\n",
       "      <th>...</th>\n",
       "      <th>y_deadline</th>\n",
       "      <th>project_time</th>\n",
       "      <th>goal_per_day</th>\n",
       "      <th>main_category_score</th>\n",
       "      <th>category_score</th>\n",
       "      <th>class</th>\n",
       "      <th>n_words</th>\n",
       "      <th>word_count</th>\n",
       "      <th>name_len</th>\n",
       "      <th>log_goal</th>\n",
       "    </tr>\n",
       "  </thead>\n",
       "  <tbody>\n",
       "    <tr>\n",
       "      <th>14794</th>\n",
       "      <td>16832</td>\n",
       "      <td>1085300802</td>\n",
       "      <td>Pre-order my album, and help my vision come to...</td>\n",
       "      <td>Music</td>\n",
       "      <td>Music</td>\n",
       "      <td>USD</td>\n",
       "      <td>2500.0</td>\n",
       "      <td>2725.0</td>\n",
       "      <td>1</td>\n",
       "      <td>53</td>\n",
       "      <td>...</td>\n",
       "      <td>0.875223</td>\n",
       "      <td>29</td>\n",
       "      <td>86.206599</td>\n",
       "      <td>high</td>\n",
       "      <td>high</td>\n",
       "      <td>Music**Music</td>\n",
       "      <td>13</td>\n",
       "      <td>13</td>\n",
       "      <td>58.0</td>\n",
       "      <td>7.824046</td>\n",
       "    </tr>\n",
       "  </tbody>\n",
       "</table>\n",
       "<p>1 rows × 37 columns</p>\n",
       "</div>"
      ],
      "text/plain": [
       "       Unnamed: 0          ID  \\\n",
       "14794       16832  1085300802   \n",
       "\n",
       "                                                    name category  \\\n",
       "14794  Pre-order my album, and help my vision come to...    Music   \n",
       "\n",
       "      main_category currency    goal  pledged  state  backers  ... y_deadline  \\\n",
       "14794         Music      USD  2500.0   2725.0      1       53  ...   0.875223   \n",
       "\n",
       "       project_time  goal_per_day  main_category_score  category_score  \\\n",
       "14794            29     86.206599                 high            high   \n",
       "\n",
       "              class  n_words  word_count  name_len  log_goal  \n",
       "14794  Music**Music       13          13      58.0  7.824046  \n",
       "\n",
       "[1 rows x 37 columns]"
      ]
     },
     "execution_count": 284,
     "metadata": {},
     "output_type": "execute_result"
    }
   ],
   "source": [
    "df.head(1)"
   ]
  },
  {
   "cell_type": "code",
   "execution_count": 285,
   "id": "7947953c-5fd2-44b4-bef3-6ebaf754d1a0",
   "metadata": {},
   "outputs": [
    {
     "data": {
      "text/plain": [
       "Index(['Unnamed: 0', 'ID', 'name', 'category', 'main_category', 'currency',\n",
       "       'goal', 'pledged', 'state', 'backers', 'country', 'usd pledged',\n",
       "       'usd_pledged_real', 'period', 'launched_year', 'launched_month',\n",
       "       'launched_day', 'launched_hour', 'is_launched_weak_year', 'dayfloat',\n",
       "       'monthfloat', 'x_launched', 'y_launched', 'deadline_hour',\n",
       "       'deadline_year', 'deadline_month', 'x_deadline', 'y_deadline',\n",
       "       'project_time', 'goal_per_day', 'main_category_score', 'category_score',\n",
       "       'class', 'n_words', 'word_count', 'name_len', 'log_goal'],\n",
       "      dtype='object')"
      ]
     },
     "execution_count": 285,
     "metadata": {},
     "output_type": "execute_result"
    }
   ],
   "source": [
    "df.columns"
   ]
  },
  {
   "cell_type": "code",
   "execution_count": 286,
   "id": "73450e1f-6901-4331-a4a0-80cc2c233672",
   "metadata": {},
   "outputs": [],
   "source": [
    "# df[['usd_goal_real', 'log_goal']].head()\n",
    "# # 対数変換してるのに40000はさすがにおかしい\n",
    "# df['log_goal'].hist()\n",
    "\n",
    "# # この外れ値除去を行うと、最終的な精度が悪化した\n",
    "# med = df['usd_goal_real'].median()\n",
    "# MAD = 1.4826 * np.median(abs(df['usd_goal_real']-med))\n",
    "# df = df[(med - 3 * MAD < df['usd_goal_real']) & (df['usd_goal_real'] < med + 3 * MAD)]\n",
    "\n",
    "# df['log_goal'] = np.log(df['usd_goal_real'])\n",
    "\n",
    "# df['usd_goal_real'].hist()\n",
    "\n",
    "# df['log_goal'].hist()\n",
    "\n",
    "# df['period'].hist()"
   ]
  },
  {
   "cell_type": "code",
   "execution_count": 287,
   "id": "31a5d9ac-56ab-4ff2-80da-8b47a98b9df5",
   "metadata": {},
   "outputs": [],
   "source": [
    "# # ここでNaNが多いものはできれば除きたい\n",
    "# df.isnull().sum()"
   ]
  },
  {
   "cell_type": "markdown",
   "id": "639cf987-40b7-45cd-b962-34efbddae136",
   "metadata": {},
   "source": [
    "## データの準備"
   ]
  },
  {
   "cell_type": "code",
   "execution_count": 288,
   "id": "2ef3f15d-e7d7-4c6c-b064-160dfd64360e",
   "metadata": {},
   "outputs": [],
   "source": [
    "# # 数値エンコーディング（GBDT以外の場合は必須）\n",
    "# from sklearn.preprocessing import LabelEncoder\n",
    "# encoder = LabelEncoder()\n",
    "# df = df.apply(encoder.fit_transform)"
   ]
  },
  {
   "cell_type": "code",
   "execution_count": 289,
   "id": "34572e65-f135-44a0-8275-d294723f94da",
   "metadata": {},
   "outputs": [
    {
     "data": {
      "text/html": [
       "<div>\n",
       "<style scoped>\n",
       "    .dataframe tbody tr th:only-of-type {\n",
       "        vertical-align: middle;\n",
       "    }\n",
       "\n",
       "    .dataframe tbody tr th {\n",
       "        vertical-align: top;\n",
       "    }\n",
       "\n",
       "    .dataframe thead th {\n",
       "        text-align: right;\n",
       "    }\n",
       "</style>\n",
       "<table border=\"1\" class=\"dataframe\">\n",
       "  <thead>\n",
       "    <tr style=\"text-align: right;\">\n",
       "      <th></th>\n",
       "      <th>Unnamed: 0</th>\n",
       "      <th>ID</th>\n",
       "      <th>name</th>\n",
       "      <th>category</th>\n",
       "      <th>main_category</th>\n",
       "      <th>currency</th>\n",
       "      <th>goal</th>\n",
       "      <th>pledged</th>\n",
       "      <th>state</th>\n",
       "      <th>backers</th>\n",
       "      <th>...</th>\n",
       "      <th>y_deadline</th>\n",
       "      <th>project_time</th>\n",
       "      <th>goal_per_day</th>\n",
       "      <th>main_category_score</th>\n",
       "      <th>category_score</th>\n",
       "      <th>class</th>\n",
       "      <th>n_words</th>\n",
       "      <th>word_count</th>\n",
       "      <th>name_len</th>\n",
       "      <th>log_goal</th>\n",
       "    </tr>\n",
       "  </thead>\n",
       "  <tbody>\n",
       "    <tr>\n",
       "      <th>14794</th>\n",
       "      <td>16832</td>\n",
       "      <td>1085300802</td>\n",
       "      <td>Pre-order my album, and help my vision come to...</td>\n",
       "      <td>Music</td>\n",
       "      <td>Music</td>\n",
       "      <td>USD</td>\n",
       "      <td>2500.0</td>\n",
       "      <td>2725.0</td>\n",
       "      <td>1</td>\n",
       "      <td>53</td>\n",
       "      <td>...</td>\n",
       "      <td>0.875223</td>\n",
       "      <td>29</td>\n",
       "      <td>86.206599</td>\n",
       "      <td>high</td>\n",
       "      <td>high</td>\n",
       "      <td>Music**Music</td>\n",
       "      <td>13</td>\n",
       "      <td>13</td>\n",
       "      <td>58.0</td>\n",
       "      <td>7.824046</td>\n",
       "    </tr>\n",
       "    <tr>\n",
       "      <th>53754</th>\n",
       "      <td>61217</td>\n",
       "      <td>1311435156</td>\n",
       "      <td>ShredOn</td>\n",
       "      <td>Fashion</td>\n",
       "      <td>Fashion</td>\n",
       "      <td>USD</td>\n",
       "      <td>20000.0</td>\n",
       "      <td>1.0</td>\n",
       "      <td>0</td>\n",
       "      <td>1</td>\n",
       "      <td>...</td>\n",
       "      <td>0.532032</td>\n",
       "      <td>57</td>\n",
       "      <td>350.876577</td>\n",
       "      <td>low</td>\n",
       "      <td>mid</td>\n",
       "      <td>Fashion**Fashion</td>\n",
       "      <td>1</td>\n",
       "      <td>1</td>\n",
       "      <td>7.0</td>\n",
       "      <td>9.903488</td>\n",
       "    </tr>\n",
       "    <tr>\n",
       "      <th>35717</th>\n",
       "      <td>40732</td>\n",
       "      <td>1207227103</td>\n",
       "      <td>PLY: the Magazine for Handspinners</td>\n",
       "      <td>Periodicals</td>\n",
       "      <td>Publishing</td>\n",
       "      <td>USD</td>\n",
       "      <td>25000.0</td>\n",
       "      <td>34455.0</td>\n",
       "      <td>1</td>\n",
       "      <td>366</td>\n",
       "      <td>...</td>\n",
       "      <td>0.997204</td>\n",
       "      <td>44</td>\n",
       "      <td>568.180527</td>\n",
       "      <td>mid</td>\n",
       "      <td>mid_high</td>\n",
       "      <td>Publishing**Periodicals</td>\n",
       "      <td>5</td>\n",
       "      <td>5</td>\n",
       "      <td>34.0</td>\n",
       "      <td>10.126631</td>\n",
       "    </tr>\n",
       "    <tr>\n",
       "      <th>61724</th>\n",
       "      <td>70275</td>\n",
       "      <td>1357707052</td>\n",
       "      <td>All Natural ~ Gourmet Dog Treats</td>\n",
       "      <td>Food</td>\n",
       "      <td>Food</td>\n",
       "      <td>USD</td>\n",
       "      <td>1800.0</td>\n",
       "      <td>49.0</td>\n",
       "      <td>0</td>\n",
       "      <td>3</td>\n",
       "      <td>...</td>\n",
       "      <td>-0.999825</td>\n",
       "      <td>29</td>\n",
       "      <td>62.068751</td>\n",
       "      <td>low</td>\n",
       "      <td>mid</td>\n",
       "      <td>Food**Food</td>\n",
       "      <td>6</td>\n",
       "      <td>6</td>\n",
       "      <td>32.0</td>\n",
       "      <td>7.495542</td>\n",
       "    </tr>\n",
       "    <tr>\n",
       "      <th>76072</th>\n",
       "      <td>86730</td>\n",
       "      <td>1440999767</td>\n",
       "      <td>Rx4 Four Line Kite Controller</td>\n",
       "      <td>Product Design</td>\n",
       "      <td>Design</td>\n",
       "      <td>USD</td>\n",
       "      <td>399.0</td>\n",
       "      <td>833.0</td>\n",
       "      <td>1</td>\n",
       "      <td>4</td>\n",
       "      <td>...</td>\n",
       "      <td>0.955573</td>\n",
       "      <td>29</td>\n",
       "      <td>13.758573</td>\n",
       "      <td>high</td>\n",
       "      <td>mid_high</td>\n",
       "      <td>Design**Product Design</td>\n",
       "      <td>5</td>\n",
       "      <td>5</td>\n",
       "      <td>29.0</td>\n",
       "      <td>5.988961</td>\n",
       "    </tr>\n",
       "  </tbody>\n",
       "</table>\n",
       "<p>5 rows × 37 columns</p>\n",
       "</div>"
      ],
      "text/plain": [
       "       Unnamed: 0          ID  \\\n",
       "14794       16832  1085300802   \n",
       "53754       61217  1311435156   \n",
       "35717       40732  1207227103   \n",
       "61724       70275  1357707052   \n",
       "76072       86730  1440999767   \n",
       "\n",
       "                                                    name        category  \\\n",
       "14794  Pre-order my album, and help my vision come to...           Music   \n",
       "53754                                            ShredOn         Fashion   \n",
       "35717                 PLY: the Magazine for Handspinners     Periodicals   \n",
       "61724                   All Natural ~ Gourmet Dog Treats            Food   \n",
       "76072                      Rx4 Four Line Kite Controller  Product Design   \n",
       "\n",
       "      main_category currency     goal  pledged  state  backers  ...  \\\n",
       "14794         Music      USD   2500.0   2725.0      1       53  ...   \n",
       "53754       Fashion      USD  20000.0      1.0      0        1  ...   \n",
       "35717    Publishing      USD  25000.0  34455.0      1      366  ...   \n",
       "61724          Food      USD   1800.0     49.0      0        3  ...   \n",
       "76072        Design      USD    399.0    833.0      1        4  ...   \n",
       "\n",
       "      y_deadline  project_time  goal_per_day  main_category_score  \\\n",
       "14794   0.875223            29     86.206599                 high   \n",
       "53754   0.532032            57    350.876577                  low   \n",
       "35717   0.997204            44    568.180527                  mid   \n",
       "61724  -0.999825            29     62.068751                  low   \n",
       "76072   0.955573            29     13.758573                 high   \n",
       "\n",
       "       category_score                    class  n_words  word_count  name_len  \\\n",
       "14794            high             Music**Music       13          13      58.0   \n",
       "53754             mid         Fashion**Fashion        1           1       7.0   \n",
       "35717        mid_high  Publishing**Periodicals        5           5      34.0   \n",
       "61724             mid               Food**Food        6           6      32.0   \n",
       "76072        mid_high   Design**Product Design        5           5      29.0   \n",
       "\n",
       "        log_goal  \n",
       "14794   7.824046  \n",
       "53754   9.903488  \n",
       "35717  10.126631  \n",
       "61724   7.495542  \n",
       "76072   5.988961  \n",
       "\n",
       "[5 rows x 37 columns]"
      ]
     },
     "execution_count": 289,
     "metadata": {},
     "output_type": "execute_result"
    }
   ],
   "source": [
    "df.head()"
   ]
  },
  {
   "cell_type": "code",
   "execution_count": 290,
   "id": "1d89b82c-ff6f-4b03-95d2-2199d068dfe1",
   "metadata": {
    "tags": []
   },
   "outputs": [],
   "source": [
    "# y = df[['state']]\n",
    "# # x_cols = ['class', 'country', 'period', 'log_goal', 'launched_year', 'launched_month', 'launched_day', \n",
    "# #          'name_vowel_ratio', 'Goal_1000', 'Goal_10', 'Last_Year', 'name_len', 'name_number_of_word', \n",
    "# #           'mean_goal_in_category_last_month', 'mean_goal_in_category_last_year','mean_goal_Last_6_Month']\n",
    "# # x_cols = ['class', 'country', 'period', 'n_words', 'log_goal', 'launched_year', 'launched_month', 'launched_day', \n",
    "# #          'name_vowel_ratio', 'Goal_1000', 'Goal_500', 'Goal_10', 'median_goal_Last_Week']\n",
    "# x_cols = ['class', 'period', 'log_goal', 'name_vowel_ratio', 'name_len', 'country', \n",
    "#          'launched_day', 'launched_month', 'launched_year', 'Last_Year', 'Last_Month', 'Last_Week', \n",
    "#          'mean_goal_in_category_last_year']\n",
    "# x = df[x_cols]"
   ]
  },
  {
   "cell_type": "markdown",
   "id": "da89fd9e-cbae-464f-ab2c-10fea4c7fb72",
   "metadata": {},
   "source": [
    "## モデル学習（単体）"
   ]
  },
  {
   "cell_type": "code",
   "execution_count": 293,
   "id": "b58fce22-0dea-4f29-8d86-3faf96f8adc2",
   "metadata": {},
   "outputs": [
    {
     "data": {
      "text/plain": [
       "Index(['Unnamed: 0', 'ID', 'name', 'category', 'main_category', 'currency',\n",
       "       'goal', 'pledged', 'state', 'backers', 'country', 'usd pledged',\n",
       "       'usd_pledged_real', 'period', 'launched_year', 'launched_month',\n",
       "       'launched_day', 'launched_hour', 'is_launched_weak_year', 'dayfloat',\n",
       "       'monthfloat', 'x_launched', 'y_launched', 'deadline_hour',\n",
       "       'deadline_year', 'deadline_month', 'x_deadline', 'y_deadline',\n",
       "       'project_time', 'goal_per_day', 'main_category_score', 'category_score',\n",
       "       'class', 'n_words', 'word_count', 'name_len', 'log_goal'],\n",
       "      dtype='object')"
      ]
     },
     "execution_count": 293,
     "metadata": {},
     "output_type": "execute_result"
    }
   ],
   "source": [
    "df.columns"
   ]
  },
  {
   "cell_type": "code",
   "execution_count": 345,
   "id": "6eec2597-a985-4e7c-8894-ed0f5ac181d7",
   "metadata": {},
   "outputs": [],
   "source": [
    "y = df[['state']]\n",
    "x = df.drop('state', axis=1)\n",
    "\n",
    "# select features\n",
    "# prdict_feature = ['goal','name','main_category_score','category_score','project_time','goal_per_day','word_count']\n",
    "prdict_feature = ['class', 'name', 'log_goal', 'n_words', 'name_len', 'country', \n",
    "         'launched_day', 'launched_month', 'launched_year', 'goal_per_day', 'word_count',\n",
    "         'is_launched_weak_year', 'main_category_score','category_score', 'project_time']\n",
    "\n",
    "x = x[prdict_feature]\n",
    "\n"
   ]
  },
  {
   "cell_type": "code",
   "execution_count": 346,
   "id": "caa22ad2-5c5d-4aee-bb37-563ae46ca28b",
   "metadata": {},
   "outputs": [
    {
     "data": {
      "text/html": [
       "<div>\n",
       "<style scoped>\n",
       "    .dataframe tbody tr th:only-of-type {\n",
       "        vertical-align: middle;\n",
       "    }\n",
       "\n",
       "    .dataframe tbody tr th {\n",
       "        vertical-align: top;\n",
       "    }\n",
       "\n",
       "    .dataframe thead th {\n",
       "        text-align: right;\n",
       "    }\n",
       "</style>\n",
       "<table border=\"1\" class=\"dataframe\">\n",
       "  <thead>\n",
       "    <tr style=\"text-align: right;\">\n",
       "      <th></th>\n",
       "      <th>class</th>\n",
       "      <th>name</th>\n",
       "      <th>log_goal</th>\n",
       "      <th>n_words</th>\n",
       "      <th>name_len</th>\n",
       "      <th>country</th>\n",
       "      <th>launched_day</th>\n",
       "      <th>launched_month</th>\n",
       "      <th>launched_year</th>\n",
       "      <th>goal_per_day</th>\n",
       "      <th>word_count</th>\n",
       "      <th>is_launched_weak_year</th>\n",
       "      <th>main_category_score</th>\n",
       "      <th>category_score</th>\n",
       "      <th>project_time</th>\n",
       "    </tr>\n",
       "  </thead>\n",
       "  <tbody>\n",
       "    <tr>\n",
       "      <th>14794</th>\n",
       "      <td>Music**Music</td>\n",
       "      <td>Pre-order my album, and help my vision come to...</td>\n",
       "      <td>7.824046</td>\n",
       "      <td>13</td>\n",
       "      <td>58.0</td>\n",
       "      <td>US</td>\n",
       "      <td>1</td>\n",
       "      <td>11</td>\n",
       "      <td>2016</td>\n",
       "      <td>86.206599</td>\n",
       "      <td>13</td>\n",
       "      <td>False</td>\n",
       "      <td>high</td>\n",
       "      <td>high</td>\n",
       "      <td>29</td>\n",
       "    </tr>\n",
       "    <tr>\n",
       "      <th>53754</th>\n",
       "      <td>Fashion**Fashion</td>\n",
       "      <td>ShredOn</td>\n",
       "      <td>9.903488</td>\n",
       "      <td>1</td>\n",
       "      <td>7.0</td>\n",
       "      <td>US</td>\n",
       "      <td>26</td>\n",
       "      <td>1</td>\n",
       "      <td>2016</td>\n",
       "      <td>350.876577</td>\n",
       "      <td>1</td>\n",
       "      <td>False</td>\n",
       "      <td>low</td>\n",
       "      <td>mid</td>\n",
       "      <td>57</td>\n",
       "    </tr>\n",
       "  </tbody>\n",
       "</table>\n",
       "</div>"
      ],
      "text/plain": [
       "                  class                                               name  \\\n",
       "14794      Music**Music  Pre-order my album, and help my vision come to...   \n",
       "53754  Fashion**Fashion                                            ShredOn   \n",
       "\n",
       "       log_goal  n_words  name_len country  launched_day  launched_month  \\\n",
       "14794  7.824046       13      58.0      US             1              11   \n",
       "53754  9.903488        1       7.0      US            26               1   \n",
       "\n",
       "       launched_year  goal_per_day  word_count  is_launched_weak_year  \\\n",
       "14794           2016     86.206599          13                  False   \n",
       "53754           2016    350.876577           1                  False   \n",
       "\n",
       "      main_category_score category_score  project_time  \n",
       "14794                high           high            29  \n",
       "53754                 low            mid            57  "
      ]
     },
     "execution_count": 346,
     "metadata": {},
     "output_type": "execute_result"
    }
   ],
   "source": [
    "x.head(2)"
   ]
  },
  {
   "cell_type": "code",
   "execution_count": 347,
   "id": "a3d6da78-001c-494a-b90b-e472c296a85d",
   "metadata": {},
   "outputs": [],
   "source": [
    "from sklearn.model_selection import train_test_split\n",
    "\n",
    "# 訓練データとテストデータを8:2に分割\n",
    "# ※評価を揃えるため df 以外の引数は変更しないこと\n",
    "x_train, x_test, y_train, y_test = train_test_split(x,y,test_size=0.2, random_state=1234)"
   ]
  },
  {
   "cell_type": "code",
   "execution_count": 348,
   "id": "57a8954a-0b28-47e0-8056-7cbdcfc6e33b",
   "metadata": {},
   "outputs": [],
   "source": [
    "# https://www.kaggle.com/code/yairhadad1/kickstarter-predict-project-success-roc-0-78/notebook\n",
    "# 上記のノートブックを参考にしてる解法\n",
    "from sklearn.base import BaseEstimator, TransformerMixin\n",
    "class ItemSelector(BaseEstimator, TransformerMixin):\n",
    "    def __init__(self, key):\n",
    "        self.key = key\n",
    "\n",
    "    def fit(self, x, y=None):\n",
    "        return self\n",
    "\n",
    "    def transform(self, data_dict):\n",
    "        return data_dict[self.key]"
   ]
  },
  {
   "cell_type": "code",
   "execution_count": 349,
   "id": "71dd407b-6e0b-4dbc-bd45-2f33ef91b1d0",
   "metadata": {},
   "outputs": [],
   "source": [
    "# https://kakakakakku.hatenablog.com/entry/2021/11/29/084330\n",
    "# Pipelineを使うことで、前処理やML学習などを１つのオブジェクトとして扱え、可読性高く実装できる。\n",
    "from sklearn.pipeline import Pipeline\n",
    "\n",
    "# split\n",
    "x_train, x_valid, y_train, y_valid = train_test_split(x_train, y_train)\n",
    "\n",
    "# name\n",
    "from sklearn.feature_extraction.text import CountVectorizer  \n",
    "name_pipeline = Pipeline([('name_column', ItemSelector(key = 'name')),\n",
    "                          ('vectorizer', CountVectorizer(max_features=100))])\n",
    "\n",
    "# dummeys\n",
    "from sklearn.preprocessing import OneHotEncoder\n",
    "one_hot_pipeline = Pipeline([('hot_columns', ItemSelector(key = ['main_category_score','category_score',\n",
    "                                                                 'country', 'is_launched_weak_year'])),\n",
    "                             ('oneHowEncoder', OneHotEncoder(handle_unknown='ignore',sparse=True))])\n",
    "\n",
    "# min max scaler\n",
    "from sklearn.preprocessing import MinMaxScaler\n",
    "min_max_pipeline = Pipeline([('min_max_columns', ItemSelector(key = ['project_time','word_count',\n",
    "                                                                     'goal_per_day', 'n_words', 'name_len'])),\n",
    "                             ('minMaxScaler', MinMaxScaler())])\n",
    "\n",
    "# Binning（連続的な特徴量を離散化する）\n",
    "from sklearn.preprocessing import KBinsDiscretizer\n",
    "k_bins_pipeline = Pipeline([('goal', ItemSelector(key = ['log_goal', 'launched_day', 'launched_month', \n",
    "                                                         'launched_year'])),\n",
    "                             ('k_bins', KBinsDiscretizer(n_bins = 4,encode = 'onehot',strategy = 'quantile'))])\n",
    "\n",
    "# FeatureUnion\n",
    "from sklearn.pipeline import FeatureUnion\n",
    "feature_pipeline = FeatureUnion([('one_hot',one_hot_pipeline),\n",
    "                                 ('name',name_pipeline),\n",
    "                                 ('min_max',min_max_pipeline),\n",
    "                                 ('k_bins',k_bins_pipeline)])\n",
    "\n",
    "# n_words/name_len/\n",
    "# launched_day/\n",
    "# prdict_feature = ['class', 'name', 'log_goal', 'n_words', 'name_len', 'country', \n",
    "#          'launched_day', 'launched_month', 'launched_year', 'goal_per_day', 'word_count',\n",
    "#          'is_launched_weak_year', 'main_category_score','category_score', 'project_time']\n",
    "\n",
    "feature_pipeline.fit(x_train)\n",
    "\n",
    "x_train = feature_pipeline.transform(x_train)\n",
    "x_valid = feature_pipeline.transform(x_valid)\n"
   ]
  },
  {
   "cell_type": "code",
   "execution_count": 350,
   "id": "0b56fd3a-741f-4799-b277-418db4049765",
   "metadata": {},
   "outputs": [
    {
     "name": "stdout",
     "output_type": "stream",
     "text": [
      "<class 'scipy.sparse._csr.csr_matrix'>\n",
      "[1. 1. 1. ... 1. 1. 1.]\n"
     ]
    }
   ],
   "source": [
    "# https://note.nkmk.me/python-scipy-sparse-matrix-csr-csc-coo-lil/\n",
    "print(type(x_train))\n",
    "print(x_train.data)"
   ]
  },
  {
   "cell_type": "code",
   "execution_count": 361,
   "id": "8dd45c38-834c-4600-bc69-eb16b3ff22af",
   "metadata": {},
   "outputs": [
    {
     "data": {
      "image/png": "[encoded data removed]",
      "text/plain": [
       "<Figure size 432x288 with 1 Axes>"
      ]
     },
     "metadata": {
      "needs_background": "light"
     },
     "output_type": "display_data"
    },
    {
     "name": "stdout",
     "output_type": "stream",
     "text": [
      "CPU times: user 4.48 s, sys: 113 ms, total: 4.59 s\n",
      "Wall time: 4.4 s\n"
     ]
    }
   ],
   "source": [
    "%%time\n",
    "scoreTest_DT = []\n",
    "scoreTrain_DT = []\n",
    "from sklearn.tree import DecisionTreeClassifier\n",
    "for number in range(1,30):\n",
    "    # print(number)\n",
    "    clf = DecisionTreeClassifier(max_depth = number, class_weight = \"balanced\")\n",
    "    clf.fit(x_train,y_train)\n",
    "    y_score_train = clf.predict_proba(x_train)[:,1].round(0)\n",
    "    y_score_valid = clf.predict_proba(x_valid)[:,1].round(0)\n",
    "\n",
    "    # scoreTrain_DT.append(round(roc_auc_score(y_train, y_score_train) , 3))\n",
    "    # scoreTest_DT.append(round(roc_auc_score(y_valid, y_score_valid) , 3))\n",
    "    scoreTrain_DT.append(round(accuracy_score(y_train, y_score_train) , 3))\n",
    "    scoreTest_DT.append(round(accuracy_score(y_valid, y_score_valid) , 3))\n",
    "    \n",
    "pd.DataFrame({'test roc score':scoreTest_DT,'train roc score':scoreTrain_DT}).plot(grid = True)\n",
    "plt.xlabel('Max depth')\n",
    "plt.ylabel('Score')\n",
    "plt.title(\"DecisionTreeClassifier\")\n",
    "plt.show()"
   ]
  },
  {
   "cell_type": "code",
   "execution_count": 359,
   "id": "1050bf48-9b9a-4c42-a145-3a5882c59d31",
   "metadata": {},
   "outputs": [
    {
     "data": {
      "text/plain": [
       "0"
      ]
     },
     "execution_count": 359,
     "metadata": {},
     "output_type": "execute_result"
    }
   ],
   "source": [
    "np.array(scoreTest_DT).argmax()"
   ]
  },
  {
   "cell_type": "code",
   "execution_count": 362,
   "id": "e699cb26-31a4-4089-bba5-a3f77bfbb8fd",
   "metadata": {},
   "outputs": [
    {
     "name": "stdout",
     "output_type": "stream",
     "text": [
      "DT roc_train: 0.633\n",
      "DT roc_test: 0.654\n"
     ]
    }
   ],
   "source": [
    "# number=1のときmax_depth=1のはずなので、+1しておく\n",
    "clf_DT = DecisionTreeClassifier(max_depth = np.array(scoreTest_DT).argmax()+1, class_weight = \"balanced\")\n",
    "clf_DT.fit(x_train,y_train)\n",
    "\n",
    "print(\"DT roc_train:\",round(accuracy_score(y_train, clf_DT.predict_proba(x_train)[:,1].round(0)) , 3))\n",
    "print(\"DT roc_test:\",round(accuracy_score(y_valid, clf_DT.predict_proba(x_valid)[:,1].round(0)) , 3))\n",
    "\n",
    "# DT_cross_score = cross_val_score(clf_DT, X_train, y_train, cv=5, scoring='roc_auc').mean()\n",
    "# DT_roc = round(roc_auc_score(y_valid, clf_DT.predict_proba(x_valid)[:,1]) , 3)\n",
    "DT_roc = round(accuracy_score(y_valid, clf_DT.predict_proba(x_valid)[:,1].round(0)) , 3)\n",
    "# acc_train = accuracy_score(y_true=y_test, y_pred=y_pred)"
   ]
  },
  {
   "cell_type": "code",
   "execution_count": null,
   "id": "fa7057a7-44f1-4b9e-bf32-c1a407e5ae4b",
   "metadata": {},
   "outputs": [],
   "source": [
    "%%time\n",
    "scoreTest_RF = []\n",
    "scoreTrain_RF = []\n",
    "from sklearn.ensemble import RandomForestClassifier\n",
    "for number in range(1,30):\n",
    "    clf = RandomForestClassifier(max_depth = number,n_estimators = 100, class_weight = \"balanced\")\n",
    "    clf.fit(x_train,y_train)\n",
    "    y_score_train = clf.predict_proba(x_train)[:,1]\n",
    "    y_score_valid = clf.predict_proba(x_valid)[:,1]\n",
    "\n",
    "    scoreTrain_RF.append(round(accuracy_score(y_train, y_score_train.round(0)) , 3))\n",
    "    scoreTest_RF.append(round(accuracy_score(y_valid, y_score_valid.round(0)) , 3))\n",
    "    \n",
    "pd.DataFrame({'test roc score':scoreTest_RF,'train roc score':scoreTrain_RF}).plot(grid = True)\n",
    "plt.xlabel('Max depth')\n",
    "plt.ylabel('Score')\n",
    "plt.title(\"RandomForestClassifier\")\n",
    "plt.show()\n",
    "# acc_train = accuracy_score(y_true=y_test, y_pred=y_pred)"
   ]
  },
  {
   "cell_type": "code",
   "execution_count": null,
   "id": "5217ed8c-d8f1-4370-a730-ef0d6638b39e",
   "metadata": {},
   "outputs": [],
   "source": [
    "cls_RF = RandomForestClassifier(max_depth = np.array(scoreTest_RF).argmax(),n_estimators = 100, class_weight = \"balanced\")\n",
    "cls_RF.fit(x_train,y_train)\n",
    "\n",
    "print(\"RF roc_train:\",round(accuracy_score(y_train, cls_RF.predict_proba(x_train)[:,1].round(0)) , 3))\n",
    "print(\"RF roc_test:\",round(accuracy_score(y_valid, cls_RF.predict_proba(x_valid)[:,1].round(0)) , 3))\n",
    "\n",
    "# RF_cross_score = cross_val_score(cls_RF, X_train, y_train, cv=5, scoring='roc_auc').mean()\n",
    "RF_roc = round(accuracy_score(y_valid, cls_RF.predict_proba(x_valid)[:,1].round(0)) , 3)\n"
   ]
  },
  {
   "cell_type": "code",
   "execution_count": null,
   "id": "3fe14e83-f119-4f24-8b11-253b09fc3ea8",
   "metadata": {},
   "outputs": [],
   "source": [
    "%%time\n",
    "scoreTest = []\n",
    "scoreTrain = []\n",
    "from sklearn.neighbors import KNeighborsClassifier\n",
    "knnRange = [50,100,200,300,350]\n",
    "for number in knnRange:\n",
    "    clf = KNeighborsClassifier(n_neighbors = number)\n",
    "    clf.fit(x_train,y_train)\n",
    "    y_score_train = clf.predict_proba(x_train)[:,1]\n",
    "    y_score_valid = clf.predict_proba(x_valid)[:,1]\n",
    "\n",
    "    scoreTrain.append(round(roc_auc_score(y_train, y_score_train) , 3))\n",
    "    scoreTest.append(round(roc_auc_score(y_valid, y_score_valid) , 3))\n",
    "    \n",
    "pd.DataFrame({'test roc score':scoreTest,'train roc score':scoreTrain}).plot(grid = True)\n",
    "plt.xlabel('Max depth')\n",
    "plt.ylabel('Score')\n",
    "plt.title(\"KNeighborsClassifier\")\n",
    "plt.show()\n"
   ]
  },
  {
   "cell_type": "code",
   "execution_count": null,
   "id": "5429b39d-2f5d-4569-a852-af81537eacf0",
   "metadata": {},
   "outputs": [],
   "source": [
    "# f1=0.4\n",
    "# f2=0.8\n",
    "\n",
    "# print(round(f1,0))\n",
    "# print(round(f2,0))\n"
   ]
  },
  {
   "cell_type": "code",
   "execution_count": null,
   "id": "7005a30e-c92f-4682-bf50-1d7a4c81ddcc",
   "metadata": {},
   "outputs": [],
   "source": [
    "clf_KNN = KNeighborsClassifier(n_neighbors = knnRange[np.array(scoreTest).argmax()])\n",
    "# clf_KNN = KNeighborsClassifier(n_neighbors = 50)\n",
    "clf_KNN.fit(x_train,y_train)\n",
    "\n",
    "print(\"KNN roc_train:\",round(accuracy_score(y_train, clf_KNN.predict_proba(x_train)[:,1].round(0)) , 3))\n",
    "print(\"KNN roc_test:\",round(accuracy_score(y_valid, clf_KNN.predict_proba(x_valid)[:,1].round(0)) , 3))\n",
    "\n",
    "# KNN_cross_score = cross_val_score(clf_KNN, X_train, y_train, cv=5, scoring='roc_auc').mean()\n",
    "KNN_roc = round(accuracy_score(y_valid, clf_KNN.predict_proba(x_valid)[:,1].round(0)) , 3)\n"
   ]
  },
  {
   "cell_type": "code",
   "execution_count": null,
   "id": "16023975-8dba-4412-9798-1fcb73d63b14",
   "metadata": {},
   "outputs": [],
   "source": [
    "%%time\n",
    "from sklearn.naive_bayes import GaussianNB\n",
    "clf_NB = GaussianNB()\n",
    "clf_NB.fit(x_train.todense(),y_train)\n",
    "y_score_train = clf_NB.predict_proba(x_train.todense())[:,1]\n",
    "y_score_valid = clf_NB.predict_proba(x_valid.todense())[:,1]\n",
    "\n",
    "print(\"NB roc_train:\",round(accuracy_score(y_train, y_score_train.round(0)) , 3))\n",
    "print(\"NB roc_test:\",round(accuracy_score(y_valid, y_score_valid.round(0)) , 3))\n",
    "\n",
    "# NB_cross_score = cross_val_score(clf_NB, X_train.todense(), y_train, cv=5, scoring='roc_auc').mean()\n",
    "NB_roc = round(accuracy_score(y_valid, y_score_valid.round(0)) , 3)"
   ]
  },
  {
   "cell_type": "code",
   "execution_count": null,
   "id": "af2d90f0-3751-448e-b1c2-cb650411946b",
   "metadata": {},
   "outputs": [],
   "source": [
    "%%time\n",
    "from sklearn.linear_model import LogisticRegression\n",
    "scoreTest_LR = []\n",
    "scoreTrain_LR = []\n",
    "C_range = [1,2,3,4,5,6,7,8]\n",
    "for number in C_range:\n",
    "    clf = LogisticRegression(C = number, class_weight = \"balanced\", penalty = 'l2')\n",
    "    clf.fit(x_train,y_train)\n",
    "    y_score_train = clf.predict(x_train)\n",
    "    y_score_valid = clf.predict(x_valid)\n",
    "    scoreTrain_LR.append(round(roc_auc_score(y_train, y_score_train) , 3))\n",
    "    scoreTest_LR.append(round(roc_auc_score(y_valid, y_score_valid) , 3))\n",
    "     \n",
    "pd.DataFrame({'test roc score':scoreTest_LR,'train roc score':scoreTrain_LR}).plot(grid = True)\n",
    "plt.xlabel('C')\n",
    "plt.ylabel('Score')\n",
    "plt.title(\"LogisticRegression\")\n",
    "plt.show()"
   ]
  },
  {
   "cell_type": "code",
   "execution_count": 353,
   "id": "552f3e97-8b9e-4f22-bd7b-f41e17c45e4d",
   "metadata": {},
   "outputs": [
    {
     "name": "stdout",
     "output_type": "stream",
     "text": [
      "LR roc_train: 0.992\n",
      "LR roc_test: 0.631\n"
     ]
    }
   ],
   "source": [
    "print(\"LR roc_train:\",round(accuracy_score(y_train, clf.predict(x_train).round(0)) , 3))\n",
    "print(\"LR roc_test:\",round(accuracy_score(y_valid, clf.predict(x_valid).round(0)) , 3))\n",
    "\n",
    "clf_LR = LogisticRegression(C = C_range[np.array(scoreTest_LR).argmax()], class_weight = \"balanced\")\n",
    "clf_LR.fit(x_train,y_train)\n",
    "\n",
    "# LR_cross_score = cross_val_score(clf_LR, X_train, y_train, cv=5, scoring='roc_auc').mean()\n",
    "LR_roc = round(accuracy_score(y_valid, clf_LR.predict(x_valid).round(0)) , 3)\n"
   ]
  },
  {
   "cell_type": "code",
   "execution_count": 354,
   "id": "1533fa6d-9498-44ea-ae14-9a7b948bf5d1",
   "metadata": {},
   "outputs": [
    {
     "data": {
      "image/png": "[encoded data removed]",
      "text/plain": [
       "<Figure size 432x288 with 1 Axes>"
      ]
     },
     "metadata": {
      "needs_background": "light"
     },
     "output_type": "display_data"
    },
    {
     "name": "stdout",
     "output_type": "stream",
     "text": [
      "CPU times: user 9.81 s, sys: 212 ms, total: 10 s\n",
      "Wall time: 1.69 s\n"
     ]
    }
   ],
   "source": [
    "%%time\n",
    "from lightgbm import LGBMClassifier\n",
    "scoreTrain_LGBMC = []\n",
    "scoreTest_LGBMC = []\n",
    "n_estimators = [50, 100,400,800,1000]\n",
    "for number in n_estimators:\n",
    "    clf = LGBMClassifier(\n",
    "        n_estimators= number,\n",
    "        num_leaves=15,\n",
    "        colsample_bytree=.8,\n",
    "        subsample=.8,\n",
    "        max_depth=7,\n",
    "        reg_alpha=.1,\n",
    "        reg_lambda=.1,\n",
    "        min_split_gain=.01\n",
    "    )\n",
    "    clf.fit(x_train,y_train)\n",
    "    # y_score_train = clf.predict_proba(x_train)[:,1]\n",
    "    # y_score_valid = clf.predict_proba(x_valid)[:,1]\n",
    "    y_score_train = clf.predict(x_train)\n",
    "    y_score_valid = clf.predict(x_valid)\n",
    "    scoreTrain_LGBMC.append(round(accuracy_score(y_train, y_score_train) , 3))\n",
    "    scoreTest_LGBMC.append(round(accuracy_score(y_valid, y_score_valid) , 3))\n",
    "     \n",
    "pd.DataFrame({'test roc score':scoreTest_LGBMC,'train roc score':scoreTrain_LGBMC}).plot(grid = True)\n",
    "plt.xlabel('n_estimators')\n",
    "plt.ylabel('Score')\n",
    "plt.title(\"LGBMClassifier\")\n",
    "plt.show()"
   ]
  },
  {
   "cell_type": "code",
   "execution_count": 355,
   "id": "15482dfe-167f-4d7e-89b0-f3d1424b94e5",
   "metadata": {},
   "outputs": [
    {
     "name": "stdout",
     "output_type": "stream",
     "text": [
      "LGBM roc_train: 0.753\n",
      "LGBM roc_test: 0.692\n"
     ]
    }
   ],
   "source": [
    "clf_lgbm = LGBMClassifier(\n",
    "        n_estimators= n_estimators[np.array(scoreTest_LGBMC).argmax()],\n",
    "        num_leaves=15,\n",
    "        colsample_bytree=.8,\n",
    "        subsample=.8,\n",
    "        max_depth=7,\n",
    "        reg_alpha=.1,\n",
    "        reg_lambda=.1,\n",
    "        min_split_gain=.01\n",
    "    )\n",
    "clf_lgbm.fit(x_train, y_train)\n",
    "\n",
    "# print(\"LGBM roc_train:\",round(roc_auc_score(y_train, clf_lgbm.predict_proba(X_train)[:,1]) , 3))\n",
    "# print(\"LGBM roc_test:\",round(roc_auc_score(y_test, clf_lgbm.predict_proba(X_test)[:,1]) , 3))\n",
    "print(\"LGBM roc_train:\",round(accuracy_score(y_train, clf_lgbm.predict(x_train).round(0)) , 3))\n",
    "print(\"LGBM roc_test:\",round(accuracy_score(y_valid, clf_lgbm.predict(x_valid).round(0)) , 3))\n",
    "\n",
    "LGBM_roc = round(roc_auc_score(y_valid, clf_lgbm.predict(x_valid).round(0)) , 3)"
   ]
  },
  {
   "cell_type": "code",
   "execution_count": 356,
   "id": "af11ae41-11c7-49d2-ad75-f86986f752b4",
   "metadata": {},
   "outputs": [
    {
     "name": "stdout",
     "output_type": "stream",
     "text": [
      "MLP roc_train: 0.701\n",
      "MLP roc_test: 0.704\n",
      "CPU times: user 14.5 s, sys: 16.7 s, total: 31.2 s\n",
      "Wall time: 5.22 s\n"
     ]
    }
   ],
   "source": [
    "%%time\n",
    "from sklearn.neural_network import MLPClassifier\n",
    "\n",
    "clf_MLP = MLPClassifier(hidden_layer_sizes=(50,50), max_iter=100,tol=0.0001, alpha=0.0001,\n",
    "                     solver='sgd', verbose= False)\n",
    "clf_MLP.fit(x_train, y_train)\n",
    "\n",
    "print(\"MLP roc_train:\",round(roc_auc_score(y_train, clf_MLP.predict_proba(x_train)[:,1]) , 3))\n",
    "print(\"MLP roc_test:\",round(roc_auc_score(y_valid, clf_MLP.predict_proba(x_valid)[:,1]) , 3))\n",
    "\n",
    "# MLP_cross_score = cross_val_score(clf_MLP, X_train, y_train, cv=5, scoring='roc_auc').mean()\n",
    "MLP_roc = round(roc_auc_score(y_valid, clf_MLP.predict_proba(x_valid)[:,1]) , 3)\n"
   ]
  },
  {
   "cell_type": "code",
   "execution_count": null,
   "id": "9cc8c8ec-905e-4e59-9132-87ee5ba54309",
   "metadata": {},
   "outputs": [],
   "source": []
  },
  {
   "cell_type": "code",
   "execution_count": 357,
   "id": "061eb858-7383-4c71-815c-85635c5bfac5",
   "metadata": {},
   "outputs": [
    {
     "data": {
      "image/png": "[encoded data removed]",
      "text/plain": [
       "<Figure size 720x720 with 1 Axes>"
      ]
     },
     "metadata": {
      "needs_background": "light"
     },
     "output_type": "display_data"
    },
    {
     "data": {
      "text/html": [
       "<div>\n",
       "<style scoped>\n",
       "    .dataframe tbody tr th:only-of-type {\n",
       "        vertical-align: middle;\n",
       "    }\n",
       "\n",
       "    .dataframe tbody tr th {\n",
       "        vertical-align: top;\n",
       "    }\n",
       "\n",
       "    .dataframe thead th {\n",
       "        text-align: right;\n",
       "    }\n",
       "</style>\n",
       "<table border=\"1\" class=\"dataframe\">\n",
       "  <thead>\n",
       "    <tr style=\"text-align: right;\">\n",
       "      <th></th>\n",
       "      <th>Roc</th>\n",
       "    </tr>\n",
       "  </thead>\n",
       "  <tbody>\n",
       "    <tr>\n",
       "      <th>DecisionTreeClassifier</th>\n",
       "      <td>0.647</td>\n",
       "    </tr>\n",
       "    <tr>\n",
       "      <th>RandomForestClassifier</th>\n",
       "      <td>0.685</td>\n",
       "    </tr>\n",
       "    <tr>\n",
       "      <th>KNeighborsClassifier</th>\n",
       "      <td>0.668</td>\n",
       "    </tr>\n",
       "    <tr>\n",
       "      <th>GaussianNB</th>\n",
       "      <td>0.523</td>\n",
       "    </tr>\n",
       "    <tr>\n",
       "      <th>LogisticRegression</th>\n",
       "      <td>0.664</td>\n",
       "    </tr>\n",
       "    <tr>\n",
       "      <th>MLPClassifier</th>\n",
       "      <td>0.704</td>\n",
       "    </tr>\n",
       "    <tr>\n",
       "      <th>LGBMClassifier</th>\n",
       "      <td>0.668</td>\n",
       "    </tr>\n",
       "  </tbody>\n",
       "</table>\n",
       "</div>"
      ],
      "text/plain": [
       "                          Roc\n",
       "DecisionTreeClassifier  0.647\n",
       "RandomForestClassifier  0.685\n",
       "KNeighborsClassifier    0.668\n",
       "GaussianNB              0.523\n",
       "LogisticRegression      0.664\n",
       "MLPClassifier           0.704\n",
       "LGBMClassifier          0.668"
      ]
     },
     "execution_count": 357,
     "metadata": {},
     "output_type": "execute_result"
    }
   ],
   "source": [
    "indexs = [\"DecisionTreeClassifier\",\"RandomForestClassifier\",\n",
    "          \"KNeighborsClassifier\",\"GaussianNB\",\"LogisticRegression\",\n",
    "          # \"VotingClassifier\",\"BaggingClassifierLR\",\n",
    "          \"MLPClassifier\",\"LGBMClassifier\"]\n",
    "models = pd.DataFrame([], index = indexs)\n",
    "models[\"Roc\"] = [DT_roc,RF_roc, KNN_roc,NB_roc,LR_roc,MLP_roc,LGBM_roc]#,VOT_roc,LR_BAG_roc\n",
    "models.plot.barh(figsize=(10,10 ), xlim = (0.6,0.8),colormap='YlOrRd_r')\n",
    "plt.axvline(models[\"Roc\"].max(),color = 'g',linestyle='--')\n",
    "plt.show()\n",
    "\n",
    "models"
   ]
  },
  {
   "cell_type": "code",
   "execution_count": null,
   "id": "501180ea-2f37-495c-8845-e5678308a9bd",
   "metadata": {},
   "outputs": [],
   "source": []
  },
  {
   "cell_type": "code",
   "execution_count": null,
   "id": "97f34659-f681-4bf8-bc71-c0b4ab0bb306",
   "metadata": {},
   "outputs": [],
   "source": []
  },
  {
   "cell_type": "code",
   "execution_count": null,
   "id": "eff14ad9-4fed-40e4-8adc-02eee0f15064",
   "metadata": {},
   "outputs": [],
   "source": []
  },
  {
   "cell_type": "code",
   "execution_count": null,
   "id": "84e7c593-40fe-494c-85f0-8c003722e9e2",
   "metadata": {},
   "outputs": [],
   "source": []
  },
  {
   "cell_type": "code",
   "execution_count": null,
   "id": "450ae795-23d7-4ec5-9501-fcd97d34eb92",
   "metadata": {},
   "outputs": [],
   "source": []
  },
  {
   "cell_type": "code",
   "execution_count": null,
   "id": "38cbf56f-93da-42e4-ad53-68583e32c283",
   "metadata": {},
   "outputs": [],
   "source": []
  },
  {
   "cell_type": "code",
   "execution_count": 103,
   "id": "40af392d-f41a-43e4-8ffa-2047358c5a46",
   "metadata": {},
   "outputs": [],
   "source": [
    "import lightgbm as lgb\n",
    "from sklearn.metrics import log_loss, roc_auc_score, accuracy_score\n",
    "\n",
    "# パラメータ\n",
    "RANDOM_STATE = 10\n",
    "num_round = 1000\n",
    "TEST_SIZE = 0.2\n",
    "\n",
    "# 学習データと評価データを作成\n",
    "x_train, x_valid, y_train, y_valid = train_test_split(x_train,y_train,test_size=TEST_SIZE,random_state=RANDOM_STATE)\n",
    "\n",
    "lgb_train = lgb.Dataset(x_train, y_train)\n",
    "lgb_eval = lgb.Dataset(x_valid, y_valid, reference=lgb_train)"
   ]
  },
  {
   "cell_type": "code",
   "execution_count": 104,
   "id": "1610685c-b839-4369-9d04-9cc60e02d602",
   "metadata": {},
   "outputs": [],
   "source": [
    "# LightGBMのパラメータ設定\n",
    "params = {\n",
    "    'boosting_type': 'gbdt',\n",
    "    'objective': 'binary',\n",
    "    'metric': 'binary_logloss',\n",
    "    'num_leaves': 50,\n",
    "    'verbose': 0\n",
    "}"
   ]
  },
  {
   "cell_type": "code",
   "execution_count": 105,
   "id": "a3460295-610e-4cd4-a0cf-8baa7d0dec4d",
   "metadata": {},
   "outputs": [
    {
     "name": "stdout",
     "output_type": "stream",
     "text": [
      "[LightGBM] [Warning] Auto-choosing row-wise multi-threading, the overhead of testing was 0.006003 seconds.\n",
      "You can set `force_row_wise=true` to remove the overhead.\n",
      "And if memory is not enough, you can set `force_col_wise=true`.\n",
      "訓練データの正答率: 69.541 %\n"
     ]
    }
   ],
   "source": [
    "# 訓練データに対する予測\n",
    "# LightGBM学習\n",
    "model = lgb.train(params, lgb_train, num_round, \n",
    "                  valid_names=['train', 'valid'], valid_sets=lgb_eval,\n",
    "                  early_stopping_rounds=20, verbose_eval=False)\n",
    "\n",
    "# LightGBM推論\n",
    "y_pred = model.predict(x_valid, num_iteration=model.best_iteration)\n",
    "\n",
    "# 評価\n",
    "y_pred = y_pred.round(0)\n",
    "# acc_train = accuracy_score(y_test, y_pred)\n",
    "acc_train = accuracy_score(y_true=y_valid, y_pred=y_pred)\n",
    "\n",
    "print(f\"訓練データの正答率: {100 * acc_train:.3f} %\")    "
   ]
  },
  {
   "cell_type": "code",
   "execution_count": 106,
   "id": "91e7f593-5fc0-4e82-b06e-1354d6fb3e87",
   "metadata": {},
   "outputs": [
    {
     "name": "stdout",
     "output_type": "stream",
     "text": [
      "テストデータの正答率: 69.665 %\n"
     ]
    }
   ],
   "source": [
    "# テストデータに対する予測\n",
    "# LightGBM推論\n",
    "y_pred = model.predict(x_test, num_iteration=model.best_iteration)\n",
    "y_pred = y_pred.round(0)\n",
    "\n",
    "# 評価\n",
    "acc_train = accuracy_score(y_true=y_test, y_pred=y_pred)\n",
    "print(f\"テストデータの正答率: {100 * acc_train:.3f} %\")  \n",
    "\n",
    "# print(y_test)\n",
    "# print(y_pred)"
   ]
  },
  {
   "cell_type": "code",
   "execution_count": 107,
   "id": "3a7548b4-5e3f-421d-9c05-fcc964453055",
   "metadata": {},
   "outputs": [
    {
     "data": {
      "text/html": [
       "<div>\n",
       "<style scoped>\n",
       "    .dataframe tbody tr th:only-of-type {\n",
       "        vertical-align: middle;\n",
       "    }\n",
       "\n",
       "    .dataframe tbody tr th {\n",
       "        vertical-align: top;\n",
       "    }\n",
       "\n",
       "    .dataframe thead th {\n",
       "        text-align: right;\n",
       "    }\n",
       "</style>\n",
       "<table border=\"1\" class=\"dataframe\">\n",
       "  <thead>\n",
       "    <tr style=\"text-align: right;\">\n",
       "      <th></th>\n",
       "      <th>importance</th>\n",
       "    </tr>\n",
       "  </thead>\n",
       "  <tbody>\n",
       "    <tr>\n",
       "      <th>class</th>\n",
       "      <td>2557</td>\n",
       "    </tr>\n",
       "    <tr>\n",
       "      <th>log_goal</th>\n",
       "      <td>1846</td>\n",
       "    </tr>\n",
       "    <tr>\n",
       "      <th>name_vowel_ratio</th>\n",
       "      <td>1357</td>\n",
       "    </tr>\n",
       "    <tr>\n",
       "      <th>name_len</th>\n",
       "      <td>1263</td>\n",
       "    </tr>\n",
       "    <tr>\n",
       "      <th>period</th>\n",
       "      <td>1245</td>\n",
       "    </tr>\n",
       "    <tr>\n",
       "      <th>launched_day</th>\n",
       "      <td>933</td>\n",
       "    </tr>\n",
       "    <tr>\n",
       "      <th>Last_Year</th>\n",
       "      <td>786</td>\n",
       "    </tr>\n",
       "    <tr>\n",
       "      <th>mean_goal_in_category_last_year</th>\n",
       "      <td>766</td>\n",
       "    </tr>\n",
       "    <tr>\n",
       "      <th>launched_month</th>\n",
       "      <td>668</td>\n",
       "    </tr>\n",
       "    <tr>\n",
       "      <th>launched_year</th>\n",
       "      <td>653</td>\n",
       "    </tr>\n",
       "    <tr>\n",
       "      <th>country</th>\n",
       "      <td>468</td>\n",
       "    </tr>\n",
       "    <tr>\n",
       "      <th>Last_Month</th>\n",
       "      <td>220</td>\n",
       "    </tr>\n",
       "    <tr>\n",
       "      <th>Last_Week</th>\n",
       "      <td>125</td>\n",
       "    </tr>\n",
       "  </tbody>\n",
       "</table>\n",
       "</div>"
      ],
      "text/plain": [
       "                                 importance\n",
       "class                                  2557\n",
       "log_goal                               1846\n",
       "name_vowel_ratio                       1357\n",
       "name_len                               1263\n",
       "period                                 1245\n",
       "launched_day                            933\n",
       "Last_Year                               786\n",
       "mean_goal_in_category_last_year         766\n",
       "launched_month                          668\n",
       "launched_year                           653\n",
       "country                                 468\n",
       "Last_Month                              220\n",
       "Last_Week                               125"
      ]
     },
     "metadata": {},
     "output_type": "display_data"
    }
   ],
   "source": [
    "# feature importance for Light GBM\n",
    "predictor_columns = x_train.columns\n",
    "importance = pd.DataFrame(model.feature_importance(), index=predictor_columns, columns=['importance'])\n",
    "# display(importance)\n",
    "display(importance.sort_values('importance', ascending = False))\n",
    "\n",
    "# predictor_columns = x_train.columns\n",
    "# feat_import = list(zip(predictor_columns, list(model.feature_importances())))\n",
    "# ns_df = pd.DataFrame(data = feat_import, columns=['Feat_names', 'Importance'])\n",
    "# ns_df_sorted = ns_df.sort_values(['Importance', 'Feat_names'], ascending = [False, True])\n",
    "\n",
    "# ns_df_sorted"
   ]
  },
  {
   "cell_type": "markdown",
   "id": "5a623341-d3ab-4148-a894-121b765cfd51",
   "metadata": {
    "tags": []
   },
   "source": [
    "## 交差検証"
   ]
  },
  {
   "cell_type": "code",
   "execution_count": 108,
   "id": "555b87a7-3f9e-462c-bde2-b684c33aa862",
   "metadata": {},
   "outputs": [],
   "source": [
    "# !pip install lightgbm"
   ]
  },
  {
   "cell_type": "code",
   "execution_count": 109,
   "id": "4b3734a6-7019-41e8-a8ae-5b2533ea5651",
   "metadata": {},
   "outputs": [],
   "source": [
    "from sklearn.model_selection import StratifiedKFold\n",
    "# from sklearn.model_selection import KFold\n",
    "n_split = 5 # グループ数を設定（今回は5分割）\n",
    "seed = 1234\n",
    "# cross_valid_mae = 0\n",
    "# split_num = 1\n",
    "kf = StratifiedKFold(n_splits=n_split, shuffle=True, random_state=seed)\n",
    "# kf = KFold(n_splits=n_split, shuffle=True, random_state=seed)"
   ]
  },
  {
   "cell_type": "code",
   "execution_count": 110,
   "id": "8f41b00f-f53a-46ae-85e2-de739dd9b6d2",
   "metadata": {},
   "outputs": [
    {
     "name": "stdout",
     "output_type": "stream",
     "text": [
      "[LightGBM] [Warning] Auto-choosing row-wise multi-threading, the overhead of testing was 0.006574 seconds.\n",
      "You can set `force_row_wise=true` to remove the overhead.\n",
      "And if memory is not enough, you can set `force_col_wise=true`.\n",
      "01valid_accuracy_score: 0.6982 %\n",
      "[LightGBM] [Warning] Auto-choosing row-wise multi-threading, the overhead of testing was 0.006321 seconds.\n",
      "You can set `force_row_wise=true` to remove the overhead.\n",
      "And if memory is not enough, you can set `force_col_wise=true`.\n",
      "02valid_accuracy_score: 0.6967 %\n",
      "[LightGBM] [Warning] Auto-choosing row-wise multi-threading, the overhead of testing was 0.006048 seconds.\n",
      "You can set `force_row_wise=true` to remove the overhead.\n",
      "And if memory is not enough, you can set `force_col_wise=true`.\n",
      "03valid_accuracy_score: 0.6992 %\n",
      "[LightGBM] [Warning] Auto-choosing row-wise multi-threading, the overhead of testing was 0.006161 seconds.\n",
      "You can set `force_row_wise=true` to remove the overhead.\n",
      "And if memory is not enough, you can set `force_col_wise=true`.\n",
      "04valid_accuracy_score: 0.6998 %\n",
      "[LightGBM] [Warning] Auto-choosing row-wise multi-threading, the overhead of testing was 0.006410 seconds.\n",
      "You can set `force_row_wise=true` to remove the overhead.\n",
      "And if memory is not enough, you can set `force_col_wise=true`.\n",
      "05valid_accuracy_score: 0.7011 %\n"
     ]
    }
   ],
   "source": [
    "from sklearn.metrics import log_loss, roc_auc_score, accuracy_score\n",
    "import lightgbm as lgb\n",
    "\n",
    "# scores_train = []\n",
    "scores_valid = []\n",
    "models = []\n",
    "itr = 1\n",
    "\n",
    "for train_idx, valid_idx in kf.split(x, y):\n",
    "    x_train, y_train = x.iloc[train_idx], y.iloc[train_idx]\n",
    "    x_valid, y_valid = x.iloc[valid_idx], y.iloc[valid_idx]\n",
    "    \n",
    "    # lightgbmのデータ構造に変換\n",
    "    lgb_train = lgb.Dataset(x_train, y_train)\n",
    "    lgb_valid = lgb.Dataset(x_valid, y_valid)\n",
    "    \n",
    "    # ハイパーパラメータの設定\n",
    "    # metricsはaccuracy_scoreにすべきかも\n",
    "    params = {'num_leaves': 64, 'objective': 'binary', 'seed': seed, \n",
    "              'verbose': 0, 'metrics': 'binary_logloss'}\n",
    "    num_round = 1000\n",
    "\n",
    "    # 学習の実行\n",
    "    # カテゴリ変数を指定した場合の挙動はKaggle本 p240参照\n",
    "    # categorical_features = ['category', 'main_category', 'currency', 'country']\n",
    "    model = lgb.train(params, lgb_train, num_round, \n",
    "                    valid_names=['train', 'valid'], valid_sets=[lgb_train, lgb_valid],\n",
    "                     early_stopping_rounds=20, verbose_eval=False)\n",
    "    \n",
    "    # # 訓練データに対する予測、正答率\n",
    "    # y_pred = clf.predict(x_train)\n",
    "    # acc_train = accuracy_score(y_true=y_train, y_pred=y_pred)\n",
    "    # print(f\"{itr:02}train_訓練データの正答率: {100 * acc_train:.2f} %\")\n",
    "    # scores_train.append(acc_train)  \n",
    "    \n",
    "    # 検証データに対する予測\n",
    "    # accurasy_scoreするには0で丸め込みが必要（https://shiokoji11235.com/two_interface_of_lightgbm）\n",
    "    y_pred = model.predict(x_valid)\n",
    "    y_pred = y_pred.round(0)\n",
    "\n",
    "    score_valid = accuracy_score(y_valid, y_pred)\n",
    "    print(f\"{itr:02}valid_accuracy_score: {score_valid:.4f} %\")    \n",
    "\n",
    "    # score_valid = log_loss(y_true=y_valid, y_pred=y_pred)\n",
    "    # print(f\"{itr:02}valid_logloss: {score_valid:.4f} %\")    \n",
    "    # score_valid = roc_auc_score(y_valid, y_pred)\n",
    "    # print(f\"{itr:02}valid_auc_score: {score_valid:.4f} %\")    \n",
    "\n",
    "    scores_valid.append(score_valid)    \n",
    "    models.append(model)\n",
    "    \n",
    "    itr += 1"
   ]
  },
  {
   "cell_type": "code",
   "execution_count": 111,
   "id": "600ff365-9fc0-496a-9ea6-38fe48de6441",
   "metadata": {},
   "outputs": [
    {
     "name": "stdout",
     "output_type": "stream",
     "text": [
      "0.6990065576241803\n"
     ]
    }
   ],
   "source": [
    "# 各foldのスコアの平均\n",
    "# print(np.mean(scores_train))\n",
    "print(np.mean(scores_valid))"
   ]
  },
  {
   "cell_type": "markdown",
   "id": "6c6147b9-d00e-43d3-a6ff-fa404ca03ce2",
   "metadata": {},
   "source": [
    "## 推論"
   ]
  },
  {
   "cell_type": "code",
   "execution_count": 112,
   "id": "579ef1ab-03f5-4972-8eca-144ce272b145",
   "metadata": {},
   "outputs": [
    {
     "name": "stdout",
     "output_type": "stream",
     "text": [
      "test_accuracy_score: 71.9831 %\n"
     ]
    }
   ],
   "source": [
    "y_preds = np.zeros(len(x_test))\n",
    "\n",
    "for model in models:\n",
    "    y_pred = model.predict(x_test)\n",
    "    y_pred = y_pred.round(0)\n",
    "    y_preds += y_pred / len(models)\n",
    "    \n",
    "# print(y_test)\n",
    "# print('***')\n",
    "# print(y_preds)\n",
    "# print('***')\n",
    "# print(y_pred)\n",
    "\n",
    "y_preds = y_preds.round(0)\n",
    "score_test = accuracy_score(y_test, y_preds)\n",
    "print(f\"test_accuracy_score: {100 * score_test:.4f} %\")    "
   ]
  },
  {
   "cell_type": "markdown",
   "id": "e178a3c0-ddd1-4746-a1b2-58af0b346206",
   "metadata": {
    "jp-MarkdownHeadingCollapsed": true,
    "tags": []
   },
   "source": [
    "### input_01.csv\n",
    "- 検証データに対する正答率：0.69899\n"
   ]
  },
  {
   "cell_type": "markdown",
   "id": "3806ceae-1f59-45d9-8fc8-0a64406d9006",
   "metadata": {},
   "source": [
    "### input_02.csv（class, main_category）\n",
    "- 検証データに対する正答率：0.70896\n"
   ]
  },
  {
   "cell_type": "markdown",
   "id": "7fa5352a-f978-4ea3-a7c4-426d29898e70",
   "metadata": {},
   "source": [
    "### input_02.csv（class）\n",
    "- 検証データに対する正答率：0.70765\n"
   ]
  },
  {
   "cell_type": "markdown",
   "id": "4b03d317-986e-4e64-9abe-065a7066f055",
   "metadata": {},
   "source": [
    "### input_03.csv（class, yar/month/day）\n",
    "- 検証データに対する正答率：0.7159\n"
   ]
  },
  {
   "cell_type": "markdown",
   "id": "b5e2155a-eb28-407e-bcb9-1f05bec078e5",
   "metadata": {},
   "source": [
    "### input_04.csv\n",
    "- ：71.78%\n",
    "x_cols = ['class', 'country', 'period', 'n_words', 'log_goal', 'launched_year', 'launched_month', 'launched_day', \n",
    "         'name_vowel_ratio', 'Goal_1000', 'Goal_500', 'Goal_10', 'median_goal_Last_Week']"
   ]
  },
  {
   "cell_type": "code",
   "execution_count": null,
   "id": "e0b44948-fd68-4c58-846b-adf965a28f75",
   "metadata": {},
   "outputs": [],
   "source": []
  },
  {
   "cell_type": "markdown",
   "id": "9add59be-65dc-43e5-9989-98483245efbe",
   "metadata": {},
   "source": [
    "## テストデータに対する予測\n",
    "本来はtrain/validではなくtrain/valid/testに分割し、testに対する予測を見るべき"
   ]
  },
  {
   "cell_type": "code",
   "execution_count": null,
   "id": "e0427309-9a93-4225-9872-01183724f70d",
   "metadata": {},
   "outputs": [],
   "source": []
  }
 ],
 "metadata": {
  "kernelspec": {
   "display_name": "Python 3 (ipykernel)",
   "language": "python",
   "name": "python3"
  },
  "language_info": {
   "codemirror_mode": {
    "name": "ipython",
    "version": 3
   },
   "file_extension": ".py",
   "mimetype": "text/x-python",
   "name": "python",
   "nbconvert_exporter": "python",
   "pygments_lexer": "ipython3",
   "version": "3.10.5"
  }
 },
 "nbformat": 4,
 "nbformat_minor": 5
}
